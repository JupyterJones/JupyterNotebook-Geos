{
 "cells": [
  {
   "cell_type": "markdown",
   "metadata": {},
   "source": [
    "## Text\n",
    "\n",
    "There are three kinds of text objects:\n",
    "\n",
    " - on the 3d scene `k3d.text`, renderes in canvas\n",
    " - on the 2d canvas `k3d.text2d`, renderes in canvas\n",
    " - renders as texture in WebGL  `k3d.texture_text`\n",
    " "
   ]
  },
  {
   "cell_type": "code",
   "execution_count": 1,
   "metadata": {},
   "outputs": [
    {
     "data": {
      "application/vnd.jupyter.widget-view+json": {
       "model_id": "677e7eaf338c48e882f085aef6525ad4",
       "version_major": 2,
       "version_minor": 0
      },
      "text/plain": [
       "Output()"
      ]
     },
     "metadata": {},
     "output_type": "display_data"
    }
   ],
   "source": [
    "import k3d\n",
    "import numpy as np \n",
    "\n",
    "\n",
    "plot = k3d.plot()\n",
    "g = 9.81\n",
    "v0 = 24\n",
    "alpha = np.radians(45)\n",
    "t_end = 2*v0*np.sin(alpha)/g\n",
    "t = np.linspace(0,t_end,100) \n",
    "\n",
    "# note .T at the end, k3d takes data (x1,y1,z1),(x2,y2,z2)...\n",
    "traj3d = np.stack([ v0*t*np.cos(alpha), \\\n",
    "                    np.zeros_like(t), \\\n",
    "                    v0*t*np.sin(alpha)-g*t**2/2 ]).T.astype(np.float32)\n",
    "\n",
    "plt_traj = k3d.line(traj3d) \n",
    "plt_text = k3d.text('h_{max}', position=[np.cos(alpha)*t_end*v0/2, 0, (v0*np.sin(alpha))**2/(2*g)], color=0xff0000, size=2)\n",
    "plt_text2d = k3d.text2d(r'\\text{ballistic trajectory: } h=v_0 t \\sin \\alpha - \\frac{g t^2}{2}', \\\n",
    "                        position=[0.0, 0.0], color=0x0000ff, size=1)\n",
    "plt_texture_text = k3d.texture_text('START', position=[0, 0, 0],\\\n",
    "                                    font_face='Calibri', color=255, size=4)\n",
    "\n",
    "plot += plt_text \n",
    "plot += plt_text2d \n",
    "plot += plt_texture_text\n",
    "plot += plt_traj\n",
    "\n",
    "plot.display()"
   ]
  },
  {
   "cell_type": "code",
   "execution_count": null,
   "metadata": {},
   "outputs": [],
   "source": []
  },
  {
   "cell_type": "code",
   "execution_count": null,
   "metadata": {},
   "outputs": [],
   "source": []
  },
  {
   "cell_type": "code",
   "execution_count": null,
   "metadata": {},
   "outputs": [],
   "source": []
  }
 ],
 "metadata": {
  "kernelspec": {
   "display_name": "Python 3",
   "language": "python",
   "name": "python3"
  },
  "language_info": {
   "codemirror_mode": {
    "name": "ipython",
    "version": 3
   },
   "file_extension": ".py",
   "mimetype": "text/x-python",
   "name": "python",
   "nbconvert_exporter": "python",
   "pygments_lexer": "ipython3",
   "version": "3.6.1"
  },
  "widgets": {
   "application/vnd.jupyter.widget-state+json": {
    "state": {
     "0da0fadd8baa44bf843f836ca02254fb": {
      "model_module": "@jupyter-widgets/base",
      "model_module_version": "1.0.0",
      "model_name": "LayoutModel",
      "state": {}
     },
     "146efae7c391457cbc163a6dde56b807": {
      "model_module": "@jupyter-widgets/output",
      "model_module_version": "1.0.0",
      "model_name": "OutputModel",
      "state": {
       "layout": "IPY_MODEL_3e714a65b96d4772b64b8dc5d51186a3",
       "outputs": [
        {
         "data": {
          "application/vnd.jupyter.widget-view+json": {
           "model_id": "14d676f9b8d243e6b64b200e74b4e403",
           "version_major": 2,
           "version_minor": 0
          },
          "text/plain": "Plot(antialias=True, background_color=16777215, fps_meter=False, grid=[-1, -1, -1, 1, 1, 1], height=512, light…"
         },
         "metadata": {},
         "output_type": "display_data"
        }
       ]
      }
     },
     "14d676f9b8d243e6b64b200e74b4e403": {
      "model_module": "k3d",
      "model_module_version": "^3.0.0",
      "model_name": "PlotModel",
      "state": {
       "_backend_version": "2.4.20",
       "_dom_classes": [],
       "_model_module_version": "^3.0.0",
       "_view_count": null,
       "_view_module_version": "^3.0.0",
       "antialias": true,
       "background_color": 16777215,
       "camera": [
        85.38790044121822,
        -90.04515422780646,
        9.341711053185694,
        25.357797622680664,
        0,
        3.338700771331787,
        0,
        0,
        1
       ],
       "camera_auto_fit": true,
       "clipping_planes": [],
       "fps_meter": false,
       "grid": [
        -1,
        -1,
        -1,
        1,
        1,
        1
       ],
       "grid_auto_fit": true,
       "height": 512,
       "layout": "IPY_MODEL_7064e7cdaaf24acd873b276755c23cad",
       "lighting": 1,
       "object_ids": [
        4472766984,
        4610665440,
        4659661344,
        4470876816
       ],
       "screenshot": "",
       "screenshot_scale": 2,
       "voxel_paint_color": 0
      }
     },
     "15b3c68b277641dba23b5331d5b18669": {
      "model_module": "@jupyter-widgets/base",
      "model_module_version": "1.0.0",
      "model_name": "LayoutModel",
      "state": {}
     },
     "1dc9386a513443589520e029db431ebf": {
      "model_module": "k3d",
      "model_module_version": "^3.0.0",
      "model_name": "ObjectModel",
      "state": {
       "_model_module_version": "^3.0.0",
       "_view_count": null,
       "_view_module": null,
       "_view_module_version": "",
       "_view_name": null,
       "color": 16711680,
       "compression_level": 0,
       "id": 4569046488,
       "position": [
        29.357798165137613,
        0,
        14.678899082568803
       ],
       "reference_point": "lb",
       "size": 2,
       "text": "h_{max}",
       "type": "Text",
       "visible": true
      }
     },
     "295b7a3beb0440068c80cd1dcd51a84e": {
      "model_module": "k3d",
      "model_module_version": "^3.0.0",
      "model_name": "ObjectModel",
      "state": {
       "_model_module_version": "^3.0.0",
       "_view_count": null,
       "_view_module": null,
       "_view_module_version": "",
       "_view_name": null,
       "color": 16711680,
       "compression_level": 0,
       "id": 4472766984,
       "position": [
        29.357798165137613,
        0,
        14.678899082568803
       ],
       "reference_point": "lb",
       "size": 2,
       "text": "h_{max}",
       "type": "Text",
       "visible": true
      }
     },
     "2b39659a1d2b4f558d30f35a2037ff07": {
      "model_module": "k3d",
      "model_module_version": "^3.0.0",
      "model_name": "PlotModel",
      "state": {
       "_backend_version": "2.4.20",
       "_dom_classes": [],
       "_model_module_version": "^3.0.0",
       "_view_count": null,
       "_view_module_version": "^3.0.0",
       "antialias": true,
       "background_color": 16777215,
       "camera": [
        85.38790044121822,
        -90.04515422780646,
        9.341711053185694,
        25.357797622680664,
        0,
        3.338700771331787,
        0,
        0,
        1
       ],
       "camera_auto_fit": true,
       "clipping_planes": [],
       "fps_meter": false,
       "grid": [
        -1,
        -1,
        -1,
        1,
        1,
        1
       ],
       "grid_auto_fit": true,
       "height": 512,
       "layout": "IPY_MODEL_3a9108cfa119403981532e59805c57a0",
       "lighting": 1,
       "object_ids": [
        4743464944,
        4717382512,
        4743465168,
        4577532392
       ],
       "screenshot": "",
       "screenshot_scale": 2,
       "voxel_paint_color": 0
      }
     },
     "2c6d4258dbd6440cbf6436ca0dbaf6ca": {
      "model_module": "k3d",
      "model_module_version": "^3.0.0",
      "model_name": "ObjectModel",
      "state": {
       "_model_module_version": "^3.0.0",
       "_view_count": null,
       "_view_module": null,
       "_view_module_version": "",
       "_view_name": null,
       "color": 16711680,
       "compression_level": 0,
       "id": 4436408248,
       "position": [
        29.357798165137613,
        0,
        14.678899082568803
       ],
       "reference_point": "lb",
       "size": 2,
       "text": "h_{max}",
       "type": "Text",
       "visible": true
      }
     },
     "347af6dbbcae4114bc8bf770bc2d009a": {
      "model_module": "@jupyter-widgets/base",
      "model_module_version": "1.0.0",
      "model_name": "LayoutModel",
      "state": {}
     },
     "3554df468c624778ad23ec66a938e880": {
      "model_module": "@jupyter-widgets/base",
      "model_module_version": "1.0.0",
      "model_name": "LayoutModel",
      "state": {}
     },
     "3a0d289a8cac4dff8fd1f7dd6475babf": {
      "model_module": "k3d",
      "model_module_version": "^3.0.0",
      "model_name": "PlotModel",
      "state": {
       "_backend_version": "2.4.20",
       "_dom_classes": [],
       "_model_module_version": "^3.0.0",
       "_view_count": null,
       "_view_module_version": "^3.0.0",
       "antialias": true,
       "background_color": 16777215,
       "camera": [
        57.386338700486405,
        -48.04281161670867,
        6.541554879112445,
        25.357797622680664,
        0,
        3.338700771331787,
        0,
        0,
        1
       ],
       "camera_auto_fit": true,
       "clipping_planes": [],
       "fps_meter": false,
       "grid": [
        -1,
        -1,
        -1,
        1,
        1,
        1
       ],
       "grid_auto_fit": true,
       "height": 512,
       "layout": "IPY_MODEL_0da0fadd8baa44bf843f836ca02254fb",
       "lighting": 1,
       "object_ids": [
        4698434304,
        4559888792,
        4894730504,
        4558006760
       ],
       "screenshot": "",
       "screenshot_scale": 2,
       "voxel_paint_color": 0
      }
     },
     "3a9108cfa119403981532e59805c57a0": {
      "model_module": "@jupyter-widgets/base",
      "model_module_version": "1.0.0",
      "model_name": "LayoutModel",
      "state": {}
     },
     "3e714a65b96d4772b64b8dc5d51186a3": {
      "model_module": "@jupyter-widgets/base",
      "model_module_version": "1.0.0",
      "model_name": "LayoutModel",
      "state": {}
     },
     "4074daacb3ea49039b02e483886ef859": {
      "model_module": "@jupyter-widgets/output",
      "model_module_version": "1.0.0",
      "model_name": "OutputModel",
      "state": {
       "layout": "IPY_MODEL_4a1f84b92970403fa2d06a0298868a7a",
       "outputs": [
        {
         "data": {
          "application/vnd.jupyter.widget-view+json": {
           "model_id": "b1a31cdc525c40a28ce4b49f713ecbd6",
           "version_major": 2,
           "version_minor": 0
          },
          "text/plain": "Plot(antialias=True, background_color=16777215, fps_meter=False, grid=[-1, -1, -1, 1, 1, 1], height=512, light…"
         },
         "metadata": {},
         "output_type": "display_data"
        }
       ]
      }
     },
     "47ad0d0723c045f182f948b2ea518fba": {
      "model_module": "k3d",
      "model_module_version": "^3.0.0",
      "model_name": "ObjectModel",
      "state": {
       "_model_module_version": "^3.0.0",
       "_view_count": null,
       "_view_module": null,
       "_view_module_version": "",
       "_view_name": null,
       "color": 255,
       "compression_level": 0,
       "id": 4662254784,
       "position": [
        0,
        0
       ],
       "reference_point": "lt",
       "size": 1,
       "text": "\\text{ballistic trajectory: } h=v_0 t \\sin \\alpha - \\frac{g t^2}{2}",
       "type": "Text2d",
       "visible": true
      }
     },
     "4a1f84b92970403fa2d06a0298868a7a": {
      "model_module": "@jupyter-widgets/base",
      "model_module_version": "1.0.0",
      "model_name": "LayoutModel",
      "state": {}
     },
     "4bc6394ae36249c08023a69653677436": {
      "model_module": "k3d",
      "model_module_version": "^3.0.0",
      "model_name": "ObjectModel",
      "state": {
       "_model_module_version": "^3.0.0",
       "_view_count": null,
       "_view_module": null,
       "_view_module_version": "",
       "_view_name": null,
       "color": 16711680,
       "compression_level": 0,
       "id": 4698434304,
       "position": [
        29.357798165137613,
        0,
        14.678899082568803
       ],
       "reference_point": "lb",
       "size": 2,
       "text": "h_{max}",
       "type": "Text",
       "visible": true
      }
     },
     "54fae7728ce147e4b97fefdd3edd09ac": {
      "model_module": "k3d",
      "model_module_version": "^3.0.0",
      "model_name": "ObjectModel",
      "state": {
       "_model_module_version": "^3.0.0",
       "_view_count": null,
       "_view_module": null,
       "_view_module_version": "",
       "_view_name": null,
       "color": 16711680,
       "compression_level": 0,
       "id": 4743464944,
       "position": [
        29.357798165137613,
        0,
        14.678899082568803
       ],
       "reference_point": "lb",
       "size": 2,
       "text": "h_{max}",
       "type": "Text",
       "visible": true
      }
     },
     "58d6ba6a4aac47e9845328fee2df0ce2": {
      "model_module": "k3d",
      "model_module_version": "^3.0.0",
      "model_name": "PlotModel",
      "state": {
       "_backend_version": "2.4.20",
       "_dom_classes": [],
       "_model_module_version": "^3.0.0",
       "_view_count": null,
       "_view_module_version": "^3.0.0",
       "antialias": true,
       "background_color": 16777215,
       "camera": [
        85.38790044121822,
        -90.04515422780646,
        9.341711053185694,
        25.357797622680664,
        0,
        3.338700771331787,
        0,
        0,
        1
       ],
       "camera_auto_fit": true,
       "clipping_planes": [],
       "fps_meter": false,
       "grid": [
        -1,
        -1,
        -1,
        1,
        1,
        1
       ],
       "grid_auto_fit": true,
       "height": 512,
       "layout": "IPY_MODEL_15b3c68b277641dba23b5331d5b18669",
       "lighting": 1,
       "object_ids": [
        4662254952,
        4662254784,
        4662254840,
        4662254056
       ],
       "screenshot": "",
       "screenshot_scale": 2,
       "voxel_paint_color": 0
      }
     },
     "5944b9ab6a08497d8707e62877ec14c1": {
      "buffers": [
       {
        "data": "",
        "encoding": "base64",
        "path": [
         "attribute",
         "buffer"
        ]
       },
       {
        "data": "",
        "encoding": "base64",
        "path": [
         "color_map",
         "buffer"
        ]
       },
       {
        "data": "",
        "encoding": "base64",
        "path": [
         "colors",
         "buffer"
        ]
       },
       {
        "data": "AACAPwAAAAAAAAAAAAAAAAAAAAAAAIA/AAAAAAAAAAAAAAAAAAAAAAAAgD8AAAAAAAAAAAAAAAAAAAAAAACAPw==",
        "encoding": "base64",
        "path": [
         "model_matrix",
         "buffer"
        ]
       },
       {
        "data": "AAAAAAAAAAAAAAAAitQXPwAAAADtSxY/itSXPwAAAABRw5Q/z77jPwAAAAAO2Nw/itQXQAAAAAAYshFArMk9QAAAAADaMzRAz75jQAAAAABO8VVA+dmEQAAAAAB06nZAitSXQAAAAACmj4tAG8+qQAAAAADqR5tArMm9QAAAAAAInqpAPsTQQAAAAAD+kblAz77jQAAAAADNI8hAYLn2QAAAAAB1U9ZA+dkEQQAAAAD2IORAQVcOQQAAAABQjPFAitQXQQAAAACClf5A0lEhQQAAAABHngVBG88qQQAAAAC5wAtBZEw0QQAAAAAYshFBrMk9QQAAAABjchdB9UZHQQAAAACaAR1BPsRQQQAAAAC+XyJBhkFaQQAAAADOjCdBz75jQQAAAADLiCxBFzxtQQAAAAC0UzFBYLl2QQAAAACK7TVBVBuAQQAAAABMVjpB+dmEQQAAAAD7jT5BnZiJQQAAAACWlEJBQVeOQQAAAAAdakZB5hWTQQAAAACRDkpBitSXQQAAAADxgU1BLpOcQQAAAAA+xFBB0lGhQQAAAAB31VNBdxCmQQAAAACctVZBG8+qQQAAAACuZFlBv42vQQAAAACt4ltBZEy0QQAAAACXL15BCAu5QQAAAABvS2BBrMm9QQAAAAAyNmJBUYjCQQAAAADi72NB9UbHQQAAAAB/eGVBmQXMQQAAAAAI0GZBPsTQQQAAAAB99mdB4oLVQQAAAADf62hBhkHaQQAAAAAtsGlBKwDfQQAAAABoQ2pBz77jQQAAAACPpWpBc33oQQAAAACj1mpBFzztQQAAAACj1mpBvPrxQQAAAACPpWpBYLn2QQAAAABoQ2pBBHj7QQAAAAAtsGlBVBsAQgAAAADf62hBpnoCQgAAAAB99mdB+dkEQgAAAAAI0GZBSzkHQgAAAAB/eGVBnZgJQgAAAADi72NB7/cLQgAAAAAyNmJBQVcOQgAAAABvS2BBk7YQQgAAAACXL15B5hUTQgAAAACt4ltBOHUVQgAAAACuZFlBitQXQgAAAACctVZB3DMaQgAAAAB31VNBLpMcQgAAAAA+xFBBgPIeQgAAAADxgU1B0lEhQgAAAACRDkpBJbEjQgAAAAAdakZBdxAmQgAAAACWlEJByW8oQgAAAAD7jT5BG88qQgAAAABMVjpBbS4tQgAAAACK7TVBv40vQgAAAAC0UzFBEu0xQgAAAADLiCxBZEw0QgAAAADOjCdBtqs2QgAAAAC+XyJBCAs5QgAAAACaAR1BWmo7QgAAAABjchdBrMk9QgAAAAAYshFB/yhAQgAAAAC5wAtBUYhCQgAAAABHngVBo+dEQgAAAACClf5A9UZHQgAAAABQjPFAR6ZJQgAAAAD2IORAmQVMQgAAAAB1U9ZA62ROQgAAAADNI8hAPsRQQgAAAAD+kblAkCNTQgAAAAAInqpA4oJVQgAAAADqR5tANOJXQgAAAACmj4tAhkFaQgAAAAB06nZA2KBcQgAAAABO8VVAKwBfQgAAAADaMzRAfV9hQgAAAAAYshFAz75jQgAAAAAO2Nw/IR5mQgAAAABRw5Q/c31oQgAAAADtSxY/xdxqQgAAAAAAAACo",
        "encoding": "base64",
        "path": [
         "vertices",
         "buffer"
        ]
       }
      ],
      "model_module": "k3d",
      "model_module_version": "^3.0.0",
      "model_name": "ObjectModel",
      "state": {
       "_model_module_version": "^3.0.0",
       "_view_count": null,
       "_view_module": null,
       "_view_module_version": "",
       "_view_name": null,
       "attribute": {
        "dtype": "float32",
        "shape": [
         0
        ]
       },
       "color": 255,
       "color_map": {
        "dtype": "float32",
        "shape": [
         0
        ]
       },
       "color_range": [],
       "colors": {
        "dtype": "uint32",
        "shape": [
         0
        ]
       },
       "compression_level": 0,
       "id": 4577532392,
       "model_matrix": {
        "dtype": "float32",
        "shape": [
         4,
         4
        ]
       },
       "radial_segments": 8,
       "shader": "thick",
       "type": "Line",
       "vertices": {
        "dtype": "float32",
        "shape": [
         100,
         3
        ]
       },
       "visible": true,
       "width": 0.01
      }
     },
     "641b1d825ca54cb88fa913e9d723fcd2": {
      "model_module": "k3d",
      "model_module_version": "^3.0.0",
      "model_name": "ObjectModel",
      "state": {
       "_model_module_version": "^3.0.0",
       "_view_count": null,
       "_view_module": null,
       "_view_module_version": "",
       "_view_name": null,
       "color": 255,
       "compression_level": 0,
       "id": 4563913696,
       "position": [
        0,
        0
       ],
       "reference_point": "lt",
       "size": 1,
       "text": "\\text{ballistic trajectory: } h=v_0 t \\sin \\alpha - \\frac{g t^2}{2}",
       "type": "Text2d",
       "visible": true
      }
     },
     "641ed12c7021414199425821e68931ad": {
      "model_module": "k3d",
      "model_module_version": "^3.0.0",
      "model_name": "ObjectModel",
      "state": {
       "_model_module_version": "^3.0.0",
       "_view_count": null,
       "_view_module": null,
       "_view_module_version": "",
       "_view_name": null,
       "color": 255,
       "compression_level": 0,
       "font_face": "Calibri",
       "font_size": 68,
       "font_weight": 400,
       "id": 4894730504,
       "position": [
        0,
        0,
        0
       ],
       "size": 4,
       "text": "START",
       "type": "TextureText",
       "visible": true
      }
     },
     "677e7eaf338c48e882f085aef6525ad4": {
      "model_module": "@jupyter-widgets/output",
      "model_module_version": "1.0.0",
      "model_name": "OutputModel",
      "state": {
       "layout": "IPY_MODEL_dc3967455b95474fbd6971245137c323",
       "outputs": [
        {
         "data": {
          "application/vnd.jupyter.widget-view+json": {
           "model_id": "2b39659a1d2b4f558d30f35a2037ff07",
           "version_major": 2,
           "version_minor": 0
          },
          "text/plain": "Plot(antialias=True, background_color=16777215, fps_meter=False, grid=[-1, -1, -1, 1, 1, 1], height=512, light…"
         },
         "metadata": {},
         "output_type": "display_data"
        }
       ]
      }
     },
     "6aa7c204f5584d0d8440e6751d1a73ec": {
      "model_module": "k3d",
      "model_module_version": "^3.0.0",
      "model_name": "ObjectModel",
      "state": {
       "_model_module_version": "^3.0.0",
       "_view_count": null,
       "_view_module": null,
       "_view_module_version": "",
       "_view_name": null,
       "color": 255,
       "compression_level": 0,
       "font_face": "Calibri",
       "font_size": 68,
       "font_weight": 400,
       "id": 4659661344,
       "position": [
        0,
        0,
        0
       ],
       "size": 4,
       "text": "START",
       "type": "TextureText",
       "visible": true
      }
     },
     "6c389042e58548148fae55b9d8f0b75f": {
      "model_module": "k3d",
      "model_module_version": "^3.0.0",
      "model_name": "PlotModel",
      "state": {
       "_backend_version": "2.4.20",
       "_dom_classes": [],
       "_model_module_version": "^3.0.0",
       "_view_count": null,
       "_view_module_version": "^3.0.0",
       "antialias": true,
       "background_color": 16777215,
       "camera": [
        85.38790044121822,
        -90.04515422780646,
        9.341711053185694,
        25.357797622680664,
        0,
        3.338700771331787,
        0,
        0,
        1
       ],
       "camera_auto_fit": true,
       "clipping_planes": [],
       "fps_meter": false,
       "grid": [
        -1,
        -1,
        -1,
        1,
        1,
        1
       ],
       "grid_auto_fit": true,
       "height": 512,
       "layout": "IPY_MODEL_783201c538bd45928dcf8fa7afb09a11",
       "lighting": 1,
       "object_ids": [
        4436408248,
        4563913696,
        4568516984,
        4434491992
       ],
       "screenshot": "",
       "screenshot_scale": 2,
       "voxel_paint_color": 0
      }
     },
     "6d7e455263bf474f9c212f9a7b36f27b": {
      "model_module": "k3d",
      "model_module_version": "^3.0.0",
      "model_name": "ObjectModel",
      "state": {
       "_model_module_version": "^3.0.0",
       "_view_count": null,
       "_view_module": null,
       "_view_module_version": "",
       "_view_name": null,
       "color": 255,
       "compression_level": 0,
       "font_face": "Calibri",
       "font_size": 68,
       "font_weight": 400,
       "id": 4662254840,
       "position": [
        0,
        0,
        0
       ],
       "size": 4,
       "text": "START",
       "type": "TextureText",
       "visible": true
      }
     },
     "7064e7cdaaf24acd873b276755c23cad": {
      "model_module": "@jupyter-widgets/base",
      "model_module_version": "1.0.0",
      "model_name": "LayoutModel",
      "state": {}
     },
     "712f1502eca94226bdf649c7a5674772": {
      "model_module": "@jupyter-widgets/base",
      "model_module_version": "1.0.0",
      "model_name": "LayoutModel",
      "state": {}
     },
     "783201c538bd45928dcf8fa7afb09a11": {
      "model_module": "@jupyter-widgets/base",
      "model_module_version": "1.0.0",
      "model_name": "LayoutModel",
      "state": {}
     },
     "7a5df1514f0f47aa994ff6a95937ef0b": {
      "model_module": "k3d",
      "model_module_version": "^3.0.0",
      "model_name": "ObjectModel",
      "state": {
       "_model_module_version": "^3.0.0",
       "_view_count": null,
       "_view_module": null,
       "_view_module_version": "",
       "_view_name": null,
       "color": 255,
       "compression_level": 0,
       "id": 4717382512,
       "position": [
        0,
        0
       ],
       "reference_point": "lt",
       "size": 1,
       "text": "\\text{ballistic trajectory: } h=v_0 t \\sin \\alpha - \\frac{g t^2}{2}",
       "type": "Text2d",
       "visible": true
      }
     },
     "7d0fcbad598d4b4aa567ef1c95671206": {
      "model_module": "k3d",
      "model_module_version": "^3.0.0",
      "model_name": "ObjectModel",
      "state": {
       "_model_module_version": "^3.0.0",
       "_view_count": null,
       "_view_module": null,
       "_view_module_version": "",
       "_view_name": null,
       "color": 255,
       "compression_level": 0,
       "id": 4610665440,
       "position": [
        0,
        0
       ],
       "reference_point": "lt",
       "size": 1,
       "text": "\\text{ballistic trajectory: } h=v_0 t \\sin \\alpha - \\frac{g t^2}{2}",
       "type": "Text2d",
       "visible": true
      }
     },
     "7e37b4510d254734873baec54f2f2367": {
      "model_module": "@jupyter-widgets/output",
      "model_module_version": "1.0.0",
      "model_name": "OutputModel",
      "state": {
       "layout": "IPY_MODEL_add05bde02304ad9a34ce85ea79722bf",
       "outputs": [
        {
         "data": {
          "application/vnd.jupyter.widget-view+json": {
           "model_id": "58d6ba6a4aac47e9845328fee2df0ce2",
           "version_major": 2,
           "version_minor": 0
          },
          "text/plain": "Plot(antialias=True, background_color=16777215, fps_meter=False, grid=[-1, -1, -1, 1, 1, 1], height=512, light…"
         },
         "metadata": {},
         "output_type": "display_data"
        }
       ]
      }
     },
     "7ec333af2ed74793883c7cff4e212fe3": {
      "model_module": "k3d",
      "model_module_version": "^3.0.0",
      "model_name": "ObjectModel",
      "state": {
       "_model_module_version": "^3.0.0",
       "_view_count": null,
       "_view_module": null,
       "_view_module_version": "",
       "_view_name": null,
       "color": 16711680,
       "compression_level": 0,
       "id": 4662254952,
       "position": [
        29.357798165137613,
        0,
        14.678899082568803
       ],
       "reference_point": "lb",
       "size": 2,
       "text": "h_{max}",
       "type": "Text",
       "visible": true
      }
     },
     "817bd05df0624e1d91870cd7cb912f90": {
      "model_module": "k3d",
      "model_module_version": "^3.0.0",
      "model_name": "ObjectModel",
      "state": {
       "_model_module_version": "^3.0.0",
       "_view_count": null,
       "_view_module": null,
       "_view_module_version": "",
       "_view_name": null,
       "color": 255,
       "compression_level": 0,
       "font_face": "Calibri",
       "font_size": 72,
       "font_weight": 400,
       "id": 4569046320,
       "position": [
        0,
        0,
        0
       ],
       "size": 8,
       "text": "START",
       "type": "TextureText",
       "visible": true
      }
     },
     "8c177c8434674966b8aac7431fc47f37": {
      "model_module": "k3d",
      "model_module_version": "^3.0.0",
      "model_name": "ObjectModel",
      "state": {
       "_model_module_version": "^3.0.0",
       "_view_count": null,
       "_view_module": null,
       "_view_module_version": "",
       "_view_name": null,
       "color": 255,
       "compression_level": 0,
       "id": 4569046656,
       "position": [
        0,
        0
       ],
       "reference_point": "lt",
       "size": 1,
       "text": "\\text{ballistic trajectory: } h=v_0 t \\sin \\alpha - \\frac{g t^2}{2}",
       "type": "Text2d",
       "visible": true
      }
     },
     "974b96d09b8f4e839e57343434761c87": {
      "buffers": [
       {
        "data": "",
        "encoding": "base64",
        "path": [
         "attribute",
         "buffer"
        ]
       },
       {
        "data": "",
        "encoding": "base64",
        "path": [
         "color_map",
         "buffer"
        ]
       },
       {
        "data": "",
        "encoding": "base64",
        "path": [
         "colors",
         "buffer"
        ]
       },
       {
        "data": "AACAPwAAAAAAAAAAAAAAAAAAAAAAAIA/AAAAAAAAAAAAAAAAAAAAAAAAgD8AAAAAAAAAAAAAAAAAAAAAAACAPw==",
        "encoding": "base64",
        "path": [
         "model_matrix",
         "buffer"
        ]
       },
       {
        "data": "AAAAAAAAAAAAAAAAitQXPwAAAADtSxY/itSXPwAAAABRw5Q/z77jPwAAAAAO2Nw/itQXQAAAAAAYshFArMk9QAAAAADaMzRAz75jQAAAAABO8VVA+dmEQAAAAAB06nZAitSXQAAAAACmj4tAG8+qQAAAAADqR5tArMm9QAAAAAAInqpAPsTQQAAAAAD+kblAz77jQAAAAADNI8hAYLn2QAAAAAB1U9ZA+dkEQQAAAAD2IORAQVcOQQAAAABQjPFAitQXQQAAAACClf5A0lEhQQAAAABHngVBG88qQQAAAAC5wAtBZEw0QQAAAAAYshFBrMk9QQAAAABjchdB9UZHQQAAAACaAR1BPsRQQQAAAAC+XyJBhkFaQQAAAADOjCdBz75jQQAAAADLiCxBFzxtQQAAAAC0UzFBYLl2QQAAAACK7TVBVBuAQQAAAABMVjpB+dmEQQAAAAD7jT5BnZiJQQAAAACWlEJBQVeOQQAAAAAdakZB5hWTQQAAAACRDkpBitSXQQAAAADxgU1BLpOcQQAAAAA+xFBB0lGhQQAAAAB31VNBdxCmQQAAAACctVZBG8+qQQAAAACuZFlBv42vQQAAAACt4ltBZEy0QQAAAACXL15BCAu5QQAAAABvS2BBrMm9QQAAAAAyNmJBUYjCQQAAAADi72NB9UbHQQAAAAB/eGVBmQXMQQAAAAAI0GZBPsTQQQAAAAB99mdB4oLVQQAAAADf62hBhkHaQQAAAAAtsGlBKwDfQQAAAABoQ2pBz77jQQAAAACPpWpBc33oQQAAAACj1mpBFzztQQAAAACj1mpBvPrxQQAAAACPpWpBYLn2QQAAAABoQ2pBBHj7QQAAAAAtsGlBVBsAQgAAAADf62hBpnoCQgAAAAB99mdB+dkEQgAAAAAI0GZBSzkHQgAAAAB/eGVBnZgJQgAAAADi72NB7/cLQgAAAAAyNmJBQVcOQgAAAABvS2BBk7YQQgAAAACXL15B5hUTQgAAAACt4ltBOHUVQgAAAACuZFlBitQXQgAAAACctVZB3DMaQgAAAAB31VNBLpMcQgAAAAA+xFBBgPIeQgAAAADxgU1B0lEhQgAAAACRDkpBJbEjQgAAAAAdakZBdxAmQgAAAACWlEJByW8oQgAAAAD7jT5BG88qQgAAAABMVjpBbS4tQgAAAACK7TVBv40vQgAAAAC0UzFBEu0xQgAAAADLiCxBZEw0QgAAAADOjCdBtqs2QgAAAAC+XyJBCAs5QgAAAACaAR1BWmo7QgAAAABjchdBrMk9QgAAAAAYshFB/yhAQgAAAAC5wAtBUYhCQgAAAABHngVBo+dEQgAAAACClf5A9UZHQgAAAABQjPFAR6ZJQgAAAAD2IORAmQVMQgAAAAB1U9ZA62ROQgAAAADNI8hAPsRQQgAAAAD+kblAkCNTQgAAAAAInqpA4oJVQgAAAADqR5tANOJXQgAAAACmj4tAhkFaQgAAAAB06nZA2KBcQgAAAABO8VVAKwBfQgAAAADaMzRAfV9hQgAAAAAYshFAz75jQgAAAAAO2Nw/IR5mQgAAAABRw5Q/c31oQgAAAADtSxY/xdxqQgAAAAAAAACo",
        "encoding": "base64",
        "path": [
         "vertices",
         "buffer"
        ]
       }
      ],
      "model_module": "k3d",
      "model_module_version": "^3.0.0",
      "model_name": "ObjectModel",
      "state": {
       "_model_module_version": "^3.0.0",
       "_view_count": null,
       "_view_module": null,
       "_view_module_version": "",
       "_view_name": null,
       "attribute": {
        "dtype": "float32",
        "shape": [
         0
        ]
       },
       "color": 255,
       "color_map": {
        "dtype": "float32",
        "shape": [
         0
        ]
       },
       "color_range": [],
       "colors": {
        "dtype": "uint32",
        "shape": [
         0
        ]
       },
       "compression_level": 0,
       "id": 4434491992,
       "model_matrix": {
        "dtype": "float32",
        "shape": [
         4,
         4
        ]
       },
       "radial_segments": 8,
       "shader": "thick",
       "type": "Line",
       "vertices": {
        "dtype": "float32",
        "shape": [
         100,
         3
        ]
       },
       "visible": true,
       "width": 0.01
      }
     },
     "abf7e186519a4e619c48e723700dc8c9": {
      "buffers": [
       {
        "data": "",
        "encoding": "base64",
        "path": [
         "attribute",
         "buffer"
        ]
       },
       {
        "data": "",
        "encoding": "base64",
        "path": [
         "color_map",
         "buffer"
        ]
       },
       {
        "data": "",
        "encoding": "base64",
        "path": [
         "colors",
         "buffer"
        ]
       },
       {
        "data": "AACAPwAAAAAAAAAAAAAAAAAAAAAAAIA/AAAAAAAAAAAAAAAAAAAAAAAAgD8AAAAAAAAAAAAAAAAAAAAAAACAPw==",
        "encoding": "base64",
        "path": [
         "model_matrix",
         "buffer"
        ]
       },
       {
        "data": "AAAAAAAAAAAAAAAAitQXPwAAAADtSxY/itSXPwAAAABRw5Q/z77jPwAAAAAO2Nw/itQXQAAAAAAYshFArMk9QAAAAADaMzRAz75jQAAAAABO8VVA+dmEQAAAAAB06nZAitSXQAAAAACmj4tAG8+qQAAAAADqR5tArMm9QAAAAAAInqpAPsTQQAAAAAD+kblAz77jQAAAAADNI8hAYLn2QAAAAAB1U9ZA+dkEQQAAAAD2IORAQVcOQQAAAABQjPFAitQXQQAAAACClf5A0lEhQQAAAABHngVBG88qQQAAAAC5wAtBZEw0QQAAAAAYshFBrMk9QQAAAABjchdB9UZHQQAAAACaAR1BPsRQQQAAAAC+XyJBhkFaQQAAAADOjCdBz75jQQAAAADLiCxBFzxtQQAAAAC0UzFBYLl2QQAAAACK7TVBVBuAQQAAAABMVjpB+dmEQQAAAAD7jT5BnZiJQQAAAACWlEJBQVeOQQAAAAAdakZB5hWTQQAAAACRDkpBitSXQQAAAADxgU1BLpOcQQAAAAA+xFBB0lGhQQAAAAB31VNBdxCmQQAAAACctVZBG8+qQQAAAACuZFlBv42vQQAAAACt4ltBZEy0QQAAAACXL15BCAu5QQAAAABvS2BBrMm9QQAAAAAyNmJBUYjCQQAAAADi72NB9UbHQQAAAAB/eGVBmQXMQQAAAAAI0GZBPsTQQQAAAAB99mdB4oLVQQAAAADf62hBhkHaQQAAAAAtsGlBKwDfQQAAAABoQ2pBz77jQQAAAACPpWpBc33oQQAAAACj1mpBFzztQQAAAACj1mpBvPrxQQAAAACPpWpBYLn2QQAAAABoQ2pBBHj7QQAAAAAtsGlBVBsAQgAAAADf62hBpnoCQgAAAAB99mdB+dkEQgAAAAAI0GZBSzkHQgAAAAB/eGVBnZgJQgAAAADi72NB7/cLQgAAAAAyNmJBQVcOQgAAAABvS2BBk7YQQgAAAACXL15B5hUTQgAAAACt4ltBOHUVQgAAAACuZFlBitQXQgAAAACctVZB3DMaQgAAAAB31VNBLpMcQgAAAAA+xFBBgPIeQgAAAADxgU1B0lEhQgAAAACRDkpBJbEjQgAAAAAdakZBdxAmQgAAAACWlEJByW8oQgAAAAD7jT5BG88qQgAAAABMVjpBbS4tQgAAAACK7TVBv40vQgAAAAC0UzFBEu0xQgAAAADLiCxBZEw0QgAAAADOjCdBtqs2QgAAAAC+XyJBCAs5QgAAAACaAR1BWmo7QgAAAABjchdBrMk9QgAAAAAYshFB/yhAQgAAAAC5wAtBUYhCQgAAAABHngVBo+dEQgAAAACClf5A9UZHQgAAAABQjPFAR6ZJQgAAAAD2IORAmQVMQgAAAAB1U9ZA62ROQgAAAADNI8hAPsRQQgAAAAD+kblAkCNTQgAAAAAInqpA4oJVQgAAAADqR5tANOJXQgAAAACmj4tAhkFaQgAAAAB06nZA2KBcQgAAAABO8VVAKwBfQgAAAADaMzRAfV9hQgAAAAAYshFAz75jQgAAAAAO2Nw/IR5mQgAAAABRw5Q/c31oQgAAAADtSxY/xdxqQgAAAAAAAACo",
        "encoding": "base64",
        "path": [
         "vertices",
         "buffer"
        ]
       }
      ],
      "model_module": "k3d",
      "model_module_version": "^3.0.0",
      "model_name": "ObjectModel",
      "state": {
       "_model_module_version": "^3.0.0",
       "_view_count": null,
       "_view_module": null,
       "_view_module_version": "",
       "_view_name": null,
       "attribute": {
        "dtype": "float32",
        "shape": [
         0
        ]
       },
       "color": 255,
       "color_map": {
        "dtype": "float32",
        "shape": [
         0
        ]
       },
       "color_range": [],
       "colors": {
        "dtype": "uint32",
        "shape": [
         0
        ]
       },
       "compression_level": 0,
       "id": 4662254056,
       "model_matrix": {
        "dtype": "float32",
        "shape": [
         4,
         4
        ]
       },
       "radial_segments": 8,
       "shader": "thick",
       "type": "Line",
       "vertices": {
        "dtype": "float32",
        "shape": [
         100,
         3
        ]
       },
       "visible": true,
       "width": 0.01
      }
     },
     "ad85fe5042b840df8c0c3f75f611b739": {
      "buffers": [
       {
        "data": "",
        "encoding": "base64",
        "path": [
         "attribute",
         "buffer"
        ]
       },
       {
        "data": "",
        "encoding": "base64",
        "path": [
         "color_map",
         "buffer"
        ]
       },
       {
        "data": "",
        "encoding": "base64",
        "path": [
         "colors",
         "buffer"
        ]
       },
       {
        "data": "AACAPwAAAAAAAAAAAAAAAAAAAAAAAIA/AAAAAAAAAAAAAAAAAAAAAAAAgD8AAAAAAAAAAAAAAAAAAAAAAACAPw==",
        "encoding": "base64",
        "path": [
         "model_matrix",
         "buffer"
        ]
       },
       {
        "data": "AAAAAAAAAAAAAAAAitQXPwAAAADtSxY/itSXPwAAAABRw5Q/z77jPwAAAAAO2Nw/itQXQAAAAAAYshFArMk9QAAAAADaMzRAz75jQAAAAABO8VVA+dmEQAAAAAB06nZAitSXQAAAAACmj4tAG8+qQAAAAADqR5tArMm9QAAAAAAInqpAPsTQQAAAAAD+kblAz77jQAAAAADNI8hAYLn2QAAAAAB1U9ZA+dkEQQAAAAD2IORAQVcOQQAAAABQjPFAitQXQQAAAACClf5A0lEhQQAAAABHngVBG88qQQAAAAC5wAtBZEw0QQAAAAAYshFBrMk9QQAAAABjchdB9UZHQQAAAACaAR1BPsRQQQAAAAC+XyJBhkFaQQAAAADOjCdBz75jQQAAAADLiCxBFzxtQQAAAAC0UzFBYLl2QQAAAACK7TVBVBuAQQAAAABMVjpB+dmEQQAAAAD7jT5BnZiJQQAAAACWlEJBQVeOQQAAAAAdakZB5hWTQQAAAACRDkpBitSXQQAAAADxgU1BLpOcQQAAAAA+xFBB0lGhQQAAAAB31VNBdxCmQQAAAACctVZBG8+qQQAAAACuZFlBv42vQQAAAACt4ltBZEy0QQAAAACXL15BCAu5QQAAAABvS2BBrMm9QQAAAAAyNmJBUYjCQQAAAADi72NB9UbHQQAAAAB/eGVBmQXMQQAAAAAI0GZBPsTQQQAAAAB99mdB4oLVQQAAAADf62hBhkHaQQAAAAAtsGlBKwDfQQAAAABoQ2pBz77jQQAAAACPpWpBc33oQQAAAACj1mpBFzztQQAAAACj1mpBvPrxQQAAAACPpWpBYLn2QQAAAABoQ2pBBHj7QQAAAAAtsGlBVBsAQgAAAADf62hBpnoCQgAAAAB99mdB+dkEQgAAAAAI0GZBSzkHQgAAAAB/eGVBnZgJQgAAAADi72NB7/cLQgAAAAAyNmJBQVcOQgAAAABvS2BBk7YQQgAAAACXL15B5hUTQgAAAACt4ltBOHUVQgAAAACuZFlBitQXQgAAAACctVZB3DMaQgAAAAB31VNBLpMcQgAAAAA+xFBBgPIeQgAAAADxgU1B0lEhQgAAAACRDkpBJbEjQgAAAAAdakZBdxAmQgAAAACWlEJByW8oQgAAAAD7jT5BG88qQgAAAABMVjpBbS4tQgAAAACK7TVBv40vQgAAAAC0UzFBEu0xQgAAAADLiCxBZEw0QgAAAADOjCdBtqs2QgAAAAC+XyJBCAs5QgAAAACaAR1BWmo7QgAAAABjchdBrMk9QgAAAAAYshFB/yhAQgAAAAC5wAtBUYhCQgAAAABHngVBo+dEQgAAAACClf5A9UZHQgAAAABQjPFAR6ZJQgAAAAD2IORAmQVMQgAAAAB1U9ZA62ROQgAAAADNI8hAPsRQQgAAAAD+kblAkCNTQgAAAAAInqpA4oJVQgAAAADqR5tANOJXQgAAAACmj4tAhkFaQgAAAAB06nZA2KBcQgAAAABO8VVAKwBfQgAAAADaMzRAfV9hQgAAAAAYshFAz75jQgAAAAAO2Nw/IR5mQgAAAABRw5Q/c31oQgAAAADtSxY/xdxqQgAAAAAAAACo",
        "encoding": "base64",
        "path": [
         "vertices",
         "buffer"
        ]
       }
      ],
      "model_module": "k3d",
      "model_module_version": "^3.0.0",
      "model_name": "ObjectModel",
      "state": {
       "_model_module_version": "^3.0.0",
       "_view_count": null,
       "_view_module": null,
       "_view_module_version": "",
       "_view_name": null,
       "attribute": {
        "dtype": "float32",
        "shape": [
         0
        ]
       },
       "color": 255,
       "color_map": {
        "dtype": "float32",
        "shape": [
         0
        ]
       },
       "color_range": [],
       "colors": {
        "dtype": "uint32",
        "shape": [
         0
        ]
       },
       "compression_level": 0,
       "id": 4558006760,
       "model_matrix": {
        "dtype": "float32",
        "shape": [
         4,
         4
        ]
       },
       "radial_segments": 8,
       "shader": "thick",
       "type": "Line",
       "vertices": {
        "dtype": "float32",
        "shape": [
         100,
         3
        ]
       },
       "visible": true,
       "width": 0.01
      }
     },
     "add05bde02304ad9a34ce85ea79722bf": {
      "model_module": "@jupyter-widgets/base",
      "model_module_version": "1.0.0",
      "model_name": "LayoutModel",
      "state": {}
     },
     "b1a31cdc525c40a28ce4b49f713ecbd6": {
      "model_module": "k3d",
      "model_module_version": "^3.0.0",
      "model_name": "PlotModel",
      "state": {
       "_backend_version": "2.4.20",
       "_dom_classes": [],
       "_model_module_version": "^3.0.0",
       "_view_count": null,
       "_view_module_version": "^3.0.0",
       "antialias": true,
       "background_color": 16777215,
       "camera": [
        119.81780227695381,
        -159.69000698140997,
        10.646000465427583,
        13.357797622680664,
        0,
        0,
        0,
        0,
        1
       ],
       "camera_auto_fit": true,
       "clipping_planes": [],
       "fps_meter": false,
       "grid": [
        -1,
        -1,
        -1,
        1,
        1,
        1
       ],
       "grid_auto_fit": true,
       "height": 512,
       "layout": "IPY_MODEL_712f1502eca94226bdf649c7a5674772",
       "lighting": 1,
       "object_ids": [
        4569046488,
        4569046656,
        4569046320,
        4569045424
       ],
       "screenshot": "",
       "screenshot_scale": 2,
       "voxel_paint_color": 0
      }
     },
     "b9a0ae36ab904cd2a4a397e87bb32c7f": {
      "model_module": "@jupyter-widgets/output",
      "model_module_version": "1.0.0",
      "model_name": "OutputModel",
      "state": {
       "layout": "IPY_MODEL_347af6dbbcae4114bc8bf770bc2d009a",
       "outputs": [
        {
         "data": {
          "application/vnd.jupyter.widget-view+json": {
           "model_id": "6c389042e58548148fae55b9d8f0b75f",
           "version_major": 2,
           "version_minor": 0
          },
          "text/plain": "Plot(antialias=True, background_color=16777215, fps_meter=False, grid=[-1, -1, -1, 1, 1, 1], height=512, light…"
         },
         "metadata": {},
         "output_type": "display_data"
        }
       ]
      }
     },
     "c38a2d78f95b44948be788f785971b78": {
      "buffers": [
       {
        "data": "",
        "encoding": "base64",
        "path": [
         "attribute",
         "buffer"
        ]
       },
       {
        "data": "",
        "encoding": "base64",
        "path": [
         "color_map",
         "buffer"
        ]
       },
       {
        "data": "",
        "encoding": "base64",
        "path": [
         "colors",
         "buffer"
        ]
       },
       {
        "data": "AACAPwAAAAAAAAAAAAAAAAAAAAAAAIA/AAAAAAAAAAAAAAAAAAAAAAAAgD8AAAAAAAAAAAAAAAAAAAAAAACAPw==",
        "encoding": "base64",
        "path": [
         "model_matrix",
         "buffer"
        ]
       },
       {
        "data": "AAAAAAAAAAAAAAAAitQXPwAAAADtSxY/itSXPwAAAABRw5Q/z77jPwAAAAAO2Nw/itQXQAAAAAAYshFArMk9QAAAAADaMzRAz75jQAAAAABO8VVA+dmEQAAAAAB06nZAitSXQAAAAACmj4tAG8+qQAAAAADqR5tArMm9QAAAAAAInqpAPsTQQAAAAAD+kblAz77jQAAAAADNI8hAYLn2QAAAAAB1U9ZA+dkEQQAAAAD2IORAQVcOQQAAAABQjPFAitQXQQAAAACClf5A0lEhQQAAAABHngVBG88qQQAAAAC5wAtBZEw0QQAAAAAYshFBrMk9QQAAAABjchdB9UZHQQAAAACaAR1BPsRQQQAAAAC+XyJBhkFaQQAAAADOjCdBz75jQQAAAADLiCxBFzxtQQAAAAC0UzFBYLl2QQAAAACK7TVBVBuAQQAAAABMVjpB+dmEQQAAAAD7jT5BnZiJQQAAAACWlEJBQVeOQQAAAAAdakZB5hWTQQAAAACRDkpBitSXQQAAAADxgU1BLpOcQQAAAAA+xFBB0lGhQQAAAAB31VNBdxCmQQAAAACctVZBG8+qQQAAAACuZFlBv42vQQAAAACt4ltBZEy0QQAAAACXL15BCAu5QQAAAABvS2BBrMm9QQAAAAAyNmJBUYjCQQAAAADi72NB9UbHQQAAAAB/eGVBmQXMQQAAAAAI0GZBPsTQQQAAAAB99mdB4oLVQQAAAADf62hBhkHaQQAAAAAtsGlBKwDfQQAAAABoQ2pBz77jQQAAAACPpWpBc33oQQAAAACj1mpBFzztQQAAAACj1mpBvPrxQQAAAACPpWpBYLn2QQAAAABoQ2pBBHj7QQAAAAAtsGlBVBsAQgAAAADf62hBpnoCQgAAAAB99mdB+dkEQgAAAAAI0GZBSzkHQgAAAAB/eGVBnZgJQgAAAADi72NB7/cLQgAAAAAyNmJBQVcOQgAAAABvS2BBk7YQQgAAAACXL15B5hUTQgAAAACt4ltBOHUVQgAAAACuZFlBitQXQgAAAACctVZB3DMaQgAAAAB31VNBLpMcQgAAAAA+xFBBgPIeQgAAAADxgU1B0lEhQgAAAACRDkpBJbEjQgAAAAAdakZBdxAmQgAAAACWlEJByW8oQgAAAAD7jT5BG88qQgAAAABMVjpBbS4tQgAAAACK7TVBv40vQgAAAAC0UzFBEu0xQgAAAADLiCxBZEw0QgAAAADOjCdBtqs2QgAAAAC+XyJBCAs5QgAAAACaAR1BWmo7QgAAAABjchdBrMk9QgAAAAAYshFB/yhAQgAAAAC5wAtBUYhCQgAAAABHngVBo+dEQgAAAACClf5A9UZHQgAAAABQjPFAR6ZJQgAAAAD2IORAmQVMQgAAAAB1U9ZA62ROQgAAAADNI8hAPsRQQgAAAAD+kblAkCNTQgAAAAAInqpA4oJVQgAAAADqR5tANOJXQgAAAACmj4tAhkFaQgAAAAB06nZA2KBcQgAAAABO8VVAKwBfQgAAAADaMzRAfV9hQgAAAAAYshFAz75jQgAAAAAO2Nw/IR5mQgAAAABRw5Q/c31oQgAAAADtSxY/xdxqQgAAAAAAAACo",
        "encoding": "base64",
        "path": [
         "vertices",
         "buffer"
        ]
       }
      ],
      "model_module": "k3d",
      "model_module_version": "^3.0.0",
      "model_name": "ObjectModel",
      "state": {
       "_model_module_version": "^3.0.0",
       "_view_count": null,
       "_view_module": null,
       "_view_module_version": "",
       "_view_name": null,
       "attribute": {
        "dtype": "float32",
        "shape": [
         0
        ]
       },
       "color": 255,
       "color_map": {
        "dtype": "float32",
        "shape": [
         0
        ]
       },
       "color_range": [],
       "colors": {
        "dtype": "uint32",
        "shape": [
         0
        ]
       },
       "compression_level": 0,
       "id": 4569045424,
       "model_matrix": {
        "dtype": "float32",
        "shape": [
         4,
         4
        ]
       },
       "radial_segments": 8,
       "shader": "thick",
       "type": "Line",
       "vertices": {
        "dtype": "float32",
        "shape": [
         100,
         3
        ]
       },
       "visible": true,
       "width": 0.01
      }
     },
     "c53889eed58645f1b269388a0ed9adb6": {
      "model_module": "@jupyter-widgets/output",
      "model_module_version": "1.0.0",
      "model_name": "OutputModel",
      "state": {
       "layout": "IPY_MODEL_3554df468c624778ad23ec66a938e880",
       "outputs": [
        {
         "data": {
          "application/vnd.jupyter.widget-view+json": {
           "model_id": "3a0d289a8cac4dff8fd1f7dd6475babf",
           "version_major": 2,
           "version_minor": 0
          },
          "text/plain": "Plot(antialias=True, background_color=16777215, fps_meter=False, grid=[-1, -1, -1, 1, 1, 1], height=512, light…"
         },
         "metadata": {},
         "output_type": "display_data"
        }
       ]
      }
     },
     "cbbff950fcc64df0b53b5b3eab8c57c9": {
      "model_module": "k3d",
      "model_module_version": "^3.0.0",
      "model_name": "ObjectModel",
      "state": {
       "_model_module_version": "^3.0.0",
       "_view_count": null,
       "_view_module": null,
       "_view_module_version": "",
       "_view_name": null,
       "color": 255,
       "compression_level": 0,
       "id": 4559888792,
       "position": [
        0,
        0
       ],
       "reference_point": "lt",
       "size": 1,
       "text": "\\text{ballistic trajectory: } h=v_0 t \\sin \\alpha - \\frac{g t^2}{2}",
       "type": "Text2d",
       "visible": true
      }
     },
     "d496a7c461ae4af293e242afd9a98274": {
      "model_module": "k3d",
      "model_module_version": "^3.0.0",
      "model_name": "ObjectModel",
      "state": {
       "_model_module_version": "^3.0.0",
       "_view_count": null,
       "_view_module": null,
       "_view_module_version": "",
       "_view_name": null,
       "color": 255,
       "compression_level": 0,
       "font_face": "Calibri",
       "font_size": 68,
       "font_weight": 400,
       "id": 4743465168,
       "position": [
        0,
        0,
        0
       ],
       "size": 4,
       "text": "START",
       "type": "TextureText",
       "visible": true
      }
     },
     "dc3967455b95474fbd6971245137c323": {
      "model_module": "@jupyter-widgets/base",
      "model_module_version": "1.0.0",
      "model_name": "LayoutModel",
      "state": {}
     },
     "de5d04722b684ab28b483f06ef699e67": {
      "buffers": [
       {
        "data": "",
        "encoding": "base64",
        "path": [
         "attribute",
         "buffer"
        ]
       },
       {
        "data": "",
        "encoding": "base64",
        "path": [
         "color_map",
         "buffer"
        ]
       },
       {
        "data": "",
        "encoding": "base64",
        "path": [
         "colors",
         "buffer"
        ]
       },
       {
        "data": "AACAPwAAAAAAAAAAAAAAAAAAAAAAAIA/AAAAAAAAAAAAAAAAAAAAAAAAgD8AAAAAAAAAAAAAAAAAAAAAAACAPw==",
        "encoding": "base64",
        "path": [
         "model_matrix",
         "buffer"
        ]
       },
       {
        "data": "AAAAAAAAAAAAAAAAitQXPwAAAADtSxY/itSXPwAAAABRw5Q/z77jPwAAAAAO2Nw/itQXQAAAAAAYshFArMk9QAAAAADaMzRAz75jQAAAAABO8VVA+dmEQAAAAAB06nZAitSXQAAAAACmj4tAG8+qQAAAAADqR5tArMm9QAAAAAAInqpAPsTQQAAAAAD+kblAz77jQAAAAADNI8hAYLn2QAAAAAB1U9ZA+dkEQQAAAAD2IORAQVcOQQAAAABQjPFAitQXQQAAAACClf5A0lEhQQAAAABHngVBG88qQQAAAAC5wAtBZEw0QQAAAAAYshFBrMk9QQAAAABjchdB9UZHQQAAAACaAR1BPsRQQQAAAAC+XyJBhkFaQQAAAADOjCdBz75jQQAAAADLiCxBFzxtQQAAAAC0UzFBYLl2QQAAAACK7TVBVBuAQQAAAABMVjpB+dmEQQAAAAD7jT5BnZiJQQAAAACWlEJBQVeOQQAAAAAdakZB5hWTQQAAAACRDkpBitSXQQAAAADxgU1BLpOcQQAAAAA+xFBB0lGhQQAAAAB31VNBdxCmQQAAAACctVZBG8+qQQAAAACuZFlBv42vQQAAAACt4ltBZEy0QQAAAACXL15BCAu5QQAAAABvS2BBrMm9QQAAAAAyNmJBUYjCQQAAAADi72NB9UbHQQAAAAB/eGVBmQXMQQAAAAAI0GZBPsTQQQAAAAB99mdB4oLVQQAAAADf62hBhkHaQQAAAAAtsGlBKwDfQQAAAABoQ2pBz77jQQAAAACPpWpBc33oQQAAAACj1mpBFzztQQAAAACj1mpBvPrxQQAAAACPpWpBYLn2QQAAAABoQ2pBBHj7QQAAAAAtsGlBVBsAQgAAAADf62hBpnoCQgAAAAB99mdB+dkEQgAAAAAI0GZBSzkHQgAAAAB/eGVBnZgJQgAAAADi72NB7/cLQgAAAAAyNmJBQVcOQgAAAABvS2BBk7YQQgAAAACXL15B5hUTQgAAAACt4ltBOHUVQgAAAACuZFlBitQXQgAAAACctVZB3DMaQgAAAAB31VNBLpMcQgAAAAA+xFBBgPIeQgAAAADxgU1B0lEhQgAAAACRDkpBJbEjQgAAAAAdakZBdxAmQgAAAACWlEJByW8oQgAAAAD7jT5BG88qQgAAAABMVjpBbS4tQgAAAACK7TVBv40vQgAAAAC0UzFBEu0xQgAAAADLiCxBZEw0QgAAAADOjCdBtqs2QgAAAAC+XyJBCAs5QgAAAACaAR1BWmo7QgAAAABjchdBrMk9QgAAAAAYshFB/yhAQgAAAAC5wAtBUYhCQgAAAABHngVBo+dEQgAAAACClf5A9UZHQgAAAABQjPFAR6ZJQgAAAAD2IORAmQVMQgAAAAB1U9ZA62ROQgAAAADNI8hAPsRQQgAAAAD+kblAkCNTQgAAAAAInqpA4oJVQgAAAADqR5tANOJXQgAAAACmj4tAhkFaQgAAAAB06nZA2KBcQgAAAABO8VVAKwBfQgAAAADaMzRAfV9hQgAAAAAYshFAz75jQgAAAAAO2Nw/IR5mQgAAAABRw5Q/c31oQgAAAADtSxY/xdxqQgAAAAAAAACo",
        "encoding": "base64",
        "path": [
         "vertices",
         "buffer"
        ]
       }
      ],
      "model_module": "k3d",
      "model_module_version": "^3.0.0",
      "model_name": "ObjectModel",
      "state": {
       "_model_module_version": "^3.0.0",
       "_view_count": null,
       "_view_module": null,
       "_view_module_version": "",
       "_view_name": null,
       "attribute": {
        "dtype": "float32",
        "shape": [
         0
        ]
       },
       "color": 255,
       "color_map": {
        "dtype": "float32",
        "shape": [
         0
        ]
       },
       "color_range": [],
       "colors": {
        "dtype": "uint32",
        "shape": [
         0
        ]
       },
       "compression_level": 0,
       "id": 4470876816,
       "model_matrix": {
        "dtype": "float32",
        "shape": [
         4,
         4
        ]
       },
       "radial_segments": 8,
       "shader": "thick",
       "type": "Line",
       "vertices": {
        "dtype": "float32",
        "shape": [
         100,
         3
        ]
       },
       "visible": true,
       "width": 0.01
      }
     },
     "f2386fdc40cc408aa511ba91343155a2": {
      "model_module": "k3d",
      "model_module_version": "^3.0.0",
      "model_name": "ObjectModel",
      "state": {
       "_model_module_version": "^3.0.0",
       "_view_count": null,
       "_view_module": null,
       "_view_module_version": "",
       "_view_name": null,
       "color": 255,
       "compression_level": 0,
       "font_face": "Calibri",
       "font_size": 68,
       "font_weight": 400,
       "id": 4568516984,
       "position": [
        0,
        0,
        0
       ],
       "size": 4,
       "text": "START",
       "type": "TextureText",
       "visible": true
      }
     }
    },
    "version_major": 2,
    "version_minor": 0
   }
  }
 },
 "nbformat": 4,
 "nbformat_minor": 2
}
