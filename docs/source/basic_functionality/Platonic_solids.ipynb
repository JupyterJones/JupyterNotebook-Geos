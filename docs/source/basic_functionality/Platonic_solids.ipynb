{
 "cells": [
  {
   "cell_type": "markdown",
   "metadata": {},
   "source": [
    "## Platonic solids"
   ]
  },
  {
   "cell_type": "code",
   "execution_count": 1,
   "metadata": {},
   "outputs": [],
   "source": [
    "from k3d.platonic import Cube, Icosahedron, Dodecahedron, Tetrahedron, Octahedron"
   ]
  },
  {
   "cell_type": "code",
   "execution_count": 2,
   "metadata": {},
   "outputs": [
    {
     "data": {
      "application/vnd.jupyter.widget-view+json": {
       "model_id": "190defc1fcb04d64854da6e432a4860f",
       "version_major": 2,
       "version_minor": 0
      },
      "text/plain": [
       "Output()"
      ]
     },
     "metadata": {},
     "output_type": "display_data"
    }
   ],
   "source": [
    "cube_mesh = Cube(origin=[1,1,1], size=0.1).mesh\n",
    "cube_mesh.color = 0xff0000\n",
    "cube_mesh"
   ]
  },
  {
   "cell_type": "code",
   "execution_count": 3,
   "metadata": {},
   "outputs": [
    {
     "data": {
      "application/vnd.jupyter.widget-view+json": {
       "model_id": "e60304c1c86544f4912cf2c1ce1a48da",
       "version_major": 2,
       "version_minor": 0
      },
      "text/plain": [
       "Output()"
      ]
     },
     "metadata": {},
     "output_type": "display_data"
    }
   ],
   "source": [
    "tetrahedron_mesh = Tetrahedron().mesh\n",
    "tetrahedron_mesh.wireframe = True\n",
    "Octahedron().mesh + tetrahedron_mesh"
   ]
  },
  {
   "cell_type": "code",
   "execution_count": 4,
   "metadata": {},
   "outputs": [
    {
     "data": {
      "application/vnd.jupyter.widget-view+json": {
       "model_id": "e39e2530940d4495a58241279206f9cb",
       "version_major": 2,
       "version_minor": 0
      },
      "text/plain": [
       "Output()"
      ]
     },
     "metadata": {},
     "output_type": "display_data"
    }
   ],
   "source": [
    "Icosahedron().mesh + Dodecahedron().mesh"
   ]
  },
  {
   "cell_type": "code",
   "execution_count": null,
   "metadata": {},
   "outputs": [],
   "source": []
  }
 ],
 "metadata": {
  "kernelspec": {
   "display_name": "Python 3",
   "language": "python",
   "name": "python3"
  },
  "language_info": {
   "codemirror_mode": {
    "name": "ipython",
    "version": 3
   },
   "file_extension": ".py",
   "mimetype": "text/x-python",
   "name": "python",
   "nbconvert_exporter": "python",
   "pygments_lexer": "ipython3",
   "version": "3.6.1"
  },
  "widgets": {
   "application/vnd.jupyter.widget-state+json": {
    "state": {
     "006e2a5323034e799e72be2f6c2a1384": {
      "model_module": "k3d",
      "model_module_version": "^3.0.0",
      "model_name": "ObjectModel",
      "state": {
       "_model_module_version": "^3.0.0",
       "_view_count": null,
       "_view_module": null,
       "_view_module_version": "",
       "_view_name": null,
       "color": 0,
       "compression_level": 0,
       "id": 140058871254992,
       "position": [
        -1.5180340051651,
        0.7180340051651001,
        0.1
       ],
       "reference_point": "lb",
       "size": 1,
       "text": "17",
       "type": "Text",
       "visible": true
      }
     },
     "00744d2f558d4955a7c270ae5b18a996": {
      "buffers": [
       {
        "data": "",
        "encoding": "base64",
        "path": [
         "attribute",
         "buffer"
        ]
       },
       {
        "data": "",
        "encoding": "base64",
        "path": [
         "color_map",
         "buffer"
        ]
       },
       {
        "data": "AAAAAAEAAAACAAAAAAAAAAEAAAAFAAAAAQAAAAIAAAADAAAAAQAAAAMAAAAFAAAAAAAAAAQAAAAFAAAAAAAAAAIAAAAEAAAAAgAAAAMAAAAEAAAAAwAAAAQAAAAFAAAA",
        "encoding": "base64",
        "path": [
         "indices",
         "buffer"
        ]
       },
       {
        "data": "AACAPwAAAAAAAAAAAAAAAAAAAAAAAIA/AAAAAAAAAAAAAAAAAAAAAAAAgD8AAAAAAAAAAAAAAAAAAAAAAACAPw==",
        "encoding": "base64",
        "path": [
         "model_matrix",
         "buffer"
        ]
       },
       {
        "data": "AACAPwAAAAAAAAAAAAAAAAAAgD8AAAAAAAAAAAAAAAAAAIA/AACAvwAAAAAAAAAAAAAAAAAAgL8AAAAAAAAAAAAAAAAAAIC/",
        "encoding": "base64",
        "path": [
         "vertices",
         "buffer"
        ]
       }
      ],
      "model_module": "k3d",
      "model_module_version": "^3.0.0",
      "model_name": "ObjectModel",
      "state": {
       "_model_module_version": "^3.0.0",
       "_view_count": null,
       "_view_module": null,
       "_view_module_version": "",
       "_view_name": null,
       "attribute": {
        "dtype": "float32",
        "shape": [
         0
        ]
       },
       "color": 255,
       "color_map": {
        "dtype": "float32",
        "shape": [
         0
        ]
       },
       "color_range": [],
       "compression_level": 0,
       "flat_shading": true,
       "id": 140067947121352,
       "indices": {
        "dtype": "uint32",
        "shape": [
         24
        ]
       },
       "model_matrix": {
        "dtype": "float32",
        "shape": [
         4,
         4
        ]
       },
       "type": "Mesh",
       "vertices": {
        "dtype": "float32",
        "shape": [
         6,
         3
        ]
       },
       "visible": true,
       "wireframe": false
      }
     },
     "061cef197df94ab597c03f22aecde648": {
      "model_module": "k3d",
      "model_module_version": "^3.0.0",
      "model_name": "PlotModel",
      "state": {
       "_backend_version": "2.4.20",
       "_dom_classes": [],
       "_model_module_version": "^3.0.0",
       "_view_count": null,
       "_view_module_version": "^3.0.0",
       "antialias": true,
       "background_color": 16777215,
       "camera": [
        1.2877883343400551,
        0.5683174984899172,
        1.0287788334340058,
        1,
        1,
        1,
        0,
        0,
        1
       ],
       "camera_auto_fit": true,
       "clipping_planes": [],
       "fps_meter": false,
       "grid": [
        -1,
        -1,
        -1,
        1,
        1,
        1
       ],
       "grid_auto_fit": true,
       "height": 512,
       "layout": "IPY_MODEL_8fda776663c84d6ab52c2b83d4f7476c",
       "lighting": 1,
       "object_ids": [
        139922605848784
       ],
       "screenshot": "",
       "screenshot_scale": 2,
       "voxel_paint_color": 0
      }
     },
     "0de89ae793d44d778fafda59e68bfc06": {
      "buffers": [
       {
        "data": "",
        "encoding": "base64",
        "path": [
         "attribute",
         "buffer"
        ]
       },
       {
        "data": "",
        "encoding": "base64",
        "path": [
         "color_map",
         "buffer"
        ]
       },
       {
        "data": "AAAAAAEAAAASAAAAAAAAAAEAAAAKAAAAAQAAAAkAAAAKAAAAAAAAAAoAAAAOAAAACgAAAA4AAAAPAAAABAAAAAoAAAAPAAAABAAAAAkAAAAKAAAABAAAAAUAAAAJAAAABAAAAAUAAAATAAAABAAAAA8AAAATAAAABgAAAA8AAAATAAAABgAAABAAAAATAAAABgAAAAcAAAAQAAAABgAAAAcAAAAIAAAABgAAAAgAAAALAAAAAgAAAAMAAAARAAAAAgAAAAMAAAAIAAAAAgAAAAgAAAALAAAAAQAAAAMAAAANAAAAAQAAAAMAAAASAAAAAwAAABEAAAASAAAAAQAAAAkAAAANAAAACQAAAAwAAAANAAAABQAAAAkAAAAMAAAABQAAAAwAAAATAAAADAAAABAAAAATAAAABwAAAAwAAAAQAAAAAwAAAAcAAAAIAAAAAwAAAAcAAAAMAAAAAwAAAAwAAAANAAAADgAAAAYAAAAPAAAADgAAAAYAAAALAAAAAgAAAAsAAAAOAAAAAAAAABEAAAASAAAAAAAAAAIAAAARAAAAAAAAAAIAAAAOAAAA",
        "encoding": "base64",
        "path": [
         "indices",
         "buffer"
        ]
       },
       {
        "data": "AACAPwAAAAAAAAAAAAAAAAAAAAAAAIA/AAAAAAAAAAAAAAAAAAAAAAAAgD8AAAAAAAAAAAAAAAAAAAAAAACAPw==",
        "encoding": "base64",
        "path": [
         "model_matrix",
         "buffer"
        ]
       },
       {
        "data": "AACAvwAAgL8AAIC/AACAvwAAgL8AAIA/AACAvwAAgD8AAIC/AACAvwAAgD8AAIA/AACAPwAAgL8AAIC/AACAPwAAgL8AAIA/AACAPwAAgD8AAIC/AACAPwAAgD8AAIA/AAAAAL0bzz96Nx4/AAAAAL0bz796Nx4/AAAAAL0bz796Nx6/AAAAAL0bzz96Nx6/ejcePwAAAAC9G88/ejcevwAAAAC9G88/ejcevwAAAAC9G8+/ejcePwAAAAC9G8+/vRvPP3o3Hj8AAAAAvRvPv3o3Hj8AAAAAvRvPv3o3Hr8AAAAAvRvPP3o3Hr8AAAAA",
        "encoding": "base64",
        "path": [
         "vertices",
         "buffer"
        ]
       }
      ],
      "model_module": "k3d",
      "model_module_version": "^3.0.0",
      "model_name": "ObjectModel",
      "state": {
       "_model_module_version": "^3.0.0",
       "_view_count": null,
       "_view_module": null,
       "_view_module_version": "",
       "_view_name": null,
       "attribute": {
        "dtype": "float32",
        "shape": [
         0
        ]
       },
       "color": 255,
       "color_map": {
        "dtype": "float32",
        "shape": [
         0
        ]
       },
       "color_range": [],
       "compression_level": 0,
       "flat_shading": true,
       "id": 140067947014128,
       "indices": {
        "dtype": "uint32",
        "shape": [
         108
        ]
       },
       "model_matrix": {
        "dtype": "float32",
        "shape": [
         4,
         4
        ]
       },
       "type": "Mesh",
       "vertices": {
        "dtype": "float32",
        "shape": [
         20,
         3
        ]
       },
       "visible": true,
       "wireframe": false
      }
     },
     "0ff5338647a04e16a08c4eaca082a4f0": {
      "model_module": "k3d",
      "model_module_version": "^3.0.0",
      "model_name": "ObjectModel",
      "state": {
       "_model_module_version": "^3.0.0",
       "_view_count": null,
       "_view_module": null,
       "_view_module_version": "",
       "_view_name": null,
       "color": 0,
       "compression_level": 0,
       "id": 139979729379400,
       "position": [
        1.7180340051651002,
        -0.5180340051651001,
        0.1
       ],
       "reference_point": "lb",
       "size": 1,
       "text": "19",
       "type": "Text",
       "visible": true
      }
     },
     "11f90af40793408d9be9fb42224c817b": {
      "model_module": "k3d",
      "model_module_version": "^3.0.0",
      "model_name": "ObjectModel",
      "state": {
       "_model_module_version": "^3.0.0",
       "_view_count": null,
       "_view_module": null,
       "_view_module_version": "",
       "_view_name": null,
       "color": 0,
       "compression_level": 0,
       "id": 140058871254040,
       "position": [
        0.7180340051651001,
        0.1,
        -1.5180340051651
       ],
       "reference_point": "lb",
       "size": 1,
       "text": "15",
       "type": "Text",
       "visible": true
      }
     },
     "1221f1014c6f4c8588b7c93cd71b5f17": {
      "model_module": "@jupyter-widgets/base",
      "model_module_version": "1.0.0",
      "model_name": "LayoutModel",
      "state": {}
     },
     "1298bdee9dcc4c64bef813dcd7459229": {
      "model_module": "@jupyter-widgets/base",
      "model_module_version": "1.0.0",
      "model_name": "LayoutModel",
      "state": {}
     },
     "156421f9a17a4a1d85159ab8bdffab85": {
      "model_module": "k3d",
      "model_module_version": "^3.0.0",
      "model_name": "PlotModel",
      "state": {
       "_backend_version": "2.4.20",
       "_dom_classes": [],
       "_model_module_version": "^3.0.0",
       "_view_count": null,
       "_view_module_version": "^3.0.0",
       "antialias": true,
       "background_color": 16777215,
       "camera": [
        4.589723029615998,
        -6.884584544423994,
        0.45897230296160446,
        0,
        0,
        0,
        0,
        0,
        1
       ],
       "camera_auto_fit": true,
       "clipping_planes": [],
       "fps_meter": false,
       "grid": [
        -1,
        -1,
        -1,
        1,
        1,
        1
       ],
       "grid_auto_fit": true,
       "height": 512,
       "layout": "IPY_MODEL_32f5d4b501704fd6bcd83e7b55c7f35c",
       "lighting": 1,
       "object_ids": [
        139922605849456,
        139923595297960
       ],
       "screenshot": "",
       "screenshot_scale": 2,
       "voxel_paint_color": 0
      }
     },
     "17f84b42375f49f59fd358ecf8a3d0fc": {
      "model_module": "k3d",
      "model_module_version": "^3.0.0",
      "model_name": "ObjectModel",
      "state": {
       "_model_module_version": "^3.0.0",
       "_view_count": null,
       "_view_module": null,
       "_view_module_version": "",
       "_view_name": null,
       "color": 0,
       "compression_level": 0,
       "id": 140058871252080,
       "position": [
        -0.9,
        1.1,
        -0.9
       ],
       "reference_point": "lb",
       "size": 1,
       "text": "2",
       "type": "Text",
       "visible": true
      }
     },
     "190defc1fcb04d64854da6e432a4860f": {
      "model_module": "@jupyter-widgets/output",
      "model_module_version": "1.0.0",
      "model_name": "OutputModel",
      "state": {
       "layout": "IPY_MODEL_3b913f613fba44519fce208c7f5043b1",
       "outputs": [
        {
         "data": {
          "application/vnd.jupyter.widget-view+json": {
           "model_id": "3e0eb52340d14ba78abe6b7bcd6d226a",
           "version_major": 2,
           "version_minor": 0
          },
          "text/plain": "Plot(antialias=True, background_color=16777215, fps_meter=False, grid=[-1, -1, -1, 1, 1, 1], height=512, light…"
         },
         "metadata": {},
         "output_type": "display_data"
        }
       ]
      }
     },
     "1ab042966ff24209898fa4cc051321b4": {
      "model_module": "k3d",
      "model_module_version": "^3.0.0",
      "model_name": "ObjectModel",
      "state": {
       "_model_module_version": "^3.0.0",
       "_view_count": null,
       "_view_module": null,
       "_view_module_version": "",
       "_view_name": null,
       "color": 0,
       "compression_level": 0,
       "id": 140058871182224,
       "position": [
        -0.9,
        -0.9,
        -0.9
       ],
       "reference_point": "lb",
       "size": 1,
       "text": "0",
       "type": "Text",
       "visible": true
      }
     },
     "1be9009be0474ece8cf991d276d00544": {
      "model_module": "k3d",
      "model_module_version": "^3.0.0",
      "model_name": "ObjectModel",
      "state": {
       "_model_module_version": "^3.0.0",
       "_view_count": null,
       "_view_module": null,
       "_view_module_version": "",
       "_view_name": null,
       "color": 0,
       "compression_level": 0,
       "id": 139979729379792,
       "position": [
        0.1,
        1.7180340051651002,
        -0.5180340051651001
       ],
       "reference_point": "lb",
       "size": 1,
       "text": "11",
       "type": "Text",
       "visible": true
      }
     },
     "1c4aad91f10d4f9d92451ca1ac61a1ae": {
      "buffers": [
       {
        "data": "",
        "encoding": "base64",
        "path": [
         "attribute",
         "buffer"
        ]
       },
       {
        "data": "",
        "encoding": "base64",
        "path": [
         "color_map",
         "buffer"
        ]
       },
       {
        "data": "AAAAAAEAAAACAAAAAAAAAAEAAAADAAAAAQAAAAIAAAADAAAAAAAAAAIAAAADAAAA",
        "encoding": "base64",
        "path": [
         "indices",
         "buffer"
        ]
       },
       {
        "data": "AACAPwAAAAAAAAAAAAAAAAAAAAAAAIA/AAAAAAAAAAAAAAAAAAAAAAAAgD8AAAAAAAAAAAAAAAAAAAAAAACAPw==",
        "encoding": "base64",
        "path": [
         "model_matrix",
         "buffer"
        ]
       },
       {
        "data": "AACAPwAAgD8AAIA/AACAPwAAgL8AAIC/AACAvwAAgD8AAIC/AACAvwAAgL8AAIA/",
        "encoding": "base64",
        "path": [
         "vertices",
         "buffer"
        ]
       }
      ],
      "model_module": "k3d",
      "model_module_version": "^3.0.0",
      "model_name": "ObjectModel",
      "state": {
       "_model_module_version": "^3.0.0",
       "_view_count": null,
       "_view_module": null,
       "_view_module_version": "",
       "_view_name": null,
       "attribute": {
        "dtype": "float32",
        "shape": [
         0
        ]
       },
       "color": 255,
       "color_map": {
        "dtype": "float32",
        "shape": [
         0
        ]
       },
       "color_range": [],
       "compression_level": 0,
       "flat_shading": true,
       "id": 139922605850240,
       "indices": {
        "dtype": "uint32",
        "shape": [
         12
        ]
       },
       "model_matrix": {
        "dtype": "float32",
        "shape": [
         4,
         4
        ]
       },
       "type": "Mesh",
       "vertices": {
        "dtype": "float32",
        "shape": [
         4,
         3
        ]
       },
       "visible": true,
       "wireframe": true
      }
     },
     "1e1796cd24724d4da363b5fc58119386": {
      "model_module": "k3d",
      "model_module_version": "^3.0.0",
      "model_name": "ObjectModel",
      "state": {
       "_model_module_version": "^3.0.0",
       "_view_count": null,
       "_view_module": null,
       "_view_module_version": "",
       "_view_name": null,
       "color": 0,
       "compression_level": 0,
       "id": 139979729380352,
       "position": [
        -0.5180340051651001,
        0.1,
        -1.5180340051651
       ],
       "reference_point": "lb",
       "size": 1,
       "text": "14",
       "type": "Text",
       "visible": true
      }
     },
     "1f85ba8d6c524547b2aaa53ad4ff297c": {
      "model_module": "@jupyter-widgets/base",
      "model_module_version": "1.0.0",
      "model_name": "LayoutModel",
      "state": {}
     },
     "1f8b8c2d5eaa4d3e9f7498a186c16caf": {
      "buffers": [
       {
        "data": "",
        "encoding": "base64",
        "path": [
         "attribute",
         "buffer"
        ]
       },
       {
        "data": "",
        "encoding": "base64",
        "path": [
         "color_map",
         "buffer"
        ]
       },
       {
        "data": "AAAAAAEAAAACAAAAAQAAAAIAAAADAAAAAAAAAAEAAAAEAAAAAQAAAAQAAAAFAAAAAQAAAAMAAAAFAAAAAwAAAAUAAAAHAAAAAAAAAAIAAAAEAAAAAgAAAAQAAAAGAAAAAgAAAAMAAAAHAAAAAgAAAAYAAAAHAAAABAAAAAUAAAAGAAAABQAAAAYAAAAHAAAA",
        "encoding": "base64",
        "path": [
         "indices",
         "buffer"
        ]
       },
       {
        "data": "AACAPwAAAAAAAAAAAAAAAAAAAAAAAIA/AAAAAAAAAAAAAAAAAAAAAAAAgD8AAAAAAAAAAAAAAAAAAAAAAACAPw==",
        "encoding": "base64",
        "path": [
         "model_matrix",
         "buffer"
        ]
       },
       {
        "data": "AAAAQAAAAEAAAABAAAAAQAAAAEAAAAAAAAAAQAAAAAAAAABAAAAAQAAAAAAAAAAAAAAAAAAAAEAAAABAAAAAAAAAAEAAAAAAAAAAAAAAAAAAAABAAAAAAAAAAAAAAAAA",
        "encoding": "base64",
        "path": [
         "vertices",
         "buffer"
        ]
       }
      ],
      "model_module": "k3d",
      "model_module_version": "^3.0.0",
      "model_name": "ObjectModel",
      "state": {
       "_model_module_version": "^3.0.0",
       "_view_count": null,
       "_view_module": null,
       "_view_module_version": "",
       "_view_name": null,
       "attribute": {
        "dtype": "float32",
        "shape": [
         0
        ]
       },
       "color": 255,
       "color_map": {
        "dtype": "float32",
        "shape": [
         0
        ]
       },
       "color_range": [],
       "compression_level": 0,
       "flat_shading": true,
       "id": 140067950481360,
       "indices": {
        "dtype": "uint32",
        "shape": [
         36
        ]
       },
       "model_matrix": {
        "dtype": "float32",
        "shape": [
         4,
         4
        ]
       },
       "type": "Mesh",
       "vertices": {
        "dtype": "float32",
        "shape": [
         8,
         3
        ]
       },
       "visible": true,
       "wireframe": false
      }
     },
     "2045d8706c7042b28d42469600400901": {
      "model_module": "k3d",
      "model_module_version": "^3.0.0",
      "model_name": "ObjectModel",
      "state": {
       "_model_module_version": "^3.0.0",
       "_view_count": null,
       "_view_module": null,
       "_view_module_version": "",
       "_view_name": null,
       "color": 0,
       "compression_level": 0,
       "id": 140058871251632,
       "position": [
        0.7180340051651001,
        0.1,
        1.7180340051651002
       ],
       "reference_point": "lb",
       "size": 1,
       "text": "12",
       "type": "Text",
       "visible": true
      }
     },
     "213a9c03782d42d3b8015d61e1e9e85d": {
      "buffers": [
       {
        "data": "",
        "encoding": "base64",
        "path": [
         "attribute",
         "buffer"
        ]
       },
       {
        "data": "",
        "encoding": "base64",
        "path": [
         "color_map",
         "buffer"
        ]
       },
       {
        "data": "AAAAAAEAAAACAAAAAQAAAAIAAAADAAAAAAAAAAEAAAAEAAAAAQAAAAQAAAAFAAAAAQAAAAMAAAAFAAAAAwAAAAUAAAAHAAAAAAAAAAIAAAAEAAAAAgAAAAQAAAAGAAAAAgAAAAMAAAAHAAAAAgAAAAYAAAAHAAAABAAAAAUAAAAGAAAABQAAAAYAAAAHAAAA",
        "encoding": "base64",
        "path": [
         "indices",
         "buffer"
        ]
       },
       {
        "data": "AACAPwAAAAAAAAAAAAAAAAAAAAAAAIA/AAAAAAAAAAAAAAAAAAAAAAAAgD8AAAAAAAAAAAAAAAAAAAAAAACAPw==",
        "encoding": "base64",
        "path": [
         "model_matrix",
         "buffer"
        ]
       },
       {
        "data": "zcyMP83MjD/NzIw/zcyMP83MjD9mZmY/zcyMP2ZmZj/NzIw/zcyMP2ZmZj9mZmY/ZmZmP83MjD/NzIw/ZmZmP83MjD9mZmY/ZmZmP2ZmZj/NzIw/ZmZmP2ZmZj9mZmY/",
        "encoding": "base64",
        "path": [
         "vertices",
         "buffer"
        ]
       }
      ],
      "model_module": "k3d",
      "model_module_version": "^3.0.0",
      "model_name": "ObjectModel",
      "state": {
       "_model_module_version": "^3.0.0",
       "_view_count": null,
       "_view_module": null,
       "_view_module_version": "",
       "_view_name": null,
       "attribute": {
        "dtype": "float32",
        "shape": [
         0
        ]
       },
       "color": 255,
       "color_map": {
        "dtype": "float32",
        "shape": [
         0
        ]
       },
       "color_range": [],
       "compression_level": 0,
       "flat_shading": true,
       "id": 140067947744056,
       "indices": {
        "dtype": "uint32",
        "shape": [
         36
        ]
       },
       "model_matrix": {
        "dtype": "float32",
        "shape": [
         4,
         4
        ]
       },
       "type": "Mesh",
       "vertices": {
        "dtype": "float32",
        "shape": [
         8,
         3
        ]
       },
       "visible": true,
       "wireframe": false
      }
     },
     "219ddf2f21e64573bd9ef1c6ca89c649": {
      "model_module": "@jupyter-widgets/output",
      "model_module_version": "1.0.0",
      "model_name": "OutputModel",
      "state": {
       "layout": "IPY_MODEL_2acd29defe90485289877d48ed917c9b",
       "outputs": [
        {
         "data": {
          "application/vnd.jupyter.widget-view+json": {
           "model_id": "9e8314e43b5a43c88d6a1637868275c5",
           "version_major": 2,
           "version_minor": 0
          },
          "text/plain": "Plot(antialias=True, background_color=16777215, fps_meter=False, grid=[-1, -1, -1, 1, 1, 1], height=512, light…"
         },
         "metadata": {},
         "output_type": "display_data"
        }
       ]
      }
     },
     "25e3d0c55ff14656875f2dc2805a9115": {
      "model_module": "@jupyter-widgets/base",
      "model_module_version": "1.0.0",
      "model_name": "LayoutModel",
      "state": {}
     },
     "27d55bcaa10c4b638ee860295895080b": {
      "model_module": "k3d",
      "model_module_version": "^3.0.0",
      "model_name": "PlotModel",
      "state": {
       "_backend_version": "2.4.20",
       "_dom_classes": [],
       "_model_module_version": "^3.0.0",
       "_view_count": null,
       "_view_module_version": "^3.0.0",
       "antialias": true,
       "background_color": 16777215,
       "camera": [
        2.8778826572598577,
        -4.316823985889787,
        0.28778826572598526,
        0,
        0,
        0,
        0,
        0,
        1
       ],
       "camera_auto_fit": true,
       "clipping_planes": [],
       "fps_meter": false,
       "grid": [
        -1,
        -1,
        -1,
        1,
        1,
        1
       ],
       "grid_auto_fit": true,
       "height": 512,
       "layout": "IPY_MODEL_95b29eea762f4b988962e3ad92a645f4",
       "lighting": 1,
       "object_ids": [
        4729984560,
        4729984728
       ],
       "screenshot": "",
       "screenshot_scale": 2,
       "voxel_paint_color": 0
      }
     },
     "2a4343c5d87c4c648290124d672fb815": {
      "buffers": [
       {
        "data": "",
        "encoding": "base64",
        "path": [
         "attribute",
         "buffer"
        ]
       },
       {
        "data": "",
        "encoding": "base64",
        "path": [
         "color_map",
         "buffer"
        ]
       },
       {
        "data": "AAAAAAIAAAAIAAAAAAAAAAQAAAAIAAAAAAAAAAIAAAAJAAAAAAAAAAUAAAAJAAAAAgAAAAYAAAAIAAAAAgAAAAcAAAAJAAAAAgAAAAYAAAAHAAAAAAAAAAQAAAAFAAAAAQAAAAQAAAAFAAAAAQAAAAUAAAALAAAABwAAAAkAAAALAAAAAwAAAAcAAAALAAAAAwAAAAYAAAAHAAAAAwAAAAYAAAAKAAAABAAAAAgAAAAKAAAABgAAAAgAAAAKAAAAAQAAAAQAAAAKAAAAAQAAAAMAAAALAAAAAQAAAAMAAAAKAAAABQAAAAkAAAALAAAA",
        "encoding": "base64",
        "path": [
         "indices",
         "buffer"
        ]
       },
       {
        "data": "AACAPwAAAAAAAAAAAAAAAAAAAAAAAIA/AAAAAAAAAAAAAAAAAAAAAAAAgD8AAAAAAAAAAAAAAAAAAAAAAACAPw==",
        "encoding": "base64",
        "path": [
         "model_matrix",
         "buffer"
        ]
       },
       {
        "data": "AACAP70bzz8AAAAAAACAP70bz78AAAAAAACAv70bzz8AAAAAAACAv70bz78AAAAAvRvPPwAAAAAAAIA/vRvPPwAAAAAAAIC/vRvPvwAAAAAAAIA/vRvPvwAAAAAAAIC/AAAAAAAAgD+9G88/AAAAAAAAgD+9G8+/AAAAAAAAgL+9G88/AAAAAAAAgL+9G8+/",
        "encoding": "base64",
        "path": [
         "vertices",
         "buffer"
        ]
       }
      ],
      "model_module": "k3d",
      "model_module_version": "^3.0.0",
      "model_name": "ObjectModel",
      "state": {
       "_model_module_version": "^3.0.0",
       "_view_count": null,
       "_view_module": null,
       "_view_module_version": "",
       "_view_name": null,
       "attribute": {
        "dtype": "float32",
        "shape": [
         0
        ]
       },
       "color": 255,
       "color_map": {
        "dtype": "float32",
        "shape": [
         0
        ]
       },
       "color_range": [],
       "compression_level": 0,
       "flat_shading": true,
       "id": 140067947013624,
       "indices": {
        "dtype": "uint32",
        "shape": [
         60
        ]
       },
       "model_matrix": {
        "dtype": "float32",
        "shape": [
         4,
         4
        ]
       },
       "type": "Mesh",
       "vertices": {
        "dtype": "float32",
        "shape": [
         12,
         3
        ]
       },
       "visible": true,
       "wireframe": true
      }
     },
     "2acd29defe90485289877d48ed917c9b": {
      "model_module": "@jupyter-widgets/base",
      "model_module_version": "1.0.0",
      "model_name": "LayoutModel",
      "state": {}
     },
     "2ba73e615a0d47ba9f5cb13994e98552": {
      "buffers": [
       {
        "data": "",
        "encoding": "base64",
        "path": [
         "attribute",
         "buffer"
        ]
       },
       {
        "data": "",
        "encoding": "base64",
        "path": [
         "color_map",
         "buffer"
        ]
       },
       {
        "data": "AAAAAAEAAAACAAAAAQAAAAIAAAADAAAAAAAAAAEAAAAEAAAAAQAAAAQAAAAFAAAAAQAAAAMAAAAFAAAAAwAAAAUAAAAHAAAAAAAAAAIAAAAEAAAAAgAAAAQAAAAGAAAAAgAAAAMAAAAHAAAAAgAAAAYAAAAHAAAABAAAAAUAAAAGAAAABQAAAAYAAAAHAAAA",
        "encoding": "base64",
        "path": [
         "indices",
         "buffer"
        ]
       },
       {
        "data": "AACAPwAAAAAAAAAAAAAAAAAAAAAAAIA/AAAAAAAAAAAAAAAAAAAAAAAAgD8AAAAAAAAAAAAAAAAAAAAAAACAPw==",
        "encoding": "base64",
        "path": [
         "model_matrix",
         "buffer"
        ]
       },
       {
        "data": "AACAPwAAgD8AAIA/AACAPwAAgD8AAIC/AACAPwAAgL8AAIA/AACAPwAAgL8AAIC/AACAvwAAgD8AAIA/AACAvwAAgD8AAIC/AACAvwAAgL8AAIA/AACAvwAAgL8AAIC/",
        "encoding": "base64",
        "path": [
         "vertices",
         "buffer"
        ]
       }
      ],
      "model_module": "k3d",
      "model_module_version": "^3.0.0",
      "model_name": "ObjectModel",
      "state": {
       "_model_module_version": "^3.0.0",
       "_view_count": null,
       "_view_module": null,
       "_view_module_version": "",
       "_view_name": null,
       "attribute": {
        "dtype": "float32",
        "shape": [
         0
        ]
       },
       "color": 255,
       "color_map": {
        "dtype": "float32",
        "shape": [
         0
        ]
       },
       "color_range": [],
       "compression_level": 0,
       "flat_shading": true,
       "id": 140067950479288,
       "indices": {
        "dtype": "uint32",
        "shape": [
         36
        ]
       },
       "model_matrix": {
        "dtype": "float32",
        "shape": [
         4,
         4
        ]
       },
       "type": "Mesh",
       "vertices": {
        "dtype": "float32",
        "shape": [
         8,
         3
        ]
       },
       "visible": true,
       "wireframe": false
      }
     },
     "2bb8c999d2174fe298e8d6ea8cbf6049": {
      "model_module": "k3d",
      "model_module_version": "^3.0.0",
      "model_name": "ObjectModel",
      "state": {
       "_model_module_version": "^3.0.0",
       "_view_count": null,
       "_view_module": null,
       "_view_module_version": "",
       "_view_name": null,
       "color": 0,
       "compression_level": 0,
       "id": 139979729292648,
       "position": [
        0.1,
        -1.5180340051651,
        -0.5180340051651001
       ],
       "reference_point": "lb",
       "size": 1,
       "text": "10",
       "type": "Text",
       "visible": true
      }
     },
     "2e911160ece04f34bc876dbf7d4dac15": {
      "model_module": "k3d",
      "model_module_version": "^3.0.0",
      "model_name": "ObjectModel",
      "state": {
       "_model_module_version": "^3.0.0",
       "_view_count": null,
       "_view_module": null,
       "_view_module_version": "",
       "_view_name": null,
       "color": 0,
       "compression_level": 0,
       "id": 139979729293040,
       "position": [
        1.1,
        -0.9,
        -0.9
       ],
       "reference_point": "lb",
       "size": 1,
       "text": "4",
       "type": "Text",
       "visible": true
      }
     },
     "2f4f33a632bc4ea7a69d28bba53842d9": {
      "model_module": "k3d",
      "model_module_version": "^3.0.0",
      "model_name": "PlotModel",
      "state": {
       "_backend_version": "2.4.20",
       "_dom_classes": [],
       "_model_module_version": "^3.0.0",
       "_view_count": null,
       "_view_module_version": "^3.0.0",
       "antialias": true,
       "background_color": 16777215,
       "camera": [
        8.45047399961122,
        -1.250542547163375,
        2.226647897852709,
        0,
        0,
        0,
        -0.16246414244257054,
        -0.9367301331260977,
        0.3100678314723362
       ],
       "camera_auto_fit": true,
       "clipping_planes": [],
       "fps_meter": false,
       "grid": [
        -1,
        -1,
        -1,
        1,
        1,
        1
       ],
       "grid_auto_fit": true,
       "height": 512,
       "layout": "IPY_MODEL_3d36b290f0fe47ada5ee9aea2d65def2",
       "lighting": 1,
       "object_ids": [
        140067947392304,
        140067947392528
       ],
       "screenshot": "",
       "screenshot_scale": 2,
       "voxel_paint_color": 0
      }
     },
     "2fecd3bc3b594081b2e798f0be4551fb": {
      "model_module": "k3d",
      "model_module_version": "^3.0.0",
      "model_name": "PlotModel",
      "state": {
       "_backend_version": "2.4.20",
       "_dom_classes": [],
       "_model_module_version": "^3.0.0",
       "_view_count": null,
       "_view_module_version": "^3.0.0",
       "antialias": true,
       "background_color": 16777215,
       "camera": [
        4.895591339496102,
        -4.8433870092441555,
        1.3895591339496138,
        1,
        1,
        1,
        0,
        0,
        1
       ],
       "camera_auto_fit": true,
       "clipping_planes": [],
       "fps_meter": false,
       "grid": [
        -1,
        -1,
        -1,
        1,
        1,
        1
       ],
       "grid_auto_fit": true,
       "height": 512,
       "layout": "IPY_MODEL_71e1beb3db2e4ed0aac7bd089e324687",
       "lighting": 1,
       "object_ids": [
        140067950481360
       ],
       "screenshot": "",
       "screenshot_scale": 2,
       "voxel_paint_color": 0
      }
     },
     "30388cb116fe4481bfece9b20f884a10": {
      "model_module": "k3d",
      "model_module_version": "^3.0.0",
      "model_name": "PlotModel",
      "state": {
       "_backend_version": "2.4.20",
       "_dom_classes": [],
       "_model_module_version": "^3.0.0",
       "_view_count": null,
       "_view_module_version": "^3.0.0",
       "antialias": true,
       "background_color": 16777215,
       "camera": [
        1.3389118309543697,
        0.6256479958141814,
        1.122472350133673,
        1,
        1,
        1,
        0.02081060643861614,
        0.25797517827750366,
        0.9659273917082727
       ],
       "camera_auto_fit": true,
       "clipping_planes": [],
       "fps_meter": false,
       "grid": [
        -1,
        -1,
        -1,
        1,
        1,
        1
       ],
       "grid_auto_fit": true,
       "height": 512,
       "layout": "IPY_MODEL_31d5228bac364f549b0db20205528ad7",
       "lighting": 1,
       "object_ids": [
        140067947744056
       ],
       "screenshot": "",
       "screenshot_scale": 2,
       "voxel_paint_color": 0
      }
     },
     "31d5228bac364f549b0db20205528ad7": {
      "model_module": "@jupyter-widgets/base",
      "model_module_version": "1.0.0",
      "model_name": "LayoutModel",
      "state": {}
     },
     "3229dc88196c499ca4e8cb65dc51b898": {
      "model_module": "@jupyter-widgets/output",
      "model_module_version": "1.0.0",
      "model_name": "OutputModel",
      "state": {
       "layout": "IPY_MODEL_89c132a5053e4d57922f1d078e6b61ef",
       "outputs": [
        {
         "data": {
          "application/vnd.jupyter.widget-view+json": {
           "model_id": "6f238864829445038dc5e44ded58ba37",
           "version_major": 2,
           "version_minor": 0
          },
          "text/plain": "Plot(antialias=True, background_color=16777215, fps_meter=False, grid=[-1, -1, -1, 1, 1, 1], height=512, light…"
         },
         "metadata": {},
         "output_type": "display_data"
        }
       ]
      }
     },
     "327e73a1623940738deb93e5663ea53b": {
      "model_module": "@jupyter-widgets/base",
      "model_module_version": "1.0.0",
      "model_name": "LayoutModel",
      "state": {}
     },
     "32a9c2bd94434a1c8194b02837b7d3ea": {
      "model_module": "k3d",
      "model_module_version": "^3.0.0",
      "model_name": "ObjectModel",
      "state": {
       "_model_module_version": "^3.0.0",
       "_view_count": null,
       "_view_module": null,
       "_view_module_version": "",
       "_view_name": null,
       "color": 0,
       "compression_level": 0,
       "id": 139979729291920,
       "position": [
        -0.9,
        1.1,
        1.1
       ],
       "reference_point": "lb",
       "size": 1,
       "text": "3",
       "type": "Text",
       "visible": true
      }
     },
     "32f5d4b501704fd6bcd83e7b55c7f35c": {
      "model_module": "@jupyter-widgets/base",
      "model_module_version": "1.0.0",
      "model_name": "LayoutModel",
      "state": {}
     },
     "33d3e6d0a4434ac886a3c6e7f235a9dc": {
      "model_module": "k3d",
      "model_module_version": "^3.0.0",
      "model_name": "ObjectModel",
      "state": {
       "_model_module_version": "^3.0.0",
       "_view_count": null,
       "_view_module": null,
       "_view_module_version": "",
       "_view_name": null,
       "color": 0,
       "compression_level": 0,
       "id": 140058871251184,
       "position": [
        1.1,
        -0.9,
        1.1
       ],
       "reference_point": "lb",
       "size": 1,
       "text": "5",
       "type": "Text",
       "visible": true
      }
     },
     "34dbf938b2c74ccf88f7f484b0fbe71c": {
      "model_module": "@jupyter-widgets/base",
      "model_module_version": "1.0.0",
      "model_name": "LayoutModel",
      "state": {}
     },
     "35062d0abadb4eec879e6f8f726bbc19": {
      "buffers": [
       {
        "data": "",
        "encoding": "base64",
        "path": [
         "colors",
         "buffer"
        ]
       },
       {
        "data": "AACAPwAAAAAAAAAAAAAAAAAAAAAAAIA/AAAAAAAAAAAAAAAAAAAAAAAAgD8AAAAAAAAAAAAAAAAAAAAAAACAPw==",
        "encoding": "base64",
        "path": [
         "model_matrix",
         "buffer"
        ]
       },
       {
        "data": "AACAvwAAgL8AAIC/AACAvwAAgL8AAIA/AACAvwAAgD8AAIC/AACAvwAAgD8AAIA/AACAPwAAgL8AAIC/AACAPwAAgL8AAIA/AACAPwAAgD8AAIC/AACAPwAAgD8AAIA/AAAAAL0bzz96Nx4/AAAAAL0bz796Nx4/AAAAAL0bz796Nx6/AAAAAL0bzz96Nx6/ejcePwAAAAC9G88/ejcevwAAAAC9G88/ejcevwAAAAC9G8+/ejcePwAAAAC9G8+/vRvPP3o3Hj8AAAAAvRvPv3o3Hj8AAAAAvRvPv3o3Hr8AAAAAvRvPP3o3Hr8AAAAA",
        "encoding": "base64",
        "path": [
         "positions",
         "buffer"
        ]
       }
      ],
      "model_module": "k3d",
      "model_module_version": "^3.0.0",
      "model_name": "ObjectModel",
      "state": {
       "_model_module_version": "^3.0.0",
       "_view_count": null,
       "_view_module": null,
       "_view_module_version": "",
       "_view_name": null,
       "color": 255,
       "colors": {
        "dtype": "uint32",
        "shape": [
         0
        ]
       },
       "compression_level": 0,
       "id": 140058871251576,
       "model_matrix": {
        "dtype": "float32",
        "shape": [
         4,
         4
        ]
       },
       "point_size": 0.1,
       "positions": {
        "dtype": "float32",
        "shape": [
         20,
         3
        ]
       },
       "shader": "3dSpecular",
       "type": "Points",
       "visible": true
      }
     },
     "356a57ab6397484cad1f252ed2abb556": {
      "buffers": [
       {
        "data": "",
        "encoding": "base64",
        "path": [
         "attribute",
         "buffer"
        ]
       },
       {
        "data": "",
        "encoding": "base64",
        "path": [
         "color_map",
         "buffer"
        ]
       },
       {
        "data": "AAAAAAEAAAACAAAAAQAAAAIAAAADAAAAAAAAAAEAAAAEAAAAAQAAAAQAAAAFAAAAAQAAAAMAAAAFAAAAAwAAAAUAAAAHAAAAAAAAAAIAAAAEAAAAAgAAAAQAAAAGAAAAAgAAAAMAAAAHAAAAAgAAAAYAAAAHAAAABAAAAAUAAAAGAAAABQAAAAYAAAAHAAAA",
        "encoding": "base64",
        "path": [
         "indices",
         "buffer"
        ]
       },
       {
        "data": "AACAPwAAAAAAAAAAAAAAAAAAAAAAAIA/AAAAAAAAAAAAAAAAAAAAAAAAgD8AAAAAAAAAAAAAAAAAAAAAAACAPw==",
        "encoding": "base64",
        "path": [
         "model_matrix",
         "buffer"
        ]
       },
       {
        "data": "zcyMP83MjD/NzIw/zcyMP83MjD9mZmY/zcyMP2ZmZj/NzIw/zcyMP2ZmZj9mZmY/ZmZmP83MjD/NzIw/ZmZmP83MjD9mZmY/ZmZmP2ZmZj/NzIw/ZmZmP2ZmZj9mZmY/",
        "encoding": "base64",
        "path": [
         "vertices",
         "buffer"
        ]
       }
      ],
      "model_module": "k3d",
      "model_module_version": "^3.0.0",
      "model_name": "ObjectModel",
      "state": {
       "_model_module_version": "^3.0.0",
       "_view_count": null,
       "_view_module": null,
       "_view_module_version": "",
       "_view_name": null,
       "attribute": {
        "dtype": "float32",
        "shape": [
         0
        ]
       },
       "color": 16711680,
       "color_map": {
        "dtype": "float32",
        "shape": [
         0
        ]
       },
       "color_range": [],
       "compression_level": 0,
       "flat_shading": true,
       "id": 139922605848784,
       "indices": {
        "dtype": "uint32",
        "shape": [
         36
        ]
       },
       "model_matrix": {
        "dtype": "float32",
        "shape": [
         4,
         4
        ]
       },
       "type": "Mesh",
       "vertices": {
        "dtype": "float32",
        "shape": [
         8,
         3
        ]
       },
       "visible": true,
       "wireframe": false
      }
     },
     "381700bb388f47929700e07f2df0a786": {
      "model_module": "@jupyter-widgets/base",
      "model_module_version": "1.0.0",
      "model_name": "LayoutModel",
      "state": {}
     },
     "38361d0b04464ef994bbc899d65b79fd": {
      "model_module": "@jupyter-widgets/output",
      "model_module_version": "1.0.0",
      "model_name": "OutputModel",
      "state": {
       "layout": "IPY_MODEL_c90018a8e78e4b0fb83c4464c8de263e",
       "outputs": [
        {
         "data": {
          "application/vnd.jupyter.widget-view+json": {
           "model_id": "30388cb116fe4481bfece9b20f884a10",
           "version_major": 2,
           "version_minor": 0
          },
          "text/plain": "Plot(antialias=True, background_color=16777215, fps_meter=False, grid=[-1, -1, -1, 1, 1, 1], height=512, light…"
         },
         "metadata": {},
         "output_type": "display_data"
        }
       ]
      }
     },
     "3973673e5b88474e9356556009bbae4f": {
      "model_module": "k3d",
      "model_module_version": "^3.0.0",
      "model_name": "ObjectModel",
      "state": {
       "_model_module_version": "^3.0.0",
       "_view_count": null,
       "_view_module": null,
       "_view_module_version": "",
       "_view_name": null,
       "color": 0,
       "compression_level": 0,
       "id": 140058871252808,
       "position": [
        -0.9,
        1.1,
        1.1
       ],
       "reference_point": "lb",
       "size": 1,
       "text": "3",
       "type": "Text",
       "visible": true
      }
     },
     "3a298456720549e190813093589f6b7a": {
      "buffers": [
       {
        "data": "",
        "encoding": "base64",
        "path": [
         "attribute",
         "buffer"
        ]
       },
       {
        "data": "",
        "encoding": "base64",
        "path": [
         "color_map",
         "buffer"
        ]
       },
       {
        "data": "AAAAAAEAAAASAAAAAAAAAAEAAAAKAAAAAQAAAAkAAAAKAAAAAAAAAAoAAAAOAAAACgAAAA4AAAAPAAAABAAAAAoAAAAPAAAABAAAAAkAAAAKAAAABAAAAAUAAAAJAAAABAAAAAUAAAATAAAABAAAAA8AAAATAAAABgAAAA8AAAATAAAABgAAABAAAAATAAAABgAAAAcAAAAQAAAABgAAAAcAAAAIAAAABgAAAAgAAAALAAAAAgAAAAMAAAARAAAAAgAAAAMAAAAIAAAAAgAAAAgAAAALAAAAAQAAAAMAAAANAAAAAQAAAAMAAAASAAAAAwAAABEAAAASAAAAAQAAAAkAAAANAAAACQAAAAwAAAANAAAABQAAAAkAAAAMAAAABQAAAAwAAAATAAAADAAAABAAAAATAAAABwAAAAwAAAAQAAAAAwAAAAcAAAAIAAAAAwAAAAcAAAAMAAAAAwAAAAwAAAANAAAADgAAAAYAAAAPAAAADgAAAAYAAAALAAAAAgAAAAsAAAAOAAAAAAAAABEAAAASAAAAAAAAAAIAAAARAAAAAAAAAAIAAAAOAAAA",
        "encoding": "base64",
        "path": [
         "indices",
         "buffer"
        ]
       },
       {
        "data": "AACAPwAAAAAAAAAAAAAAAAAAAAAAAIA/AAAAAAAAAAAAAAAAAAAAAAAAgD8AAAAAAAAAAAAAAAAAAAAAAACAPw==",
        "encoding": "base64",
        "path": [
         "model_matrix",
         "buffer"
        ]
       },
       {
        "data": "AACAvwAAgL8AAIC/AACAvwAAgL8AAIA/AACAvwAAgD8AAIC/AACAvwAAgD8AAIA/AACAPwAAgL8AAIC/AACAPwAAgL8AAIA/AACAPwAAgD8AAIC/AACAPwAAgD8AAIA/AAAAAL0bzz96Nx4/AAAAAL0bz796Nx4/AAAAAL0bz796Nx6/AAAAAL0bzz96Nx6/ejcePwAAAAC9G88/ejcevwAAAAC9G88/ejcevwAAAAC9G8+/ejcePwAAAAC9G8+/vRvPP3o3Hj8AAAAAvRvPv3o3Hj8AAAAAvRvPv3o3Hr8AAAAAvRvPP3o3Hr8AAAAA",
        "encoding": "base64",
        "path": [
         "vertices",
         "buffer"
        ]
       }
      ],
      "model_module": "k3d",
      "model_module_version": "^3.0.0",
      "model_name": "ObjectModel",
      "state": {
       "_model_module_version": "^3.0.0",
       "_view_count": null,
       "_view_module": null,
       "_view_module_version": "",
       "_view_name": null,
       "attribute": {
        "dtype": "float32",
        "shape": [
         0
        ]
       },
       "color": 255,
       "color_map": {
        "dtype": "float32",
        "shape": [
         0
        ]
       },
       "color_range": [],
       "compression_level": 0,
       "flat_shading": true,
       "id": 139923595297960,
       "indices": {
        "dtype": "uint32",
        "shape": [
         108
        ]
       },
       "model_matrix": {
        "dtype": "float32",
        "shape": [
         4,
         4
        ]
       },
       "type": "Mesh",
       "vertices": {
        "dtype": "float32",
        "shape": [
         20,
         3
        ]
       },
       "visible": true,
       "wireframe": false
      }
     },
     "3b913f613fba44519fce208c7f5043b1": {
      "model_module": "@jupyter-widgets/base",
      "model_module_version": "1.0.0",
      "model_name": "LayoutModel",
      "state": {}
     },
     "3d36b290f0fe47ada5ee9aea2d65def2": {
      "model_module": "@jupyter-widgets/base",
      "model_module_version": "1.0.0",
      "model_name": "LayoutModel",
      "state": {}
     },
     "3e0eb52340d14ba78abe6b7bcd6d226a": {
      "model_module": "k3d",
      "model_module_version": "^3.0.0",
      "model_name": "PlotModel",
      "state": {
       "_backend_version": "2.4.20",
       "_dom_classes": [],
       "_model_module_version": "^3.0.0",
       "_view_count": null,
       "_view_module_version": "^3.0.0",
       "antialias": true,
       "background_color": 16777215,
       "camera": [
        1.2877883343400551,
        0.5683174984899172,
        1.0287788334340058,
        1,
        1,
        1,
        0,
        0,
        1
       ],
       "camera_auto_fit": true,
       "clipping_planes": [],
       "fps_meter": false,
       "grid": [
        -1,
        -1,
        -1,
        1,
        1,
        1
       ],
       "grid_auto_fit": true,
       "height": 512,
       "layout": "IPY_MODEL_c8d2614cba794dcf845634242c9dc447",
       "lighting": 1,
       "object_ids": [
        4729984168
       ],
       "screenshot": "",
       "screenshot_scale": 2,
       "voxel_paint_color": 0
      }
     },
     "3ff4340a695c424a8c6728ee5c1286cc": {
      "buffers": [
       {
        "data": "",
        "encoding": "base64",
        "path": [
         "attribute",
         "buffer"
        ]
       },
       {
        "data": "",
        "encoding": "base64",
        "path": [
         "color_map",
         "buffer"
        ]
       },
       {
        "data": "AAAAAAEAAAACAAAAAQAAAAIAAAADAAAAAAAAAAEAAAAEAAAAAQAAAAQAAAAFAAAAAQAAAAMAAAAFAAAAAwAAAAUAAAAHAAAAAAAAAAIAAAAEAAAAAgAAAAQAAAAGAAAAAgAAAAMAAAAHAAAAAgAAAAYAAAAHAAAABAAAAAUAAAAGAAAABQAAAAYAAAAHAAAA",
        "encoding": "base64",
        "path": [
         "indices",
         "buffer"
        ]
       },
       {
        "data": "AACAPwAAAAAAAAAAAAAAAAAAAAAAAIA/AAAAAAAAAAAAAAAAAAAAAAAAgD8AAAAAAAAAAAAAAAAAAAAAAACAPw==",
        "encoding": "base64",
        "path": [
         "model_matrix",
         "buffer"
        ]
       },
       {
        "data": "zcyMP83MjD/NzIw/zcyMP83MjD9mZmY/zcyMP2ZmZj/NzIw/zcyMP2ZmZj9mZmY/ZmZmP83MjD/NzIw/ZmZmP83MjD9mZmY/ZmZmP2ZmZj/NzIw/ZmZmP2ZmZj9mZmY/",
        "encoding": "base64",
        "path": [
         "vertices",
         "buffer"
        ]
       }
      ],
      "model_module": "k3d",
      "model_module_version": "^3.0.0",
      "model_name": "ObjectModel",
      "state": {
       "_model_module_version": "^3.0.0",
       "_view_count": null,
       "_view_module": null,
       "_view_module_version": "",
       "_view_name": null,
       "attribute": {
        "dtype": "float32",
        "shape": [
         0
        ]
       },
       "color": 16711680,
       "color_map": {
        "dtype": "float32",
        "shape": [
         0
        ]
       },
       "color_range": [],
       "compression_level": 0,
       "flat_shading": true,
       "id": 140067947119504,
       "indices": {
        "dtype": "uint32",
        "shape": [
         36
        ]
       },
       "model_matrix": {
        "dtype": "float32",
        "shape": [
         4,
         4
        ]
       },
       "type": "Mesh",
       "vertices": {
        "dtype": "float32",
        "shape": [
         8,
         3
        ]
       },
       "visible": true,
       "wireframe": false
      }
     },
     "41b1358856a54c6d93045b6e6011227f": {
      "model_module": "k3d",
      "model_module_version": "^3.0.0",
      "model_name": "ObjectModel",
      "state": {
       "_model_module_version": "^3.0.0",
       "_view_count": null,
       "_view_module": null,
       "_view_module_version": "",
       "_view_name": null,
       "color": 0,
       "compression_level": 0,
       "id": 139979729292928,
       "position": [
        -0.9,
        1.1,
        -0.9
       ],
       "reference_point": "lb",
       "size": 1,
       "text": "2",
       "type": "Text",
       "visible": true
      }
     },
     "42496bafb6fe4c4a9affcca9862aa54d": {
      "model_module": "@jupyter-widgets/base",
      "model_module_version": "1.0.0",
      "model_name": "LayoutModel",
      "state": {}
     },
     "42e8412d3c3a47f79a3173598927868e": {
      "model_module": "@jupyter-widgets/output",
      "model_module_version": "1.0.0",
      "model_name": "OutputModel",
      "state": {
       "layout": "IPY_MODEL_381700bb388f47929700e07f2df0a786",
       "outputs": [
        {
         "data": {
          "application/vnd.jupyter.widget-view+json": {
           "model_id": "8ec472b41cb642898814b6f1532c2b7b",
           "version_major": 2,
           "version_minor": 0
          },
          "text/plain": "Plot(antialias=True, background_color=16777215, fps_meter=False, grid=[-1, -1, -1, 1, 1, 1], height=512, light…"
         },
         "metadata": {},
         "output_type": "display_data"
        }
       ]
      }
     },
     "4595dca948b748a68b4020aac1bf8e4b": {
      "buffers": [
       {
        "data": "",
        "encoding": "base64",
        "path": [
         "attribute",
         "buffer"
        ]
       },
       {
        "data": "",
        "encoding": "base64",
        "path": [
         "color_map",
         "buffer"
        ]
       },
       {
        "data": "AAAAAAIAAAAIAAAAAAAAAAQAAAAIAAAAAAAAAAIAAAAJAAAAAAAAAAUAAAAJAAAAAgAAAAYAAAAIAAAAAgAAAAcAAAAJAAAAAgAAAAYAAAAHAAAAAAAAAAQAAAAFAAAAAQAAAAQAAAAFAAAAAQAAAAUAAAALAAAABwAAAAkAAAALAAAAAwAAAAcAAAALAAAAAwAAAAYAAAAHAAAAAwAAAAYAAAAKAAAABAAAAAgAAAAKAAAABgAAAAgAAAAKAAAAAQAAAAQAAAAKAAAAAQAAAAMAAAALAAAAAQAAAAMAAAAKAAAABQAAAAkAAAALAAAA",
        "encoding": "base64",
        "path": [
         "indices",
         "buffer"
        ]
       },
       {
        "data": "AACAPwAAAAAAAAAAAAAAAAAAAAAAAIA/AAAAAAAAAAAAAAAAAAAAAAAAgD8AAAAAAAAAAAAAAAAAAAAAAACAPw==",
        "encoding": "base64",
        "path": [
         "model_matrix",
         "buffer"
        ]
       },
       {
        "data": "AACAP70bzz8AAAAAAACAP70bz78AAAAAAACAv70bzz8AAAAAAACAv70bz78AAAAAvRvPPwAAAAAAAIA/vRvPPwAAAAAAAIC/vRvPvwAAAAAAAIA/vRvPvwAAAAAAAIC/AAAAAAAAgD+9G88/AAAAAAAAgD+9G8+/AAAAAAAAgL+9G88/AAAAAAAAgL+9G8+/",
        "encoding": "base64",
        "path": [
         "vertices",
         "buffer"
        ]
       }
      ],
      "model_module": "k3d",
      "model_module_version": "^3.0.0",
      "model_name": "ObjectModel",
      "state": {
       "_model_module_version": "^3.0.0",
       "_view_count": null,
       "_view_module": null,
       "_view_module_version": "",
       "_view_name": null,
       "attribute": {
        "dtype": "float32",
        "shape": [
         0
        ]
       },
       "color": 255,
       "color_map": {
        "dtype": "float32",
        "shape": [
         0
        ]
       },
       "color_range": [],
       "compression_level": 0,
       "flat_shading": true,
       "id": 4729984448,
       "indices": {
        "dtype": "uint32",
        "shape": [
         60
        ]
       },
       "model_matrix": {
        "dtype": "float32",
        "shape": [
         4,
         4
        ]
       },
       "type": "Mesh",
       "vertices": {
        "dtype": "float32",
        "shape": [
         12,
         3
        ]
       },
       "visible": true,
       "wireframe": false
      }
     },
     "476dd79bfb184936b983337c4a73c964": {
      "buffers": [
       {
        "data": "",
        "encoding": "base64",
        "path": [
         "attribute",
         "buffer"
        ]
       },
       {
        "data": "",
        "encoding": "base64",
        "path": [
         "color_map",
         "buffer"
        ]
       },
       {
        "data": "AAAAAAIAAAAIAAAAAAAAAAQAAAAIAAAAAAAAAAIAAAAJAAAAAAAAAAUAAAAJAAAAAgAAAAYAAAAIAAAAAgAAAAcAAAAJAAAAAgAAAAYAAAAHAAAAAAAAAAQAAAAFAAAAAQAAAAQAAAAFAAAAAQAAAAUAAAALAAAABwAAAAkAAAALAAAAAwAAAAcAAAALAAAAAwAAAAYAAAAHAAAAAwAAAAYAAAAKAAAABAAAAAgAAAAKAAAABgAAAAgAAAAKAAAAAQAAAAQAAAAKAAAAAQAAAAMAAAALAAAAAQAAAAMAAAAKAAAABQAAAAkAAAALAAAA",
        "encoding": "base64",
        "path": [
         "indices",
         "buffer"
        ]
       },
       {
        "data": "AACAPwAAAAAAAAAAAAAAAAAAAAAAAIA/AAAAAAAAAAAAAAAAAAAAAAAAgD8AAAAAAAAAAAAAAAAAAAAAAACAPw==",
        "encoding": "base64",
        "path": [
         "model_matrix",
         "buffer"
        ]
       },
       {
        "data": "AACAP70bzz8AAAAAAACAP70bz78AAAAAAACAv70bzz8AAAAAAACAv70bz78AAAAAvRvPPwAAAAAAAIA/vRvPPwAAAAAAAIC/vRvPvwAAAAAAAIA/vRvPvwAAAAAAAIC/AAAAAAAAgD+9G88/AAAAAAAAgD+9G8+/AAAAAAAAgL+9G88/AAAAAAAAgL+9G8+/",
        "encoding": "base64",
        "path": [
         "vertices",
         "buffer"
        ]
       }
      ],
      "model_module": "k3d",
      "model_module_version": "^3.0.0",
      "model_name": "ObjectModel",
      "state": {
       "_model_module_version": "^3.0.0",
       "_view_count": null,
       "_view_module": null,
       "_view_module_version": "",
       "_view_name": null,
       "attribute": {
        "dtype": "float32",
        "shape": [
         0
        ]
       },
       "color": 255,
       "color_map": {
        "dtype": "float32",
        "shape": [
         0
        ]
       },
       "color_range": [],
       "compression_level": 0,
       "flat_shading": true,
       "id": 139922605849456,
       "indices": {
        "dtype": "uint32",
        "shape": [
         60
        ]
       },
       "model_matrix": {
        "dtype": "float32",
        "shape": [
         4,
         4
        ]
       },
       "type": "Mesh",
       "vertices": {
        "dtype": "float32",
        "shape": [
         12,
         3
        ]
       },
       "visible": true,
       "wireframe": false
      }
     },
     "48722d0ec3ce4226b5bee9be9e664c94": {
      "model_module": "k3d",
      "model_module_version": "^3.0.0",
      "model_name": "PlotModel",
      "state": {
       "_backend_version": "2.4.20",
       "_dom_classes": [],
       "_model_module_version": "^3.0.0",
       "_view_count": null,
       "_view_module_version": "^3.0.0",
       "antialias": true,
       "background_color": 16777215,
       "camera": [
        4.656512002321347,
        -6.9847680034820225,
        0.46565120023213913,
        0,
        0,
        0,
        0,
        0,
        1
       ],
       "camera_auto_fit": true,
       "clipping_planes": [],
       "fps_meter": false,
       "grid": [
        -1,
        -1,
        -1,
        1,
        1,
        1
       ],
       "grid_auto_fit": true,
       "height": 512,
       "layout": "IPY_MODEL_4de07bb49e05476fb49879979177516e",
       "lighting": 1,
       "object_ids": [
        140067947120120,
        140067947119840
       ],
       "screenshot": "",
       "screenshot_scale": 2,
       "voxel_paint_color": 0
      }
     },
     "49d53a74634941c2bf49a8f012f4d95a": {
      "model_module": "k3d",
      "model_module_version": "^3.0.0",
      "model_name": "PlotModel",
      "state": {
       "_backend_version": "2.4.20",
       "_dom_classes": [],
       "_model_module_version": "^3.0.0",
       "_view_count": null,
       "_view_module_version": "^3.0.0",
       "antialias": true,
       "background_color": 16777215,
       "camera": [
        4.886275336027151,
        -7.315135314341016,
        0.7385370774696371,
        0,
        0,
        0,
        -0.1757927711666792,
        -0.08524801948746599,
        0.9807291556688859
       ],
       "camera_auto_fit": true,
       "clipping_planes": [],
       "fps_meter": false,
       "grid": [
        -1,
        -1,
        -1,
        1,
        1,
        1
       ],
       "grid_auto_fit": true,
       "height": 512,
       "layout": "IPY_MODEL_66179db9356c4893947a8b846de8c581",
       "lighting": 1,
       "object_ids": [
        140067947391184
       ],
       "screenshot": "",
       "screenshot_scale": 2,
       "voxel_paint_color": 0
      }
     },
     "4de07bb49e05476fb49879979177516e": {
      "model_module": "@jupyter-widgets/base",
      "model_module_version": "1.0.0",
      "model_name": "LayoutModel",
      "state": {}
     },
     "4f29803690784bbb8a51860ee4470ab2": {
      "model_module": "k3d",
      "model_module_version": "^3.0.0",
      "model_name": "PlotModel",
      "state": {
       "_backend_version": "2.4.20",
       "_dom_classes": [],
       "_model_module_version": "^3.0.0",
       "_view_count": null,
       "_view_module_version": "^3.0.0",
       "antialias": true,
       "background_color": 16777215,
       "camera": [
        4.656512002321347,
        -6.9847680034820225,
        0.46565120023213913,
        0,
        0,
        0,
        0,
        0,
        1
       ],
       "camera_auto_fit": true,
       "clipping_planes": [],
       "fps_meter": false,
       "grid": [
        -1,
        -1,
        -1,
        1,
        1,
        1
       ],
       "grid_auto_fit": true,
       "height": 512,
       "layout": "IPY_MODEL_706ff9566928400aa8bbdb3199a9890d",
       "lighting": 1,
       "object_ids": [
        4729984448,
        4393086592
       ],
       "screenshot": "",
       "screenshot_scale": 2,
       "voxel_paint_color": 0
      }
     },
     "4f9fb5a6bb924830b69a6be869bb52d7": {
      "buffers": [
       {
        "data": "",
        "encoding": "base64",
        "path": [
         "attribute",
         "buffer"
        ]
       },
       {
        "data": "",
        "encoding": "base64",
        "path": [
         "color_map",
         "buffer"
        ]
       },
       {
        "data": "AAAAAAEAAAACAAAAAAAAAAEAAAAFAAAAAQAAAAIAAAADAAAAAQAAAAMAAAAFAAAAAAAAAAQAAAAFAAAAAAAAAAIAAAAEAAAAAgAAAAMAAAAEAAAAAwAAAAQAAAAFAAAA",
        "encoding": "base64",
        "path": [
         "indices",
         "buffer"
        ]
       },
       {
        "data": "AACAPwAAAAAAAAAAAAAAAAAAAAAAAIA/AAAAAAAAAAAAAAAAAAAAAAAAgD8AAAAAAAAAAAAAAAAAAAAAAACAPw==",
        "encoding": "base64",
        "path": [
         "model_matrix",
         "buffer"
        ]
       },
       {
        "data": "AACAPwAAAAAAAAAAAAAAAAAAgD8AAAAAAAAAAAAAAAAAAIA/AACAvwAAAAAAAAAAAAAAAAAAgL8AAAAAAAAAAAAAAAAAAIC/",
        "encoding": "base64",
        "path": [
         "vertices",
         "buffer"
        ]
       }
      ],
      "model_module": "k3d",
      "model_module_version": "^3.0.0",
      "model_name": "ObjectModel",
      "state": {
       "_model_module_version": "^3.0.0",
       "_view_count": null,
       "_view_module": null,
       "_view_module_version": "",
       "_view_name": null,
       "attribute": {
        "dtype": "float32",
        "shape": [
         0
        ]
       },
       "color": 255,
       "color_map": {
        "dtype": "float32",
        "shape": [
         0
        ]
       },
       "color_range": [],
       "compression_level": 0,
       "flat_shading": true,
       "id": 140067950672864,
       "indices": {
        "dtype": "uint32",
        "shape": [
         24
        ]
       },
       "model_matrix": {
        "dtype": "float32",
        "shape": [
         4,
         4
        ]
       },
       "type": "Mesh",
       "vertices": {
        "dtype": "float32",
        "shape": [
         6,
         3
        ]
       },
       "visible": true,
       "wireframe": false
      }
     },
     "4fecb6c57a3d4fc197ce78af8fad5600": {
      "model_module": "k3d",
      "model_module_version": "^3.0.0",
      "model_name": "ObjectModel",
      "state": {
       "_model_module_version": "^3.0.0",
       "_view_count": null,
       "_view_module": null,
       "_view_module_version": "",
       "_view_name": null,
       "color": 0,
       "compression_level": 0,
       "id": 139979729291864,
       "position": [
        0.1,
        -1.5180340051651,
        0.7180340051651001
       ],
       "reference_point": "lb",
       "size": 1,
       "text": "9",
       "type": "Text",
       "visible": true
      }
     },
     "51587c1ee4624b57b3d0870d88c2d893": {
      "model_module": "@jupyter-widgets/base",
      "model_module_version": "1.0.0",
      "model_name": "LayoutModel",
      "state": {}
     },
     "5291c54d21c74ab6bd9f5b36fac468aa": {
      "model_module": "@jupyter-widgets/base",
      "model_module_version": "1.0.0",
      "model_name": "LayoutModel",
      "state": {}
     },
     "5332ac86c2594d47b2ed8ea83f7c9665": {
      "model_module": "k3d",
      "model_module_version": "^3.0.0",
      "model_name": "ObjectModel",
      "state": {
       "_model_module_version": "^3.0.0",
       "_view_count": null,
       "_view_module": null,
       "_view_module_version": "",
       "_view_name": null,
       "color": 0,
       "compression_level": 0,
       "id": 140058871253704,
       "position": [
        0.1,
        -1.5180340051651,
        0.7180340051651001
       ],
       "reference_point": "lb",
       "size": 1,
       "text": "9",
       "type": "Text",
       "visible": true
      }
     },
     "535b1dcf7bae4fd48c3a83d811265915": {
      "model_module": "@jupyter-widgets/output",
      "model_module_version": "1.0.0",
      "model_name": "OutputModel",
      "state": {
       "layout": "IPY_MODEL_c470205d7cbe44b9b008ecfc804f488e",
       "outputs": [
        {
         "data": {
          "application/vnd.jupyter.widget-view+json": {
           "model_id": "b6da4c1fee8a45f4ac09835300309d21",
           "version_major": 2,
           "version_minor": 0
          },
          "text/plain": "Plot(antialias=True, background_color=16777215, fps_meter=False, grid=[-1, -1, -1, 1, 1, 1], height=512, light…"
         },
         "metadata": {},
         "output_type": "display_data"
        }
       ]
      }
     },
     "53d35423b0b94a03bc259fc914d85392": {
      "buffers": [
       {
        "data": "",
        "encoding": "base64",
        "path": [
         "colors",
         "buffer"
        ]
       },
       {
        "data": "AACAPwAAAAAAAAAAAAAAAAAAAAAAAIA/AAAAAAAAAAAAAAAAAAAAAAAAgD8AAAAAAAAAAAAAAAAAAAAAAACAPw==",
        "encoding": "base64",
        "path": [
         "model_matrix",
         "buffer"
        ]
       },
       {
        "data": "AACAP70bzz8AAAAAAACAP70bz78AAAAAAACAv70bzz8AAAAAAACAv70bz78AAAAAvRvPPwAAAAAAAIA/vRvPPwAAAAAAAIC/vRvPvwAAAAAAAIA/vRvPvwAAAAAAAIC/AAAAAAAAgD+9G88/AAAAAAAAgD+9G8+/AAAAAAAAgL+9G88/AAAAAAAAgL+9G8+/",
        "encoding": "base64",
        "path": [
         "positions",
         "buffer"
        ]
       }
      ],
      "model_module": "k3d",
      "model_module_version": "^3.0.0",
      "model_name": "ObjectModel",
      "state": {
       "_model_module_version": "^3.0.0",
       "_view_count": null,
       "_view_module": null,
       "_view_module_version": "",
       "_view_name": null,
       "color": 255,
       "colors": {
        "dtype": "uint32",
        "shape": [
         0
        ]
       },
       "compression_level": 0,
       "id": 140067947391184,
       "model_matrix": {
        "dtype": "float32",
        "shape": [
         4,
         4
        ]
       },
       "point_size": 0.16180340051651002,
       "positions": {
        "dtype": "float32",
        "shape": [
         12,
         3
        ]
       },
       "shader": "3dSpecular",
       "type": "Points",
       "visible": true
      }
     },
     "54f0ef07e254432da35139c8cd4d5443": {
      "model_module": "@jupyter-widgets/output",
      "model_module_version": "1.0.0",
      "model_name": "OutputModel",
      "state": {
       "layout": "IPY_MODEL_ae80c008fe0444c996233047c359f6dd",
       "outputs": [
        {
         "data": {
          "application/vnd.jupyter.widget-view+json": {
           "model_id": "c4029148d12a49098c7ea6cc6d0f8eb8",
           "version_major": 2,
           "version_minor": 0
          },
          "text/plain": "Plot(antialias=True, background_color=16777215, fps_meter=False, grid=[-1, -1, -1, 1, 1, 1], height=512, light…"
         },
         "metadata": {},
         "output_type": "display_data"
        }
       ]
      }
     },
     "5588018477c642e39afcd80e30a79364": {
      "model_module": "@jupyter-widgets/base",
      "model_module_version": "1.0.0",
      "model_name": "LayoutModel",
      "state": {}
     },
     "57acc68b5987449cb9a7494ae3f9a1fe": {
      "model_module": "@jupyter-widgets/output",
      "model_module_version": "1.0.0",
      "model_name": "OutputModel",
      "state": {
       "layout": "IPY_MODEL_25e3d0c55ff14656875f2dc2805a9115",
       "outputs": [
        {
         "data": {
          "application/vnd.jupyter.widget-view+json": {
           "model_id": "d4482564eca442b4bd89cce8af31ea79",
           "version_major": 2,
           "version_minor": 0
          },
          "text/plain": "Plot(antialias=True, background_color=16777215, fps_meter=False, grid=[-1, -1, -1, 1, 1, 1], height=512, light…"
         },
         "metadata": {},
         "output_type": "display_data"
        }
       ]
      }
     },
     "5b3abcbb495d4e32aa268d2d9001d6a1": {
      "model_module": "@jupyter-widgets/output",
      "model_module_version": "1.0.0",
      "model_name": "OutputModel",
      "state": {
       "layout": "IPY_MODEL_ad4db96f00f04c16802e324318c2e90c",
       "outputs": [
        {
         "data": {
          "application/vnd.jupyter.widget-view+json": {
           "model_id": "49d53a74634941c2bf49a8f012f4d95a",
           "version_major": 2,
           "version_minor": 0
          },
          "text/plain": "Plot(antialias=True, background_color=16777215, fps_meter=False, grid=[-1, -1, -1, 1, 1, 1], height=512, light…"
         },
         "metadata": {},
         "output_type": "display_data"
        }
       ]
      }
     },
     "5e4f2e1971a7430eb866c20976d66a5a": {
      "buffers": [
       {
        "data": "",
        "encoding": "base64",
        "path": [
         "attribute",
         "buffer"
        ]
       },
       {
        "data": "",
        "encoding": "base64",
        "path": [
         "color_map",
         "buffer"
        ]
       },
       {
        "data": "AAAAAAEAAAASAAAAAAAAAAEAAAAKAAAAAQAAAAkAAAAKAAAAAAAAAAoAAAAOAAAACgAAAA4AAAAPAAAABAAAAAoAAAAPAAAABAAAAAkAAAAKAAAABAAAAAUAAAAJAAAABAAAAAUAAAATAAAABAAAAA8AAAATAAAABgAAAA8AAAATAAAABgAAABAAAAATAAAABgAAAAcAAAAQAAAABgAAAAcAAAAIAAAABgAAAAgAAAALAAAAAgAAAAMAAAARAAAAAgAAAAMAAAAIAAAAAgAAAAgAAAALAAAAAQAAAAMAAAANAAAAAQAAAAMAAAASAAAAAwAAABEAAAASAAAAAQAAAAkAAAANAAAACQAAAAwAAAANAAAABQAAAAkAAAAMAAAABQAAAAwAAAATAAAADAAAABAAAAATAAAABwAAAAwAAAAQAAAAAwAAAAcAAAAIAAAAAwAAAAcAAAAMAAAAAwAAAAwAAAANAAAADgAAAAYAAAAPAAAADgAAAAYAAAALAAAAAgAAAAsAAAAOAAAAAAAAABEAAAASAAAAAAAAAAIAAAARAAAAAAAAAAIAAAAOAAAA",
        "encoding": "base64",
        "path": [
         "indices",
         "buffer"
        ]
       },
       {
        "data": "AACAPwAAAAAAAAAAAAAAAAAAAAAAAIA/AAAAAAAAAAAAAAAAAAAAAAAAgD8AAAAAAAAAAAAAAAAAAAAAAACAPw==",
        "encoding": "base64",
        "path": [
         "model_matrix",
         "buffer"
        ]
       },
       {
        "data": "AACAvwAAgL8AAIC/AACAvwAAgL8AAIA/AACAvwAAgD8AAIC/AACAvwAAgD8AAIA/AACAPwAAgL8AAIC/AACAPwAAgL8AAIA/AACAPwAAgD8AAIC/AACAPwAAgD8AAIA/AAAAAL0bzz96Nx4/AAAAAL0bz796Nx4/AAAAAL0bz796Nx6/AAAAAL0bzz96Nx6/ejcePwAAAAC9G88/ejcevwAAAAC9G88/ejcevwAAAAC9G8+/ejcePwAAAAC9G8+/vRvPP3o3Hj8AAAAAvRvPv3o3Hj8AAAAAvRvPv3o3Hr8AAAAAvRvPP3o3Hr8AAAAA",
        "encoding": "base64",
        "path": [
         "vertices",
         "buffer"
        ]
       }
      ],
      "model_module": "k3d",
      "model_module_version": "^3.0.0",
      "model_name": "ObjectModel",
      "state": {
       "_model_module_version": "^3.0.0",
       "_view_count": null,
       "_view_module": null,
       "_view_module_version": "",
       "_view_name": null,
       "attribute": {
        "dtype": "float32",
        "shape": [
         0
        ]
       },
       "color": 255,
       "color_map": {
        "dtype": "float32",
        "shape": [
         0
        ]
       },
       "color_range": [],
       "compression_level": 0,
       "flat_shading": true,
       "id": 140067947015472,
       "indices": {
        "dtype": "uint32",
        "shape": [
         108
        ]
       },
       "model_matrix": {
        "dtype": "float32",
        "shape": [
         4,
         4
        ]
       },
       "type": "Mesh",
       "vertices": {
        "dtype": "float32",
        "shape": [
         20,
         3
        ]
       },
       "visible": true,
       "wireframe": false
      }
     },
     "60829a930d304f6dae679eec28393d29": {
      "model_module": "@jupyter-widgets/output",
      "model_module_version": "1.0.0",
      "model_name": "OutputModel",
      "state": {
       "layout": "IPY_MODEL_971d0276f1f54ba3954bee01645fff0e",
       "outputs": [
        {
         "data": {
          "application/vnd.jupyter.widget-view+json": {
           "model_id": "bda4dfe03f84460da92484f2e49f20b6",
           "version_major": 2,
           "version_minor": 0
          },
          "text/plain": "Plot(antialias=True, background_color=16777215, fps_meter=False, grid=[-1, -1, -1, 1, 1, 1], height=512, light…"
         },
         "metadata": {},
         "output_type": "display_data"
        }
       ]
      }
     },
     "66179db9356c4893947a8b846de8c581": {
      "model_module": "@jupyter-widgets/base",
      "model_module_version": "1.0.0",
      "model_name": "LayoutModel",
      "state": {}
     },
     "6653260f4213471ab348652e514b42fb": {
      "model_module": "k3d",
      "model_module_version": "^3.0.0",
      "model_name": "ObjectModel",
      "state": {
       "_model_module_version": "^3.0.0",
       "_view_count": null,
       "_view_module": null,
       "_view_module_version": "",
       "_view_name": null,
       "color": 0,
       "compression_level": 0,
       "id": 140058871253592,
       "position": [
        0.1,
        1.7180340051651002,
        -0.5180340051651001
       ],
       "reference_point": "lb",
       "size": 1,
       "text": "11",
       "type": "Text",
       "visible": true
      }
     },
     "66f5097327824fab91d46a5396c59181": {
      "buffers": [
       {
        "data": "",
        "encoding": "base64",
        "path": [
         "attribute",
         "buffer"
        ]
       },
       {
        "data": "",
        "encoding": "base64",
        "path": [
         "color_map",
         "buffer"
        ]
       },
       {
        "data": "AAAAAAIAAAAIAAAAAAAAAAQAAAAIAAAAAAAAAAIAAAAJAAAAAAAAAAUAAAAJAAAAAgAAAAYAAAAIAAAAAgAAAAcAAAAJAAAAAgAAAAYAAAAHAAAAAAAAAAQAAAAFAAAAAQAAAAQAAAAFAAAAAQAAAAUAAAALAAAABwAAAAkAAAALAAAAAwAAAAcAAAALAAAAAwAAAAYAAAAHAAAAAwAAAAYAAAAKAAAABAAAAAgAAAAKAAAABgAAAAgAAAAKAAAAAQAAAAQAAAAKAAAAAQAAAAMAAAALAAAAAQAAAAMAAAAKAAAABQAAAAkAAAALAAAA",
        "encoding": "base64",
        "path": [
         "indices",
         "buffer"
        ]
       },
       {
        "data": "AACAPwAAAAAAAAAAAAAAAAAAAAAAAIA/AAAAAAAAAAAAAAAAAAAAAAAAgD8AAAAAAAAAAAAAAAAAAAAAAACAPw==",
        "encoding": "base64",
        "path": [
         "model_matrix",
         "buffer"
        ]
       },
       {
        "data": "AACAP70bzz8AAAAAAACAP70bz78AAAAAAACAv70bzz8AAAAAAACAv70bz78AAAAAvRvPPwAAAAAAAIA/vRvPPwAAAAAAAIC/vRvPvwAAAAAAAIA/vRvPvwAAAAAAAIC/AAAAAAAAgD+9G88/AAAAAAAAgD+9G8+/AAAAAAAAgL+9G88/AAAAAAAAgL+9G8+/",
        "encoding": "base64",
        "path": [
         "vertices",
         "buffer"
        ]
       }
      ],
      "model_module": "k3d",
      "model_module_version": "^3.0.0",
      "model_name": "ObjectModel",
      "state": {
       "_model_module_version": "^3.0.0",
       "_view_count": null,
       "_view_module": null,
       "_view_module_version": "",
       "_view_name": null,
       "attribute": {
        "dtype": "float32",
        "shape": [
         0
        ]
       },
       "color": 255,
       "color_map": {
        "dtype": "float32",
        "shape": [
         0
        ]
       },
       "color_range": [],
       "compression_level": 0,
       "flat_shading": true,
       "id": 140067947013904,
       "indices": {
        "dtype": "uint32",
        "shape": [
         60
        ]
       },
       "model_matrix": {
        "dtype": "float32",
        "shape": [
         4,
         4
        ]
       },
       "type": "Mesh",
       "vertices": {
        "dtype": "float32",
        "shape": [
         12,
         3
        ]
       },
       "visible": true,
       "wireframe": true
      }
     },
     "689e855a4ecf4f2781016b00059b7e28": {
      "model_module": "k3d",
      "model_module_version": "^3.0.0",
      "model_name": "ObjectModel",
      "state": {
       "_model_module_version": "^3.0.0",
       "_view_count": null,
       "_view_module": null,
       "_view_module_version": "",
       "_view_name": null,
       "color": 0,
       "compression_level": 0,
       "id": 139979729292032,
       "position": [
        1.1,
        1.1,
        1.1
       ],
       "reference_point": "lb",
       "size": 1,
       "text": "7",
       "type": "Text",
       "visible": true
      }
     },
     "693c78021f354bf2896886034fe305e7": {
      "model_module": "k3d",
      "model_module_version": "^3.0.0",
      "model_name": "ObjectModel",
      "state": {
       "_model_module_version": "^3.0.0",
       "_view_count": null,
       "_view_module": null,
       "_view_module_version": "",
       "_view_name": null,
       "color": 0,
       "compression_level": 0,
       "id": 140058868469832,
       "position": [
        1.7180340051651002,
        -0.5180340051651001,
        0.1
       ],
       "reference_point": "lb",
       "size": 1,
       "text": "19",
       "type": "Text",
       "visible": true
      }
     },
     "694da5289a164c5b825c713074760b54": {
      "buffers": [
       {
        "data": "",
        "encoding": "base64",
        "path": [
         "attribute",
         "buffer"
        ]
       },
       {
        "data": "",
        "encoding": "base64",
        "path": [
         "color_map",
         "buffer"
        ]
       },
       {
        "data": "AAAAAAEAAAASAAAAAAAAAAEAAAAKAAAAAQAAAAkAAAAKAAAAAAAAAAoAAAAOAAAACgAAAA4AAAAPAAAABAAAAAoAAAAPAAAABAAAAAkAAAAKAAAABAAAAAUAAAAJAAAABAAAAAUAAAATAAAABAAAAA8AAAATAAAABgAAAA8AAAATAAAABgAAABAAAAATAAAABgAAAAcAAAAQAAAABgAAAAcAAAAIAAAABgAAAAgAAAALAAAAAgAAAAMAAAARAAAAAgAAAAMAAAAIAAAAAgAAAAgAAAALAAAAAQAAAAMAAAANAAAAAQAAAAMAAAASAAAAAwAAABEAAAASAAAAAQAAAAkAAAANAAAACQAAAAwAAAANAAAABQAAAAkAAAAMAAAABQAAAAwAAAATAAAADAAAABAAAAATAAAABwAAAAwAAAAQAAAAAwAAAAcAAAAIAAAAAwAAAAcAAAAMAAAAAwAAAAwAAAANAAAADgAAAAYAAAAPAAAADgAAAAYAAAALAAAAAgAAAAsAAAAOAAAAAAAAABEAAAASAAAAAAAAAAIAAAARAAAAAAAAAAIAAAAOAAAA",
        "encoding": "base64",
        "path": [
         "indices",
         "buffer"
        ]
       },
       {
        "data": "AACAPwAAAAAAAAAAAAAAAAAAAAAAAIA/AAAAAAAAAAAAAAAAAAAAAAAAgD8AAAAAAAAAAAAAAAAAAAAAAACAPw==",
        "encoding": "base64",
        "path": [
         "model_matrix",
         "buffer"
        ]
       },
       {
        "data": "AACAvwAAgL8AAIC/AACAvwAAgL8AAIA/AACAvwAAgD8AAIC/AACAvwAAgD8AAIA/AACAPwAAgL8AAIC/AACAPwAAgL8AAIA/AACAPwAAgD8AAIC/AACAPwAAgD8AAIA/AAAAAL0bzz96Nx4/AAAAAL0bz796Nx4/AAAAAL0bz796Nx6/AAAAAL0bzz96Nx6/ejcePwAAAAC9G88/ejcevwAAAAC9G88/ejcevwAAAAC9G8+/ejcePwAAAAC9G8+/vRvPP3o3Hj8AAAAAvRvPv3o3Hj8AAAAAvRvPv3o3Hr8AAAAAvRvPP3o3Hr8AAAAA",
        "encoding": "base64",
        "path": [
         "vertices",
         "buffer"
        ]
       }
      ],
      "model_module": "k3d",
      "model_module_version": "^3.0.0",
      "model_name": "ObjectModel",
      "state": {
       "_model_module_version": "^3.0.0",
       "_view_count": null,
       "_view_module": null,
       "_view_module_version": "",
       "_view_name": null,
       "attribute": {
        "dtype": "float32",
        "shape": [
         0
        ]
       },
       "color": 255,
       "color_map": {
        "dtype": "float32",
        "shape": [
         0
        ]
       },
       "color_range": [],
       "compression_level": 0,
       "flat_shading": true,
       "id": 140059465833944,
       "indices": {
        "dtype": "uint32",
        "shape": [
         108
        ]
       },
       "model_matrix": {
        "dtype": "float32",
        "shape": [
         4,
         4
        ]
       },
       "type": "Mesh",
       "vertices": {
        "dtype": "float32",
        "shape": [
         20,
         3
        ]
       },
       "visible": true,
       "wireframe": false
      }
     },
     "69f31e064ad7461c85261f89864cfeff": {
      "buffers": [
       {
        "data": "",
        "encoding": "base64",
        "path": [
         "attribute",
         "buffer"
        ]
       },
       {
        "data": "",
        "encoding": "base64",
        "path": [
         "color_map",
         "buffer"
        ]
       },
       {
        "data": "AAAAAAEAAAACAAAAAAAAAAEAAAADAAAAAQAAAAIAAAADAAAAAAAAAAIAAAADAAAA",
        "encoding": "base64",
        "path": [
         "indices",
         "buffer"
        ]
       },
       {
        "data": "AACAPwAAAAAAAAAAAAAAAAAAAAAAAIA/AAAAAAAAAAAAAAAAAAAAAAAAgD8AAAAAAAAAAAAAAAAAAAAAAACAPw==",
        "encoding": "base64",
        "path": [
         "model_matrix",
         "buffer"
        ]
       },
       {
        "data": "AACAPwAAgD8AAIA/AACAPwAAgL8AAIC/AACAvwAAgD8AAIC/AACAvwAAgL8AAIA/",
        "encoding": "base64",
        "path": [
         "vertices",
         "buffer"
        ]
       }
      ],
      "model_module": "k3d",
      "model_module_version": "^3.0.0",
      "model_name": "ObjectModel",
      "state": {
       "_model_module_version": "^3.0.0",
       "_view_count": null,
       "_view_module": null,
       "_view_module_version": "",
       "_view_name": null,
       "attribute": {
        "dtype": "float32",
        "shape": [
         0
        ]
       },
       "color": 255,
       "color_map": {
        "dtype": "float32",
        "shape": [
         0
        ]
       },
       "color_range": [],
       "compression_level": 0,
       "flat_shading": true,
       "id": 140067947119784,
       "indices": {
        "dtype": "uint32",
        "shape": [
         12
        ]
       },
       "model_matrix": {
        "dtype": "float32",
        "shape": [
         4,
         4
        ]
       },
       "type": "Mesh",
       "vertices": {
        "dtype": "float32",
        "shape": [
         4,
         3
        ]
       },
       "visible": true,
       "wireframe": true
      }
     },
     "6cd5d82b37644234b35dc04ae043b31e": {
      "model_module": "@jupyter-widgets/base",
      "model_module_version": "1.0.0",
      "model_name": "LayoutModel",
      "state": {}
     },
     "6d38869f04ed41dea2bf6818af270883": {
      "buffers": [
       {
        "data": "",
        "encoding": "base64",
        "path": [
         "colors",
         "buffer"
        ]
       },
       {
        "data": "AACAPwAAAAAAAAAAAAAAAAAAAAAAAIA/AAAAAAAAAAAAAAAAAAAAAAAAgD8AAAAAAAAAAAAAAAAAAAAAAACAPw==",
        "encoding": "base64",
        "path": [
         "model_matrix",
         "buffer"
        ]
       },
       {
        "data": "AACAP70bzz8AAAAAAACAP70bz78AAAAAAACAv70bzz8AAAAAAACAv70bz78AAAAAvRvPPwAAAAAAAIA/vRvPPwAAAAAAAIC/vRvPvwAAAAAAAIA/vRvPvwAAAAAAAIC/AAAAAAAAgD+9G88/AAAAAAAAgD+9G8+/AAAAAAAAgL+9G88/AAAAAAAAgL+9G8+/",
        "encoding": "base64",
        "path": [
         "positions",
         "buffer"
        ]
       }
      ],
      "model_module": "k3d",
      "model_module_version": "^3.0.0",
      "model_name": "ObjectModel",
      "state": {
       "_model_module_version": "^3.0.0",
       "_view_count": null,
       "_view_module": null,
       "_view_module_version": "",
       "_view_name": null,
       "color": 255,
       "colors": {
        "dtype": "uint32",
        "shape": [
         0
        ]
       },
       "compression_level": 0,
       "id": 140067947392304,
       "model_matrix": {
        "dtype": "float32",
        "shape": [
         4,
         4
        ]
       },
       "point_size": 0.16180340051651002,
       "positions": {
        "dtype": "float32",
        "shape": [
         12,
         3
        ]
       },
       "shader": "3dSpecular",
       "type": "Points",
       "visible": true
      }
     },
     "6f238864829445038dc5e44ded58ba37": {
      "model_module": "k3d",
      "model_module_version": "^3.0.0",
      "model_name": "PlotModel",
      "state": {
       "_backend_version": "2.4.20",
       "_dom_classes": [],
       "_model_module_version": "^3.0.0",
       "_view_count": null,
       "_view_module_version": "^3.0.0",
       "antialias": true,
       "background_color": 16777215,
       "camera": [
        2.8778826572598577,
        -4.316823985889787,
        0.28778826572598526,
        0,
        0,
        0,
        0,
        0,
        1
       ],
       "camera_auto_fit": true,
       "clipping_planes": [],
       "fps_meter": false,
       "grid": [
        -1,
        -1,
        -1,
        1,
        1,
        1
       ],
       "grid_auto_fit": true,
       "height": 512,
       "layout": "IPY_MODEL_1f85ba8d6c524547b2aaa53ad4ff297c",
       "lighting": 1,
       "object_ids": [
        140067947121352,
        140067947119784
       ],
       "screenshot": "",
       "screenshot_scale": 2,
       "voxel_paint_color": 0
      }
     },
     "6f58577eae3c4601ac51a8fcf57f65b6": {
      "model_module": "k3d",
      "model_module_version": "^3.0.0",
      "model_name": "PlotModel",
      "state": {
       "_backend_version": "2.4.20",
       "_dom_classes": [],
       "_model_module_version": "^3.0.0",
       "_view_count": null,
       "_view_module_version": "^3.0.0",
       "antialias": true,
       "background_color": 16777215,
       "camera": [
        1.2877883343400551,
        0.5683174984899172,
        1.0287788334340058,
        1,
        1,
        1,
        0,
        0,
        1
       ],
       "camera_auto_fit": true,
       "clipping_planes": [],
       "fps_meter": false,
       "grid": [
        -1,
        -1,
        -1,
        1,
        1,
        1
       ],
       "grid_auto_fit": true,
       "height": 512,
       "layout": "IPY_MODEL_b0b71ecce8ed4deea8e83d2ff2c3a3b7",
       "lighting": 1,
       "object_ids": [
        140067947119504
       ],
       "screenshot": "",
       "screenshot_scale": 2,
       "voxel_paint_color": 0
      }
     },
     "6fcc462d69fa4a7ab4bb972349b76088": {
      "buffers": [
       {
        "data": "",
        "encoding": "base64",
        "path": [
         "attribute",
         "buffer"
        ]
       },
       {
        "data": "",
        "encoding": "base64",
        "path": [
         "color_map",
         "buffer"
        ]
       },
       {
        "data": "AAAAAAEAAAACAAAAAAAAAAEAAAAFAAAAAQAAAAIAAAADAAAAAQAAAAMAAAAFAAAAAAAAAAQAAAAFAAAAAAAAAAIAAAAEAAAAAgAAAAMAAAAEAAAAAwAAAAQAAAAFAAAA",
        "encoding": "base64",
        "path": [
         "indices",
         "buffer"
        ]
       },
       {
        "data": "AACAPwAAAAAAAAAAAAAAAAAAAAAAAIA/AAAAAAAAAAAAAAAAAAAAAAAAgD8AAAAAAAAAAAAAAAAAAAAAAACAPw==",
        "encoding": "base64",
        "path": [
         "model_matrix",
         "buffer"
        ]
       },
       {
        "data": "AACAPwAAAAAAAAAAAAAAAAAAgD8AAAAAAAAAAAAAAAAAAIA/AACAvwAAAAAAAAAAAAAAAAAAgL8AAAAAAAAAAAAAAAAAAIC/",
        "encoding": "base64",
        "path": [
         "vertices",
         "buffer"
        ]
       }
      ],
      "model_module": "k3d",
      "model_module_version": "^3.0.0",
      "model_name": "ObjectModel",
      "state": {
       "_model_module_version": "^3.0.0",
       "_view_count": null,
       "_view_module": null,
       "_view_module_version": "",
       "_view_name": null,
       "attribute": {
        "dtype": "float32",
        "shape": [
         0
        ]
       },
       "color": 255,
       "color_map": {
        "dtype": "float32",
        "shape": [
         0
        ]
       },
       "color_range": [],
       "compression_level": 0,
       "flat_shading": true,
       "id": 139922605850352,
       "indices": {
        "dtype": "uint32",
        "shape": [
         24
        ]
       },
       "model_matrix": {
        "dtype": "float32",
        "shape": [
         4,
         4
        ]
       },
       "type": "Mesh",
       "vertices": {
        "dtype": "float32",
        "shape": [
         6,
         3
        ]
       },
       "visible": true,
       "wireframe": false
      }
     },
     "706ff9566928400aa8bbdb3199a9890d": {
      "model_module": "@jupyter-widgets/base",
      "model_module_version": "1.0.0",
      "model_name": "LayoutModel",
      "state": {}
     },
     "70a84ca770d0429584de11f972d6b517": {
      "model_module": "k3d",
      "model_module_version": "^3.0.0",
      "model_name": "ObjectModel",
      "state": {
       "_model_module_version": "^3.0.0",
       "_view_count": null,
       "_view_module": null,
       "_view_module_version": "",
       "_view_name": null,
       "color": 0,
       "compression_level": 0,
       "id": 139979729292872,
       "position": [
        1.1,
        -0.9,
        1.1
       ],
       "reference_point": "lb",
       "size": 1,
       "text": "5",
       "type": "Text",
       "visible": true
      }
     },
     "71e1beb3db2e4ed0aac7bd089e324687": {
      "model_module": "@jupyter-widgets/base",
      "model_module_version": "1.0.0",
      "model_name": "LayoutModel",
      "state": {}
     },
     "74d6d7eff6c440518af76561ad552b06": {
      "buffers": [
       {
        "data": "",
        "encoding": "base64",
        "path": [
         "attribute",
         "buffer"
        ]
       },
       {
        "data": "",
        "encoding": "base64",
        "path": [
         "color_map",
         "buffer"
        ]
       },
       {
        "data": "AAAAAAEAAAACAAAAAQAAAAIAAAADAAAAAAAAAAEAAAAEAAAAAQAAAAQAAAAFAAAAAQAAAAMAAAAFAAAAAwAAAAUAAAAHAAAAAAAAAAIAAAAEAAAAAgAAAAQAAAAGAAAAAgAAAAMAAAAHAAAAAgAAAAYAAAAHAAAABAAAAAUAAAAGAAAABQAAAAYAAAAHAAAA",
        "encoding": "base64",
        "path": [
         "indices",
         "buffer"
        ]
       },
       {
        "data": "AACAPwAAAAAAAAAAAAAAAAAAAAAAAIA/AAAAAAAAAAAAAAAAAAAAAAAAgD8AAAAAAAAAAAAAAAAAAAAAAACAPw==",
        "encoding": "base64",
        "path": [
         "model_matrix",
         "buffer"
        ]
       },
       {
        "data": "zcyMP83MjD/NzIw/zcyMP83MjD9mZmY/zcyMP2ZmZj/NzIw/zcyMP2ZmZj9mZmY/ZmZmP83MjD/NzIw/ZmZmP83MjD9mZmY/ZmZmP2ZmZj/NzIw/ZmZmP2ZmZj9mZmY/",
        "encoding": "base64",
        "path": [
         "vertices",
         "buffer"
        ]
       }
      ],
      "model_module": "k3d",
      "model_module_version": "^3.0.0",
      "model_name": "ObjectModel",
      "state": {
       "_model_module_version": "^3.0.0",
       "_view_count": null,
       "_view_module": null,
       "_view_module_version": "",
       "_view_name": null,
       "attribute": {
        "dtype": "float32",
        "shape": [
         0
        ]
       },
       "color": 16711680,
       "color_map": {
        "dtype": "float32",
        "shape": [
         0
        ]
       },
       "color_range": [],
       "compression_level": 0,
       "flat_shading": true,
       "id": 140067947742152,
       "indices": {
        "dtype": "uint32",
        "shape": [
         36
        ]
       },
       "model_matrix": {
        "dtype": "float32",
        "shape": [
         4,
         4
        ]
       },
       "type": "Mesh",
       "vertices": {
        "dtype": "float32",
        "shape": [
         8,
         3
        ]
       },
       "visible": true,
       "wireframe": false
      }
     },
     "7737e53503ee4d419d1795e3cce81d94": {
      "model_module": "k3d",
      "model_module_version": "^3.0.0",
      "model_name": "ObjectModel",
      "state": {
       "_model_module_version": "^3.0.0",
       "_view_count": null,
       "_view_module": null,
       "_view_module_version": "",
       "_view_name": null,
       "color": 0,
       "compression_level": 0,
       "id": 140058871253760,
       "position": [
        0.1,
        -1.5180340051651,
        -0.5180340051651001
       ],
       "reference_point": "lb",
       "size": 1,
       "text": "10",
       "type": "Text",
       "visible": true
      }
     },
     "79e35670b9d841e59e7df5f18fe7e35b": {
      "buffers": [
       {
        "data": "",
        "encoding": "base64",
        "path": [
         "attribute",
         "buffer"
        ]
       },
       {
        "data": "",
        "encoding": "base64",
        "path": [
         "color_map",
         "buffer"
        ]
       },
       {
        "data": "AAAAAAEAAAACAAAAAQAAAAIAAAADAAAAAAAAAAEAAAAEAAAAAQAAAAQAAAAFAAAAAQAAAAMAAAAFAAAAAwAAAAUAAAAHAAAAAAAAAAIAAAAEAAAAAgAAAAQAAAAGAAAAAgAAAAMAAAAHAAAAAgAAAAYAAAAHAAAABAAAAAUAAAAGAAAABQAAAAYAAAAHAAAA",
        "encoding": "base64",
        "path": [
         "indices",
         "buffer"
        ]
       },
       {
        "data": "AACAPwAAAAAAAAAAAAAAAAAAAAAAAIA/AAAAAAAAAAAAAAAAAAAAAAAAgD8AAAAAAAAAAAAAAAAAAAAAAACAPw==",
        "encoding": "base64",
        "path": [
         "model_matrix",
         "buffer"
        ]
       },
       {
        "data": "zcyMP83MjD/NzIw/zcyMP83MjD9mZmY/zcyMP2ZmZj/NzIw/zcyMP2ZmZj9mZmY/ZmZmP83MjD/NzIw/ZmZmP83MjD9mZmY/ZmZmP2ZmZj/NzIw/ZmZmP2ZmZj9mZmY/",
        "encoding": "base64",
        "path": [
         "vertices",
         "buffer"
        ]
       }
      ],
      "model_module": "k3d",
      "model_module_version": "^3.0.0",
      "model_name": "ObjectModel",
      "state": {
       "_model_module_version": "^3.0.0",
       "_view_count": null,
       "_view_module": null,
       "_view_module_version": "",
       "_view_name": null,
       "attribute": {
        "dtype": "float32",
        "shape": [
         0
        ]
       },
       "color": 16711680,
       "color_map": {
        "dtype": "float32",
        "shape": [
         0
        ]
       },
       "color_range": [],
       "compression_level": 0,
       "flat_shading": true,
       "id": 4729984168,
       "indices": {
        "dtype": "uint32",
        "shape": [
         36
        ]
       },
       "model_matrix": {
        "dtype": "float32",
        "shape": [
         4,
         4
        ]
       },
       "type": "Mesh",
       "vertices": {
        "dtype": "float32",
        "shape": [
         8,
         3
        ]
       },
       "visible": true,
       "wireframe": false
      }
     },
     "7babc50a6fbb4e94bffc0706860e37f6": {
      "model_module": "@jupyter-widgets/output",
      "model_module_version": "1.0.0",
      "model_name": "OutputModel",
      "state": {
       "layout": "IPY_MODEL_42496bafb6fe4c4a9affcca9862aa54d",
       "outputs": [
        {
         "data": {
          "application/vnd.jupyter.widget-view+json": {
           "model_id": "48722d0ec3ce4226b5bee9be9e664c94",
           "version_major": 2,
           "version_minor": 0
          },
          "text/plain": "Plot(antialias=True, background_color=16777215, fps_meter=False, grid=[-1, -1, -1, 1, 1, 1], height=512, light…"
         },
         "metadata": {},
         "output_type": "display_data"
        }
       ]
      }
     },
     "7d53ddaae455482caf420005ee8c3b6e": {
      "model_module": "k3d",
      "model_module_version": "^3.0.0",
      "model_name": "ObjectModel",
      "state": {
       "_model_module_version": "^3.0.0",
       "_view_count": null,
       "_view_module": null,
       "_view_module_version": "",
       "_view_name": null,
       "color": 0,
       "compression_level": 0,
       "id": 139979729291976,
       "position": [
        1.1,
        1.1,
        -0.9
       ],
       "reference_point": "lb",
       "size": 1,
       "text": "6",
       "type": "Text",
       "visible": true
      }
     },
     "7da8510c63304eac9f9879664c4c4702": {
      "model_module": "k3d",
      "model_module_version": "^3.0.0",
      "model_name": "ObjectModel",
      "state": {
       "_model_module_version": "^3.0.0",
       "_view_count": null,
       "_view_module": null,
       "_view_module_version": "",
       "_view_name": null,
       "color": 0,
       "compression_level": 0,
       "id": 139979729379680,
       "position": [
        0.7180340051651001,
        0.1,
        1.7180340051651002
       ],
       "reference_point": "lb",
       "size": 1,
       "text": "12",
       "type": "Text",
       "visible": true
      }
     },
     "80a856d4eeae4321b1ebb253afab3624": {
      "model_module": "@jupyter-widgets/base",
      "model_module_version": "1.0.0",
      "model_name": "LayoutModel",
      "state": {}
     },
     "8707162bb571413e833d6df7cfbe16a0": {
      "buffers": [
       {
        "data": "",
        "encoding": "base64",
        "path": [
         "attribute",
         "buffer"
        ]
       },
       {
        "data": "",
        "encoding": "base64",
        "path": [
         "color_map",
         "buffer"
        ]
       },
       {
        "data": "AAAAAAIAAAAIAAAAAAAAAAQAAAAIAAAAAAAAAAIAAAAJAAAAAAAAAAUAAAAJAAAAAgAAAAYAAAAIAAAAAgAAAAcAAAAJAAAAAgAAAAYAAAAHAAAAAAAAAAQAAAAFAAAAAQAAAAQAAAAFAAAAAQAAAAUAAAALAAAABwAAAAkAAAALAAAAAwAAAAcAAAALAAAAAwAAAAYAAAAHAAAAAwAAAAYAAAAKAAAABAAAAAgAAAAKAAAABgAAAAgAAAAKAAAAAQAAAAQAAAAKAAAAAQAAAAMAAAALAAAAAQAAAAMAAAAKAAAABQAAAAkAAAALAAAA",
        "encoding": "base64",
        "path": [
         "indices",
         "buffer"
        ]
       },
       {
        "data": "AACAPwAAAAAAAAAAAAAAAAAAAAAAAIA/AAAAAAAAAAAAAAAAAAAAAAAAgD8AAAAAAAAAAAAAAAAAAAAAAACAPw==",
        "encoding": "base64",
        "path": [
         "model_matrix",
         "buffer"
        ]
       },
       {
        "data": "AACAP70bzz8AAAAAAACAP70bz78AAAAAAACAv70bzz8AAAAAAACAv70bz78AAAAAvRvPPwAAAAAAAIA/vRvPPwAAAAAAAIC/vRvPvwAAAAAAAIA/vRvPvwAAAAAAAIC/AAAAAAAAgD+9G88/AAAAAAAAgD+9G8+/AAAAAAAAgL+9G88/AAAAAAAAgL+9G8+/",
        "encoding": "base64",
        "path": [
         "vertices",
         "buffer"
        ]
       }
      ],
      "model_module": "k3d",
      "model_module_version": "^3.0.0",
      "model_name": "ObjectModel",
      "state": {
       "_model_module_version": "^3.0.0",
       "_view_count": null,
       "_view_module": null,
       "_view_module_version": "",
       "_view_name": null,
       "attribute": {
        "dtype": "float32",
        "shape": [
         0
        ]
       },
       "color": 255,
       "color_map": {
        "dtype": "float32",
        "shape": [
         0
        ]
       },
       "color_range": [],
       "compression_level": 0,
       "flat_shading": true,
       "id": 140067950670400,
       "indices": {
        "dtype": "uint32",
        "shape": [
         60
        ]
       },
       "model_matrix": {
        "dtype": "float32",
        "shape": [
         4,
         4
        ]
       },
       "type": "Mesh",
       "vertices": {
        "dtype": "float32",
        "shape": [
         12,
         3
        ]
       },
       "visible": true,
       "wireframe": false
      }
     },
     "87b2ff93140348dea3d96886ea3c13d2": {
      "model_module": "k3d",
      "model_module_version": "^3.0.0",
      "model_name": "ObjectModel",
      "state": {
       "_model_module_version": "^3.0.0",
       "_view_count": null,
       "_view_module": null,
       "_view_module_version": "",
       "_view_name": null,
       "color": 0,
       "compression_level": 0,
       "id": 139979729293208,
       "position": [
        0.1,
        1.7180340051651002,
        0.7180340051651001
       ],
       "reference_point": "lb",
       "size": 1,
       "text": "8",
       "type": "Text",
       "visible": true
      }
     },
     "89c132a5053e4d57922f1d078e6b61ef": {
      "model_module": "@jupyter-widgets/base",
      "model_module_version": "1.0.0",
      "model_name": "LayoutModel",
      "state": {}
     },
     "8a4c5aecdcc94268acdaf646abf51a3c": {
      "model_module": "@jupyter-widgets/output",
      "model_module_version": "1.0.0",
      "model_name": "OutputModel",
      "state": {
       "layout": "IPY_MODEL_a54350ff2f854e77bc75b829880e67a7",
       "outputs": [
        {
         "data": {
          "application/vnd.jupyter.widget-view+json": {
           "model_id": "061cef197df94ab597c03f22aecde648",
           "version_major": 2,
           "version_minor": 0
          },
          "text/plain": "Plot(antialias=True, background_color=16777215, fps_meter=False, grid=[-1, -1, -1, 1, 1, 1], height=512, light…"
         },
         "metadata": {},
         "output_type": "display_data"
        }
       ]
      }
     },
     "8a7a3fa83bdb41eca9d0a338d90e03f7": {
      "buffers": [
       {
        "data": "",
        "encoding": "base64",
        "path": [
         "colors",
         "buffer"
        ]
       },
       {
        "data": "AACAPwAAAAAAAAAAAAAAAAAAAAAAAIA/AAAAAAAAAAAAAAAAAAAAAAAAgD8AAAAAAAAAAAAAAAAAAAAAAACAPw==",
        "encoding": "base64",
        "path": [
         "model_matrix",
         "buffer"
        ]
       },
       {
        "data": "AACAvwAAgL8AAIC/AACAvwAAgL8AAIA/AACAvwAAgD8AAIC/AACAvwAAgD8AAIA/AACAPwAAgL8AAIC/AACAPwAAgL8AAIA/AACAPwAAgD8AAIC/AACAPwAAgD8AAIA/AAAAAL0bzz96Nx4/AAAAAL0bz796Nx4/AAAAAL0bz796Nx6/AAAAAL0bzz96Nx6/ejcePwAAAAC9G88/ejcevwAAAAC9G88/ejcevwAAAAC9G8+/ejcePwAAAAC9G8+/vRvPP3o3Hj8AAAAAvRvPv3o3Hj8AAAAAvRvPv3o3Hr8AAAAAvRvPP3o3Hr8AAAAA",
        "encoding": "base64",
        "path": [
         "positions",
         "buffer"
        ]
       }
      ],
      "model_module": "k3d",
      "model_module_version": "^3.0.0",
      "model_name": "ObjectModel",
      "state": {
       "_model_module_version": "^3.0.0",
       "_view_count": null,
       "_view_module": null,
       "_view_module_version": "",
       "_view_name": null,
       "color": 255,
       "colors": {
        "dtype": "uint32",
        "shape": [
         0
        ]
       },
       "compression_level": 0,
       "id": 139979729382984,
       "model_matrix": {
        "dtype": "float32",
        "shape": [
         4,
         4
        ]
       },
       "point_size": 0.1,
       "positions": {
        "dtype": "float32",
        "shape": [
         20,
         3
        ]
       },
       "shader": "3dSpecular",
       "type": "Points",
       "visible": true
      }
     },
     "8ec472b41cb642898814b6f1532c2b7b": {
      "model_module": "k3d",
      "model_module_version": "^3.0.0",
      "model_name": "PlotModel",
      "state": {
       "_backend_version": "2.4.20",
       "_dom_classes": [],
       "_model_module_version": "^3.0.0",
       "_view_count": null,
       "_view_module_version": "^3.0.0",
       "antialias": true,
       "background_color": 16777215,
       "camera": [
        2.8014287719083093,
        -4.058517295717445,
        1.63720316280127,
        0,
        0,
        0,
        -0.04582205020243593,
        0.2838288091078123,
        0.957779487583487
       ],
       "camera_auto_fit": true,
       "clipping_planes": [],
       "fps_meter": false,
       "grid": [
        -1,
        -1,
        -1,
        1,
        1,
        1
       ],
       "grid_auto_fit": true,
       "height": 512,
       "layout": "IPY_MODEL_1298bdee9dcc4c64bef813dcd7459229",
       "lighting": 1,
       "object_ids": [
        140067947389056,
        140067947389448
       ],
       "screenshot": "",
       "screenshot_scale": 2,
       "voxel_paint_color": 0
      }
     },
     "8ecda75fae5f4bd1a4d8907c17bcafbe": {
      "model_module": "k3d",
      "model_module_version": "^3.0.0",
      "model_name": "PlotModel",
      "state": {
       "_backend_version": "2.4.20",
       "_dom_classes": [],
       "_model_module_version": "^3.0.0",
       "_view_count": null,
       "_view_module_version": "^3.0.0",
       "antialias": true,
       "background_color": 16777215,
       "camera": [
        1.3412388017416341,
        0.7689895411118814,
        1.3165286350652678,
        1,
        1,
        1,
        -0.4543403880186806,
        0.33519255069599757,
        0.8253609911868519
       ],
       "camera_auto_fit": true,
       "clipping_planes": [],
       "fps_meter": false,
       "grid": [
        -1,
        -1,
        -1,
        1,
        1,
        1
       ],
       "grid_auto_fit": true,
       "height": 512,
       "layout": "IPY_MODEL_f7bfedb719eb4078b4d92cbc1c668c04",
       "lighting": 1,
       "object_ids": [
        140067947742152
       ],
       "screenshot": "",
       "screenshot_scale": 2,
       "voxel_paint_color": 0
      }
     },
     "8fb1e6dae4484e4fbec1248f0a797ef3": {
      "model_module": "k3d",
      "model_module_version": "^3.0.0",
      "model_name": "ObjectModel",
      "state": {
       "_model_module_version": "^3.0.0",
       "_view_count": null,
       "_view_module": null,
       "_view_module_version": "",
       "_view_name": null,
       "color": 0,
       "compression_level": 0,
       "id": 140058871251968,
       "position": [
        1.1,
        -0.9,
        -0.9
       ],
       "reference_point": "lb",
       "size": 1,
       "text": "4",
       "type": "Text",
       "visible": true
      }
     },
     "8fda776663c84d6ab52c2b83d4f7476c": {
      "model_module": "@jupyter-widgets/base",
      "model_module_version": "1.0.0",
      "model_name": "LayoutModel",
      "state": {}
     },
     "901a2b17a12e43db8d6a754cb55bf784": {
      "buffers": [
       {
        "data": "",
        "encoding": "base64",
        "path": [
         "attribute",
         "buffer"
        ]
       },
       {
        "data": "",
        "encoding": "base64",
        "path": [
         "color_map",
         "buffer"
        ]
       },
       {
        "data": "AAAAAAIAAAAIAAAAAAAAAAQAAAAIAAAAAAAAAAIAAAAJAAAAAAAAAAUAAAAJAAAAAgAAAAYAAAAIAAAAAgAAAAcAAAAJAAAAAgAAAAYAAAAHAAAAAAAAAAQAAAAFAAAAAQAAAAQAAAAFAAAAAQAAAAUAAAALAAAABwAAAAkAAAALAAAAAwAAAAcAAAALAAAAAwAAAAYAAAAHAAAAAwAAAAYAAAAKAAAABAAAAAgAAAAKAAAABgAAAAgAAAAKAAAAAQAAAAQAAAAKAAAAAQAAAAMAAAALAAAAAQAAAAMAAAAKAAAABQAAAAkAAAALAAAA",
        "encoding": "base64",
        "path": [
         "indices",
         "buffer"
        ]
       },
       {
        "data": "AACAPwAAAAAAAAAAAAAAAAAAAAAAAIA/AAAAAAAAAAAAAAAAAAAAAAAAgD8AAAAAAAAAAAAAAAAAAAAAAACAPw==",
        "encoding": "base64",
        "path": [
         "model_matrix",
         "buffer"
        ]
       },
       {
        "data": "AACAP70bzz8AAAAAAACAP70bz78AAAAAAACAv70bzz8AAAAAAACAv70bz78AAAAAvRvPPwAAAAAAAIA/vRvPPwAAAAAAAIC/vRvPvwAAAAAAAIA/vRvPvwAAAAAAAIC/AAAAAAAAgD+9G88/AAAAAAAAgD+9G8+/AAAAAAAAgL+9G88/AAAAAAAAgL+9G8+/",
        "encoding": "base64",
        "path": [
         "vertices",
         "buffer"
        ]
       }
      ],
      "model_module": "k3d",
      "model_module_version": "^3.0.0",
      "model_name": "ObjectModel",
      "state": {
       "_model_module_version": "^3.0.0",
       "_view_count": null,
       "_view_module": null,
       "_view_module_version": "",
       "_view_name": null,
       "attribute": {
        "dtype": "float32",
        "shape": [
         0
        ]
       },
       "color": 255,
       "color_map": {
        "dtype": "float32",
        "shape": [
         0
        ]
       },
       "color_range": [],
       "compression_level": 0,
       "flat_shading": true,
       "id": 140067947120120,
       "indices": {
        "dtype": "uint32",
        "shape": [
         60
        ]
       },
       "model_matrix": {
        "dtype": "float32",
        "shape": [
         4,
         4
        ]
       },
       "type": "Mesh",
       "vertices": {
        "dtype": "float32",
        "shape": [
         12,
         3
        ]
       },
       "visible": true,
       "wireframe": false
      }
     },
     "95b29eea762f4b988962e3ad92a645f4": {
      "model_module": "@jupyter-widgets/base",
      "model_module_version": "1.0.0",
      "model_name": "LayoutModel",
      "state": {}
     },
     "971d0276f1f54ba3954bee01645fff0e": {
      "model_module": "@jupyter-widgets/base",
      "model_module_version": "1.0.0",
      "model_name": "LayoutModel",
      "state": {}
     },
     "97fa19dc102e4872b94c2027810d7348": {
      "model_module": "k3d",
      "model_module_version": "^3.0.0",
      "model_name": "ObjectModel",
      "state": {
       "_model_module_version": "^3.0.0",
       "_view_count": null,
       "_view_module": null,
       "_view_module_version": "",
       "_view_name": null,
       "color": 0,
       "compression_level": 0,
       "id": 140058871252976,
       "position": [
        1.1,
        1.1,
        1.1
       ],
       "reference_point": "lb",
       "size": 1,
       "text": "7",
       "type": "Text",
       "visible": true
      }
     },
     "9b28cfc1fe8744a886dbcfa8e3fb6c46": {
      "model_module": "k3d",
      "model_module_version": "^3.0.0",
      "model_name": "PlotModel",
      "state": {
       "_backend_version": "2.4.16",
       "_dom_classes": [],
       "_model_module_version": "^3.0.0",
       "_view_count": null,
       "_view_module_version": "^3.0.0",
       "antialias": true,
       "background_color": 16777215,
       "camera": [
        4.800406135184341,
        -7.200609202776514,
        0.48004061351843863,
        0,
        0,
        0,
        0,
        0,
        1
       ],
       "camera_auto_fit": true,
       "clipping_planes": [],
       "fps_meter": false,
       "grid": [
        -1,
        -1,
        -1,
        1,
        1,
        1
       ],
       "grid_auto_fit": true,
       "height": 512,
       "layout": "IPY_MODEL_b3f724757ceb4b748afa43396972fe24",
       "lighting": 1,
       "object_ids": [
        140058871251576,
        140058871182224,
        140058871251688,
        140058871252080,
        140058871252808,
        140058871251968,
        140058871251184,
        140058871253200,
        140058871252976,
        140058871251912,
        140058871253704,
        140058871253760,
        140058871253592,
        140058871251632,
        140058871252136,
        140058871253088,
        140058871254040,
        140058871254096,
        140058871254992,
        140058871254376,
        140058868469832,
        140059465833944
       ],
       "screenshot": "",
       "screenshot_scale": 2,
       "voxel_paint_color": 0
      }
     },
     "9e8314e43b5a43c88d6a1637868275c5": {
      "model_module": "k3d",
      "model_module_version": "^3.0.0",
      "model_name": "PlotModel",
      "state": {
       "_backend_version": "2.4.20",
       "_dom_classes": [],
       "_model_module_version": "^3.0.0",
       "_view_count": null,
       "_view_module_version": "^3.0.0",
       "antialias": true,
       "background_color": 16777215,
       "camera": [
        4.282852229210537,
        -6.424278343815805,
        0.4282852229210576,
        0,
        0,
        0,
        0,
        0,
        1
       ],
       "camera_auto_fit": true,
       "clipping_planes": [],
       "fps_meter": false,
       "grid": [
        -1,
        -1,
        -1,
        1,
        1,
        1
       ],
       "grid_auto_fit": true,
       "height": 512,
       "layout": "IPY_MODEL_a916df664ac24b7eb9f92f9fc655300b",
       "lighting": 1,
       "object_ids": [
        140067947741704
       ],
       "screenshot": "",
       "screenshot_scale": 2,
       "voxel_paint_color": 0
      }
     },
     "a11b0ff2d28e4a00a2bd500328da9117": {
      "model_module": "k3d",
      "model_module_version": "^3.0.0",
      "model_name": "ObjectModel",
      "state": {
       "_model_module_version": "^3.0.0",
       "_view_count": null,
       "_view_module": null,
       "_view_module_version": "",
       "_view_name": null,
       "color": 0,
       "compression_level": 0,
       "id": 139979729379568,
       "position": [
        -0.5180340051651001,
        0.1,
        1.7180340051651002
       ],
       "reference_point": "lb",
       "size": 1,
       "text": "13",
       "type": "Text",
       "visible": true
      }
     },
     "a54350ff2f854e77bc75b829880e67a7": {
      "model_module": "@jupyter-widgets/base",
      "model_module_version": "1.0.0",
      "model_name": "LayoutModel",
      "state": {}
     },
     "a5a0e31ce262456297869a067d3b207d": {
      "model_module": "@jupyter-widgets/base",
      "model_module_version": "1.0.0",
      "model_name": "LayoutModel",
      "state": {}
     },
     "a8fe1d76fb154a4d855cb6fe01dd8e0c": {
      "buffers": [
       {
        "data": "",
        "encoding": "base64",
        "path": [
         "attribute",
         "buffer"
        ]
       },
       {
        "data": "",
        "encoding": "base64",
        "path": [
         "color_map",
         "buffer"
        ]
       },
       {
        "data": "AAAAAAEAAAACAAAAAAAAAAEAAAAFAAAAAQAAAAIAAAADAAAAAQAAAAMAAAAFAAAAAAAAAAQAAAAFAAAAAAAAAAIAAAAEAAAAAgAAAAMAAAAEAAAAAwAAAAQAAAAFAAAA",
        "encoding": "base64",
        "path": [
         "indices",
         "buffer"
        ]
       },
       {
        "data": "AACAPwAAAAAAAAAAAAAAAAAAAAAAAIA/AAAAAAAAAAAAAAAAAAAAAAAAgD8AAAAAAAAAAAAAAAAAAAAAAACAPw==",
        "encoding": "base64",
        "path": [
         "model_matrix",
         "buffer"
        ]
       },
       {
        "data": "AACAPwAAAAAAAAAAAAAAAAAAgD8AAAAAAAAAAAAAAAAAAIA/AACAvwAAAAAAAAAAAAAAAAAAgL8AAAAAAAAAAAAAAAAAAIC/",
        "encoding": "base64",
        "path": [
         "vertices",
         "buffer"
        ]
       }
      ],
      "model_module": "k3d",
      "model_module_version": "^3.0.0",
      "model_name": "ObjectModel",
      "state": {
       "_model_module_version": "^3.0.0",
       "_view_count": null,
       "_view_module": null,
       "_view_module_version": "",
       "_view_name": null,
       "attribute": {
        "dtype": "float32",
        "shape": [
         0
        ]
       },
       "color": 255,
       "color_map": {
        "dtype": "float32",
        "shape": [
         0
        ]
       },
       "color_range": [],
       "compression_level": 0,
       "flat_shading": true,
       "id": 140067950478168,
       "indices": {
        "dtype": "uint32",
        "shape": [
         24
        ]
       },
       "model_matrix": {
        "dtype": "float32",
        "shape": [
         4,
         4
        ]
       },
       "type": "Mesh",
       "vertices": {
        "dtype": "float32",
        "shape": [
         6,
         3
        ]
       },
       "visible": true,
       "wireframe": false
      }
     },
     "a916df664ac24b7eb9f92f9fc655300b": {
      "model_module": "@jupyter-widgets/base",
      "model_module_version": "1.0.0",
      "model_name": "LayoutModel",
      "state": {}
     },
     "abe37eea7b2f48cdbc9fac39fdf85b0c": {
      "model_module": "@jupyter-widgets/output",
      "model_module_version": "1.0.0",
      "model_name": "OutputModel",
      "state": {
       "layout": "IPY_MODEL_ef6ff52d2f79474fb95c4f5a18417a3a",
       "outputs": [
        {
         "data": {
          "application/vnd.jupyter.widget-view+json": {
           "model_id": "9b28cfc1fe8744a886dbcfa8e3fb6c46",
           "version_major": 2,
           "version_minor": 0
          },
          "text/plain": "Plot(antialias=True, background_color=16777215, fps_meter=False, grid=[-1, -1, -1, 1, 1, 1], height=512, light…"
         },
         "metadata": {},
         "output_type": "display_data"
        }
       ]
      }
     },
     "ac4c1640ec4244428269885d3513005e": {
      "buffers": [
       {
        "data": "",
        "encoding": "base64",
        "path": [
         "attribute",
         "buffer"
        ]
       },
       {
        "data": "",
        "encoding": "base64",
        "path": [
         "color_map",
         "buffer"
        ]
       },
       {
        "data": "AAAAAAEAAAACAAAAAAAAAAEAAAAFAAAAAQAAAAIAAAADAAAAAQAAAAMAAAAFAAAAAAAAAAQAAAAFAAAAAAAAAAIAAAAEAAAAAgAAAAMAAAAEAAAAAwAAAAQAAAAFAAAA",
        "encoding": "base64",
        "path": [
         "indices",
         "buffer"
        ]
       },
       {
        "data": "AACAPwAAAAAAAAAAAAAAAAAAAAAAAIA/AAAAAAAAAAAAAAAAAAAAAAAAgD8AAAAAAAAAAAAAAAAAAAAAAACAPw==",
        "encoding": "base64",
        "path": [
         "model_matrix",
         "buffer"
        ]
       },
       {
        "data": "AACAPwAAAAAAAAAAAAAAAAAAgD8AAAAAAAAAAAAAAAAAAIA/AACAvwAAAAAAAAAAAAAAAAAAgL8AAAAAAAAAAAAAAAAAAIC/",
        "encoding": "base64",
        "path": [
         "vertices",
         "buffer"
        ]
       }
      ],
      "model_module": "k3d",
      "model_module_version": "^3.0.0",
      "model_name": "ObjectModel",
      "state": {
       "_model_module_version": "^3.0.0",
       "_view_count": null,
       "_view_module": null,
       "_view_module_version": "",
       "_view_name": null,
       "attribute": {
        "dtype": "float32",
        "shape": [
         0
        ]
       },
       "color": 255,
       "color_map": {
        "dtype": "float32",
        "shape": [
         0
        ]
       },
       "color_range": [],
       "compression_level": 0,
       "flat_shading": true,
       "id": 140067947389056,
       "indices": {
        "dtype": "uint32",
        "shape": [
         24
        ]
       },
       "model_matrix": {
        "dtype": "float32",
        "shape": [
         4,
         4
        ]
       },
       "type": "Mesh",
       "vertices": {
        "dtype": "float32",
        "shape": [
         6,
         3
        ]
       },
       "visible": true,
       "wireframe": false
      }
     },
     "ad239c9a742c4148874254052373c14e": {
      "model_module": "k3d",
      "model_module_version": "^3.0.0",
      "model_name": "ObjectModel",
      "state": {
       "_model_module_version": "^3.0.0",
       "_view_count": null,
       "_view_module": null,
       "_view_module_version": "",
       "_view_name": null,
       "color": 0,
       "compression_level": 0,
       "id": 140058871251912,
       "position": [
        0.1,
        1.7180340051651002,
        0.7180340051651001
       ],
       "reference_point": "lb",
       "size": 1,
       "text": "8",
       "type": "Text",
       "visible": true
      }
     },
     "ad4db96f00f04c16802e324318c2e90c": {
      "model_module": "@jupyter-widgets/base",
      "model_module_version": "1.0.0",
      "model_name": "LayoutModel",
      "state": {}
     },
     "ae7b7479e59f43a4b1dbef6fea11c506": {
      "model_module": "@jupyter-widgets/base",
      "model_module_version": "1.0.0",
      "model_name": "LayoutModel",
      "state": {}
     },
     "ae80c008fe0444c996233047c359f6dd": {
      "model_module": "@jupyter-widgets/base",
      "model_module_version": "1.0.0",
      "model_name": "LayoutModel",
      "state": {}
     },
     "af4cb5e3f1424b1999947b3c772d9084": {
      "model_module": "k3d",
      "model_module_version": "^3.0.0",
      "model_name": "PlotModel",
      "state": {
       "_backend_version": "2.4.20",
       "_dom_classes": [],
       "_model_module_version": "^3.0.0",
       "_view_count": null,
       "_view_module_version": "^3.0.0",
       "antialias": true,
       "background_color": 16777215,
       "camera": [
        0.066913063803007,
        8.380533310567532,
        -0.6701516267735735,
        0,
        0,
        0,
        -0.1734576991788171,
        0.13495853366008861,
        0.9755504193981519
       ],
       "camera_auto_fit": true,
       "clipping_planes": [],
       "fps_meter": false,
       "grid": [
        -1,
        -1,
        -1,
        1,
        1,
        1
       ],
       "grid_auto_fit": true,
       "height": 512,
       "layout": "IPY_MODEL_fd177ba7283f4cb3ae6161efadba4d90",
       "lighting": 1,
       "object_ids": [
        140067947014856,
        140067947118944
       ],
       "screenshot": "",
       "screenshot_scale": 2,
       "voxel_paint_color": 0
      }
     },
     "b08856090c9a4b6db6381d3b2cc20e43": {
      "buffers": [
       {
        "data": "",
        "encoding": "base64",
        "path": [
         "attribute",
         "buffer"
        ]
       },
       {
        "data": "",
        "encoding": "base64",
        "path": [
         "color_map",
         "buffer"
        ]
       },
       {
        "data": "AAAAAAEAAAACAAAAAAAAAAEAAAADAAAAAQAAAAIAAAADAAAAAAAAAAIAAAADAAAA",
        "encoding": "base64",
        "path": [
         "indices",
         "buffer"
        ]
       },
       {
        "data": "AACAPwAAAAAAAAAAAAAAAAAAAAAAAIA/AAAAAAAAAAAAAAAAAAAAAAAAgD8AAAAAAAAAAAAAAAAAAAAAAACAPw==",
        "encoding": "base64",
        "path": [
         "model_matrix",
         "buffer"
        ]
       },
       {
        "data": "AACAPwAAgD8AAIA/AACAPwAAgL8AAIC/AACAvwAAgD8AAIC/AACAvwAAgL8AAIA/",
        "encoding": "base64",
        "path": [
         "vertices",
         "buffer"
        ]
       }
      ],
      "model_module": "k3d",
      "model_module_version": "^3.0.0",
      "model_name": "ObjectModel",
      "state": {
       "_model_module_version": "^3.0.0",
       "_view_count": null,
       "_view_module": null,
       "_view_module_version": "",
       "_view_name": null,
       "attribute": {
        "dtype": "float32",
        "shape": [
         0
        ]
       },
       "color": 255,
       "color_map": {
        "dtype": "float32",
        "shape": [
         0
        ]
       },
       "color_range": [],
       "compression_level": 0,
       "flat_shading": true,
       "id": 140067950670568,
       "indices": {
        "dtype": "uint32",
        "shape": [
         12
        ]
       },
       "model_matrix": {
        "dtype": "float32",
        "shape": [
         4,
         4
        ]
       },
       "type": "Mesh",
       "vertices": {
        "dtype": "float32",
        "shape": [
         4,
         3
        ]
       },
       "visible": true,
       "wireframe": true
      }
     },
     "b0b71ecce8ed4deea8e83d2ff2c3a3b7": {
      "model_module": "@jupyter-widgets/base",
      "model_module_version": "1.0.0",
      "model_name": "LayoutModel",
      "state": {}
     },
     "b1eea8b4d77a446daf0814ab3b280bde": {
      "buffers": [
       {
        "data": "",
        "encoding": "base64",
        "path": [
         "attribute",
         "buffer"
        ]
       },
       {
        "data": "",
        "encoding": "base64",
        "path": [
         "color_map",
         "buffer"
        ]
       },
       {
        "data": "AAAAAAEAAAASAAAAAAAAAAEAAAAKAAAAAQAAAAkAAAAKAAAAAAAAAAoAAAAOAAAACgAAAA4AAAAPAAAABAAAAAoAAAAPAAAABAAAAAkAAAAKAAAABAAAAAUAAAAJAAAABAAAAAUAAAATAAAABAAAAA8AAAATAAAABgAAAA8AAAATAAAABgAAABAAAAATAAAABgAAAAcAAAAQAAAABgAAAAcAAAAIAAAABgAAAAgAAAALAAAAAgAAAAMAAAARAAAAAgAAAAMAAAAIAAAAAgAAAAgAAAALAAAAAQAAAAMAAAANAAAAAQAAAAMAAAASAAAAAwAAABEAAAASAAAAAQAAAAkAAAANAAAACQAAAAwAAAANAAAABQAAAAkAAAAMAAAABQAAAAwAAAATAAAADAAAABAAAAATAAAABwAAAAwAAAAQAAAAAwAAAAcAAAAIAAAAAwAAAAcAAAAMAAAAAwAAAAwAAAANAAAADgAAAAYAAAAPAAAADgAAAAYAAAALAAAAAgAAAAsAAAAOAAAAAAAAABEAAAASAAAAAAAAAAIAAAARAAAAAAAAAAIAAAAOAAAA",
        "encoding": "base64",
        "path": [
         "indices",
         "buffer"
        ]
       },
       {
        "data": "AACAPwAAAAAAAAAAAAAAAAAAAAAAAIA/AAAAAAAAAAAAAAAAAAAAAAAAgD8AAAAAAAAAAAAAAAAAAAAAAACAPw==",
        "encoding": "base64",
        "path": [
         "model_matrix",
         "buffer"
        ]
       },
       {
        "data": "AACAvwAAgL8AAIC/AACAvwAAgL8AAIA/AACAvwAAgD8AAIC/AACAvwAAgD8AAIA/AACAPwAAgL8AAIC/AACAPwAAgL8AAIA/AACAPwAAgD8AAIC/AACAPwAAgD8AAIA/AAAAAL0bzz96Nx4/AAAAAL0bz796Nx4/AAAAAL0bz796Nx6/AAAAAL0bzz96Nx6/ejcePwAAAAC9G88/ejcevwAAAAC9G88/ejcevwAAAAC9G8+/ejcePwAAAAC9G8+/vRvPP3o3Hj8AAAAAvRvPv3o3Hj8AAAAAvRvPv3o3Hr8AAAAAvRvPP3o3Hr8AAAAA",
        "encoding": "base64",
        "path": [
         "vertices",
         "buffer"
        ]
       }
      ],
      "model_module": "k3d",
      "model_module_version": "^3.0.0",
      "model_name": "ObjectModel",
      "state": {
       "_model_module_version": "^3.0.0",
       "_view_count": null,
       "_view_module": null,
       "_view_module_version": "",
       "_view_name": null,
       "attribute": {
        "dtype": "float32",
        "shape": [
         0
        ]
       },
       "color": 255,
       "color_map": {
        "dtype": "float32",
        "shape": [
         0
        ]
       },
       "color_range": [],
       "compression_level": 0,
       "flat_shading": true,
       "id": 140067947119840,
       "indices": {
        "dtype": "uint32",
        "shape": [
         108
        ]
       },
       "model_matrix": {
        "dtype": "float32",
        "shape": [
         4,
         4
        ]
       },
       "type": "Mesh",
       "vertices": {
        "dtype": "float32",
        "shape": [
         20,
         3
        ]
       },
       "visible": true,
       "wireframe": false
      }
     },
     "b3f724757ceb4b748afa43396972fe24": {
      "model_module": "@jupyter-widgets/base",
      "model_module_version": "1.0.0",
      "model_name": "LayoutModel",
      "state": {}
     },
     "b429751cb92b4692a7ea41bee19473e2": {
      "buffers": [
       {
        "data": "",
        "encoding": "base64",
        "path": [
         "attribute",
         "buffer"
        ]
       },
       {
        "data": "",
        "encoding": "base64",
        "path": [
         "color_map",
         "buffer"
        ]
       },
       {
        "data": "AAAAAAEAAAACAAAAAAAAAAEAAAADAAAAAQAAAAIAAAADAAAAAAAAAAIAAAADAAAA",
        "encoding": "base64",
        "path": [
         "indices",
         "buffer"
        ]
       },
       {
        "data": "AACAPwAAAAAAAAAAAAAAAAAAAAAAAIA/AAAAAAAAAAAAAAAAAAAAAAAAgD8AAAAAAAAAAAAAAAAAAAAAAACAPw==",
        "encoding": "base64",
        "path": [
         "model_matrix",
         "buffer"
        ]
       },
       {
        "data": "AACAPwAAgD8AAIA/AACAPwAAgL8AAIC/AACAvwAAgD8AAIC/AACAvwAAgL8AAIA/",
        "encoding": "base64",
        "path": [
         "vertices",
         "buffer"
        ]
       }
      ],
      "model_module": "k3d",
      "model_module_version": "^3.0.0",
      "model_name": "ObjectModel",
      "state": {
       "_model_module_version": "^3.0.0",
       "_view_count": null,
       "_view_module": null,
       "_view_module_version": "",
       "_view_name": null,
       "attribute": {
        "dtype": "float32",
        "shape": [
         0
        ]
       },
       "color": 255,
       "color_map": {
        "dtype": "float32",
        "shape": [
         0
        ]
       },
       "color_range": [],
       "compression_level": 0,
       "flat_shading": true,
       "id": 140067947389448,
       "indices": {
        "dtype": "uint32",
        "shape": [
         12
        ]
       },
       "model_matrix": {
        "dtype": "float32",
        "shape": [
         4,
         4
        ]
       },
       "type": "Mesh",
       "vertices": {
        "dtype": "float32",
        "shape": [
         4,
         3
        ]
       },
       "visible": true,
       "wireframe": true
      }
     },
     "b4d6e6098ab6465f9aab27a2ec894bd1": {
      "buffers": [
       {
        "data": "",
        "encoding": "base64",
        "path": [
         "attribute",
         "buffer"
        ]
       },
       {
        "data": "",
        "encoding": "base64",
        "path": [
         "color_map",
         "buffer"
        ]
       },
       {
        "data": "AAAAAAEAAAACAAAAAQAAAAIAAAADAAAAAAAAAAEAAAAEAAAAAQAAAAQAAAAFAAAAAQAAAAMAAAAFAAAAAwAAAAUAAAAHAAAAAAAAAAIAAAAEAAAAAgAAAAQAAAAGAAAAAgAAAAMAAAAHAAAAAgAAAAYAAAAHAAAABAAAAAUAAAAGAAAABQAAAAYAAAAHAAAA",
        "encoding": "base64",
        "path": [
         "indices",
         "buffer"
        ]
       },
       {
        "data": "AACAPwAAAAAAAAAAAAAAAAAAAAAAAIA/AAAAAAAAAAAAAAAAAAAAAAAAgD8AAAAAAAAAAAAAAAAAAAAAAACAPw==",
        "encoding": "base64",
        "path": [
         "model_matrix",
         "buffer"
        ]
       },
       {
        "data": "zcyMP83MjD/NzIw/zcyMP83MjD9mZmY/zcyMP2ZmZj/NzIw/zcyMP2ZmZj9mZmY/ZmZmP83MjD/NzIw/ZmZmP83MjD9mZmY/ZmZmP2ZmZj/NzIw/ZmZmP2ZmZj9mZmY/",
        "encoding": "base64",
        "path": [
         "vertices",
         "buffer"
        ]
       }
      ],
      "model_module": "k3d",
      "model_module_version": "^3.0.0",
      "model_name": "ObjectModel",
      "state": {
       "_model_module_version": "^3.0.0",
       "_view_count": null,
       "_view_module": null,
       "_view_module_version": "",
       "_view_name": null,
       "attribute": {
        "dtype": "float32",
        "shape": [
         0
        ]
       },
       "color": 16711680,
       "color_map": {
        "dtype": "float32",
        "shape": [
         0
        ]
       },
       "color_range": [],
       "compression_level": 0,
       "flat_shading": true,
       "id": 140067947745064,
       "indices": {
        "dtype": "uint32",
        "shape": [
         36
        ]
       },
       "model_matrix": {
        "dtype": "float32",
        "shape": [
         4,
         4
        ]
       },
       "type": "Mesh",
       "vertices": {
        "dtype": "float32",
        "shape": [
         8,
         3
        ]
       },
       "visible": true,
       "wireframe": false
      }
     },
     "b67098eb9c304fb2bd49caa43ac84639": {
      "model_module": "@jupyter-widgets/output",
      "model_module_version": "1.0.0",
      "model_name": "OutputModel",
      "state": {
       "layout": "IPY_MODEL_e856fe521b5f460e94cdcbfef9853541",
       "outputs": [
        {
         "data": {
          "application/vnd.jupyter.widget-view+json": {
           "model_id": "6f58577eae3c4601ac51a8fcf57f65b6",
           "version_major": 2,
           "version_minor": 0
          },
          "text/plain": "Plot(antialias=True, background_color=16777215, fps_meter=False, grid=[-1, -1, -1, 1, 1, 1], height=512, light…"
         },
         "metadata": {},
         "output_type": "display_data"
        }
       ]
      }
     },
     "b6da4c1fee8a45f4ac09835300309d21": {
      "model_module": "k3d",
      "model_module_version": "^3.0.0",
      "model_name": "PlotModel",
      "state": {
       "_backend_version": "2.4.20",
       "_dom_classes": [],
       "_model_module_version": "^3.0.0",
       "_view_count": null,
       "_view_module_version": "^3.0.0",
       "antialias": true,
       "background_color": 16777215,
       "camera": [
        2.1883617420121046,
        6.550797203791566,
        4.794272417312193,
        0,
        0,
        0,
        -0.23742555080460837,
        -0.4712686013361767,
        0.8494321710529709
       ],
       "camera_auto_fit": true,
       "clipping_planes": [],
       "fps_meter": false,
       "grid": [
        -1,
        -1,
        -1,
        1,
        1,
        1
       ],
       "grid_auto_fit": true,
       "height": 512,
       "layout": "IPY_MODEL_1221f1014c6f4c8588b7c93cd71b5f17",
       "lighting": 1,
       "object_ids": [
        140067947013904,
        140067947015472
       ],
       "screenshot": "",
       "screenshot_scale": 2,
       "voxel_paint_color": 0
      }
     },
     "b71ccd0713cb40a984ec6b00e55e3033": {
      "model_module": "@jupyter-widgets/base",
      "model_module_version": "1.0.0",
      "model_name": "LayoutModel",
      "state": {}
     },
     "b98029eb549d4422848c8e0cb902515a": {
      "model_module": "k3d",
      "model_module_version": "^3.0.0",
      "model_name": "PlotModel",
      "state": {
       "_backend_version": "2.4.20",
       "_dom_classes": [],
       "_model_module_version": "^3.0.0",
       "_view_count": null,
       "_view_module_version": "^3.0.0",
       "antialias": true,
       "background_color": 16777215,
       "camera": [
        2.8778826572598577,
        -4.316823985889787,
        0.28778826572598526,
        0,
        0,
        0,
        0,
        0,
        1
       ],
       "camera_auto_fit": true,
       "clipping_planes": [],
       "fps_meter": false,
       "grid": [
        -1,
        -1,
        -1,
        1,
        1,
        1
       ],
       "grid_auto_fit": true,
       "height": 512,
       "layout": "IPY_MODEL_34dbf938b2c74ccf88f7f484b0fbe71c",
       "lighting": 1,
       "object_ids": [
        139922605850352,
        139922605850240
       ],
       "screenshot": "",
       "screenshot_scale": 2,
       "voxel_paint_color": 0
      }
     },
     "ba5a7aefbb7a43ce9b93f60b5ea9e96a": {
      "buffers": [
       {
        "data": "",
        "encoding": "base64",
        "path": [
         "attribute",
         "buffer"
        ]
       },
       {
        "data": "",
        "encoding": "base64",
        "path": [
         "color_map",
         "buffer"
        ]
       },
       {
        "data": "AAAAAAEAAAASAAAAAAAAAAEAAAAKAAAAAQAAAAkAAAAKAAAAAAAAAAoAAAAOAAAACgAAAA4AAAAPAAAABAAAAAoAAAAPAAAABAAAAAkAAAAKAAAABAAAAAUAAAAJAAAABAAAAAUAAAATAAAABAAAAA8AAAATAAAABgAAAA8AAAATAAAABgAAABAAAAATAAAABgAAAAcAAAAQAAAABgAAAAcAAAAIAAAABgAAAAgAAAALAAAAAgAAAAMAAAARAAAAAgAAAAMAAAAIAAAAAgAAAAgAAAALAAAAAQAAAAMAAAANAAAAAQAAAAMAAAASAAAAAwAAABEAAAASAAAAAQAAAAkAAAANAAAACQAAAAwAAAANAAAABQAAAAkAAAAMAAAABQAAAAwAAAATAAAADAAAABAAAAATAAAABwAAAAwAAAAQAAAAAwAAAAcAAAAIAAAAAwAAAAcAAAAMAAAAAwAAAAwAAAANAAAADgAAAAYAAAAPAAAADgAAAAYAAAALAAAAAgAAAAsAAAAOAAAAAAAAABEAAAASAAAAAAAAAAIAAAARAAAAAAAAAAIAAAAOAAAA",
        "encoding": "base64",
        "path": [
         "indices",
         "buffer"
        ]
       },
       {
        "data": "AACAPwAAAAAAAAAAAAAAAAAAAAAAAIA/AAAAAAAAAAAAAAAAAAAAAAAAgD8AAAAAAAAAAAAAAAAAAAAAAACAPw==",
        "encoding": "base64",
        "path": [
         "model_matrix",
         "buffer"
        ]
       },
       {
        "data": "AACAvwAAgL8AAIC/AACAvwAAgL8AAIA/AACAvwAAgD8AAIC/AACAvwAAgD8AAIA/AACAPwAAgL8AAIC/AACAPwAAgL8AAIA/AACAPwAAgD8AAIC/AACAPwAAgD8AAIA/AAAAAL0bzz96Nx4/AAAAAL0bz796Nx4/AAAAAL0bz796Nx6/AAAAAL0bzz96Nx6/ejcePwAAAAC9G88/ejcevwAAAAC9G88/ejcevwAAAAC9G8+/ejcePwAAAAC9G8+/vRvPP3o3Hj8AAAAAvRvPv3o3Hj8AAAAAvRvPv3o3Hr8AAAAAvRvPP3o3Hr8AAAAA",
        "encoding": "base64",
        "path": [
         "vertices",
         "buffer"
        ]
       }
      ],
      "model_module": "k3d",
      "model_module_version": "^3.0.0",
      "model_name": "ObjectModel",
      "state": {
       "_model_module_version": "^3.0.0",
       "_view_count": null,
       "_view_module": null,
       "_view_module_version": "",
       "_view_name": null,
       "attribute": {
        "dtype": "float32",
        "shape": [
         0
        ]
       },
       "color": 255,
       "color_map": {
        "dtype": "float32",
        "shape": [
         0
        ]
       },
       "color_range": [],
       "compression_level": 0,
       "flat_shading": true,
       "id": 139979729476632,
       "indices": {
        "dtype": "uint32",
        "shape": [
         108
        ]
       },
       "model_matrix": {
        "dtype": "float32",
        "shape": [
         4,
         4
        ]
       },
       "type": "Mesh",
       "vertices": {
        "dtype": "float32",
        "shape": [
         20,
         3
        ]
       },
       "visible": true,
       "wireframe": false
      }
     },
     "ba6bf7c53e5d4a1b9d8b2ea139d4fd91": {
      "model_module": "@jupyter-widgets/output",
      "model_module_version": "1.0.0",
      "model_name": "OutputModel",
      "state": {
       "layout": "IPY_MODEL_5291c54d21c74ab6bd9f5b36fac468aa",
       "outputs": [
        {
         "data": {
          "application/vnd.jupyter.widget-view+json": {
           "model_id": "2f4f33a632bc4ea7a69d28bba53842d9",
           "version_major": 2,
           "version_minor": 0
          },
          "text/plain": "Plot(antialias=True, background_color=16777215, fps_meter=False, grid=[-1, -1, -1, 1, 1, 1], height=512, light…"
         },
         "metadata": {},
         "output_type": "display_data"
        }
       ]
      }
     },
     "baea2b8ab6af4a3c95eeeb300d2b6ca0": {
      "model_module": "@jupyter-widgets/output",
      "model_module_version": "1.0.0",
      "model_name": "OutputModel",
      "state": {
       "layout": "IPY_MODEL_ae7b7479e59f43a4b1dbef6fea11c506",
       "outputs": [
        {
         "data": {
          "application/vnd.jupyter.widget-view+json": {
           "model_id": "b98029eb549d4422848c8e0cb902515a",
           "version_major": 2,
           "version_minor": 0
          },
          "text/plain": "Plot(antialias=True, background_color=16777215, fps_meter=False, grid=[-1, -1, -1, 1, 1, 1], height=512, light…"
         },
         "metadata": {},
         "output_type": "display_data"
        }
       ]
      }
     },
     "bda4dfe03f84460da92484f2e49f20b6": {
      "model_module": "k3d",
      "model_module_version": "^3.0.0",
      "model_name": "PlotModel",
      "state": {
       "_backend_version": "2.4.20",
       "_dom_classes": [],
       "_model_module_version": "^3.0.0",
       "_view_count": null,
       "_view_module_version": "^3.0.0",
       "antialias": true,
       "background_color": 16777215,
       "camera": [
        4.781653368933138,
        1.3476034870088078,
        1.5230744896990724,
        0,
        0,
        0,
        -0.236944568879535,
        -0.04266785881020561,
        0.9705857639091154
       ],
       "camera_auto_fit": true,
       "clipping_planes": [],
       "fps_meter": false,
       "grid": [
        -1,
        -1,
        -1,
        1,
        1,
        1
       ],
       "grid_auto_fit": true,
       "height": 512,
       "layout": "IPY_MODEL_80a856d4eeae4321b1ebb253afab3624",
       "lighting": 1,
       "object_ids": [
        140067950672864,
        140067950670568
       ],
       "screenshot": "",
       "screenshot_scale": 2,
       "voxel_paint_color": 0
      }
     },
     "c022eb1d3dd24e5fad0ad7e778b13c20": {
      "model_module": "k3d",
      "model_module_version": "^3.0.0",
      "model_name": "ObjectModel",
      "state": {
       "_model_module_version": "^3.0.0",
       "_view_count": null,
       "_view_module": null,
       "_view_module_version": "",
       "_view_name": null,
       "color": 0,
       "compression_level": 0,
       "id": 140058871252136,
       "position": [
        -0.5180340051651001,
        0.1,
        1.7180340051651002
       ],
       "reference_point": "lb",
       "size": 1,
       "text": "13",
       "type": "Text",
       "visible": true
      }
     },
     "c4029148d12a49098c7ea6cc6d0f8eb8": {
      "model_module": "k3d",
      "model_module_version": "^3.0.0",
      "model_name": "PlotModel",
      "state": {
       "_backend_version": "2.4.16",
       "_dom_classes": [],
       "_model_module_version": "^3.0.0",
       "_view_count": null,
       "_view_module_version": "^3.0.0",
       "antialias": true,
       "background_color": 16777215,
       "camera": [
        3.7555829114157944,
        -5.633374367123696,
        0.37555829114158346,
        0,
        0,
        0,
        0,
        0,
        1
       ],
       "camera_auto_fit": true,
       "clipping_planes": [],
       "fps_meter": false,
       "grid": [
        -1,
        -1,
        -1,
        1,
        1,
        1
       ],
       "grid_auto_fit": true,
       "height": 512,
       "layout": "IPY_MODEL_b71ccd0713cb40a984ec6b00e55e3033",
       "lighting": 1,
       "object_ids": [
        139979729382984,
        139979729291752,
        139979729292256,
        139979729292928,
        139979729291920,
        139979729293040,
        139979729292872,
        139979729291976,
        139979729292032,
        139979729293208,
        139979729291864,
        139979729292648,
        139979729379792,
        139979729379680,
        139979729379568,
        139979729380352,
        139979729380968,
        139979729380520,
        139979729381472,
        139979729380576,
        139979729379400,
        139979729476632
       ],
       "screenshot": "",
       "screenshot_scale": 2,
       "voxel_paint_color": 0
      }
     },
     "c4579b2a3e53469f87d8ebbfd6b63a91": {
      "model_module": "k3d",
      "model_module_version": "^3.0.0",
      "model_name": "ObjectModel",
      "state": {
       "_model_module_version": "^3.0.0",
       "_view_count": null,
       "_view_module": null,
       "_view_module_version": "",
       "_view_name": null,
       "color": 0,
       "compression_level": 0,
       "id": 139979729291752,
       "position": [
        -0.9,
        -0.9,
        -0.9
       ],
       "reference_point": "lb",
       "size": 1,
       "text": "0",
       "type": "Text",
       "visible": true
      }
     },
     "c470205d7cbe44b9b008ecfc804f488e": {
      "model_module": "@jupyter-widgets/base",
      "model_module_version": "1.0.0",
      "model_name": "LayoutModel",
      "state": {}
     },
     "c4d8e304519e48898cf8b5448f6fa0b4": {
      "model_module": "k3d",
      "model_module_version": "^3.0.0",
      "model_name": "ObjectModel",
      "state": {
       "_model_module_version": "^3.0.0",
       "_view_count": null,
       "_view_module": null,
       "_view_module_version": "",
       "_view_name": null,
       "color": 0,
       "compression_level": 0,
       "id": 140058871253200,
       "position": [
        1.1,
        1.1,
        -0.9
       ],
       "reference_point": "lb",
       "size": 1,
       "text": "6",
       "type": "Text",
       "visible": true
      }
     },
     "c8d2614cba794dcf845634242c9dc447": {
      "model_module": "@jupyter-widgets/base",
      "model_module_version": "1.0.0",
      "model_name": "LayoutModel",
      "state": {}
     },
     "c90018a8e78e4b0fb83c4464c8de263e": {
      "model_module": "@jupyter-widgets/base",
      "model_module_version": "1.0.0",
      "model_name": "LayoutModel",
      "state": {}
     },
     "cc04cb15fc9d496c834e25f6b7a65c49": {
      "model_module": "k3d",
      "model_module_version": "^3.0.0",
      "model_name": "ObjectModel",
      "state": {
       "_model_module_version": "^3.0.0",
       "_view_count": null,
       "_view_module": null,
       "_view_module_version": "",
       "_view_name": null,
       "color": 0,
       "compression_level": 0,
       "id": 139979729380576,
       "position": [
        -1.5180340051651,
        -0.5180340051651001,
        0.1
       ],
       "reference_point": "lb",
       "size": 1,
       "text": "18",
       "type": "Text",
       "visible": true
      }
     },
     "ce85ca48f2ea4654be15c9716b391e79": {
      "buffers": [
       {
        "data": "",
        "encoding": "base64",
        "path": [
         "attribute",
         "buffer"
        ]
       },
       {
        "data": "",
        "encoding": "base64",
        "path": [
         "color_map",
         "buffer"
        ]
       },
       {
        "data": "AAAAAAEAAAACAAAAAAAAAAEAAAAFAAAAAQAAAAIAAAADAAAAAQAAAAMAAAAFAAAAAAAAAAQAAAAFAAAAAAAAAAIAAAAEAAAAAgAAAAMAAAAEAAAAAwAAAAQAAAAFAAAA",
        "encoding": "base64",
        "path": [
         "indices",
         "buffer"
        ]
       },
       {
        "data": "AACAPwAAAAAAAAAAAAAAAAAAAAAAAIA/AAAAAAAAAAAAAAAAAAAAAAAAgD8AAAAAAAAAAAAAAAAAAAAAAACAPw==",
        "encoding": "base64",
        "path": [
         "model_matrix",
         "buffer"
        ]
       },
       {
        "data": "AACAPwAAAAAAAAAAAAAAAAAAgD8AAAAAAAAAAAAAAAAAAIA/AACAvwAAAAAAAAAAAAAAAAAAgL8AAAAAAAAAAAAAAAAAAIC/",
        "encoding": "base64",
        "path": [
         "vertices",
         "buffer"
        ]
       }
      ],
      "model_module": "k3d",
      "model_module_version": "^3.0.0",
      "model_name": "ObjectModel",
      "state": {
       "_model_module_version": "^3.0.0",
       "_view_count": null,
       "_view_module": null,
       "_view_module_version": "",
       "_view_name": null,
       "attribute": {
        "dtype": "float32",
        "shape": [
         0
        ]
       },
       "color": 255,
       "color_map": {
        "dtype": "float32",
        "shape": [
         0
        ]
       },
       "color_range": [],
       "compression_level": 0,
       "flat_shading": true,
       "id": 140067947741704,
       "indices": {
        "dtype": "uint32",
        "shape": [
         24
        ]
       },
       "model_matrix": {
        "dtype": "float32",
        "shape": [
         4,
         4
        ]
       },
       "type": "Mesh",
       "vertices": {
        "dtype": "float32",
        "shape": [
         6,
         3
        ]
       },
       "visible": true,
       "wireframe": false
      }
     },
     "d4482564eca442b4bd89cce8af31ea79": {
      "model_module": "k3d",
      "model_module_version": "^3.0.0",
      "model_name": "PlotModel",
      "state": {
       "_backend_version": "2.4.20",
       "_dom_classes": [],
       "_model_module_version": "^3.0.0",
       "_view_count": null,
       "_view_module_version": "^3.0.0",
       "antialias": true,
       "background_color": 16777215,
       "camera": [
        4.056154719149088,
        -6.084232078723636,
        0.4056154719149126,
        0,
        0,
        0,
        0,
        0,
        1
       ],
       "camera_auto_fit": true,
       "clipping_planes": [],
       "fps_meter": false,
       "grid": [
        -1,
        -1,
        -1,
        1,
        1,
        1
       ],
       "grid_auto_fit": true,
       "height": 512,
       "layout": "IPY_MODEL_a5a0e31ce262456297869a067d3b207d",
       "lighting": 1,
       "object_ids": [
        140067950479288
       ],
       "screenshot": "",
       "screenshot_scale": 2,
       "voxel_paint_color": 0
      }
     },
     "d4ed288a2cc643dfaa03293571f25530": {
      "buffers": [
       {
        "data": "",
        "encoding": "base64",
        "path": [
         "attribute",
         "buffer"
        ]
       },
       {
        "data": "",
        "encoding": "base64",
        "path": [
         "color_map",
         "buffer"
        ]
       },
       {
        "data": "AAAAAAEAAAASAAAAAAAAAAEAAAAKAAAAAQAAAAkAAAAKAAAAAAAAAAoAAAAOAAAACgAAAA4AAAAPAAAABAAAAAoAAAAPAAAABAAAAAkAAAAKAAAABAAAAAUAAAAJAAAABAAAAAUAAAATAAAABAAAAA8AAAATAAAABgAAAA8AAAATAAAABgAAABAAAAATAAAABgAAAAcAAAAQAAAABgAAAAcAAAAIAAAABgAAAAgAAAALAAAAAgAAAAMAAAARAAAAAgAAAAMAAAAIAAAAAgAAAAgAAAALAAAAAQAAAAMAAAANAAAAAQAAAAMAAAASAAAAAwAAABEAAAASAAAAAQAAAAkAAAANAAAACQAAAAwAAAANAAAABQAAAAkAAAAMAAAABQAAAAwAAAATAAAADAAAABAAAAATAAAABwAAAAwAAAAQAAAAAwAAAAcAAAAIAAAAAwAAAAcAAAAMAAAAAwAAAAwAAAANAAAADgAAAAYAAAAPAAAADgAAAAYAAAALAAAAAgAAAAsAAAAOAAAAAAAAABEAAAASAAAAAAAAAAIAAAARAAAAAAAAAAIAAAAOAAAA",
        "encoding": "base64",
        "path": [
         "indices",
         "buffer"
        ]
       },
       {
        "data": "AACAPwAAAAAAAAAAAAAAAAAAAAAAAIA/AAAAAAAAAAAAAAAAAAAAAAAAgD8AAAAAAAAAAAAAAAAAAAAAAACAPw==",
        "encoding": "base64",
        "path": [
         "model_matrix",
         "buffer"
        ]
       },
       {
        "data": "AACAvwAAgL8AAIC/AACAvwAAgL8AAIA/AACAvwAAgD8AAIC/AACAvwAAgD8AAIA/AACAPwAAgL8AAIC/AACAPwAAgL8AAIA/AACAPwAAgD8AAIC/AACAPwAAgD8AAIA/AAAAAL0bzz96Nx4/AAAAAL0bz796Nx4/AAAAAL0bz796Nx6/AAAAAL0bzz96Nx6/ejcePwAAAAC9G88/ejcevwAAAAC9G88/ejcevwAAAAC9G8+/ejcePwAAAAC9G8+/vRvPP3o3Hj8AAAAAvRvPv3o3Hj8AAAAAvRvPv3o3Hr8AAAAAvRvPP3o3Hr8AAAAA",
        "encoding": "base64",
        "path": [
         "vertices",
         "buffer"
        ]
       }
      ],
      "model_module": "k3d",
      "model_module_version": "^3.0.0",
      "model_name": "ObjectModel",
      "state": {
       "_model_module_version": "^3.0.0",
       "_view_count": null,
       "_view_module": null,
       "_view_module_version": "",
       "_view_name": null,
       "attribute": {
        "dtype": "float32",
        "shape": [
         0
        ]
       },
       "color": 255,
       "color_map": {
        "dtype": "float32",
        "shape": [
         0
        ]
       },
       "color_range": [],
       "compression_level": 0,
       "flat_shading": true,
       "id": 140067947392528,
       "indices": {
        "dtype": "uint32",
        "shape": [
         108
        ]
       },
       "model_matrix": {
        "dtype": "float32",
        "shape": [
         4,
         4
        ]
       },
       "type": "Mesh",
       "vertices": {
        "dtype": "float32",
        "shape": [
         20,
         3
        ]
       },
       "visible": true,
       "wireframe": false
      }
     },
     "d6aeaaf1c08c4821969dd46875fde903": {
      "model_module": "k3d",
      "model_module_version": "^3.0.0",
      "model_name": "ObjectModel",
      "state": {
       "_model_module_version": "^3.0.0",
       "_view_count": null,
       "_view_module": null,
       "_view_module_version": "",
       "_view_name": null,
       "color": 0,
       "compression_level": 0,
       "id": 140058871254096,
       "position": [
        1.7180340051651002,
        0.7180340051651001,
        0.1
       ],
       "reference_point": "lb",
       "size": 1,
       "text": "16",
       "type": "Text",
       "visible": true
      }
     },
     "d9820dd6908a4b88a457f00108bee58b": {
      "model_module": "@jupyter-widgets/base",
      "model_module_version": "1.0.0",
      "model_name": "LayoutModel",
      "state": {}
     },
     "daabe40634694c3d81a958042ada67cd": {
      "model_module": "k3d",
      "model_module_version": "^3.0.0",
      "model_name": "ObjectModel",
      "state": {
       "_model_module_version": "^3.0.0",
       "_view_count": null,
       "_view_module": null,
       "_view_module_version": "",
       "_view_name": null,
       "color": 0,
       "compression_level": 0,
       "id": 139979729380520,
       "position": [
        1.7180340051651002,
        0.7180340051651001,
        0.1
       ],
       "reference_point": "lb",
       "size": 1,
       "text": "16",
       "type": "Text",
       "visible": true
      }
     },
     "dc62029e23bc4effa3370a7c40038dd3": {
      "model_module": "k3d",
      "model_module_version": "^3.0.0",
      "model_name": "ObjectModel",
      "state": {
       "_model_module_version": "^3.0.0",
       "_view_count": null,
       "_view_module": null,
       "_view_module_version": "",
       "_view_name": null,
       "color": 0,
       "compression_level": 0,
       "id": 139979729292256,
       "position": [
        -0.9,
        -0.9,
        1.1
       ],
       "reference_point": "lb",
       "size": 1,
       "text": "1",
       "type": "Text",
       "visible": true
      }
     },
     "dfe4e7d3b7214c78b2804b8a32cd73c1": {
      "model_module": "k3d",
      "model_module_version": "^3.0.0",
      "model_name": "ObjectModel",
      "state": {
       "_model_module_version": "^3.0.0",
       "_view_count": null,
       "_view_module": null,
       "_view_module_version": "",
       "_view_name": null,
       "color": 0,
       "compression_level": 0,
       "id": 140058871251688,
       "position": [
        -0.9,
        -0.9,
        1.1
       ],
       "reference_point": "lb",
       "size": 1,
       "text": "1",
       "type": "Text",
       "visible": true
      }
     },
     "e39e2530940d4495a58241279206f9cb": {
      "model_module": "@jupyter-widgets/output",
      "model_module_version": "1.0.0",
      "model_name": "OutputModel",
      "state": {
       "layout": "IPY_MODEL_5588018477c642e39afcd80e30a79364",
       "outputs": [
        {
         "data": {
          "application/vnd.jupyter.widget-view+json": {
           "model_id": "4f29803690784bbb8a51860ee4470ab2",
           "version_major": 2,
           "version_minor": 0
          },
          "text/plain": "Plot(antialias=True, background_color=16777215, fps_meter=False, grid=[-1, -1, -1, 1, 1, 1], height=512, light…"
         },
         "metadata": {},
         "output_type": "display_data"
        }
       ]
      }
     },
     "e593ed2e801744b1ad79d2687c46fe93": {
      "model_module": "k3d",
      "model_module_version": "^3.0.0",
      "model_name": "ObjectModel",
      "state": {
       "_model_module_version": "^3.0.0",
       "_view_count": null,
       "_view_module": null,
       "_view_module_version": "",
       "_view_name": null,
       "color": 0,
       "compression_level": 0,
       "id": 140058871254376,
       "position": [
        -1.5180340051651,
        -0.5180340051651001,
        0.1
       ],
       "reference_point": "lb",
       "size": 1,
       "text": "18",
       "type": "Text",
       "visible": true
      }
     },
     "e5b309a25c7d4c878309b50cba5a44ad": {
      "model_module": "@jupyter-widgets/output",
      "model_module_version": "1.0.0",
      "model_name": "OutputModel",
      "state": {
       "layout": "IPY_MODEL_ec58d84f181e4da597609a86d1c311f8",
       "outputs": [
        {
         "data": {
          "application/vnd.jupyter.widget-view+json": {
           "model_id": "2fecd3bc3b594081b2e798f0be4551fb",
           "version_major": 2,
           "version_minor": 0
          },
          "text/plain": "Plot(antialias=True, background_color=16777215, fps_meter=False, grid=[-1, -1, -1, 1, 1, 1], height=512, light…"
         },
         "metadata": {},
         "output_type": "display_data"
        }
       ]
      }
     },
     "e60304c1c86544f4912cf2c1ce1a48da": {
      "model_module": "@jupyter-widgets/output",
      "model_module_version": "1.0.0",
      "model_name": "OutputModel",
      "state": {
       "layout": "IPY_MODEL_d9820dd6908a4b88a457f00108bee58b",
       "outputs": [
        {
         "data": {
          "application/vnd.jupyter.widget-view+json": {
           "model_id": "27d55bcaa10c4b638ee860295895080b",
           "version_major": 2,
           "version_minor": 0
          },
          "text/plain": "Plot(antialias=True, background_color=16777215, fps_meter=False, grid=[-1, -1, -1, 1, 1, 1], height=512, light…"
         },
         "metadata": {},
         "output_type": "display_data"
        }
       ]
      }
     },
     "e7d6f2b43c2f45ff928826a9ba28314c": {
      "model_module": "@jupyter-widgets/output",
      "model_module_version": "1.0.0",
      "model_name": "OutputModel",
      "state": {
       "layout": "IPY_MODEL_51587c1ee4624b57b3d0870d88c2d893",
       "outputs": [
        {
         "data": {
          "application/vnd.jupyter.widget-view+json": {
           "model_id": "156421f9a17a4a1d85159ab8bdffab85",
           "version_major": 2,
           "version_minor": 0
          },
          "text/plain": "Plot(antialias=True, background_color=16777215, fps_meter=False, grid=[-1, -1, -1, 1, 1, 1], height=512, light…"
         },
         "metadata": {},
         "output_type": "display_data"
        }
       ]
      }
     },
     "e856fe521b5f460e94cdcbfef9853541": {
      "model_module": "@jupyter-widgets/base",
      "model_module_version": "1.0.0",
      "model_name": "LayoutModel",
      "state": {}
     },
     "e88691921a66430dada063b00c813eca": {
      "buffers": [
       {
        "data": "",
        "encoding": "base64",
        "path": [
         "attribute",
         "buffer"
        ]
       },
       {
        "data": "",
        "encoding": "base64",
        "path": [
         "color_map",
         "buffer"
        ]
       },
       {
        "data": "AAAAAAEAAAASAAAAAAAAAAEAAAAKAAAAAQAAAAkAAAAKAAAAAAAAAAoAAAAOAAAACgAAAA4AAAAPAAAABAAAAAoAAAAPAAAABAAAAAkAAAAKAAAABAAAAAUAAAAJAAAABAAAAAUAAAATAAAABAAAAA8AAAATAAAABgAAAA8AAAATAAAABgAAABAAAAATAAAABgAAAAcAAAAQAAAABgAAAAcAAAAIAAAABgAAAAgAAAALAAAAAgAAAAMAAAARAAAAAgAAAAMAAAAIAAAAAgAAAAgAAAALAAAAAQAAAAMAAAANAAAAAQAAAAMAAAASAAAAAwAAABEAAAASAAAAAQAAAAkAAAANAAAACQAAAAwAAAANAAAABQAAAAkAAAAMAAAABQAAAAwAAAATAAAADAAAABAAAAATAAAABwAAAAwAAAAQAAAAAwAAAAcAAAAIAAAAAwAAAAcAAAAMAAAAAwAAAAwAAAANAAAADgAAAAYAAAAPAAAADgAAAAYAAAALAAAAAgAAAAsAAAAOAAAAAAAAABEAAAASAAAAAAAAAAIAAAARAAAAAAAAAAIAAAAOAAAA",
        "encoding": "base64",
        "path": [
         "indices",
         "buffer"
        ]
       },
       {
        "data": "AACAPwAAAAAAAAAAAAAAAAAAAAAAAIA/AAAAAAAAAAAAAAAAAAAAAAAAgD8AAAAAAAAAAAAAAAAAAAAAAACAPw==",
        "encoding": "base64",
        "path": [
         "model_matrix",
         "buffer"
        ]
       },
       {
        "data": "AACAvwAAgL8AAIC/AACAvwAAgL8AAIA/AACAvwAAgD8AAIC/AACAvwAAgD8AAIA/AACAPwAAgL8AAIC/AACAPwAAgL8AAIA/AACAPwAAgD8AAIC/AACAPwAAgD8AAIA/AAAAAL0bzz96Nx4/AAAAAL0bz796Nx4/AAAAAL0bz796Nx6/AAAAAL0bzz96Nx6/ejcePwAAAAC9G88/ejcevwAAAAC9G88/ejcevwAAAAC9G8+/ejcePwAAAAC9G8+/vRvPP3o3Hj8AAAAAvRvPv3o3Hj8AAAAAvRvPv3o3Hr8AAAAAvRvPP3o3Hr8AAAAA",
        "encoding": "base64",
        "path": [
         "vertices",
         "buffer"
        ]
       }
      ],
      "model_module": "k3d",
      "model_module_version": "^3.0.0",
      "model_name": "ObjectModel",
      "state": {
       "_model_module_version": "^3.0.0",
       "_view_count": null,
       "_view_module": null,
       "_view_module_version": "",
       "_view_name": null,
       "attribute": {
        "dtype": "float32",
        "shape": [
         0
        ]
       },
       "color": 255,
       "color_map": {
        "dtype": "float32",
        "shape": [
         0
        ]
       },
       "color_range": [],
       "compression_level": 0,
       "flat_shading": true,
       "id": 140067947118944,
       "indices": {
        "dtype": "uint32",
        "shape": [
         108
        ]
       },
       "model_matrix": {
        "dtype": "float32",
        "shape": [
         4,
         4
        ]
       },
       "type": "Mesh",
       "vertices": {
        "dtype": "float32",
        "shape": [
         20,
         3
        ]
       },
       "visible": true,
       "wireframe": false
      }
     },
     "ebdc4dcbba81434e9c694b3b00a23738": {
      "buffers": [
       {
        "data": "",
        "encoding": "base64",
        "path": [
         "attribute",
         "buffer"
        ]
       },
       {
        "data": "",
        "encoding": "base64",
        "path": [
         "color_map",
         "buffer"
        ]
       },
       {
        "data": "AAAAAAIAAAAIAAAAAAAAAAQAAAAIAAAAAAAAAAIAAAAJAAAAAAAAAAUAAAAJAAAAAgAAAAYAAAAIAAAAAgAAAAcAAAAJAAAAAgAAAAYAAAAHAAAAAAAAAAQAAAAFAAAAAQAAAAQAAAAFAAAAAQAAAAUAAAALAAAABwAAAAkAAAALAAAAAwAAAAcAAAALAAAAAwAAAAYAAAAHAAAAAwAAAAYAAAAKAAAABAAAAAgAAAAKAAAABgAAAAgAAAAKAAAAAQAAAAQAAAAKAAAAAQAAAAMAAAALAAAAAQAAAAMAAAAKAAAABQAAAAkAAAALAAAA",
        "encoding": "base64",
        "path": [
         "indices",
         "buffer"
        ]
       },
       {
        "data": "AACAPwAAAAAAAAAAAAAAAAAAAAAAAIA/AAAAAAAAAAAAAAAAAAAAAAAAgD8AAAAAAAAAAAAAAAAAAAAAAACAPw==",
        "encoding": "base64",
        "path": [
         "model_matrix",
         "buffer"
        ]
       },
       {
        "data": "AACAP70bzz8AAAAAAACAP70bz78AAAAAAACAv70bzz8AAAAAAACAv70bz78AAAAAvRvPPwAAAAAAAIA/vRvPPwAAAAAAAIC/vRvPvwAAAAAAAIA/vRvPvwAAAAAAAIC/AAAAAAAAgD+9G88/AAAAAAAAgD+9G8+/AAAAAAAAgL+9G88/AAAAAAAAgL+9G8+/",
        "encoding": "base64",
        "path": [
         "vertices",
         "buffer"
        ]
       }
      ],
      "model_module": "k3d",
      "model_module_version": "^3.0.0",
      "model_name": "ObjectModel",
      "state": {
       "_model_module_version": "^3.0.0",
       "_view_count": null,
       "_view_module": null,
       "_view_module_version": "",
       "_view_name": null,
       "attribute": {
        "dtype": "float32",
        "shape": [
         0
        ]
       },
       "color": 255,
       "color_map": {
        "dtype": "float32",
        "shape": [
         0
        ]
       },
       "color_range": [],
       "compression_level": 0,
       "flat_shading": true,
       "id": 140067947014856,
       "indices": {
        "dtype": "uint32",
        "shape": [
         60
        ]
       },
       "model_matrix": {
        "dtype": "float32",
        "shape": [
         4,
         4
        ]
       },
       "type": "Mesh",
       "vertices": {
        "dtype": "float32",
        "shape": [
         12,
         3
        ]
       },
       "visible": true,
       "wireframe": false
      }
     },
     "ec58d84f181e4da597609a86d1c311f8": {
      "model_module": "@jupyter-widgets/base",
      "model_module_version": "1.0.0",
      "model_name": "LayoutModel",
      "state": {}
     },
     "ed0986f035ae44f18807dabd293c3754": {
      "buffers": [
       {
        "data": "",
        "encoding": "base64",
        "path": [
         "attribute",
         "buffer"
        ]
       },
       {
        "data": "",
        "encoding": "base64",
        "path": [
         "color_map",
         "buffer"
        ]
       },
       {
        "data": "AAAAAAEAAAASAAAAAAAAAAEAAAAKAAAAAQAAAAkAAAAKAAAAAAAAAAoAAAAOAAAACgAAAA4AAAAPAAAABAAAAAoAAAAPAAAABAAAAAkAAAAKAAAABAAAAAUAAAAJAAAABAAAAAUAAAATAAAABAAAAA8AAAATAAAABgAAAA8AAAATAAAABgAAABAAAAATAAAABgAAAAcAAAAQAAAABgAAAAcAAAAIAAAABgAAAAgAAAALAAAAAgAAAAMAAAARAAAAAgAAAAMAAAAIAAAAAgAAAAgAAAALAAAAAQAAAAMAAAANAAAAAQAAAAMAAAASAAAAAwAAABEAAAASAAAAAQAAAAkAAAANAAAACQAAAAwAAAANAAAABQAAAAkAAAAMAAAABQAAAAwAAAATAAAADAAAABAAAAATAAAABwAAAAwAAAAQAAAAAwAAAAcAAAAIAAAAAwAAAAcAAAAMAAAAAwAAAAwAAAANAAAADgAAAAYAAAAPAAAADgAAAAYAAAALAAAAAgAAAAsAAAAOAAAAAAAAABEAAAASAAAAAAAAAAIAAAARAAAAAAAAAAIAAAAOAAAA",
        "encoding": "base64",
        "path": [
         "indices",
         "buffer"
        ]
       },
       {
        "data": "AACAPwAAAAAAAAAAAAAAAAAAAAAAAIA/AAAAAAAAAAAAAAAAAAAAAAAAgD8AAAAAAAAAAAAAAAAAAAAAAACAPw==",
        "encoding": "base64",
        "path": [
         "model_matrix",
         "buffer"
        ]
       },
       {
        "data": "AACAvwAAgL8AAIC/AACAvwAAgL8AAIA/AACAvwAAgD8AAIC/AACAvwAAgD8AAIA/AACAPwAAgL8AAIC/AACAPwAAgL8AAIA/AACAPwAAgD8AAIC/AACAPwAAgD8AAIA/AAAAAL0bzz96Nx4/AAAAAL0bz796Nx4/AAAAAL0bz796Nx6/AAAAAL0bzz96Nx6/ejcePwAAAAC9G88/ejcevwAAAAC9G88/ejcevwAAAAC9G8+/ejcePwAAAAC9G8+/vRvPP3o3Hj8AAAAAvRvPv3o3Hj8AAAAAvRvPv3o3Hr8AAAAAvRvPP3o3Hr8AAAAA",
        "encoding": "base64",
        "path": [
         "vertices",
         "buffer"
        ]
       }
      ],
      "model_module": "k3d",
      "model_module_version": "^3.0.0",
      "model_name": "ObjectModel",
      "state": {
       "_model_module_version": "^3.0.0",
       "_view_count": null,
       "_view_module": null,
       "_view_module_version": "",
       "_view_name": null,
       "attribute": {
        "dtype": "float32",
        "shape": [
         0
        ]
       },
       "color": 255,
       "color_map": {
        "dtype": "float32",
        "shape": [
         0
        ]
       },
       "color_range": [],
       "compression_level": 0,
       "flat_shading": true,
       "id": 4393086592,
       "indices": {
        "dtype": "uint32",
        "shape": [
         108
        ]
       },
       "model_matrix": {
        "dtype": "float32",
        "shape": [
         4,
         4
        ]
       },
       "type": "Mesh",
       "vertices": {
        "dtype": "float32",
        "shape": [
         20,
         3
        ]
       },
       "visible": true,
       "wireframe": false
      }
     },
     "ee56d5baa70543f182f9c7b9f38b4a52": {
      "model_module": "@jupyter-widgets/output",
      "model_module_version": "1.0.0",
      "model_name": "OutputModel",
      "state": {
       "layout": "IPY_MODEL_327e73a1623940738deb93e5663ea53b",
       "outputs": [
        {
         "data": {
          "application/vnd.jupyter.widget-view+json": {
           "model_id": "af4cb5e3f1424b1999947b3c772d9084",
           "version_major": 2,
           "version_minor": 0
          },
          "text/plain": "Plot(antialias=True, background_color=16777215, fps_meter=False, grid=[-1, -1, -1, 1, 1, 1], height=512, light…"
         },
         "metadata": {},
         "output_type": "display_data"
        }
       ]
      }
     },
     "ef6ff52d2f79474fb95c4f5a18417a3a": {
      "model_module": "@jupyter-widgets/base",
      "model_module_version": "1.0.0",
      "model_name": "LayoutModel",
      "state": {}
     },
     "f29e58f7705c4bffbc3bc78ee3c57d56": {
      "model_module": "@jupyter-widgets/output",
      "model_module_version": "1.0.0",
      "model_name": "OutputModel",
      "state": {
       "layout": "IPY_MODEL_6cd5d82b37644234b35dc04ae043b31e",
       "outputs": [
        {
         "data": {
          "application/vnd.jupyter.widget-view+json": {
           "model_id": "8ecda75fae5f4bd1a4d8907c17bcafbe",
           "version_major": 2,
           "version_minor": 0
          },
          "text/plain": "Plot(antialias=True, background_color=16777215, fps_meter=False, grid=[-1, -1, -1, 1, 1, 1], height=512, light…"
         },
         "metadata": {},
         "output_type": "display_data"
        }
       ]
      }
     },
     "f7bfedb719eb4078b4d92cbc1c668c04": {
      "model_module": "@jupyter-widgets/base",
      "model_module_version": "1.0.0",
      "model_name": "LayoutModel",
      "state": {}
     },
     "f8ce17f0cfc24cfabbe8ae1957db2af0": {
      "buffers": [
       {
        "data": "",
        "encoding": "base64",
        "path": [
         "attribute",
         "buffer"
        ]
       },
       {
        "data": "",
        "encoding": "base64",
        "path": [
         "color_map",
         "buffer"
        ]
       },
       {
        "data": "AAAAAAEAAAACAAAAAAAAAAEAAAAFAAAAAQAAAAIAAAADAAAAAQAAAAMAAAAFAAAAAAAAAAQAAAAFAAAAAAAAAAIAAAAEAAAAAgAAAAMAAAAEAAAAAwAAAAQAAAAFAAAA",
        "encoding": "base64",
        "path": [
         "indices",
         "buffer"
        ]
       },
       {
        "data": "AACAPwAAAAAAAAAAAAAAAAAAAAAAAIA/AAAAAAAAAAAAAAAAAAAAAAAAgD8AAAAAAAAAAAAAAAAAAAAAAACAPw==",
        "encoding": "base64",
        "path": [
         "model_matrix",
         "buffer"
        ]
       },
       {
        "data": "AACAPwAAAAAAAAAAAAAAAAAAgD8AAAAAAAAAAAAAAAAAAIA/AACAvwAAAAAAAAAAAAAAAAAAgL8AAAAAAAAAAAAAAAAAAIC/",
        "encoding": "base64",
        "path": [
         "vertices",
         "buffer"
        ]
       }
      ],
      "model_module": "k3d",
      "model_module_version": "^3.0.0",
      "model_name": "ObjectModel",
      "state": {
       "_model_module_version": "^3.0.0",
       "_view_count": null,
       "_view_module": null,
       "_view_module_version": "",
       "_view_name": null,
       "attribute": {
        "dtype": "float32",
        "shape": [
         0
        ]
       },
       "color": 255,
       "color_map": {
        "dtype": "float32",
        "shape": [
         0
        ]
       },
       "color_range": [],
       "compression_level": 0,
       "flat_shading": true,
       "id": 4729984560,
       "indices": {
        "dtype": "uint32",
        "shape": [
         24
        ]
       },
       "model_matrix": {
        "dtype": "float32",
        "shape": [
         4,
         4
        ]
       },
       "type": "Mesh",
       "vertices": {
        "dtype": "float32",
        "shape": [
         6,
         3
        ]
       },
       "visible": true,
       "wireframe": false
      }
     },
     "fd177ba7283f4cb3ae6161efadba4d90": {
      "model_module": "@jupyter-widgets/base",
      "model_module_version": "1.0.0",
      "model_name": "LayoutModel",
      "state": {}
     },
     "fd2ec0e0a5664af284847bfb94457176": {
      "model_module": "k3d",
      "model_module_version": "^3.0.0",
      "model_name": "ObjectModel",
      "state": {
       "_model_module_version": "^3.0.0",
       "_view_count": null,
       "_view_module": null,
       "_view_module_version": "",
       "_view_name": null,
       "color": 0,
       "compression_level": 0,
       "id": 140058871253088,
       "position": [
        -0.5180340051651001,
        0.1,
        -1.5180340051651
       ],
       "reference_point": "lb",
       "size": 1,
       "text": "14",
       "type": "Text",
       "visible": true
      }
     },
     "fd5f1a265a684f30bd6dd6f3ce99d298": {
      "model_module": "k3d",
      "model_module_version": "^3.0.0",
      "model_name": "ObjectModel",
      "state": {
       "_model_module_version": "^3.0.0",
       "_view_count": null,
       "_view_module": null,
       "_view_module_version": "",
       "_view_name": null,
       "color": 0,
       "compression_level": 0,
       "id": 139979729380968,
       "position": [
        0.7180340051651001,
        0.1,
        -1.5180340051651
       ],
       "reference_point": "lb",
       "size": 1,
       "text": "15",
       "type": "Text",
       "visible": true
      }
     },
     "ff367242cbd849c2be0fa06945fe37ab": {
      "buffers": [
       {
        "data": "",
        "encoding": "base64",
        "path": [
         "attribute",
         "buffer"
        ]
       },
       {
        "data": "",
        "encoding": "base64",
        "path": [
         "color_map",
         "buffer"
        ]
       },
       {
        "data": "AAAAAAEAAAACAAAAAAAAAAEAAAADAAAAAQAAAAIAAAADAAAAAAAAAAIAAAADAAAA",
        "encoding": "base64",
        "path": [
         "indices",
         "buffer"
        ]
       },
       {
        "data": "AACAPwAAAAAAAAAAAAAAAAAAAAAAAIA/AAAAAAAAAAAAAAAAAAAAAAAAgD8AAAAAAAAAAAAAAAAAAAAAAACAPw==",
        "encoding": "base64",
        "path": [
         "model_matrix",
         "buffer"
        ]
       },
       {
        "data": "AACAPwAAgD8AAIA/AACAPwAAgL8AAIC/AACAvwAAgD8AAIC/AACAvwAAgL8AAIA/",
        "encoding": "base64",
        "path": [
         "vertices",
         "buffer"
        ]
       }
      ],
      "model_module": "k3d",
      "model_module_version": "^3.0.0",
      "model_name": "ObjectModel",
      "state": {
       "_model_module_version": "^3.0.0",
       "_view_count": null,
       "_view_module": null,
       "_view_module_version": "",
       "_view_name": null,
       "attribute": {
        "dtype": "float32",
        "shape": [
         0
        ]
       },
       "color": 255,
       "color_map": {
        "dtype": "float32",
        "shape": [
         0
        ]
       },
       "color_range": [],
       "compression_level": 0,
       "flat_shading": true,
       "id": 4729984728,
       "indices": {
        "dtype": "uint32",
        "shape": [
         12
        ]
       },
       "model_matrix": {
        "dtype": "float32",
        "shape": [
         4,
         4
        ]
       },
       "type": "Mesh",
       "vertices": {
        "dtype": "float32",
        "shape": [
         4,
         3
        ]
       },
       "visible": true,
       "wireframe": true
      }
     },
     "fff63bedc5944a8489f9750aa8a6ac8d": {
      "model_module": "k3d",
      "model_module_version": "^3.0.0",
      "model_name": "ObjectModel",
      "state": {
       "_model_module_version": "^3.0.0",
       "_view_count": null,
       "_view_module": null,
       "_view_module_version": "",
       "_view_name": null,
       "color": 0,
       "compression_level": 0,
       "id": 139979729381472,
       "position": [
        -1.5180340051651,
        0.7180340051651001,
        0.1
       ],
       "reference_point": "lb",
       "size": 1,
       "text": "17",
       "type": "Text",
       "visible": true
      }
     }
    },
    "version_major": 2,
    "version_minor": 0
   }
  }
 },
 "nbformat": 4,
 "nbformat_minor": 2
}
