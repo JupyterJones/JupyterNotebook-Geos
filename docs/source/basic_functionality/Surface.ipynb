{
 "cells": [
  {
   "cell_type": "markdown",
   "metadata": {},
   "source": [
    "## Surface"
   ]
  },
  {
   "cell_type": "code",
   "execution_count": 1,
   "metadata": {},
   "outputs": [
    {
     "data": {
      "application/vnd.jupyter.widget-view+json": {
       "model_id": "9c8d062e13444aa38b04e236bde1ea74",
       "version_major": 2,
       "version_minor": 0
      },
      "text/plain": [
       "Output()"
      ]
     },
     "metadata": {},
     "output_type": "display_data"
    }
   ],
   "source": [
    "import numpy as np\n",
    "import k3d\n",
    "\n",
    "plot = k3d.plot()\n",
    "\n",
    "Nx, Ny = 40, 80\n",
    "xmin, xmax, ymin, ymax = -3, 3, 0, 3\n",
    "\n",
    "x = np.linspace(xmin, xmax, Nx, dtype=np.float32)\n",
    "y = np.linspace(ymin, ymax, Ny, dtype=np.float32)\n",
    "x, y = np.meshgrid(x, y)\n",
    "\n",
    "heights = np.sin(x**2 + y**2)\n",
    "\n",
    "plt_surface = k3d.surface(heights, xmin=xmin, xmax=xmax, ymin=ymin, ymax=ymax)\n",
    "plot += plt_surface\n",
    "\n",
    "plot.display()"
   ]
  },
  {
   "cell_type": "code",
   "execution_count": null,
   "metadata": {},
   "outputs": [],
   "source": []
  }
 ],
 "metadata": {
  "kernelspec": {
   "display_name": "Python 3",
   "language": "python",
   "name": "python3"
  },
  "language_info": {
   "codemirror_mode": {
    "name": "ipython",
    "version": 3
   },
   "file_extension": ".py",
   "mimetype": "text/x-python",
   "name": "python",
   "nbconvert_exporter": "python",
   "pygments_lexer": "ipython3",
   "version": "3.6.1"
  },
  "widgets": {
   "application/vnd.jupyter.widget-state+json": {
    "state": {
     "02987923b28545f6ba65b69b4e0a16c0": {
      "model_module": "@jupyter-widgets/base",
      "model_module_version": "1.0.0",
      "model_name": "LayoutModel",
      "state": {}
     },
     "0605b8490de245f19d50fea1b4bba87f": {
      "model_module": "k3d",
      "model_module_version": "^3.0.0",
      "model_name": "PlotModel",
      "state": {
       "_backend_version": "2.4.20",
       "_dom_classes": [],
       "_model_module_version": "^3.0.0",
       "_view_count": null,
       "_view_module_version": "^3.0.0",
       "antialias": true,
       "background_color": 16777215,
       "camera": [
        11.355321838718247,
        -4.148930536329461,
        4.98417418312038,
        0,
        0,
        -3.3020973205566406e-05,
        -0.3359202502412351,
        0.036703227117064585,
        0.941175041422728
       ],
       "camera_auto_fit": true,
       "clipping_planes": [],
       "fps_meter": false,
       "grid": [
        -1,
        -1,
        -1,
        1,
        1,
        1
       ],
       "grid_auto_fit": true,
       "height": 512,
       "layout": "IPY_MODEL_0f96d870ec2b477b948b3c237a7ac4c8",
       "lighting": 1,
       "object_ids": [
        140676062174120
       ],
       "screenshot": "",
       "screenshot_scale": 2,
       "voxel_paint_color": 0
      }
     },
     "06ee720b42d94948a75b3a3bdd005a4d": {
      "buffers": [
       {
        "data": "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",
        "encoding": "base64",
        "path": [
         "heights",
         "buffer"
        ]
       },
       {
        "data": "AADAQAAAAAAAAAAAAAAAAAAAAAAAAMBAAAAAAAAAAAAAAAAAAAAAAAAAgD8AAAAAAAAAAAAAAAAAAAAAAACAPw==",
        "encoding": "base64",
        "path": [
         "model_matrix",
         "buffer"
        ]
       }
      ],
      "model_module": "k3d",
      "model_module_version": "^3.0.0",
      "model_name": "ObjectModel",
      "state": {
       "_model_module_version": "^3.0.0",
       "_view_count": null,
       "_view_module": null,
       "_view_module_version": "",
       "_view_name": null,
       "color": 255,
       "compression_level": 0,
       "flat_shading": true,
       "heights": {
        "dtype": "float32",
        "shape": [
         60,
         30
        ]
       },
       "id": 139859585525800,
       "model_matrix": {
        "dtype": "float32",
        "shape": [
         4,
         4
        ]
       },
       "type": "Surface",
       "visible": true,
       "wireframe": false
      }
     },
     "083a830fc4ab4b9bb76ff5dbd55a2f81": {
      "model_module": "@jupyter-widgets/base",
      "model_module_version": "1.0.0",
      "model_name": "LayoutModel",
      "state": {}
     },
     "0b7d92c780cb489bb7f28c410221c05b": {
      "model_module": "@jupyter-widgets/base",
      "model_module_version": "1.0.0",
      "model_name": "LayoutModel",
      "state": {}
     },
     "0c871e92339a43e889304eb53b04adfa": {
      "model_module": "k3d",
      "model_module_version": "^3.0.0",
      "model_name": "PlotModel",
      "state": {
       "_backend_version": "2.4.20",
       "_dom_classes": [],
       "_model_module_version": "^3.0.0",
       "_view_count": null,
       "_view_module_version": "^3.0.0",
       "antialias": true,
       "background_color": 16777215,
       "camera": [
        2.8778826572598577,
        -4.316823985889787,
        0.28778826572598526,
        0,
        0,
        0,
        0,
        0,
        1
       ],
       "camera_auto_fit": true,
       "clipping_planes": [],
       "fps_meter": false,
       "grid": [
        -1,
        -1,
        -1,
        1,
        1,
        1
       ],
       "grid_auto_fit": true,
       "height": 512,
       "layout": "IPY_MODEL_87f95b5787854b829fd111b025009250",
       "lighting": 1,
       "object_ids": [
        140676062172104
       ],
       "screenshot": "",
       "screenshot_scale": 2,
       "voxel_paint_color": 0
      }
     },
     "0e7059a1a9ed4a52aa14d53a2f5cf622": {
      "model_module": "@jupyter-widgets/base",
      "model_module_version": "1.0.0",
      "model_name": "LayoutModel",
      "state": {}
     },
     "0f96d870ec2b477b948b3c237a7ac4c8": {
      "model_module": "@jupyter-widgets/base",
      "model_module_version": "1.0.0",
      "model_name": "LayoutModel",
      "state": {}
     },
     "1d43b6ddf5284d9da046dd86b5c38767": {
      "model_module": "@jupyter-widgets/base",
      "model_module_version": "1.0.0",
      "model_name": "LayoutModel",
      "state": {}
     },
     "1f19dcef0ad640b8a54b8562613dfccb": {
      "model_module": "@jupyter-widgets/base",
      "model_module_version": "1.0.0",
      "model_name": "LayoutModel",
      "state": {}
     },
     "234ce6ee01b44ae4a18efb6d0a1face8": {
      "model_module": "k3d",
      "model_module_version": "^3.0.0",
      "model_name": "PlotModel",
      "state": {
       "_backend_version": "2.4.20",
       "_dom_classes": [],
       "_model_module_version": "^3.0.0",
       "_view_count": null,
       "_view_module_version": "^3.0.0",
       "antialias": true,
       "background_color": 16777215,
       "camera": [
        2.8778826572598577,
        -4.316823985889787,
        0.28778826572598526,
        0,
        0,
        0,
        0,
        0,
        1
       ],
       "camera_auto_fit": true,
       "clipping_planes": [],
       "fps_meter": false,
       "grid": [
        -1,
        -1,
        -1,
        1,
        1,
        1
       ],
       "grid_auto_fit": true,
       "height": 512,
       "layout": "IPY_MODEL_0e7059a1a9ed4a52aa14d53a2f5cf622",
       "lighting": 1,
       "object_ids": [
        140676062071496
       ],
       "screenshot": "",
       "screenshot_scale": 2,
       "voxel_paint_color": 0
      }
     },
     "248064de639a4ebfa9bd411f220e9cfb": {
      "model_module": "@jupyter-widgets/output",
      "model_module_version": "1.0.0",
      "model_name": "OutputModel",
      "state": {
       "layout": "IPY_MODEL_24fa0dec696f454d976889290cfb2a0d",
       "outputs": [
        {
         "data": {
          "application/vnd.jupyter.widget-view+json": {
           "model_id": "234ce6ee01b44ae4a18efb6d0a1face8",
           "version_major": 2,
           "version_minor": 0
          },
          "text/plain": "Plot(antialias=True, background_color=16777215, fps_meter=False, grid=[-1, -1, -1, 1, 1, 1], height=512, light…"
         },
         "metadata": {},
         "output_type": "display_data"
        }
       ]
      }
     },
     "24fa0dec696f454d976889290cfb2a0d": {
      "model_module": "@jupyter-widgets/base",
      "model_module_version": "1.0.0",
      "model_name": "LayoutModel",
      "state": {}
     },
     "2853f5edab864f3bbfd4146100c8fbf5": {
      "buffers": [
       {
        "data": "MgHTPoSlfz+m3sk+5ywVv2b+f79vHym/C/5HPYpuKz9EzHg/SlF2P6UkQz8VLAA//VmHPjDyxD2vVC88r1QvPDDyxD39WYc+FSwAP6UkQz9KUXY/RMx4P4puKz8L/kc9bx8pv2b+f7/nLBW/pt7JPoSlfz8yAdM+QczRPjOufz/mFcs+FKMUv/78f798nim/HGo9PY/wKj8mpHg/PH92PyaSQz+mvgA/s6CIPkM3yj0esFk8HrBZPEM3yj2zoIg+pr4APyaSQz88f3Y/JqR4P4/wKj8caj09fJ4pv/78f78UoxS/5hXLPjOufz9BzNE+SivOPp7Ffz+Ouc4+FQQTvyf2f7/pGSu/L6wdPdh0KT87KXg/jQZ3P6bYRD8EdQI/a3OMPmAE2j30X6w89F+sPGAE2j1rc4w+BHUCP6bYRD+NBnc/Oyl4P9h0KT8vrB096Rkrvyf2f78VBBO/jrnOPp7Ffz9KK84+/RfIPubjfz9Gw9Q+X0sQv/7hf79pjC2/+H/RPDb2Jj/hU3c/nt93PxHyRj8nSwU/x82SPqdS9D0IHgs9CB4LPadS9D3HzZI+J0sFPxHyRj+e33c/4VN3Pzb2Jj/4f9E8aYwtv/7hf79fSxC/RsPUPubjfz/9F8g+IYi/Pub7fz/nJ90+pnEMv2Gzf78G7TC/rwr1OyRsIz9sF3Y/r/14PyPUST8iOgk/EqibPmmKDD6ZLVU9mS1VPWmKDD4SqJs+IjoJPyPUST+v/Xg/bBd2PyRsIz+vCvU7Bu0wv2Gzf7+mcQy/5yfdPub7fz8hiL8+rW60Pjf7fz8R1+c+CW0Hv/JXf7/TLjW/z1qBvBvLHj8/YnQ/y056Py5wTT/fNw4/mfamPkgaJD6IJZo9iCWaPUgaJD6Z9qY+3zcOPy5wTT/LTno/P2J0PxvLHj/PWoG80y41v/JXf78JbQe/EdfnPjf7fz+tbrQ+3LumPjTKfz8/uvQ+ijEBvyO4fr+iQDq/eBw1vekEGT/wHXI/sLt7P9qyUT+2NhQ/w6i0PlfHQD4TKNQ9EyjUPVfHQD7DqLQ+tjYUP9qyUT+wu3s/8B1yP+kEGT94HDW9okA6vyO4fr+KMQG/P7r0PjTKfz/cu6Y+L1+WPgBMfz/e2QE/JWPzvku3fb+eDEC/eEKfvTEJEj+IL28/tCd9P8mDVj/1JBs/+afEPjl3Yj6UPgw+lD4MPjl3Yj75p8Q+9SQbP8mDVj+0J30/iC9vPzEJEj94Qp+9ngxAv0u3fb8lY/O+3tkBPwBMfz8vX5Y+YUiDPqlefj+4Tgo/O73hvskzfL/Nd0a/CU7uvRvGCT/Ld2s/vXB+PzrFWz9I7CI/QdbWPu2BhD63dzM+t3czPu2BhD5B1tY+SOwiPzrFWz+9cH4/y3drPxvGCT8JTu69zXdGv8kzfL87veG+uE4KP6lefj9hSIM+4dJaPlHbfD+soxM/QVTNvkUHer+OYU2/m7kjvg0pAD+l02Y/NG9/P65TYT8lcSs/wAzrPhgcmj5Xl18+V5dfPhgcmj7ADOs+JXErP65TYT80b38/pdNmPw0pAD+buSO+jmFNv0UHer9BVM2+rKMTP1HbfD/h0lo+FXApPnmWej8Tux0/6gy2vgoHd783o1S/xClVvmQ/6j7DHGE/H/Z/P4IFZz8QkjQ/Ao0APzLmsT4DMog+AzKIPjLmsT4CjQA/EJI0P4IFZz8f9n8/wxxhP2Q/6j7EKVW+N6NUvwoHd7/qDLa+E7sdP3mWej8VcCk+gsTkPYBgdz/WcCg/ENCbvoUEc79tD1y/45mFvhky0T5IKlo/UNN/P6aqbD8AJz4/HmAMP++wyz5jx6I+Y8eiPu+wyz4eYAw/ACc+P6aqbD9Q038/SCpaPxky0T7jmYW+bQ9cv4UEc78Q0Ju+1nAoP4Bgdz+CxOQ9u9JWPTQGcz+XmTM/nhp9vvrNbb/qcWO/QL2ivqINtT7E0VE/vc9+P2cMcj+vAEg/rdkYP3g/5z4/V78+P1e/Png/5z6t2Rg/rwBIP2cMcj+9z34/xNFRP6INtT5AvaK+6nFjv/rNbb+eGn2+l5kzPzQGcz+70lY9105HvLVRbT8cAj8/Xnw8vncvZ78kj2q/V8HBvre9lT5d6Ec/GbB8P17tdj8S6FE/r8slP6QiAj+xnd0+sZ3dPqQiAj+vyyU/EuhRP17tdj8ZsHw/XehHP7e9lT5XwcG+JI9qv3cvZ79efDy+HAI/P7VRbT/XTke8ZrGnvZALZj+Jbko/AaXrvQH0Xr8uJHG/AVfivlhzZj49RDw/mzV5P5cJez/snVs/Uv8yPwIyET8XRf0+F0X9PgIyET9S/zI/7J1bP5cJez+bNXk/PUQ8P1hzZj4BV+K+LiRxvwH0Xr8Bpeu9iW5KP5ALZj9msae9Sw8gvkT8XD8LmlU/2S0lvRPnVL/l5na/jg0Cv50QGz5Ivi4/KB90P/UWfj+Q2mQ/PjRAP8qUID/z8Q4/8/EOP8qUID8+NEA/kNpkP/UWfj8oH3Q/SL4uP50QGz6ODQK/5eZ2vxPnVL/ZLSW9C5pVP0T8XD9LDyC+yoVwvtPtUT+ZNmA/KAYjPW/WSL9mhnu/M0oTvycOkz0gNB8/xyptP/TFfz/uTW0/ISBNPzoHMD9YfR8/WH0fPzoHMD8hIE0/7k1tP/TFfz/HKm0/IDQfPycOkz0zShO/ZoZ7v2/WSL8oBiM9mTZgP9PtUT/KhXC++juivhiuRD8a7Wk/BZr/PUiUOr/Vq36/25gkv6ptXLxqig0/fRdkP8fCfz/9n3Q/fW5ZP0w6Pz9U+S8/VPkvP0w6Pz99blk//Z90P8fCfz99F2Q/aooNP6ptXLzbmCS/1at+v0iUOr8Fmv89Gu1pPxiuRD/6O6K+ZXTNvh4RNT/fXXI/UBdbPtL5Kb+2+3+/ZKQ1v1Z/1L2zXvM+oadYP/S2fT+HcXo/zsBkP23TTT9LDkA/Sw5AP23TTT/OwGQ/h3F6P/S2fT+hp1g/s17zPlZ/1L1kpDW/tvt/v9L5Kb9QF1s+311yPx4RNT9ldM2+PU/5vgj0Ij+8IXk/CdGcPhLqFr+0F3+/1ApGvy4LS74ZO8c+f6NKP25LeT+HXX4/QK9uP7BsWz9kWE8/ZFhPP7BsWz9Ar24/h11+P25LeT9/o0o/GTvHPi4LS77UCka/tBd/vxLqFr8J0Zw+vCF5Pwj0Ij89T/m+m4cSvzpADj+ky30/FBXNPgJVAb8NoXu/ol1Vv6CFl77jvZY+ndw5P0Yrcj8Y+38/4sl2P4WVZz/8Z10//GddP4WVZz/iyXY/GPt/P0Yrcj+d3Dk/472WPqCFl76iXVW/DaF7vwJVAb8UFc0+pMt9PzpADj+bhxK/4+onv5/d7T786n8/YpH9PiN20r6ZO3W/qCJjv9Zqyr6sP0Q+LDEmP/EGaD8Y4H4/l5p8PxjUcT+6wmk/usJpPxjUcT+Xmnw/GOB+P/EGaD8sMSY/rD9EPtZqyr6oImO/mTt1vyN20r5ikf0+/Op/P5/d7T7j6ie/01E8v00Yuj6lDn8/+qwWP/Jgnb59kWu/vNVuvypY/b5gEac9AJAPPyWYWj99pHo/yKd/P4SneT955XM/eeVzP4SneT/Ip38/faR6PyWYWj8AkA8/YBGnPSpY/b681W6/fZFrv/Jgnb76rBY/pQ5/P00Yuj7TUTy/PC1Pv5l3gT7qyHo/i64tP8aDR76ZV16/Net3v+WjF78OBA69evnrPlGmST9z5nI/7Hd/P8uKfj/wRns/8EZ7P8uKfj/sd38/c+ZyP1GmST96+es+DgQOveWjF78163e/mVdev8aDR76Lri0/6sh6P5l3gT48LU+/rOBfv2zuCD4ltHI/2DJDPy2XmL1iUk2/eNN9vxqGL79sSx++1SezPokLNT88T2c//pV7P+D4fz+AW38/gFt/P+D4fz/+lXs/PE9nP4kLNT/VJ7M+bEsfvhqGL794032/YlJNvy2XmL3YMkM/JbRyP2zuCD6s4F+/QMVtvzqn8ztNeGY/v49WP/VZVT12Wzi/i/9/v6OpRb+Q6Y6+wjxqPse5HD+ymFc/yZZzP6BxfT/tmX8/7Zl/P6BxfT/JlnM/sphXP8e5HD/CPGo+kOmOvqOpRb+L/3+/dls4v/VZVT2/j1Y/TXhmPzqn8ztAxW2/JS54v9Uo/r0y0VU/9A5nPxhTOz57Zx+/w+Z9v/RVWb/yT86+YkjKPYHAAD+Kk0M/JR9nP9F/dj8wgXs/MIF7P9F/dj8lH2c/ipNDP4HAAD9iSMo98k/OvvRVWb/D5n2/e2cfvxhTOz70Dmc/MtFVP9Uo/r0lLni/WG5+vwlYhL4WlUA/y/JzPz6LoT7qiwK/hw13vzTHab/HMQa/rgIcvbKjwj60LSs/1upVPwrAaj9Vn3I/VZ9yPwrAaj/W6lU/tC0rP7Kjwj6uAhy9xzEGvzTHab+HDXe/6osCvz6LoT7L8nM/FpVAPwlYhL5Ybn6/ot9/v2oayb41vCY/onx8P7vE5D5HCsS+Ig1rvyQ0dr+LvCO/bqA3vlEfez5JeQ4/HtQ/P4DoWT9HmWQ/R5lkP4DoWT8e1D8/SXkOP1Efez5uoDe+i7wjvyQ0dr8iDWu/RwrEvrvE5D6ifHw/NbwmP2oayb6i33+/M+t7v/8HBr9TZwg/zfR/PyPGEj8n7Xi+SZxZv5fVfb+o2z6/3sekvjZCzT2HZds+XNskPzrRQz9DM1E/QzNRPzrRQz9c2yQ/h2XbPjZCzT3ex6S+qNs+v5fVfb9JnFm/J+14viPGEj/N9H8/U2cIP/8HBr8z63u/PxNyv/SdJb+yzcs+BrR9P97wMD9iNb69NphCv5jvf78ikVa/+Ybsvo+CVb3sjZI+sy4FP6B8KD+zWTg/s1k4P6B8KD+zLgU/7I2SPo+CVb35huy+IpFWv5jvf782mEK/YjW+vd7wMD8GtH0/ss3LPvSdJb8/E3K/pv1hv6Q4Qr9qAn8+QC51P2PNSz+ta4Q91g0mvyDce7+i1Wm/pHQYv4VTVb7sXgc+ImLCPskfCD8bKho/GyoaP8kfCD8iYsI+7F4HPoVTVb6kdBi/otVpvyDce7/WDSa/rWuEPWPNSz9ALnU/agJ/PqQ4Qr+m/WG/G39LvxmyWr/VnbU9ev5lPzo6Yj/5Cmc+l0IEvxsXcb8Eo3e/lck3vzN1ur52Kfi8Rf9lPsJTxj599u0+ffbtPsJTxj5F/2U+din4vDN1ur6VyTe/BKN3vxsXcb+XQgS/+QpnPjo6Yj96/mU/1Z21PRmyWr8bf0u/N6Yuv3zfbb+FJqK9E/NPPxIVcz9aU8U+8Xe7vjlLX7/sAH+/ngFTv4jLA7/byEm+tWlvPX8oaT45yJ4+OciePn8oaT61aW8928hJvojLA7+eAVO/7AB/vzlLX7/xd7u+WlPFPhIVcz8T808/hSaivXzfbb83pi6/OcYLvw2fer9Gzn++PBozP6FIfT/r5gk/2hVNvjJfRr+SE3+/StVov3WmJ7+W5rm+AXrqvaw6Zz0RBBE+EQQRPqw6Zz0Beuq9lua5vnWmJ79K1Wi/khN/vzJfRr/aFU2+6+YJP6FIfT88GjM/Rs5/vg2fer85xgu/fv7GvjLof78Y2dW+CM0PPzHdfz+i/C0/Pmi+vEOCJr9FLHe/pAV4vxdSR7+EzQW/cPKTvjMQ+b17qRS9e6kUvTMQ+b1w8pO+hM0FvxdSR7+kBXi/RSx3v0OCJr8+aL68ovwtPzHdfz8IzQ8/GNnVvjLof79+/sa+whNbvundfL8VlhO/yXLNPtkKej+fV00/3HcjPno3AL/Y2ma/GG5/v8dLYb/HZCu/KO/qvlj8mb5gVl++YFZfvlj8mb4o7+q+x2Qrv8dLYb8Ybn+/2Npmv3o3AL/cdyM+n1dNP9kKej/Jcs0+FZYTv+ndfL/CE1u+fBjcvH/icL/9NTi/Xp9jPuFMaz/IYGY/wByvPhy8qL4K/02/5xh+v1kadL8OB0y/lA4ev4Td8r5Db8u+Q2/LvoTd8r6UDh6/DgdMv1kadL/nGH6/Cv9Nvxy8qL7AHK8+yGBmP+FMaz9en2M+/TU4v3/icL98GNy8/0AqPqKrW7+nA1e/R8T3PCx1Uz9eknc/UEUEP4zYEL7c2Cy/7lRzv0Nkfr/c/2W/b+ZBv5WVIr+NFBG/jRQRv5WVIr9v5kG/3P9lv0Nkfr/uVHO/3Ngsv4zYEL5QRQQ/XpJ3Pyx1Uz9HxPc8pwNXv6KrW7//QCo+IEu3Pm9VPb/qPm6/DRAsvmu+Mj/qkH8/XAEtPxD5aT1GFgS/4ctev40If78isHe/iSBfv/Z6Rr+g7Te/oO03v/Z6Rr+JIF+/IrB3v40If7/hy16/RhYEvxD5aT1cAS0/6pB/P2u+Mj8NECy+6j5uv29VPb8gS7c+2TkKP99yFr86S3y/M566vvraCT+TRn0/va5PPwRShD7uuKm+JJdAv1Y5db/iqX+/2vFzv0omY7/mOFi/5jhYv0omY7/a8XO/4ql/v1Y5db8kl0C/7ripvgRShD69rk8/k0Z9P/raCT8znrq+Okt8v99yFr/ZOQo/hwA0P+0z0L4Gzn+/d9QMvw7/sz6P/28/NUNqP09B6D6KLgO+41EZv2GWYL8gzny/IsF+v0C7dr+t/W+/rf1vv0C7dr8iwX6/IM58v2GWYL/jURm/ii4Dvk9B6D41Q2o/j/9vPw7/sz531Ay/Bs5/v+0z0L6HADQ/D6NWP/+iT74Nz3e/9R83v+6XEz6bhVc/b996PzUMIj8GL7A920rUvnJFQb+7a26/RUh+v8Kbf79Fdn2/RXZ9v8Kbf79FSH6/u2tuv3JFQb/bStS+Bi+wPTUMIj9v33o/m4VXP+6XEz71Hze/Dc93v/+iT74Po1Y/E+RvP9M6fzwl2GO/4LdZv/m2mb2PODQ/z/N/P6paST9UMJo+BzxTvqYGGL/dXFS/X7Zxv9mLfL9zNH+/czR/v9mLfL9ftnG/3VxUv6YGGL8HPFO+VDCaPqpaST/P838/jzg0P/m2mb3gt1m/Jdhjv9M6fzwT5G8/Zch9P3jrcz5EEkS/FUVyvzdWl77SIAc/PWd4P/SKZz/UmQE/mpKMPNqCzL5LIC+/hdBYvy/WbL9yR3S/ckd0vy/WbL+F0Fi/SyAvv9qCzL6akow81JkBP/SKZz89Z3g/0iAHPzdWl74VRXK/RBJEv3jrcz5lyH0//8J+PzYp6D63XBm/zr9+vyp0Ab8X86M+x7xjP3FYej/NiTA/zKB6Ps0gOL7b1/++9w00v8htUL8OYFy/DmBcv8htUL/3DTS/29f/vs0gOL7MoHo+zYkwP3FYej/HvGM/F/OjPip0Ab/Ov36/t1wZvzYp6D7/wn4/XOFxP1USJj9Dtcq+bZ99vyxfMb9ddLk9xTRCP//rfz9P5FY/2ZXtPu0LXz0JaZG+HawEv3cJKL+M7ze/jO83v3cJKL8drAS/CWmRvu0LXz3Zle0+T+RWP//rfz/FNEI/XXS5PSxfMb9tn32/Q7XKvlUSJj9c4XE/h/RWP1+wTz8c0ym+oQluv2A6WL/kyhi+OuYUP5sNdz+Z13E/qmApPxjTlD6RkEK9jm+Zvvpr6r4NPgi/DT4Iv/pr6r6Ob5m+kZBCvRjTlD6qYCk/mddxP5sNdz865hQ/5MoYvmA6WL+hCW6/HNMpvl+wTz+H9FY/ZrIuP1LZbT+coaE9y/xPv9cPc7+XNMW+9Za7PmBTXz9z/34/LvhSPz69Az9vh0k+6HNwvWhpab7p556+6eeevmhpab7oc3C9b4dJPj69Az8u+FI/c/9+P2BTXz/1lrs+lzTFvtcPc7/L/E+/nKGhPVLZbT9msi4/rpX1PoTnfT91z6U+u3Akv1Vmf7/eJRq/LPr9PR1IOT/4onw/TltwP2sXNj+yMN4+YHRDPjWbqjwnloS9J5aEvTWbqjxgdEM+sjDePmsXNj9OW3A/+KJ8Px1IOT8s+v093iUav1Vmf7+7cCS/dc+lPoTnfT+ulfU+a693PofofT84hg0/cdHavsKDe78z30i/M2YGvl2FBj8j72k/ydV+PzO3XT8a3iU/PMndPs7piz4Uk0I+FJNCPs7piz48yd0+Gt4lPzO3XT/J1X4/I+9pP12FBj8zZga+M99Iv8KDe79x0dq+OIYNP4fofT9rr3c+wNeJvHLebD8HzT8/j8o3vpirZr/kCGu/f/bDvud0kz7yKEc/Z358P049dz9jllI/CbQmP2gpAz/6w98++sPfPmgpAz8JtCY/Y5ZSP049dz9nfnw/8ihHP+d0kz5/9sO+5Ahrv5irZr+Pyje+B80/P3LebD/A14m8wQiPvhL3Sj8lqWU/bpavPQRSQb+Sc32/t8Qcv+yf0zx5zxU/PHtoP37/fz/SeHE/uPRTPwplOD/uiCg/7ogoPwplOD+49FM/0nhxP37/fz88e2g/ec8VP+yf0zy3xBy/knN9vwRSQb9ulq89JallPxL3Sj/BCI++0c8GvxKyGT8FlHs/7BOzPjw9Db/a1H2/AkxNv+gCeb4vUbE+wDlDPyladj/MbH8/wLByP4pCYT/ZCFY/2QhWP4pCYT/AsHI/zGx/Pyladj/AOUM/L1GxPugCeb4CTE2/2tR9vzw9Db/sE7M+BZR7PxKyGT/Rzwa/USA9v0Petz66834/paMXP9Uam74yGWu/HUNvv6dq/74ajJ09jJIOP3L4WT+XZXo/7LZ/P3PqeT+pQXQ/qUF0P3PqeT/stn8/l2V6P3L4WT+Mkg4/GoydPadq/74dQ2+/Mhlrv9Uam76loxc/uvN+P0Petz5RID2/iaVlvwnorj2sdW4/XQRLPyel1LwTpkW/3yR/v19fOL9uQ1C+p6KbPhAJLD+mtGE/Bv14P398fz/H738/x+9/P398fz8G/Xg/prRhPxAJLD+nops+bkNQvl9fOL/fJH+/E6ZFvyel1LxdBEs/rHVuPwnorj2JpWW/A0d8v9HrTL56WEo/edtuP/ohhD7Hgg+/PaF6v9kaY7/DxfG+SjKzPHas3j6vRzY/H/ZdP+5ycD/bFHc/2xR3P+5ycD8f9l0/r0c2P3as3j5KMrM8w8XxvtkaY789oXq/x4IPv/ohhD55224/elhKP9HrTL4DR3y/jR1+v/OZ8r6omhQ/cEN/P4uABj9Ivpi+cvxgv7qCe78ZwjS/n7SIvpnlID6WkfU+lNEvP/HzTD+dUVk/nVFZP/HzTD+U0S8/lpH1PpnlID6ftIi+GcI0v7qCe79y/GC/SL6YvouABj9wQ38/qJoUP/OZ8r6NHX6/zuFpvzIGNr8/B6I+mb95PwJqQD/S5Le7LFUzv4d1fr+X72G/S6EJv+VuDr5JWU4+ei7jPjwFFz+CJCg/giQoPzwFFz96LuM+SVlOPuVuDr5LoQm/l+9hv4d1fr8sVTO/0uS3uwJqQD+Zv3k/PweiPjIGNr/O4Wm/s0BAv5ZiY7/+tZ88T6hdPzr7aT+HyJU+zofpvt6Mar9QiXu/p69Dv2MH2765o8u9mlkgPoQqpT4nAM4+JwDOPoQqpT6aWSA+uaPLvWMH276nr0O/UIl7v96Mar/Oh+m+h8iVPjr7aT9PqF0//rWfPJZiY7+zQEC/",
        "encoding": "base64",
        "path": [
         "heights",
         "buffer"
        ]
       },
       {
        "data": "AADAQAAAAAAAAAAAAAAAAAAAAAAAAEBAAAAAAAAAwD8AAAAAAAAAAAAAgD8AAAAAAAAAAAAAAAAAAAAAAACAPw==",
        "encoding": "base64",
        "path": [
         "model_matrix",
         "buffer"
        ]
       }
      ],
      "model_module": "k3d",
      "model_module_version": "^3.0.0",
      "model_name": "ObjectModel",
      "state": {
       "_model_module_version": "^3.0.0",
       "_view_count": null,
       "_view_module": null,
       "_view_module_version": "",
       "_view_name": null,
       "color": 255,
       "compression_level": 0,
       "flat_shading": true,
       "heights": {
        "dtype": "float32",
        "shape": [
         60,
         30
        ]
       },
       "id": 140628168848048,
       "model_matrix": {
        "dtype": "float32",
        "shape": [
         4,
         4
        ]
       },
       "type": "Surface",
       "visible": true,
       "wireframe": false
      }
     },
     "319edf561841455e8f9d67c88b2d5f6f": {
      "model_module": "@jupyter-widgets/output",
      "model_module_version": "1.0.0",
      "model_name": "OutputModel",
      "state": {
       "layout": "IPY_MODEL_5f5ecf4f405f471aba0410cbb5ff4123",
       "outputs": [
        {
         "data": {
          "application/vnd.jupyter.widget-view+json": {
           "model_id": "d601f13a4e9a471db3f7c558b08ec83c",
           "version_major": 2,
           "version_minor": 0
          },
          "text/plain": "Plot(antialias=True, background_color=16777215, fps_meter=False, grid=[-1, -1, -1, 1, 1, 1], height=512, light…"
         },
         "metadata": {},
         "output_type": "display_data"
        }
       ]
      }
     },
     "3210e78f55e040e1a83eb507f1b9e16b": {
      "model_module": "@jupyter-widgets/base",
      "model_module_version": "1.0.0",
      "model_name": "LayoutModel",
      "state": {}
     },
     "3eac6e2a04a7420fbec4209805b66fb1": {
      "buffers": [
       {
        "data": "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",
        "encoding": "base64",
        "path": [
         "heights",
         "buffer"
        ]
       },
       {
        "data": "AADAQAAAAAAAAAAAAAAAAAAAAAAAAEBAAAAAAAAAwD8AAAAAAAAAAAAAgD8AAAAAAAAAAAAAAAAAAAAAAACAPw==",
        "encoding": "base64",
        "path": [
         "model_matrix",
         "buffer"
        ]
       }
      ],
      "model_module": "k3d",
      "model_module_version": "^3.0.0",
      "model_name": "ObjectModel",
      "state": {
       "_model_module_version": "^3.0.0",
       "_view_count": null,
       "_view_module": null,
       "_view_module_version": "",
       "_view_name": null,
       "color": 255,
       "compression_level": 0,
       "flat_shading": true,
       "heights": {
        "dtype": "float32",
        "shape": [
         60,
         30
        ]
       },
       "id": 139783740460728,
       "model_matrix": {
        "dtype": "float32",
        "shape": [
         4,
         4
        ]
       },
       "type": "Surface",
       "visible": true,
       "wireframe": false
      }
     },
     "4613955120b845f1925525a920f721aa": {
      "model_module": "@jupyter-widgets/base",
      "model_module_version": "1.0.0",
      "model_name": "LayoutModel",
      "state": {}
     },
     "4826c689dd5845da92cc4667200794d9": {
      "model_module": "k3d",
      "model_module_version": "^3.0.0",
      "model_name": "PlotModel",
      "state": {
       "_backend_version": "2.4.20",
       "_dom_classes": [],
       "_model_module_version": "^3.0.0",
       "_view_count": null,
       "_view_module_version": "^3.0.0",
       "antialias": true,
       "background_color": 16777215,
       "camera": [
        5.815408649488064,
        -7.223112974232098,
        0.5815404775186208,
        0,
        1.5,
        -3.8743019104003906e-07,
        0,
        0,
        1
       ],
       "camera_auto_fit": true,
       "clipping_planes": [],
       "fps_meter": false,
       "grid": [
        -1,
        -1,
        -1,
        1,
        1,
        1
       ],
       "grid_auto_fit": true,
       "height": 512,
       "layout": "IPY_MODEL_02987923b28545f6ba65b69b4e0a16c0",
       "lighting": 1,
       "object_ids": [
        140628168848048
       ],
       "screenshot": "",
       "screenshot_scale": 2,
       "voxel_paint_color": 0
      }
     },
     "4dc139783a694bcfbf0e6be0ff56c7c9": {
      "model_module": "@jupyter-widgets/output",
      "model_module_version": "1.0.0",
      "model_name": "OutputModel",
      "state": {
       "layout": "IPY_MODEL_6c81f9b30c4c4be79c5d06c43ba9aeb8",
       "outputs": [
        {
         "data": {
          "application/vnd.jupyter.widget-view+json": {
           "model_id": "afc823fc74f14186991025bb1092dd69",
           "version_major": 2,
           "version_minor": 0
          },
          "text/plain": "Plot(antialias=True, background_color=16777215, fps_meter=False, grid=[-1, -1, -1, 1, 1, 1], height=512, light…"
         },
         "metadata": {},
         "output_type": "display_data"
        }
       ]
      }
     },
     "52f27811ba0148acb2ca5b430e2a010c": {
      "model_module": "@jupyter-widgets/base",
      "model_module_version": "1.0.0",
      "model_name": "LayoutModel",
      "state": {}
     },
     "5606a3ec3aaa4e53825d253c1f22f2df": {
      "model_module": "k3d",
      "model_module_version": "^3.0.0",
      "model_name": "PlotModel",
      "state": {
       "_backend_version": "2.4.20",
       "_dom_classes": [],
       "_model_module_version": "^3.0.0",
       "_view_count": null,
       "_view_module_version": "^3.0.0",
       "antialias": true,
       "background_color": 16777215,
       "camera": [
        3.101682055311747,
        -3.15252308296762,
        0.31016781810098654,
        0,
        1.5,
        -3.8743019104003906e-07,
        0,
        0,
        1
       ],
       "camera_auto_fit": true,
       "clipping_planes": [],
       "fps_meter": false,
       "grid": [
        -1,
        -1,
        -1,
        1,
        1,
        1
       ],
       "grid_auto_fit": true,
       "height": 512,
       "layout": "IPY_MODEL_7b2df9ac3fb245098f4a687e44cbfb19",
       "lighting": 1,
       "object_ids": [
        4783770536
       ],
       "screenshot": "",
       "screenshot_scale": 2,
       "voxel_paint_color": 0
      }
     },
     "597bc1d128a645d3a3c0fe4a1078ef0d": {
      "model_module": "@jupyter-widgets/output",
      "model_module_version": "1.0.0",
      "model_name": "OutputModel",
      "state": {
       "layout": "IPY_MODEL_4613955120b845f1925525a920f721aa",
       "outputs": [
        {
         "data": {
          "application/vnd.jupyter.widget-view+json": {
           "model_id": "72c6f8a001374d98a40e6879847efe23",
           "version_major": 2,
           "version_minor": 0
          },
          "text/plain": "Plot(antialias=True, background_color=16777215, fps_meter=False, grid=[-1, -1, -1, 1, 1, 1], height=512, light…"
         },
         "metadata": {},
         "output_type": "display_data"
        }
       ]
      }
     },
     "5f5ecf4f405f471aba0410cbb5ff4123": {
      "model_module": "@jupyter-widgets/base",
      "model_module_version": "1.0.0",
      "model_name": "LayoutModel",
      "state": {}
     },
     "6c81f9b30c4c4be79c5d06c43ba9aeb8": {
      "model_module": "@jupyter-widgets/base",
      "model_module_version": "1.0.0",
      "model_name": "LayoutModel",
      "state": {}
     },
     "6fb1873f90c74a28afa0a53f7ffdb2d1": {
      "model_module": "@jupyter-widgets/output",
      "model_module_version": "1.0.0",
      "model_name": "OutputModel",
      "state": {
       "layout": "IPY_MODEL_9937b29b80304b93beb961a7e074c118",
       "outputs": [
        {
         "data": {
          "application/vnd.jupyter.widget-view+json": {
           "model_id": "5606a3ec3aaa4e53825d253c1f22f2df",
           "version_major": 2,
           "version_minor": 0
          },
          "text/plain": "Plot(antialias=True, background_color=16777215, fps_meter=False, grid=[-1, -1, -1, 1, 1, 1], height=512, light…"
         },
         "metadata": {},
         "output_type": "display_data"
        }
       ]
      }
     },
     "72c6f8a001374d98a40e6879847efe23": {
      "model_module": "k3d",
      "model_module_version": "^3.0.0",
      "model_name": "PlotModel",
      "state": {
       "_backend_version": "2.4.20",
       "_dom_classes": [],
       "_model_module_version": "^3.0.0",
       "_view_count": null,
       "_view_module_version": "^3.0.0",
       "antialias": true,
       "background_color": 16777215,
       "camera": [
        7.242497283724277,
        -10.86374592558642,
        0.724216707399229,
        0,
        0,
        -3.3020973205566406e-05,
        0,
        0,
        1
       ],
       "camera_auto_fit": true,
       "clipping_planes": [],
       "fps_meter": false,
       "grid": [
        -1,
        -1,
        -1,
        1,
        1,
        1
       ],
       "grid_auto_fit": true,
       "height": 512,
       "layout": "IPY_MODEL_c91bd27da90947688b8282a15762b6b6",
       "lighting": 1,
       "object_ids": [
        139859585525800
       ],
       "screenshot": "",
       "screenshot_scale": 2,
       "voxel_paint_color": 0
      }
     },
     "741de440827b46e2a41e8281fdab1f84": {
      "model_module": "@jupyter-widgets/output",
      "model_module_version": "1.0.0",
      "model_name": "OutputModel",
      "state": {
       "layout": "IPY_MODEL_89a0b6e7270541fdbf5f6f2192dbfc52",
       "outputs": [
        {
         "data": {
          "application/vnd.jupyter.widget-view+json": {
           "model_id": "deddd1bc7cf241a4b95187c40dba19df",
           "version_major": 2,
           "version_minor": 0
          },
          "text/plain": "Plot(antialias=True, background_color=16777215, fps_meter=False, grid=[-1, -1, -1, 1, 1, 1], height=512, light…"
         },
         "metadata": {},
         "output_type": "display_data"
        }
       ]
      }
     },
     "74b6f97a6e1a4fe2a951f9de9a5e34c9": {
      "buffers": [
       {
        "data": "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",
        "encoding": "base64",
        "path": [
         "heights",
         "buffer"
        ]
       },
       {
        "data": "AADAQAAAAAAAAAAAAAAAAAAAAAAAAAAAAAAAAAAAQEAAAAAAAAAAAAAAgD8AAAAAAAAAAAAAAAAAAAAAAACAPw==",
        "encoding": "base64",
        "path": [
         "model_matrix",
         "buffer"
        ]
       }
      ],
      "model_module": "k3d",
      "model_module_version": "^3.0.0",
      "model_name": "ObjectModel",
      "state": {
       "_model_module_version": "^3.0.0",
       "_view_count": null,
       "_view_module": null,
       "_view_module_version": "",
       "_view_name": null,
       "color": 255,
       "compression_level": 0,
       "flat_shading": true,
       "heights": {
        "dtype": "float32",
        "shape": [
         60,
         30
        ]
       },
       "id": 140676062171880,
       "model_matrix": {
        "dtype": "float32",
        "shape": [
         4,
         4
        ]
       },
       "type": "Surface",
       "visible": true,
       "wireframe": false
      }
     },
     "799ca031c01c475885f6ee3be30b9302": {
      "model_module": "@jupyter-widgets/base",
      "model_module_version": "1.0.0",
      "model_name": "LayoutModel",
      "state": {}
     },
     "7b2df9ac3fb245098f4a687e44cbfb19": {
      "model_module": "@jupyter-widgets/base",
      "model_module_version": "1.0.0",
      "model_name": "LayoutModel",
      "state": {}
     },
     "8012ff73ceb448dab8a6001717c807f0": {
      "buffers": [
       {
        "data": "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",
        "encoding": "base64",
        "path": [
         "heights",
         "buffer"
        ]
       },
       {
        "data": "AADAQAAAAAAAAAAAAAAAAAAAAAAAAMBAAAAAAAAAAAAAAAAAAAAAAAAAgD8AAAAAAAAAAAAAAAAAAAAAAACAPw==",
        "encoding": "base64",
        "path": [
         "model_matrix",
         "buffer"
        ]
       }
      ],
      "model_module": "k3d",
      "model_module_version": "^3.0.0",
      "model_name": "ObjectModel",
      "state": {
       "_model_module_version": "^3.0.0",
       "_view_count": null,
       "_view_module": null,
       "_view_module_version": "",
       "_view_name": null,
       "color": 45148,
       "compression_level": 0,
       "flat_shading": false,
       "heights": {
        "dtype": "float32",
        "shape": [
         60,
         30
        ]
       },
       "id": 140676062174120,
       "model_matrix": {
        "dtype": "float32",
        "shape": [
         4,
         4
        ]
       },
       "type": "Surface",
       "visible": true,
       "wireframe": false
      }
     },
     "8596c05ec7904dcbb2cbc3dd8403fe45": {
      "buffers": [
       {
        "data": "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",
        "encoding": "base64",
        "path": [
         "heights",
         "buffer"
        ]
       },
       {
        "data": "AADAQAAAAAAAAAAAAAAAAAAAAAAAAEBAAAAAAAAAwD8AAAAAAAAAAAAAgD8AAAAAAAAAAAAAAAAAAAAAAACAPw==",
        "encoding": "base64",
        "path": [
         "model_matrix",
         "buffer"
        ]
       }
      ],
      "model_module": "k3d",
      "model_module_version": "^3.0.0",
      "model_name": "ObjectModel",
      "state": {
       "_model_module_version": "^3.0.0",
       "_view_count": null,
       "_view_module": null,
       "_view_module_version": "",
       "_view_name": null,
       "color": 255,
       "compression_level": 0,
       "flat_shading": true,
       "heights": {
        "dtype": "float32",
        "shape": [
         60,
         30
        ]
       },
       "id": 139913191183416,
       "model_matrix": {
        "dtype": "float32",
        "shape": [
         4,
         4
        ]
       },
       "type": "Surface",
       "visible": true,
       "wireframe": false
      }
     },
     "87f95b5787854b829fd111b025009250": {
      "model_module": "@jupyter-widgets/base",
      "model_module_version": "1.0.0",
      "model_name": "LayoutModel",
      "state": {}
     },
     "89a0b6e7270541fdbf5f6f2192dbfc52": {
      "model_module": "@jupyter-widgets/base",
      "model_module_version": "1.0.0",
      "model_name": "LayoutModel",
      "state": {}
     },
     "8a4ab739362645aaa9b6d6aadb80f4dc": {
      "buffers": [
       {
        "data": "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",
        "encoding": "base64",
        "path": [
         "heights",
         "buffer"
        ]
       },
       {
        "data": "AADAQAAAAAAAAAAAAAAAAAAAAAAAAMBAAAAAAAAAAAAAAAAAAAAAAAAAgD8AAAAAAAAAAAAAAAAAAAAAAACAPw==",
        "encoding": "base64",
        "path": [
         "model_matrix",
         "buffer"
        ]
       }
      ],
      "model_module": "k3d",
      "model_module_version": "^3.0.0",
      "model_name": "ObjectModel",
      "state": {
       "_model_module_version": "^3.0.0",
       "_view_count": null,
       "_view_module": null,
       "_view_module_version": "",
       "_view_name": null,
       "color": 255,
       "compression_level": 0,
       "flat_shading": true,
       "heights": {
        "dtype": "float32",
        "shape": [
         60,
         30
        ]
       },
       "id": 140676062173840,
       "model_matrix": {
        "dtype": "float32",
        "shape": [
         4,
         4
        ]
       },
       "type": "Surface",
       "visible": true,
       "wireframe": false
      }
     },
     "8e816f17de994f54ba9334325d01f986": {
      "model_module": "k3d",
      "model_module_version": "^3.0.0",
      "model_name": "PlotModel",
      "state": {
       "_backend_version": "2.4.20",
       "_dom_classes": [],
       "_model_module_version": "^3.0.0",
       "_view_count": null,
       "_view_module_version": "^3.0.0",
       "antialias": true,
       "background_color": 16777215,
       "camera": [
        3.7466822958227546,
        -4.826691974234043,
        7.495678897110549,
        0,
        1.5,
        -3.8743019104003906e-07,
        -0.3653634238466676,
        0.5666728276476249,
        0.7385062456884738
       ],
       "camera_auto_fit": true,
       "clipping_planes": [],
       "fps_meter": false,
       "grid": [
        -1,
        -1,
        -1,
        1,
        1,
        1
       ],
       "grid_auto_fit": true,
       "height": 512,
       "layout": "IPY_MODEL_df872c9b974f407ea1abdeb1f56494c9",
       "lighting": 1,
       "object_ids": [
        4447033832
       ],
       "screenshot": "",
       "screenshot_scale": 2,
       "voxel_paint_color": 0
      }
     },
     "9006f1167b2d4df7a66780f196be995b": {
      "buffers": [
       {
        "data": "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",
        "encoding": "base64",
        "path": [
         "heights",
         "buffer"
        ]
       },
       {
        "data": "AADAQAAAAAAAAAAAAAAAAAAAAAAAAEBAAAAAAAAAwD8AAAAAAAAAAAAAgD8AAAAAAAAAAAAAAAAAAAAAAACAPw==",
        "encoding": "base64",
        "path": [
         "model_matrix",
         "buffer"
        ]
       }
      ],
      "model_module": "k3d",
      "model_module_version": "^3.0.0",
      "model_name": "ObjectModel",
      "state": {
       "_model_module_version": "^3.0.0",
       "_view_count": null,
       "_view_module": null,
       "_view_module_version": "",
       "_view_name": null,
       "color": 255,
       "compression_level": 0,
       "flat_shading": true,
       "heights": {
        "dtype": "float32",
        "shape": [
         60,
         30
        ]
       },
       "id": 4447033832,
       "model_matrix": {
        "dtype": "float32",
        "shape": [
         4,
         4
        ]
       },
       "type": "Surface",
       "visible": true,
       "wireframe": false
      }
     },
     "904d4ae0298446a2aa7a5841d4bd403d": {
      "buffers": [
       {
        "data": "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",
        "encoding": "base64",
        "path": [
         "heights",
         "buffer"
        ]
       },
       {
        "data": "AADAQAAAAAAAAAAAAAAAAAAAAAAAAAAAAAAAAAAAQEAAAAAAAAAAAAAAgD8AAAAAAAAAAAAAAAAAAAAAAACAPw==",
        "encoding": "base64",
        "path": [
         "model_matrix",
         "buffer"
        ]
       }
      ],
      "model_module": "k3d",
      "model_module_version": "^3.0.0",
      "model_name": "ObjectModel",
      "state": {
       "_model_module_version": "^3.0.0",
       "_view_count": null,
       "_view_module": null,
       "_view_module_version": "",
       "_view_name": null,
       "color": 255,
       "compression_level": 0,
       "flat_shading": true,
       "heights": {
        "dtype": "float32",
        "shape": [
         60,
         30
        ]
       },
       "id": 140676062071496,
       "model_matrix": {
        "dtype": "float32",
        "shape": [
         4,
         4
        ]
       },
       "type": "Surface",
       "visible": true,
       "wireframe": false
      }
     },
     "9801ac319745478891ac47b984cfa706": {
      "model_module": "@jupyter-widgets/base",
      "model_module_version": "1.0.0",
      "model_name": "LayoutModel",
      "state": {}
     },
     "9937b29b80304b93beb961a7e074c118": {
      "model_module": "@jupyter-widgets/base",
      "model_module_version": "1.0.0",
      "model_name": "LayoutModel",
      "state": {}
     },
     "9ab5fe4f2e5048bda01f0010a11bbbd8": {
      "model_module": "k3d",
      "model_module_version": "^3.0.0",
      "model_name": "PlotModel",
      "state": {
       "_backend_version": "2.4.20",
       "_dom_classes": [],
       "_model_module_version": "^3.0.0",
       "_view_count": null,
       "_view_module_version": "^3.0.0",
       "antialias": true,
       "background_color": 16777215,
       "camera": [
        5.8154082816431325,
        -7.2231124224647,
        0.5815398446876799,
        0,
        1.5,
        -9.834766387939453e-07,
        0,
        0,
        1
       ],
       "camera_auto_fit": true,
       "clipping_planes": [],
       "fps_meter": false,
       "grid": [
        -1,
        -1,
        -1,
        1,
        1,
        1
       ],
       "grid_auto_fit": true,
       "height": 512,
       "layout": "IPY_MODEL_1d43b6ddf5284d9da046dd86b5c38767",
       "lighting": 1,
       "object_ids": [
        4480973232
       ],
       "screenshot": "",
       "screenshot_scale": 2,
       "voxel_paint_color": 0
      }
     },
     "9c8d062e13444aa38b04e236bde1ea74": {
      "model_module": "@jupyter-widgets/output",
      "model_module_version": "1.0.0",
      "model_name": "OutputModel",
      "state": {
       "layout": "IPY_MODEL_0b7d92c780cb489bb7f28c410221c05b",
       "outputs": [
        {
         "data": {
          "application/vnd.jupyter.widget-view+json": {
           "model_id": "9ab5fe4f2e5048bda01f0010a11bbbd8",
           "version_major": 2,
           "version_minor": 0
          },
          "text/plain": "Plot(antialias=True, background_color=16777215, fps_meter=False, grid=[-1, -1, -1, 1, 1, 1], height=512, light…"
         },
         "metadata": {},
         "output_type": "display_data"
        }
       ]
      }
     },
     "a2a4c5dfae8c40adac613841919f52d7": {
      "model_module": "@jupyter-widgets/output",
      "model_module_version": "1.0.0",
      "model_name": "OutputModel",
      "state": {
       "layout": "IPY_MODEL_3210e78f55e040e1a83eb507f1b9e16b",
       "outputs": [
        {
         "data": {
          "application/vnd.jupyter.widget-view+json": {
           "model_id": "a34cc72648dd463bb2c1cd19daa40b83",
           "version_major": 2,
           "version_minor": 0
          },
          "text/plain": "Plot(antialias=True, background_color=16777215, fps_meter=False, grid=[-1, -1, -1, 1, 1, 1], height=512, light…"
         },
         "metadata": {},
         "output_type": "display_data"
        }
       ]
      }
     },
     "a34cc72648dd463bb2c1cd19daa40b83": {
      "model_module": "k3d",
      "model_module_version": "^3.0.0",
      "model_name": "PlotModel",
      "state": {
       "_backend_version": "2.4.20",
       "_dom_classes": [],
       "_model_module_version": "^3.0.0",
       "_view_count": null,
       "_view_module_version": "^3.0.0",
       "antialias": true,
       "background_color": 16777215,
       "camera": [
        5.815408649488064,
        -7.223112974232098,
        0.5815404775186208,
        0,
        1.5,
        -3.8743019104003906e-07,
        0,
        0,
        1
       ],
       "camera_auto_fit": true,
       "clipping_planes": [],
       "fps_meter": false,
       "grid": [
        -1,
        -1,
        -1,
        1,
        1,
        1
       ],
       "grid_auto_fit": true,
       "height": 512,
       "layout": "IPY_MODEL_799ca031c01c475885f6ee3be30b9302",
       "lighting": 1,
       "object_ids": [
        139783740460728
       ],
       "screenshot": "",
       "screenshot_scale": 2,
       "voxel_paint_color": 0
      }
     },
     "a5e44c53225e4fffa7c50986bbbc4d52": {
      "model_module": "@jupyter-widgets/base",
      "model_module_version": "1.0.0",
      "model_name": "LayoutModel",
      "state": {}
     },
     "a7a867a2e9d84403ad770993929a37ef": {
      "buffers": [
       {
        "data": "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",
        "encoding": "base64",
        "path": [
         "heights",
         "buffer"
        ]
       },
       {
        "data": "AADAQAAAAAAAAAAAAAAAAAAAAAAAAEBAAAAAAAAAwD8AAAAAAAAAAAAAgD8AAAAAAAAAAAAAAAAAAAAAAACAPw==",
        "encoding": "base64",
        "path": [
         "model_matrix",
         "buffer"
        ]
       }
      ],
      "model_module": "k3d",
      "model_module_version": "^3.0.0",
      "model_name": "ObjectModel",
      "state": {
       "_model_module_version": "^3.0.0",
       "_view_count": null,
       "_view_module": null,
       "_view_module_version": "",
       "_view_name": null,
       "color": 255,
       "compression_level": 0,
       "flat_shading": true,
       "heights": {
        "dtype": "float32",
        "shape": [
         60,
         30
        ]
       },
       "id": 4783770536,
       "model_matrix": {
        "dtype": "float32",
        "shape": [
         4,
         4
        ]
       },
       "type": "Surface",
       "visible": true,
       "wireframe": false
      }
     },
     "a880636638124ee39c33afcacc830635": {
      "model_module": "@jupyter-widgets/base",
      "model_module_version": "1.0.0",
      "model_name": "LayoutModel",
      "state": {}
     },
     "afc823fc74f14186991025bb1092dd69": {
      "model_module": "k3d",
      "model_module_version": "^3.0.0",
      "model_name": "PlotModel",
      "state": {
       "_backend_version": "2.4.20",
       "_dom_classes": [],
       "_model_module_version": "^3.0.0",
       "_view_count": null,
       "_view_module_version": "^3.0.0",
       "antialias": true,
       "background_color": 16777215,
       "camera": [
        5.815408649488064,
        -7.223112974232098,
        0.5815404775186208,
        0,
        1.5,
        -3.8743019104003906e-07,
        0,
        0,
        1
       ],
       "camera_auto_fit": true,
       "clipping_planes": [],
       "fps_meter": false,
       "grid": [
        -1,
        -1,
        -1,
        1,
        1,
        1
       ],
       "grid_auto_fit": true,
       "height": 512,
       "layout": "IPY_MODEL_f2a0826a9b144d7782252e54779cc885",
       "lighting": 1,
       "object_ids": [
        139913191183416
       ],
       "screenshot": "",
       "screenshot_scale": 2,
       "voxel_paint_color": 0
      }
     },
     "b0c0f2a3749f49e38da4ba1f2799bfcc": {
      "model_module": "@jupyter-widgets/output",
      "model_module_version": "1.0.0",
      "model_name": "OutputModel",
      "state": {
       "layout": "IPY_MODEL_083a830fc4ab4b9bb76ff5dbd55a2f81",
       "outputs": [
        {
         "data": {
          "application/vnd.jupyter.widget-view+json": {
           "model_id": "0c871e92339a43e889304eb53b04adfa",
           "version_major": 2,
           "version_minor": 0
          },
          "text/plain": "Plot(antialias=True, background_color=16777215, fps_meter=False, grid=[-1, -1, -1, 1, 1, 1], height=512, light…"
         },
         "metadata": {},
         "output_type": "display_data"
        }
       ]
      }
     },
     "be006f2481e44e4988ede7fadc3b81f3": {
      "model_module": "@jupyter-widgets/output",
      "model_module_version": "1.0.0",
      "model_name": "OutputModel",
      "state": {
       "layout": "IPY_MODEL_f2a550c968e3433a8e3ec7c774448ffc",
       "outputs": [
        {
         "data": {
          "application/vnd.jupyter.widget-view+json": {
           "model_id": "4826c689dd5845da92cc4667200794d9",
           "version_major": 2,
           "version_minor": 0
          },
          "text/plain": "Plot(antialias=True, background_color=16777215, fps_meter=False, grid=[-1, -1, -1, 1, 1, 1], height=512, light…"
         },
         "metadata": {},
         "output_type": "display_data"
        }
       ]
      }
     },
     "c91bd27da90947688b8282a15762b6b6": {
      "model_module": "@jupyter-widgets/base",
      "model_module_version": "1.0.0",
      "model_name": "LayoutModel",
      "state": {}
     },
     "cc16de713292426ab9035d8d3cdcbae8": {
      "model_module": "@jupyter-widgets/output",
      "model_module_version": "1.0.0",
      "model_name": "OutputModel",
      "state": {
       "layout": "IPY_MODEL_9801ac319745478891ac47b984cfa706",
       "outputs": [
        {
         "data": {
          "application/vnd.jupyter.widget-view+json": {
           "model_id": "8e816f17de994f54ba9334325d01f986",
           "version_major": 2,
           "version_minor": 0
          },
          "text/plain": "Plot(antialias=True, background_color=16777215, fps_meter=False, grid=[-1, -1, -1, 1, 1, 1], height=512, light…"
         },
         "metadata": {},
         "output_type": "display_data"
        }
       ]
      }
     },
     "cda4e686dbdc41f2bb5f910c21d4a26e": {
      "model_module": "k3d",
      "model_module_version": "^3.0.0",
      "model_name": "PlotModel",
      "state": {
       "_backend_version": "2.4.20",
       "_dom_classes": [],
       "_model_module_version": "^3.0.0",
       "_view_count": null,
       "_view_module_version": "^3.0.0",
       "antialias": true,
       "background_color": 16777215,
       "camera": [
        2.8778826572598577,
        -4.316823985889787,
        0.28778826572598526,
        0,
        0,
        0,
        0,
        0,
        1
       ],
       "camera_auto_fit": true,
       "clipping_planes": [],
       "fps_meter": false,
       "grid": [
        -1,
        -1,
        -1,
        1,
        1,
        1
       ],
       "grid_auto_fit": true,
       "height": 512,
       "layout": "IPY_MODEL_52f27811ba0148acb2ca5b430e2a010c",
       "lighting": 1,
       "object_ids": [
        140676062171880
       ],
       "screenshot": "",
       "screenshot_scale": 2,
       "voxel_paint_color": 0
      }
     },
     "d601f13a4e9a471db3f7c558b08ec83c": {
      "model_module": "k3d",
      "model_module_version": "^3.0.0",
      "model_name": "PlotModel",
      "state": {
       "_backend_version": "2.4.20",
       "_dom_classes": [],
       "_model_module_version": "^3.0.0",
       "_view_count": null,
       "_view_module_version": "^3.0.0",
       "antialias": true,
       "background_color": 16777215,
       "camera": [
        2.799749679255276,
        -4.61875855517608,
        1.8859760194246684,
        0,
        1.5,
        -9.834766387939453e-07,
        -0.046510194576852563,
        0.21606985282104413,
        0.9752695117260265
       ],
       "camera_auto_fit": true,
       "clipping_planes": [],
       "fps_meter": false,
       "grid": [
        -1,
        -1,
        -1,
        1,
        1,
        1
       ],
       "grid_auto_fit": true,
       "height": 512,
       "layout": "IPY_MODEL_a880636638124ee39c33afcacc830635",
       "lighting": 1,
       "object_ids": [
        4783769304
       ],
       "screenshot": "",
       "screenshot_scale": 2,
       "voxel_paint_color": 0
      }
     },
     "de3ecb549d204c608a2d9af931df562d": {
      "buffers": [
       {
        "data": "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",
        "encoding": "base64",
        "path": [
         "heights",
         "buffer"
        ]
       },
       {
        "data": "AADAQAAAAAAAAAAAAAAAAAAAAAAAAEBAAAAAAAAAwD8AAAAAAAAAAAAAgD8AAAAAAAAAAAAAAAAAAAAAAACAPw==",
        "encoding": "base64",
        "path": [
         "model_matrix",
         "buffer"
        ]
       }
      ],
      "model_module": "k3d",
      "model_module_version": "^3.0.0",
      "model_name": "ObjectModel",
      "state": {
       "_model_module_version": "^3.0.0",
       "_view_count": null,
       "_view_module": null,
       "_view_module_version": "",
       "_view_name": null,
       "color": 255,
       "compression_level": 0,
       "flat_shading": true,
       "heights": {
        "dtype": "float32",
        "shape": [
         80,
         40
        ]
       },
       "id": 4480973232,
       "model_matrix": {
        "dtype": "float32",
        "shape": [
         4,
         4
        ]
       },
       "type": "Surface",
       "visible": true,
       "wireframe": false
      }
     },
     "deddd1bc7cf241a4b95187c40dba19df": {
      "model_module": "k3d",
      "model_module_version": "^3.0.0",
      "model_name": "PlotModel",
      "state": {
       "_backend_version": "2.4.20",
       "_dom_classes": [],
       "_model_module_version": "^3.0.0",
       "_view_count": null,
       "_view_module_version": "^3.0.0",
       "antialias": true,
       "background_color": 16777215,
       "camera": [
        9.485496985069604,
        -3.772818111523124,
        8.172510680537064,
        0,
        0,
        -3.3020973205566406e-05,
        -0.45978455784435157,
        0.38524278887994556,
        0.8001163377808735
       ],
       "camera_auto_fit": true,
       "clipping_planes": [],
       "fps_meter": false,
       "grid": [
        -1,
        -1,
        -1,
        1,
        1,
        1
       ],
       "grid_auto_fit": true,
       "height": 512,
       "layout": "IPY_MODEL_ea7188abd57140aea638379b0775339d",
       "lighting": 1,
       "object_ids": [
        140676062173840
       ],
       "screenshot": "",
       "screenshot_scale": 2,
       "voxel_paint_color": 0
      }
     },
     "df872c9b974f407ea1abdeb1f56494c9": {
      "model_module": "@jupyter-widgets/base",
      "model_module_version": "1.0.0",
      "model_name": "LayoutModel",
      "state": {}
     },
     "e267dc7088ee486b83e95e3985702701": {
      "model_module": "@jupyter-widgets/output",
      "model_module_version": "1.0.0",
      "model_name": "OutputModel",
      "state": {
       "layout": "IPY_MODEL_a5e44c53225e4fffa7c50986bbbc4d52",
       "outputs": [
        {
         "data": {
          "application/vnd.jupyter.widget-view+json": {
           "model_id": "0605b8490de245f19d50fea1b4bba87f",
           "version_major": 2,
           "version_minor": 0
          },
          "text/plain": "Plot(antialias=True, background_color=16777215, fps_meter=False, grid=[-1, -1, -1, 1, 1, 1], height=512, light…"
         },
         "metadata": {},
         "output_type": "display_data"
        }
       ]
      }
     },
     "e4e6c5f479d84a178376b188aa2fc3ac": {
      "buffers": [
       {
        "data": "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",
        "encoding": "base64",
        "path": [
         "heights",
         "buffer"
        ]
       },
       {
        "data": "AADAQAAAAAAAAAAAAAAAAAAAAAAAAEBAAAAAAAAAwD8AAAAAAAAAAAAAgD8AAAAAAAAAAAAAAAAAAAAAAACAPw==",
        "encoding": "base64",
        "path": [
         "model_matrix",
         "buffer"
        ]
       }
      ],
      "model_module": "k3d",
      "model_module_version": "^3.0.0",
      "model_name": "ObjectModel",
      "state": {
       "_model_module_version": "^3.0.0",
       "_view_count": null,
       "_view_module": null,
       "_view_module_version": "",
       "_view_name": null,
       "color": 255,
       "compression_level": 0,
       "flat_shading": true,
       "heights": {
        "dtype": "float32",
        "shape": [
         80,
         40
        ]
       },
       "id": 4783769304,
       "model_matrix": {
        "dtype": "float32",
        "shape": [
         4,
         4
        ]
       },
       "type": "Surface",
       "visible": true,
       "wireframe": false
      }
     },
     "ea7188abd57140aea638379b0775339d": {
      "model_module": "@jupyter-widgets/base",
      "model_module_version": "1.0.0",
      "model_name": "LayoutModel",
      "state": {}
     },
     "f2a0826a9b144d7782252e54779cc885": {
      "model_module": "@jupyter-widgets/base",
      "model_module_version": "1.0.0",
      "model_name": "LayoutModel",
      "state": {}
     },
     "f2a550c968e3433a8e3ec7c774448ffc": {
      "model_module": "@jupyter-widgets/base",
      "model_module_version": "1.0.0",
      "model_name": "LayoutModel",
      "state": {}
     },
     "f472d14c691e45e1aabd9756ffd3127b": {
      "buffers": [
       {
        "data": "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",
        "encoding": "base64",
        "path": [
         "heights",
         "buffer"
        ]
       },
       {
        "data": "AADAQAAAAAAAAAAAAAAAAAAAAAAAAAAAAAAAAAAAQEAAAAAAAAAAAAAAgD8AAAAAAAAAAAAAAAAAAAAAAACAPw==",
        "encoding": "base64",
        "path": [
         "model_matrix",
         "buffer"
        ]
       }
      ],
      "model_module": "k3d",
      "model_module_version": "^3.0.0",
      "model_name": "ObjectModel",
      "state": {
       "_model_module_version": "^3.0.0",
       "_view_count": null,
       "_view_module": null,
       "_view_module_version": "",
       "_view_name": null,
       "color": 255,
       "compression_level": 0,
       "flat_shading": true,
       "heights": {
        "dtype": "float32",
        "shape": [
         60,
         30
        ]
       },
       "id": 140676062172104,
       "model_matrix": {
        "dtype": "float32",
        "shape": [
         4,
         4
        ]
       },
       "type": "Surface",
       "visible": true,
       "wireframe": false
      }
     },
     "fac4acbf8fb64d5d9cbbdc5a2323c23b": {
      "model_module": "@jupyter-widgets/output",
      "model_module_version": "1.0.0",
      "model_name": "OutputModel",
      "state": {
       "layout": "IPY_MODEL_1f19dcef0ad640b8a54b8562613dfccb",
       "outputs": [
        {
         "data": {
          "application/vnd.jupyter.widget-view+json": {
           "model_id": "cda4e686dbdc41f2bb5f910c21d4a26e",
           "version_major": 2,
           "version_minor": 0
          },
          "text/plain": "Plot(antialias=True, background_color=16777215, fps_meter=False, grid=[-1, -1, -1, 1, 1, 1], height=512, light…"
         },
         "metadata": {},
         "output_type": "display_data"
        }
       ]
      }
     }
    },
    "version_major": 2,
    "version_minor": 0
   }
  }
 },
 "nbformat": 4,
 "nbformat_minor": 2
}
