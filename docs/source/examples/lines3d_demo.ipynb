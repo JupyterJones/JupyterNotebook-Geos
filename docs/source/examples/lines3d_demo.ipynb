{
 "cells": [
  {
   "cell_type": "markdown",
   "metadata": {},
   "source": [
    "## Lines 3d"
   ]
  },
  {
   "cell_type": "markdown",
   "metadata": {},
   "source": [
    "https://matplotlib.org/examples/mplot3d/lines3d_demo.html\n",
    "![Lines3d](https://matplotlib.org/2.0.2/_images/lines3d_demo1.png)"
   ]
  },
  {
   "cell_type": "code",
   "execution_count": 1,
   "metadata": {},
   "outputs": [
    {
     "data": {
      "application/vnd.jupyter.widget-view+json": {
       "model_id": "dcd2ec9ddd5d45f085931f47a73c9b3b",
       "version_major": 2,
       "version_minor": 0
      },
      "text/plain": [
       "Output()"
      ]
     },
     "metadata": {},
     "output_type": "display_data"
    }
   ],
   "source": [
    "import numpy as np\n",
    "import k3d\n",
    "\n",
    "plot = k3d.plot()\n",
    "\n",
    "theta = np.linspace(-4 * np.pi, 4 * np.pi, 100, dtype=np.float32)\n",
    "z = np.linspace(-2, 2, 100, dtype=np.float32)\n",
    "r = z**2 + 1\n",
    "x = r * np.sin(theta)\n",
    "y = r * np.cos(theta)\n",
    "\n",
    "line = k3d.line(np.vstack([x,y,z]).T, width=0.2, scaling = [1,1,2])\n",
    "\n",
    "plot += line\n",
    "plot.display()"
   ]
  }
 ],
 "metadata": {
  "kernelspec": {
   "display_name": "Python 3",
   "language": "python",
   "name": "python3"
  },
  "language_info": {
   "codemirror_mode": {
    "name": "ipython",
    "version": 3
   },
   "file_extension": ".py",
   "mimetype": "text/x-python",
   "name": "python",
   "nbconvert_exporter": "python",
   "pygments_lexer": "ipython3",
   "version": "3.6.6"
  },
  "widgets": {
   "application/vnd.jupyter.widget-state+json": {
    "state": {
     "0dc28fd3541f4b309607a2b1cb4f7627": {
      "model_module": "k3d",
      "model_module_version": "^3.0.0",
      "model_name": "PlotModel",
      "state": {
       "_backend_version": "2.4.20",
       "_dom_classes": [],
       "_model_module_version": "^3.0.0",
       "_view_count": null,
       "_view_module_version": "^3.0.0",
       "antialias": true,
       "background_color": 16777215,
       "camera": [],
       "camera_auto_fit": true,
       "clipping_planes": [],
       "fps_meter": false,
       "grid": [
        -1,
        -1,
        -1,
        1,
        1,
        1
       ],
       "grid_auto_fit": true,
       "height": 512,
       "layout": "IPY_MODEL_cc86045f0dd544ddbbda87384224b886",
       "lighting": 1,
       "object_ids": [],
       "screenshot": "",
       "screenshot_scale": 2,
       "voxel_paint_color": 0
      }
     },
     "1d48e9b794754befa214e063eb3d701d": {
      "model_module": "@jupyter-widgets/base",
      "model_module_version": "1.1.0",
      "model_name": "LayoutModel",
      "state": {}
     },
     "2ca2ce041ca2414d9fb6a5a1f65c2df5": {
      "buffers": [
       {
        "data": "",
        "encoding": "base64",
        "path": [
         "attribute",
         "buffer"
        ]
       },
       {
        "data": "",
        "encoding": "base64",
        "path": [
         "color_map",
         "buffer"
        ]
       },
       {
        "data": "",
        "encoding": "base64",
        "path": [
         "colors",
         "buffer"
        ]
       },
       {
        "data": "AACAPwAAAAAAAAAAAAAAAAAAAAAAAIA/AAAAAAAAAAAAAAAAAAAAAAAAAEAAAAAAAAAAAAAAAAAAAAAAAACAPw==",
        "encoding": "base64",
        "path": [
         "model_matrix",
         "buffer"
        ]
       },
       {
        "data": "eqzqtQAAoEAAAADAc5ebP5rqlUAK1Pq/broRQL31gkAVqPW/kg9IQFfRUUAffPC/IS1uQLnHE0ApUOu/zFaBQEbeoD80JOa/vbOCQN47Rz4++OC/x1t3QOEHT79IzNu/apFaQH6m2L9ToNa/2+ExQMIiGsBddNG/9boAQFr8OsBnSMy/QLaVP0KqTcByHMe/eGWgPv33UcB88MG/PmsAv9ejSMCGxLy/ceacvzhBM8CRmLe/Pt7ov98OFMCbbLK/sDsQwCGJ27+lQK2/bdEgwCq5hr+wFKi/efYlwBPlvr666KK/0zIgwAHujj7FvJ2/kLgQwN0oXT/PkJi/UIXyv72yrD/ZZJO/aNq3v48b2z/kOI6/HSpsvygS+D/uDIm/K8HHvqSNAUD44IO/I5YAPr7q/D8Fan2/aeUXP6I+5z8aEnO/oMl8PyysxD8vumi/kfukPxVjmD9DYl6/CDu+P53YSz9YClS/yJvJP4ijwz5tskm/qH3HPySYyryBWj+/KA25PyWlzL6WAjW/VR6gP4zjOL+rqiq/4wF+Pz8Cer+/UiC//6IwPxyEk7/U+hW/3im7Pupan7/pogu/chsjPZ+RoL/9SgG/4yaJvo7Pl78k5u2+PWsKv2U/hr9ONtm+ZddDv5XlWr93hsS+4EZuv2SHHr+g1q++SxGEvwrWtr7KJpu+7GWIv5R/rb3zdoa+xUeEv8iYOj45jmO+VpBwv0G52z6MLjq+vqpKv0umJD/ezhC+RlUZv6ZAUD9i3s69ev2+vv+Ibj8QPni9AK8BvkkLfj+1fqW8AK8BPkkLfj+1fqU8ev2+Pv+Ibj8QPng9RlUZP6ZAUD9i3s49vqpKP0umJD/ezhA+VpBwP0G52z6MLjo+xUeEP8iYOj45jmM+7GWIP5R/rb3zdoY+SxGEPwrWtr7KJps+4EZuP2SHHr+g1q8+ZddDP5XlWr93hsQ+PWsKP2U/hr9ONtk+4yaJPo7Pl78k5u0+chsjvZ+RoL/9SgE/3im7vupan7/pogs//6IwvxyEk7/U+hU/4wF+vz8Cer+/UiA/VR6gv4zjOL+rqio/KA25vyWlzL6WAjU/qH3HvySYyryBWj8/yJvJv4ijwz5tskk/CDu+v53YSz9YClQ/kfukvxVjmD9DYl4/oMl8vyysxD8vumg/aeUXv6I+5z8aEnM/I5YAvr7q/D8Fan0/K8HHPqSNAUD44IM/HSpsPygS+D/uDIk/aNq3P48b2z/kOI4/UIXyP72yrD/ZZJM/kLgQQN0oXT/PkJg/0zIgQAHujj7FvJ0/efYlQBPlvr666KI/bdEgQCq5hr+wFKg/sDsQQCGJ27+lQK0/Pt7oP98OFMCbbLI/ceacPzhBM8CRmLc/PmsAP9ejSMCGxLw/eGWgvv33UcB88ME/QLaVv0KqTcByHMc/9boAwFr8OsBnSMw/2+ExwMIiGsBddNE/apFawH6m2L9ToNY/x1t3wOEHT79IzNs/vbOCwN47Rz4++OA/zFaBwEbeoD80JOY/IS1uwLnHE0ApUOs/kg9IwFfRUUAffPA/broRwL31gkAVqPU/c5ebv5rqlUAK1Po/eqzqNQAAoEAAAABA",
        "encoding": "base64",
        "path": [
         "vertices",
         "buffer"
        ]
       }
      ],
      "model_module": "k3d",
      "model_module_version": "^3.0.0",
      "model_name": "ObjectModel",
      "state": {
       "_model_module_version": "^3.0.0",
       "_view_count": null,
       "_view_module": null,
       "_view_module_version": "",
       "_view_name": null,
       "attribute": {
        "dtype": "float32",
        "shape": [
         0
        ]
       },
       "color": 255,
       "color_map": {
        "dtype": "float32",
        "shape": [
         0
        ]
       },
       "color_range": [],
       "colors": {
        "dtype": "uint32",
        "shape": [
         0
        ]
       },
       "compression_level": 0,
       "id": 139626953725824,
       "model_matrix": {
        "dtype": "float32",
        "shape": [
         4,
         4
        ]
       },
       "radial_segments": 8,
       "shader": "thick",
       "type": "Line",
       "vertices": {
        "dtype": "float32",
        "shape": [
         300
        ]
       },
       "visible": true,
       "width": 0.2
      }
     },
     "35ae1b70a4e449f1a54a8a100e1e05f5": {
      "model_module": "@jupyter-widgets/base",
      "model_module_version": "1.1.0",
      "model_name": "LayoutModel",
      "state": {}
     },
     "40358385c6fe4f1797bd33bed91cf3fe": {
      "model_module": "@jupyter-widgets/base",
      "model_module_version": "1.1.0",
      "model_name": "LayoutModel",
      "state": {}
     },
     "4143436671394e348a713010c17ba2d1": {
      "model_module": "@jupyter-widgets/base",
      "model_module_version": "1.1.0",
      "model_name": "LayoutModel",
      "state": {}
     },
     "525320e48ef644df80e3cd54567ad6e7": {
      "model_module": "k3d",
      "model_module_version": "^3.0.0",
      "model_name": "PlotModel",
      "state": {
       "_backend_version": "2.4.20",
       "_dom_classes": [],
       "_model_module_version": "^3.0.0",
       "_view_count": null,
       "_view_module_version": "^3.0.0",
       "antialias": true,
       "background_color": 16777215,
       "camera": [
        11.72837599545025,
        -16.73294449492251,
        1.172837599545036,
        0,
        0.8596194982528687,
        0,
        0,
        0,
        1
       ],
       "camera_auto_fit": true,
       "clipping_planes": [],
       "fps_meter": false,
       "grid": [
        -1,
        -1,
        -1,
        1,
        1,
        1
       ],
       "grid_auto_fit": true,
       "height": 512,
       "layout": "IPY_MODEL_d5482090bc51499f818364d58c531b4c",
       "lighting": 1,
       "object_ids": [
        140220146396576
       ],
       "screenshot": "",
       "screenshot_scale": 2,
       "voxel_paint_color": 0
      }
     },
     "535638d80412496d9539b006ff844885": {
      "model_module": "@jupyter-widgets/output",
      "model_module_version": "1.0.0",
      "model_name": "OutputModel",
      "state": {
       "layout": "IPY_MODEL_4143436671394e348a713010c17ba2d1",
       "outputs": [
        {
         "data": {
          "application/vnd.jupyter.widget-view+json": {
           "model_id": "ca51364b0d024099abe8e7ee890d6a61",
           "version_major": 2,
           "version_minor": 0
          },
          "text/plain": "Plot(antialias=True, background_color=16777215, fps_meter=False, grid=[-1, -1, -1, 1, 1, 1], height=512, light…"
         },
         "metadata": {},
         "output_type": "display_data"
        }
       ]
      }
     },
     "554fbd3fa5344e458beb5ec48dee7da8": {
      "model_module": "@jupyter-widgets/base",
      "model_module_version": "1.1.0",
      "model_name": "LayoutModel",
      "state": {}
     },
     "5563652aae1a4b68952d47acb451d940": {
      "model_module": "@jupyter-widgets/base",
      "model_module_version": "1.1.0",
      "model_name": "LayoutModel",
      "state": {}
     },
     "648beec5085b4e19b1393f2fcada83e2": {
      "model_module": "k3d",
      "model_module_version": "^3.0.0",
      "model_name": "PlotModel",
      "state": {
       "_backend_version": "2.4.20",
       "_dom_classes": [],
       "_model_module_version": "^3.0.0",
       "_view_count": null,
       "_view_module_version": "^3.0.0",
       "antialias": true,
       "background_color": 16777215,
       "camera": [
        11.72837599545025,
        -16.73294449492251,
        1.172837599545036,
        0,
        0.8596194982528687,
        0,
        0,
        0,
        1
       ],
       "camera_auto_fit": true,
       "clipping_planes": [],
       "fps_meter": false,
       "grid": [
        -1,
        -1,
        -1,
        1,
        1,
        1
       ],
       "grid_auto_fit": true,
       "height": 512,
       "layout": "IPY_MODEL_35ae1b70a4e449f1a54a8a100e1e05f5",
       "lighting": 1,
       "object_ids": [
        139626953725824
       ],
       "screenshot": "",
       "screenshot_scale": 2,
       "voxel_paint_color": 0
      }
     },
     "65e410fcc9994851b440a9dd4b3ccfcd": {
      "model_module": "k3d",
      "model_module_version": "^3.0.0",
      "model_name": "PlotModel",
      "state": {
       "_backend_version": "2.4.20",
       "_dom_classes": [],
       "_model_module_version": "^3.0.0",
       "_view_count": null,
       "_view_module_version": "^3.0.0",
       "antialias": true,
       "background_color": 16777215,
       "camera": [
        11.72837599545025,
        -16.73294449492251,
        1.172837599545036,
        0,
        0.8596194982528687,
        0,
        0,
        0,
        1
       ],
       "camera_auto_fit": true,
       "clipping_planes": [],
       "fps_meter": false,
       "grid": [
        -1,
        -1,
        -1,
        1,
        1,
        1
       ],
       "grid_auto_fit": true,
       "height": 512,
       "layout": "IPY_MODEL_f738b55e2d1d42b7aae4019fb373b77b",
       "lighting": 1,
       "object_ids": [
        140369666075784
       ],
       "screenshot": "",
       "screenshot_scale": 2,
       "voxel_paint_color": 0
      }
     },
     "771638072c4a454e92f80aa648dbfd2b": {
      "buffers": [
       {
        "data": "",
        "encoding": "base64",
        "path": [
         "attribute",
         "buffer"
        ]
       },
       {
        "data": "",
        "encoding": "base64",
        "path": [
         "color_map",
         "buffer"
        ]
       },
       {
        "data": "",
        "encoding": "base64",
        "path": [
         "colors",
         "buffer"
        ]
       },
       {
        "data": "AACAPwAAAAAAAAAAAAAAAAAAAAAAAIA/AAAAAAAAAAAAAAAAAAAAAAAAAEAAAAAAAAAAAAAAAAAAAAAAAACAPw==",
        "encoding": "base64",
        "path": [
         "model_matrix",
         "buffer"
        ]
       },
       {
        "data": "fn0wJwAAoEAAAADAe5ebP5nqlUAK1Pq/b7oRQLz1gkAVqPW/kQ9IQFjRUUAffPC/IS1uQLzHE0ApUOu/y1aBQE7eoD80JOa/vrOCQEk8Rz4++OC/xlt3QP4HT79IzNu/aJFaQIem2L9ToNa/2eExQMUiGsBddNG/9LoAQFv8OsBnSMy/QbaVP0KqTcByHMe/imWgPv33UcB88MG/L2sAv9ejSMCGxLy/aOacvzpBM8CRmLe/R97ov9wOFMCbbLK/szsQwByJ27+lQK2/btEgwCe5hr+wFKi/efYlwBDlvr666KK/0zIgwPrtjj7FvJ2/kbgQwNQoXT/PkJi/ToXyv7+yrD/ZZJO/Z9q3v40b2z/kOI6/HipsvyYS+D/uDIm/OcHHvqONAUD44IO/N5YAPr/q/D8Fan2/aeUXP6I+5z8aEnO/nsl8Py2sxD8vumi/j/ukPxhjmD9DYl6/CTu+P5rYSz9YClS/x5vJP4ejwz5tskm/qX3HP8SXyryBWj+/KQ25PxqlzL6WAjW/VB6gP47jOL+rqiq/4wF+Pz8Cer+/UiC//aIwPx2Ek7/U+hW/3ym7Pupan7/pogu/UBsjPaCRoL/9SgG/4iaJvo3Pl78k5u2+PmsKv2Q/hr9ONtm+ZNdDv5blWr93hsS+4kZuv2OHHr+g1q++SxGEvwrWtr7KJpu+7GWIv5l/rb3zdoa+xUeEv8WYOj45jmO+V5Bwv0G52z6MLjq+vqpKv0umJD/ezhC+RlUZv6ZAUD9i3s69ef2+vv+Ibj8QPni9/64BvkgLfj+1fqW8/64BPkgLfj+1fqU8ef2+Pv+Ibj8QPng9RlUZP6ZAUD9i3s49vqpKP0umJD/ezhA+V5BwP0G52z6MLjo+xUeEP8WYOj45jmM+7GWIP5l/rb3zdoY+SxGEPwrWtr7KJps+4kZuP2OHHr+g1q8+ZNdDP5blWr93hsQ+PmsKP2Q/hr9ONtk+4iaJPo3Pl78k5u0+UBsjvaCRoL/9SgE/3ym7vupan7/pogs//aIwvx2Ek7/U+hU/4wF+vz8Cer+/UiA/VB6gv47jOL+rqio/KQ25vxqlzL6WAjU/qX3Hv8SXyryBWj8/x5vJv4ejwz5tskk/CTu+v5rYSz9YClQ/j/ukvxhjmD9DYl4/nsl8vy2sxD8vumg/aeUXv6I+5z8aEnM/N5YAvr/q/D8Fan0/OcHHPqONAUD44IM/HipsPyYS+D/uDIk/Z9q3P40b2z/kOI4/ToXyP7+yrD/ZZJM/kbgQQNQoXT/PkJg/0zIgQPrtjj7FvJ0/efYlQBDlvr666KI/btEgQCe5hr+wFKg/szsQQByJ27+lQK0/R97oP9wOFMCbbLI/aOacPzpBM8CRmLc/L2sAP9ejSMCGxLw/imWgvv33UcB88ME/QbaVv0KqTcByHMc/9LoAwFv8OsBnSMw/2eExwMUiGsBddNE/aJFawIem2L9ToNY/xlt3wP4HT79IzNs/vrOCwEk8Rz4++OA/y1aBwE7eoD80JOY/IS1uwLzHE0ApUOs/kQ9IwFjRUUAffPA/b7oRwLz1gkAVqPU/e5ebv5nqlUAK1Po/fn0wpwAAoEAAAABA",
        "encoding": "base64",
        "path": [
         "vertices",
         "buffer"
        ]
       }
      ],
      "model_module": "k3d",
      "model_module_version": "^3.0.0",
      "model_name": "ObjectModel",
      "state": {
       "_model_module_version": "^3.0.0",
       "_view_count": null,
       "_view_module": null,
       "_view_module_version": "",
       "_view_name": null,
       "attribute": {
        "dtype": "float32",
        "shape": [
         0
        ]
       },
       "color": 255,
       "color_map": {
        "dtype": "float32",
        "shape": [
         0
        ]
       },
       "color_range": [],
       "colors": {
        "dtype": "uint32",
        "shape": [
         0
        ]
       },
       "compression_level": 0,
       "id": 140113987367656,
       "model_matrix": {
        "dtype": "float32",
        "shape": [
         4,
         4
        ]
       },
       "radial_segments": 8,
       "shader": "thick",
       "type": "Line",
       "vertices": {
        "dtype": "float32",
        "shape": [
         300
        ]
       },
       "visible": true,
       "width": 0.2
      }
     },
     "78406ac17a4047e4b9719fa0a91c5512": {
      "model_module": "@jupyter-widgets/base",
      "model_module_version": "1.1.0",
      "model_name": "LayoutModel",
      "state": {}
     },
     "adafa9e0baff49169767caad43a782f9": {
      "model_module": "@jupyter-widgets/output",
      "model_module_version": "1.0.0",
      "model_name": "OutputModel",
      "state": {
       "layout": "IPY_MODEL_554fbd3fa5344e458beb5ec48dee7da8",
       "outputs": [
        {
         "data": {
          "application/vnd.jupyter.widget-view+json": {
           "model_id": "648beec5085b4e19b1393f2fcada83e2",
           "version_major": 2,
           "version_minor": 0
          },
          "text/plain": "Plot(antialias=True, background_color=16777215, fps_meter=False, grid=[-1, -1, -1, 1, 1, 1], height=512, light…"
         },
         "metadata": {},
         "output_type": "display_data"
        }
       ]
      }
     },
     "ae1337ac2095445286cc5eddf338bab2": {
      "model_module": "k3d",
      "model_module_version": "^3.0.0",
      "model_name": "PlotModel",
      "state": {
       "_backend_version": "2.4.20",
       "_dom_classes": [],
       "_model_module_version": "^3.0.0",
       "_view_count": null,
       "_view_module_version": "^3.0.0",
       "antialias": true,
       "background_color": 16777215,
       "camera": [
        11.728376453897882,
        -16.73294518259396,
        1.172837645389799,
        0,
        0.8596194982528687,
        0,
        0,
        0,
        1
       ],
       "camera_auto_fit": true,
       "clipping_planes": [],
       "fps_meter": false,
       "grid": [
        -1,
        -1,
        -1,
        1,
        1,
        1
       ],
       "grid_auto_fit": true,
       "height": 512,
       "layout": "IPY_MODEL_1d48e9b794754befa214e063eb3d701d",
       "lighting": 1,
       "object_ids": [
        140113987367656
       ],
       "screenshot": "",
       "screenshot_scale": 2,
       "voxel_paint_color": 0
      }
     },
     "b0add4b4dad74194a81460470463121d": {
      "model_module": "@jupyter-widgets/base",
      "model_module_version": "1.1.0",
      "model_name": "LayoutModel",
      "state": {}
     },
     "b1b26bb41f8947a9b5768c0e492acc1e": {
      "model_module": "@jupyter-widgets/output",
      "model_module_version": "1.0.0",
      "model_name": "OutputModel",
      "state": {
       "layout": "IPY_MODEL_40358385c6fe4f1797bd33bed91cf3fe",
       "outputs": [
        {
         "data": {
          "application/vnd.jupyter.widget-view+json": {
           "model_id": "525320e48ef644df80e3cd54567ad6e7",
           "version_major": 2,
           "version_minor": 0
          },
          "text/plain": "Plot(antialias=True, background_color=16777215, fps_meter=False, grid=[-1, -1, -1, 1, 1, 1], height=512, light…"
         },
         "metadata": {},
         "output_type": "display_data"
        }
       ]
      }
     },
     "bd70a0a8c29c43dd9ca4aa23abb2d0e0": {
      "buffers": [
       {
        "data": "",
        "encoding": "base64",
        "path": [
         "attribute",
         "buffer"
        ]
       },
       {
        "data": "",
        "encoding": "base64",
        "path": [
         "color_map",
         "buffer"
        ]
       },
       {
        "data": "",
        "encoding": "base64",
        "path": [
         "colors",
         "buffer"
        ]
       },
       {
        "data": "AACAPwAAAAAAAAAAAAAAAAAAAAAAAIA/AAAAAAAAAAAAAAAAAAAAAAAAAEAAAAAAAAAAAAAAAAAAAAAAAACAPw==",
        "encoding": "base64",
        "path": [
         "model_matrix",
         "buffer"
        ]
       },
       {
        "data": "eqzqtQAAoEAAAADAc5ebP5rqlUAK1Pq/broRQL31gkAVqPW/kg9IQFfRUUAffPC/IS1uQLnHE0ApUOu/zFaBQEbeoD80JOa/vbOCQN47Rz4++OC/x1t3QOEHT79IzNu/apFaQH6m2L9ToNa/2+ExQMIiGsBddNG/9boAQFr8OsBnSMy/QLaVP0KqTcByHMe/eGWgPv33UcB88MG/PmsAv9ejSMCGxLy/ceacvzhBM8CRmLe/Pt7ov98OFMCbbLK/sDsQwCGJ27+lQK2/bdEgwCq5hr+wFKi/efYlwBPlvr666KK/0zIgwAHujj7FvJ2/kLgQwN0oXT/PkJi/UIXyv72yrD/ZZJO/aNq3v48b2z/kOI6/HSpsvygS+D/uDIm/K8HHvqSNAUD44IO/I5YAPr7q/D8Fan2/aeUXP6I+5z8aEnO/oMl8PyysxD8vumi/kfukPxVjmD9DYl6/CDu+P53YSz9YClS/yJvJP4ijwz5tskm/qH3HPySYyryBWj+/KA25PyWlzL6WAjW/VR6gP4zjOL+rqiq/4wF+Pz8Cer+/UiC//6IwPxyEk7/U+hW/3im7Pupan7/pogu/chsjPZ+RoL/9SgG/4yaJvo7Pl78k5u2+PWsKv2U/hr9ONtm+ZddDv5XlWr93hsS+4EZuv2SHHr+g1q++SxGEvwrWtr7KJpu+7GWIv5R/rb3zdoa+xUeEv8iYOj45jmO+VpBwv0G52z6MLjq+vqpKv0umJD/ezhC+RlUZv6ZAUD9i3s69ev2+vv+Ibj8QPni9AK8BvkkLfj+1fqW8AK8BPkkLfj+1fqU8ev2+Pv+Ibj8QPng9RlUZP6ZAUD9i3s49vqpKP0umJD/ezhA+VpBwP0G52z6MLjo+xUeEP8iYOj45jmM+7GWIP5R/rb3zdoY+SxGEPwrWtr7KJps+4EZuP2SHHr+g1q8+ZddDP5XlWr93hsQ+PWsKP2U/hr9ONtk+4yaJPo7Pl78k5u0+chsjvZ+RoL/9SgE/3im7vupan7/pogs//6IwvxyEk7/U+hU/4wF+vz8Cer+/UiA/VR6gv4zjOL+rqio/KA25vyWlzL6WAjU/qH3HvySYyryBWj8/yJvJv4ijwz5tskk/CDu+v53YSz9YClQ/kfukvxVjmD9DYl4/oMl8vyysxD8vumg/aeUXv6I+5z8aEnM/I5YAvr7q/D8Fan0/K8HHPqSNAUD44IM/HSpsPygS+D/uDIk/aNq3P48b2z/kOI4/UIXyP72yrD/ZZJM/kLgQQN0oXT/PkJg/0zIgQAHujj7FvJ0/efYlQBPlvr666KI/bdEgQCq5hr+wFKg/sDsQQCGJ27+lQK0/Pt7oP98OFMCbbLI/ceacPzhBM8CRmLc/PmsAP9ejSMCGxLw/eGWgvv33UcB88ME/QLaVv0KqTcByHMc/9boAwFr8OsBnSMw/2+ExwMIiGsBddNE/apFawH6m2L9ToNY/x1t3wOEHT79IzNs/vbOCwN47Rz4++OA/zFaBwEbeoD80JOY/IS1uwLnHE0ApUOs/kg9IwFfRUUAffPA/broRwL31gkAVqPU/c5ebv5rqlUAK1Po/eqzqNQAAoEAAAABA",
        "encoding": "base64",
        "path": [
         "vertices",
         "buffer"
        ]
       }
      ],
      "model_module": "k3d",
      "model_module_version": "^3.0.0",
      "model_name": "ObjectModel",
      "state": {
       "_model_module_version": "^3.0.0",
       "_view_count": null,
       "_view_module": null,
       "_view_module_version": "",
       "_view_name": null,
       "attribute": {
        "dtype": "float32",
        "shape": [
         0
        ]
       },
       "color": 255,
       "color_map": {
        "dtype": "float32",
        "shape": [
         0
        ]
       },
       "color_range": [],
       "colors": {
        "dtype": "uint32",
        "shape": [
         0
        ]
       },
       "compression_level": 0,
       "id": 140369666075784,
       "model_matrix": {
        "dtype": "float32",
        "shape": [
         4,
         4
        ]
       },
       "radial_segments": 8,
       "shader": "thick",
       "type": "Line",
       "vertices": {
        "dtype": "float32",
        "shape": [
         100,
         3
        ]
       },
       "visible": true,
       "width": 0.2
      }
     },
     "c41db2fc4c7944999f1d5fdc6bd963cd": {
      "buffers": [
       {
        "data": "",
        "encoding": "base64",
        "path": [
         "attribute",
         "buffer"
        ]
       },
       {
        "data": "",
        "encoding": "base64",
        "path": [
         "color_map",
         "buffer"
        ]
       },
       {
        "data": "",
        "encoding": "base64",
        "path": [
         "colors",
         "buffer"
        ]
       },
       {
        "data": "AACAPwAAAAAAAAAAAAAAAAAAAAAAAIA/AAAAAAAAAAAAAAAAAAAAAAAAAEAAAAAAAAAAAAAAAAAAAAAAAACAPw==",
        "encoding": "base64",
        "path": [
         "model_matrix",
         "buffer"
        ]
       },
       {
        "data": "eqzqtQAAoEAAAADAc5ebP5rqlUAK1Pq/broRQL31gkAVqPW/kg9IQFfRUUAffPC/IS1uQLnHE0ApUOu/zFaBQEbeoD80JOa/vbOCQN47Rz4++OC/x1t3QOEHT79IzNu/apFaQH6m2L9ToNa/2+ExQMIiGsBddNG/9boAQFr8OsBnSMy/QLaVP0KqTcByHMe/eGWgPv33UcB88MG/PmsAv9ejSMCGxLy/ceacvzhBM8CRmLe/Pt7ov98OFMCbbLK/sDsQwCGJ27+lQK2/bdEgwCq5hr+wFKi/efYlwBPlvr666KK/0zIgwAHujj7FvJ2/kLgQwN0oXT/PkJi/UIXyv72yrD/ZZJO/aNq3v48b2z/kOI6/HSpsvygS+D/uDIm/K8HHvqSNAUD44IO/I5YAPr7q/D8Fan2/aeUXP6I+5z8aEnO/oMl8PyysxD8vumi/kfukPxVjmD9DYl6/CDu+P53YSz9YClS/yJvJP4ijwz5tskm/qH3HPySYyryBWj+/KA25PyWlzL6WAjW/VR6gP4zjOL+rqiq/4wF+Pz8Cer+/UiC//6IwPxyEk7/U+hW/3im7Pupan7/pogu/chsjPZ+RoL/9SgG/4yaJvo7Pl78k5u2+PWsKv2U/hr9ONtm+ZddDv5XlWr93hsS+4EZuv2SHHr+g1q++SxGEvwrWtr7KJpu+7GWIv5R/rb3zdoa+xUeEv8iYOj45jmO+VpBwv0G52z6MLjq+vqpKv0umJD/ezhC+RlUZv6ZAUD9i3s69ev2+vv+Ibj8QPni9AK8BvkkLfj+1fqW8AK8BPkkLfj+1fqU8ev2+Pv+Ibj8QPng9RlUZP6ZAUD9i3s49vqpKP0umJD/ezhA+VpBwP0G52z6MLjo+xUeEP8iYOj45jmM+7GWIP5R/rb3zdoY+SxGEPwrWtr7KJps+4EZuP2SHHr+g1q8+ZddDP5XlWr93hsQ+PWsKP2U/hr9ONtk+4yaJPo7Pl78k5u0+chsjvZ+RoL/9SgE/3im7vupan7/pogs//6IwvxyEk7/U+hU/4wF+vz8Cer+/UiA/VR6gv4zjOL+rqio/KA25vyWlzL6WAjU/qH3HvySYyryBWj8/yJvJv4ijwz5tskk/CDu+v53YSz9YClQ/kfukvxVjmD9DYl4/oMl8vyysxD8vumg/aeUXv6I+5z8aEnM/I5YAvr7q/D8Fan0/K8HHPqSNAUD44IM/HSpsPygS+D/uDIk/aNq3P48b2z/kOI4/UIXyP72yrD/ZZJM/kLgQQN0oXT/PkJg/0zIgQAHujj7FvJ0/efYlQBPlvr666KI/bdEgQCq5hr+wFKg/sDsQQCGJ27+lQK0/Pt7oP98OFMCbbLI/ceacPzhBM8CRmLc/PmsAP9ejSMCGxLw/eGWgvv33UcB88ME/QLaVv0KqTcByHMc/9boAwFr8OsBnSMw/2+ExwMIiGsBddNE/apFawH6m2L9ToNY/x1t3wOEHT79IzNs/vbOCwN47Rz4++OA/zFaBwEbeoD80JOY/IS1uwLnHE0ApUOs/kg9IwFfRUUAffPA/broRwL31gkAVqPU/c5ebv5rqlUAK1Po/eqzqNQAAoEAAAABA",
        "encoding": "base64",
        "path": [
         "vertices",
         "buffer"
        ]
       }
      ],
      "model_module": "k3d",
      "model_module_version": "^3.0.0",
      "model_name": "ObjectModel",
      "state": {
       "_model_module_version": "^3.0.0",
       "_view_count": null,
       "_view_module": null,
       "_view_module_version": "",
       "_view_name": null,
       "attribute": {
        "dtype": "float32",
        "shape": [
         0
        ]
       },
       "color": 255,
       "color_map": {
        "dtype": "float32",
        "shape": [
         0
        ]
       },
       "color_range": [],
       "colors": {
        "dtype": "uint32",
        "shape": [
         0
        ]
       },
       "compression_level": 0,
       "id": 140220146396576,
       "model_matrix": {
        "dtype": "float32",
        "shape": [
         4,
         4
        ]
       },
       "radial_segments": 8,
       "shader": "thick",
       "type": "Line",
       "vertices": {
        "dtype": "float32",
        "shape": [
         100,
         3
        ]
       },
       "visible": true,
       "width": 0.2
      }
     },
     "ca51364b0d024099abe8e7ee890d6a61": {
      "model_module": "k3d",
      "model_module_version": "^3.0.0",
      "model_name": "PlotModel",
      "state": {
       "_backend_version": "2.4.20",
       "_dom_classes": [],
       "_model_module_version": "^3.0.0",
       "_view_count": null,
       "_view_module_version": "^3.0.0",
       "antialias": true,
       "background_color": 16777215,
       "camera": [
        13.266792872796714,
        -15.871113625526217,
        15.560115130023513,
        0,
        0.8596194982528687,
        0,
        -0.3500400292453194,
        0.41568642853505544,
        0.8394502790860862
       ],
       "camera_auto_fit": true,
       "clipping_planes": [],
       "fps_meter": false,
       "grid": [
        -1,
        -1,
        -1,
        1,
        1,
        1
       ],
       "grid_auto_fit": true,
       "height": 512,
       "layout": "IPY_MODEL_b0add4b4dad74194a81460470463121d",
       "lighting": 1,
       "object_ids": [
        140594351986280
       ],
       "screenshot": "",
       "screenshot_scale": 2,
       "voxel_paint_color": 0
      }
     },
     "cc86045f0dd544ddbbda87384224b886": {
      "model_module": "@jupyter-widgets/base",
      "model_module_version": "1.1.0",
      "model_name": "LayoutModel",
      "state": {}
     },
     "cf37ff77055c4fe4befea2874f6b5530": {
      "buffers": [
       {
        "data": "",
        "encoding": "base64",
        "path": [
         "attribute",
         "buffer"
        ]
       },
       {
        "data": "",
        "encoding": "base64",
        "path": [
         "color_map",
         "buffer"
        ]
       },
       {
        "data": "",
        "encoding": "base64",
        "path": [
         "colors",
         "buffer"
        ]
       },
       {
        "data": "AACAPwAAAAAAAAAAAAAAAAAAAAAAAIA/AAAAAAAAAAAAAAAAAAAAAAAAAEAAAAAAAAAAAAAAAAAAAAAAAACAPw==",
        "encoding": "base64",
        "path": [
         "model_matrix",
         "buffer"
        ]
       },
       {
        "data": "eqzqtQAAoEAAAADAc5ebP5rqlUAK1Pq/broRQL31gkAVqPW/kg9IQFfRUUAffPC/IS1uQLnHE0ApUOu/zFaBQEbeoD80JOa/vbOCQN47Rz4++OC/x1t3QOEHT79IzNu/apFaQH6m2L9ToNa/2+ExQMIiGsBddNG/9boAQFr8OsBnSMy/QLaVP0KqTcByHMe/eGWgPv33UcB88MG/PmsAv9ejSMCGxLy/ceacvzhBM8CRmLe/Pt7ov98OFMCbbLK/sDsQwCGJ27+lQK2/bdEgwCq5hr+wFKi/efYlwBPlvr666KK/0zIgwAHujj7FvJ2/kLgQwN0oXT/PkJi/UIXyv72yrD/ZZJO/aNq3v48b2z/kOI6/HSpsvygS+D/uDIm/K8HHvqSNAUD44IO/I5YAPr7q/D8Fan2/aeUXP6I+5z8aEnO/oMl8PyysxD8vumi/kfukPxVjmD9DYl6/CDu+P53YSz9YClS/yJvJP4ijwz5tskm/qH3HPySYyryBWj+/KA25PyWlzL6WAjW/VR6gP4zjOL+rqiq/4wF+Pz8Cer+/UiC//6IwPxyEk7/U+hW/3im7Pupan7/pogu/chsjPZ+RoL/9SgG/4yaJvo7Pl78k5u2+PWsKv2U/hr9ONtm+ZddDv5XlWr93hsS+4EZuv2SHHr+g1q++SxGEvwrWtr7KJpu+7GWIv5R/rb3zdoa+xUeEv8iYOj45jmO+VpBwv0G52z6MLjq+vqpKv0umJD/ezhC+RlUZv6ZAUD9i3s69ev2+vv+Ibj8QPni9AK8BvkkLfj+1fqW8AK8BPkkLfj+1fqU8ev2+Pv+Ibj8QPng9RlUZP6ZAUD9i3s49vqpKP0umJD/ezhA+VpBwP0G52z6MLjo+xUeEP8iYOj45jmM+7GWIP5R/rb3zdoY+SxGEPwrWtr7KJps+4EZuP2SHHr+g1q8+ZddDP5XlWr93hsQ+PWsKP2U/hr9ONtk+4yaJPo7Pl78k5u0+chsjvZ+RoL/9SgE/3im7vupan7/pogs//6IwvxyEk7/U+hU/4wF+vz8Cer+/UiA/VR6gv4zjOL+rqio/KA25vyWlzL6WAjU/qH3HvySYyryBWj8/yJvJv4ijwz5tskk/CDu+v53YSz9YClQ/kfukvxVjmD9DYl4/oMl8vyysxD8vumg/aeUXv6I+5z8aEnM/I5YAvr7q/D8Fan0/K8HHPqSNAUD44IM/HSpsPygS+D/uDIk/aNq3P48b2z/kOI4/UIXyP72yrD/ZZJM/kLgQQN0oXT/PkJg/0zIgQAHujj7FvJ0/efYlQBPlvr666KI/bdEgQCq5hr+wFKg/sDsQQCGJ27+lQK0/Pt7oP98OFMCbbLI/ceacPzhBM8CRmLc/PmsAP9ejSMCGxLw/eGWgvv33UcB88ME/QLaVv0KqTcByHMc/9boAwFr8OsBnSMw/2+ExwMIiGsBddNE/apFawH6m2L9ToNY/x1t3wOEHT79IzNs/vbOCwN47Rz4++OA/zFaBwEbeoD80JOY/IS1uwLnHE0ApUOs/kg9IwFfRUUAffPA/broRwL31gkAVqPU/c5ebv5rqlUAK1Po/eqzqNQAAoEAAAABA",
        "encoding": "base64",
        "path": [
         "vertices",
         "buffer"
        ]
       }
      ],
      "model_module": "k3d",
      "model_module_version": "^3.0.0",
      "model_name": "ObjectModel",
      "state": {
       "_model_module_version": "^3.0.0",
       "_view_count": null,
       "_view_module": null,
       "_view_module_version": "",
       "_view_name": null,
       "attribute": {
        "dtype": "float32",
        "shape": [
         0
        ]
       },
       "color": 255,
       "color_map": {
        "dtype": "float32",
        "shape": [
         0
        ]
       },
       "color_range": [],
       "colors": {
        "dtype": "uint32",
        "shape": [
         0
        ]
       },
       "compression_level": 0,
       "id": 140594351986280,
       "model_matrix": {
        "dtype": "float32",
        "shape": [
         4,
         4
        ]
       },
       "radial_segments": 8,
       "shader": "thick",
       "type": "Line",
       "vertices": {
        "dtype": "float32",
        "shape": [
         300
        ]
       },
       "visible": true,
       "width": 0.2
      }
     },
     "d5482090bc51499f818364d58c531b4c": {
      "model_module": "@jupyter-widgets/base",
      "model_module_version": "1.1.0",
      "model_name": "LayoutModel",
      "state": {}
     },
     "dcd2ec9ddd5d45f085931f47a73c9b3b": {
      "model_module": "@jupyter-widgets/output",
      "model_module_version": "1.0.0",
      "model_name": "OutputModel",
      "state": {
       "layout": "IPY_MODEL_78406ac17a4047e4b9719fa0a91c5512",
       "outputs": [
        {
         "data": {
          "application/vnd.jupyter.widget-view+json": {
           "model_id": "65e410fcc9994851b440a9dd4b3ccfcd",
           "version_major": 2,
           "version_minor": 0
          },
          "text/plain": "Plot(antialias=True, background_color=16777215, fps_meter=False, grid=[-1, -1, -1, 1, 1, 1], height=512, light…"
         },
         "metadata": {},
         "output_type": "display_data"
        }
       ]
      }
     },
     "f1b658dff50d420d9e737598f4ee4546": {
      "model_module": "@jupyter-widgets/output",
      "model_module_version": "1.0.0",
      "model_name": "OutputModel",
      "state": {
       "layout": "IPY_MODEL_5563652aae1a4b68952d47acb451d940",
       "outputs": [
        {
         "data": {
          "application/vnd.jupyter.widget-view+json": {
           "model_id": "ae1337ac2095445286cc5eddf338bab2",
           "version_major": 2,
           "version_minor": 0
          },
          "text/plain": "Plot(antialias=True, background_color=16777215, fps_meter=False, grid=[-1, -1, -1, 1, 1, 1], height=512, light…"
         },
         "metadata": {},
         "output_type": "display_data"
        }
       ]
      }
     },
     "f738b55e2d1d42b7aae4019fb373b77b": {
      "model_module": "@jupyter-widgets/base",
      "model_module_version": "1.1.0",
      "model_name": "LayoutModel",
      "state": {}
     }
    },
    "version_major": 2,
    "version_minor": 0
   }
  }
 },
 "nbformat": 4,
 "nbformat_minor": 2
}
