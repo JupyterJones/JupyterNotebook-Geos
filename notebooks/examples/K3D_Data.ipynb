{
 "cells": [
  {
   "cell_type": "code",
   "execution_count": 15,
   "metadata": {},
   "outputs": [
    {
     "name": "stdout",
     "output_type": "stream",
     "text": [
      "Basemap.ipynb  HOW-TO.md    K3D_Data.ipynb  MANIFEST.in       screenshot.png\r\n",
      "Dockerfile     index.ipynb  K3D.db\t    README.md\t      setupbase.py\r\n",
      "docs\t       js\t    lgtm.yml\t    RELEASE.md\t      setup.cfg\r\n",
      "examples       k3d\t    LICENSE.txt     requirements.txt  setup.py\r\n"
     ]
    }
   ],
   "source": [
    "!ls /home/jovyan/K3D-jupyter"
   ]
  },
  {
   "cell_type": "code",
   "execution_count": 2,
   "metadata": {},
   "outputs": [
    {
     "name": "stdout",
     "output_type": "stream",
     "text": [
      "history.txt  index.ipynb  __init__.py  K3D_Data.ipynb  K3D.db  storms\r\n"
     ]
    }
   ],
   "source": [
    "!ls  ../work/"
   ]
  },
  {
   "cell_type": "code",
   "execution_count": 5,
   "metadata": {},
   "outputs": [
    {
     "data": {
      "text/plain": [
       "'Database Created'"
      ]
     },
     "execution_count": 5,
     "metadata": {},
     "output_type": "execute_result"
    }
   ],
   "source": [
    "import sys\n",
    "sys.path.insert(0, \"/home/jovyan\")\n",
    "from work.K3D_Data import *\n",
    "create()"
   ]
  },
  {
   "cell_type": "code",
   "execution_count": 5,
   "metadata": {},
   "outputs": [
    {
     "name": "stdout",
     "output_type": "stream",
     "text": [
      "cp: cannot create regular file '../work/K3D_Data.ipynb': Permission denied\r\n"
     ]
    }
   ],
   "source": [
    "!cp K3D_Data.ipynb ../work"
   ]
  },
  {
   "cell_type": "code",
   "execution_count": 6,
   "metadata": {},
   "outputs": [
    {
     "name": "stdout",
     "output_type": "stream",
     "text": [
      "\n",
      "POST VERIFIED:\n",
      " 1 \n",
      "This is third\n",
      "Three line \n",
      "TEST\n",
      "\n"
     ]
    },
    {
     "data": {
      "text/plain": [
       "'\\nThis is third\\nThree line \\nTEST\\n'"
      ]
     },
     "execution_count": 6,
     "metadata": {},
     "output_type": "execute_result"
    }
   ],
   "source": [
    "import sys\n",
    "sys.path.insert(0, \"/home/jovyan\")\n",
    "from work.K3D_Data import *\n",
    "\n",
    "TEXT = \"\"\"\n",
    "This is third\n",
    "Three line \n",
    "TEST\n",
    "\"\"\"\n",
    "insert(TEXT)"
   ]
  },
  {
   "cell_type": "code",
   "execution_count": 7,
   "metadata": {},
   "outputs": [
    {
     "data": {
      "text/plain": [
       "'ROWID 3 Deleted'"
      ]
     },
     "execution_count": 7,
     "metadata": {},
     "output_type": "execute_result"
    }
   ],
   "source": [
    "import sys\n",
    "sys.path.insert(0, \"/home/jovyan\")\n",
    "from work.K3D_Data import *\n",
    "rowid = str(3)\n",
    "delete(rowid)"
   ]
  },
  {
   "cell_type": "code",
   "execution_count": 8,
   "metadata": {},
   "outputs": [
    {
     "name": "stdout",
     "output_type": "stream",
     "text": [
      "Detail Search: third\n",
      "1 :  \n",
      "This is third\n",
      "Three line \n",
      "TEST\n",
      "\n"
     ]
    }
   ],
   "source": [
    "import sys\n",
    "sys.path.insert(0, \"/home/jovyan\")\n",
    "from work.K3D_Data import *\n",
    "Dsearch()"
   ]
  },
  {
   "cell_type": "code",
   "execution_count": 9,
   "metadata": {},
   "outputs": [],
   "source": [
    "import sys\n",
    "sys.path.insert(0, \"/home/jovyan\")\n",
    "from work.K3D_Data import *\n",
    "filename = '/home/jovyan/data.txt'\n",
    "prtmain(filename)"
   ]
  },
  {
   "cell_type": "code",
   "execution_count": 11,
   "metadata": {},
   "outputs": [
    {
     "name": "stdout",
     "output_type": "stream",
     "text": [
      "/home/jovyan/data.txt\r\n"
     ]
    }
   ],
   "source": [
    "!ls /home/jovyan/data.txt"
   ]
  },
  {
   "cell_type": "code",
   "execution_count": 12,
   "metadata": {},
   "outputs": [
    {
     "name": "stdout",
     "output_type": "stream",
     "text": [
      "Help on module work.K3D_Data in work:\n",
      "\n",
      "NAME\n",
      "    work.K3D_Data\n",
      "\n",
      "FUNCTIONS\n",
      "    Dsearch()\n",
      "    \n",
      "    HELP()\n",
      "    \n",
      "    create()\n",
      "    \n",
      "    delete(rowid)\n",
      "    \n",
      "    insert(data)\n",
      "    \n",
      "    main()\n",
      "    \n",
      "    prtmain(filename)\n",
      "    \n",
      "    search(data)\n",
      "\n",
      "DATA\n",
      "    c = <sqlite3.Cursor object>\n",
      "    conn = <sqlite3.Connection object>\n",
      "\n",
      "FILE\n",
      "    /home/jovyan/work/K3D_Data.py\n",
      "\n",
      "\n"
     ]
    }
   ],
   "source": [
    "import sys\n",
    "sys.path.insert(0, \"/home/jovyan\")\n",
    "from work import K3D_Data\n",
    "help(K3D_Data)"
   ]
  },
  {
   "cell_type": "code",
   "execution_count": 14,
   "metadata": {},
   "outputs": [
    {
     "name": "stdout",
     "output_type": "stream",
     "text": [
      "\n",
      "POST VERIFIED:\n",
      " 3 \n",
      "Horrah it works\n",
      "\n",
      "testing \n",
      " again\n",
      "\n"
     ]
    },
    {
     "data": {
      "text/plain": [
       "'\\nHorrah it works\\n\\ntesting \\n again\\n'"
      ]
     },
     "execution_count": 14,
     "metadata": {},
     "output_type": "execute_result"
    }
   ],
   "source": [
    "import sys\n",
    "sys.path.insert(0, \"/home/jovyan\")\n",
    "from work.K3D_Data import *\n",
    "\n",
    "TEXT = \"\"\"\n",
    "Horrah it works\n",
    "\n",
    "testing \\n again\n",
    "\"\"\"\n",
    "insert(TEXT)"
   ]
  },
  {
   "cell_type": "code",
   "execution_count": null,
   "metadata": {},
   "outputs": [],
   "source": []
  }
 ],
 "metadata": {
  "kernelspec": {
   "display_name": "Python 3",
   "language": "python",
   "name": "python3"
  },
  "language_info": {
   "codemirror_mode": {
    "name": "ipython",
    "version": 3
   },
   "file_extension": ".py",
   "mimetype": "text/x-python",
   "name": "python",
   "nbconvert_exporter": "python",
   "pygments_lexer": "ipython3",
   "version": "3.6.2"
  }
 },
 "nbformat": 4,
 "nbformat_minor": 2
}
