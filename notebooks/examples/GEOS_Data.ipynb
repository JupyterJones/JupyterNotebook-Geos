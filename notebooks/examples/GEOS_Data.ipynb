{
 "cells": [
  {
   "cell_type": "code",
   "execution_count": 8,
   "metadata": {
    "collapsed": false
   },
   "outputs": [
    {
     "name": "stdout",
     "output_type": "stream",
     "text": [
      "examples     history.txt  __init__.py  K3D.db\t    storms\r\n",
      "GeosData.py  index.ipynb  JAVA\t       __pycache__\r\n"
     ]
    }
   ],
   "source": [
    "!ls /notebooks"
   ]
  },
  {
   "cell_type": "code",
   "execution_count": 9,
   "metadata": {
    "collapsed": false
   },
   "outputs": [
    {
     "name": "stdout",
     "output_type": "stream",
     "text": [
      "basemap-foo.png\t\t\t\t foo.png\t  K3D.db\r\n",
      "Basemap.ipynb\t\t\t\t GEOS_Data.ipynb  pub\r\n",
      "Create-and Test-Geos_Sqlite3_Data.ipynb  GEOS_Data.png\t  Storm-Data.ipynb\r\n",
      "data.txt\t\t\t\t K3D_Data.png\t  Storm-images.ipynb\r\n"
     ]
    }
   ],
   "source": [
    "!ls  /notebooks/examples"
   ]
  },
  {
   "cell_type": "code",
   "execution_count": 30,
   "metadata": {
    "collapsed": false
   },
   "outputs": [
    {
     "name": "stdout",
     "output_type": "stream",
     "text": [
      "legacy\n",
      "README\n",
      "Storm-Data-Export-Format.docx\n",
      "StormEvents_details-ftp_v1.0_d1950_c20170120.csv\n",
      "StormEvents_details-ftp_v1.0_d1951_c20160223.csv\n",
      "StormEvents_details-ftp_v1.0_d1952_c20170619.csv\n",
      "StormEvents_details-ftp_v1.0_d1953_c20160223.csv\n",
      "StormEvents_details-ftp_v1.0_d1954_c20160223.csv\n",
      "StormEvents_details-ftp_v1.0_d1955_c20160223.csv\n",
      "StormEvents_details-ftp_v1.0_d1956_c20170717.csv\n",
      "StormEvents_details-ftp_v1.0_d1957_c20160223.csv\n",
      "StormEvents_details-ftp_v1.0_d1958_c20160223.csv\n",
      "StormEvents_details-ftp_v1.0_d1959_c20160223.csv\n",
      "StormEvents_details-ftp_v1.0_d1960_c20160223.csv\n",
      "StormEvents_details-ftp_v1.0_d1961_c20160223.csv\n",
      "StormEvents_details-ftp_v1.0_d1962_c20160223.csv\n",
      "StormEvents_details-ftp_v1.0_d1963_c20160223.csv\n",
      "StormEvents_details-ftp_v1.0_d1964_c20160223.csv\n",
      "StormEvents_details-ftp_v1.0_d1965_c20170619.csv\n",
      "StormEvents_details-ftp_v1.0_d1966_c20160223.csv\n",
      "StormEvents_details-ftp_v1.0_d1967_c20160223.csv\n",
      "StormEvents_details-ftp_v1.0_d1968_c20160223.csv\n",
      "StormEvents_details-ftp_v1.0_d1969_c20170717.csv\n",
      "StormEvents_details-ftp_v1.0_d1970_c20160223.csv\n",
      "StormEvents_details-ftp_v1.0_d1971_c20160223.csv\n",
      "StormEvents_details-ftp_v1.0_d1972_c20181029.csv\n",
      "StormEvents_details-ftp_v1.0_d1973_c20160223.csv\n",
      "StormEvents_details-ftp_v1.0_d1974_c20160223.csv\n",
      "StormEvents_details-ftp_v1.0_d1975_c20160223.csv\n",
      "StormEvents_details-ftp_v1.0_d1976_c20160223.csv\n",
      "StormEvents_details-ftp_v1.0_d1977_c20160223.csv\n",
      "StormEvents_details-ftp_v1.0_d1978_c20160223.csv\n",
      "StormEvents_details-ftp_v1.0_d1979_c20160223.csv\n",
      "StormEvents_details-ftp_v1.0_d1980_c20170717.csv\n",
      "StormEvents_details-ftp_v1.0_d1981_c20170717.csv\n",
      "StormEvents_details-ftp_v1.0_d1982_c20160223.csv\n",
      "StormEvents_details-ftp_v1.0_d1983_c20160223.csv\n",
      "StormEvents_details-ftp_v1.0_d1984_c20170717.csv\n",
      "StormEvents_details-ftp_v1.0_d1985_c20160223.csv\n",
      "StormEvents_details-ftp_v1.0_d1986_c20160223.csv\n",
      "StormEvents_details-ftp_v1.0_d1987_c20160223.csv\n",
      "StormEvents_details-ftp_v1.0_d1988_c20170717.csv\n",
      "StormEvents_details-ftp_v1.0_d1989_c20170717.csv\n",
      "StormEvents_details-ftp_v1.0_d1990_c20170717.csv\n",
      "StormEvents_details-ftp_v1.0_d1991_c20170717.csv\n",
      "StormEvents_details-ftp_v1.0_d1992_c20170717.csv\n",
      "StormEvents_details-ftp_v1.0_d1993_c20170717.csv\n",
      "StormEvents_details-ftp_v1.0_d1994_c20170717.csv\n",
      "StormEvents_details-ftp_v1.0_d1995_c20170522.csv\n",
      "StormEvents_details-ftp_v1.0_d1996_c20170717.csv\n",
      "StormEvents_details-ftp_v1.0_d1997_c20170717.csv\n",
      "StormEvents_details-ftp_v1.0_d1998_c20170717.csv\n",
      "StormEvents_details-ftp_v1.0_d1999_c20170717.csv\n",
      "StormEvents_details-ftp_v1.0_d2000_c20170717.csv\n",
      "StormEvents_details-ftp_v1.0_d2001_c20170717.csv\n",
      "StormEvents_details-ftp_v1.0_d2002_c20170717.csv\n",
      "StormEvents_details-ftp_v1.0_d2003_c20170717.csv\n",
      "StormEvents_details-ftp_v1.0_d2004_c20170717.csv\n",
      "StormEvents_details-ftp_v1.0_d2005_c20170717.csv\n",
      "StormEvents_details-ftp_v1.0_d2006_c20170717.csv\n",
      "StormEvents_details-ftp_v1.0_d2007_c20170717.csv\n",
      "StormEvents_details-ftp_v1.0_d2008_c20180718.csv\n",
      "StormEvents_details-ftp_v1.0_d2009_c20180718.csv\n",
      "StormEvents_details-ftp_v1.0_d2010_c20170726.csv\n",
      "StormEvents_details-ftp_v1.0_d2011_c20180718.csv\n",
      "StormEvents_details-ftp_v1.0_d2012_c20170519.csv\n",
      "StormEvents_details-ftp_v1.0_d2013_c20170519.csv\n",
      "StormEvents_details-ftp_v1.0_d2014_c20180718.csv\n",
      "StormEvents_details-ftp_v1.0_d2015_c20180525.csv\n",
      "StormEvents_details-ftp_v1.0_d2016_c20180718.csv\n",
      "StormEvents_details-ftp_v1.0_d2017_c20181017.csv\n",
      "StormEvents_details-ftp_v1.0_d2018_c20181116.csv\n",
      "StormEvents_fatalities-ftp_v1.0_d1950_c20170120.csv\n",
      "StormEvents_fatalities-ftp_v1.0_d1951_c20160223.csv\n",
      "StormEvents_fatalities-ftp_v1.0_d1952_c20170619.csv\n",
      "StormEvents_fatalities-ftp_v1.0_d1953_c20160223.csv\n",
      "StormEvents_fatalities-ftp_v1.0_d1954_c20160223.csv\n",
      "StormEvents_fatalities-ftp_v1.0_d1955_c20160223.csv\n",
      "StormEvents_fatalities-ftp_v1.0_d1956_c20170717.csv\n",
      "StormEvents_fatalities-ftp_v1.0_d1957_c20160223.csv\n",
      "StormEvents_fatalities-ftp_v1.0_d1958_c20160223.csv\n",
      "StormEvents_fatalities-ftp_v1.0_d1959_c20160223.csv\n",
      "StormEvents_fatalities-ftp_v1.0_d1960_c20160223.csv\n",
      "StormEvents_fatalities-ftp_v1.0_d1961_c20160223.csv\n",
      "StormEvents_fatalities-ftp_v1.0_d1962_c20160223.csv\n",
      "StormEvents_fatalities-ftp_v1.0_d1963_c20160223.csv\n",
      "StormEvents_fatalities-ftp_v1.0_d1964_c20160223.csv\n",
      "StormEvents_fatalities-ftp_v1.0_d1965_c20170619.csv\n",
      "StormEvents_fatalities-ftp_v1.0_d1966_c20160223.csv\n",
      "StormEvents_fatalities-ftp_v1.0_d1967_c20160223.csv\n",
      "StormEvents_fatalities-ftp_v1.0_d1968_c20160223.csv\n",
      "StormEvents_fatalities-ftp_v1.0_d1969_c20170717.csv\n",
      "StormEvents_fatalities-ftp_v1.0_d1970_c20160223.csv\n",
      "StormEvents_fatalities-ftp_v1.0_d1971_c20160223.csv\n",
      "StormEvents_fatalities-ftp_v1.0_d1972_c20181029.csv\n",
      "StormEvents_fatalities-ftp_v1.0_d1973_c20160223.csv\n",
      "StormEvents_fatalities-ftp_v1.0_d1974_c20160223.csv\n",
      "StormEvents_fatalities-ftp_v1.0_d1975_c20160223.csv\n",
      "StormEvents_fatalities-ftp_v1.0_d1976_c20160223.csv\n",
      "StormEvents_fatalities-ftp_v1.0_d1977_c20160223.csv\n",
      "StormEvents_fatalities-ftp_v1.0_d1978_c20160223.csv\n",
      "StormEvents_fatalities-ftp_v1.0_d1979_c20160223.csv\n",
      "StormEvents_fatalities-ftp_v1.0_d1980_c20170717.csv\n",
      "StormEvents_fatalities-ftp_v1.0_d1981_c20170717.csv\n",
      "StormEvents_fatalities-ftp_v1.0_d1982_c20160223.csv\n",
      "StormEvents_fatalities-ftp_v1.0_d1983_c20160223.csv\n",
      "StormEvents_fatalities-ftp_v1.0_d1984_c20170717.csv\n",
      "StormEvents_fatalities-ftp_v1.0_d1985_c20160223.csv\n",
      "StormEvents_fatalities-ftp_v1.0_d1986_c20160223.csv\n",
      "StormEvents_fatalities-ftp_v1.0_d1987_c20160223.csv\n",
      "StormEvents_fatalities-ftp_v1.0_d1988_c20170717.csv\n",
      "StormEvents_fatalities-ftp_v1.0_d1989_c20170717.csv\n",
      "StormEvents_fatalities-ftp_v1.0_d1990_c20170717.csv\n",
      "StormEvents_fatalities-ftp_v1.0_d1991_c20170717.csv\n",
      "StormEvents_fatalities-ftp_v1.0_d1992_c20170717.csv\n",
      "StormEvents_fatalities-ftp_v1.0_d1993_c20170717.csv\n",
      "StormEvents_fatalities-ftp_v1.0_d1994_c20170717.csv\n",
      "StormEvents_fatalities-ftp_v1.0_d1995_c20170522.csv\n",
      "StormEvents_fatalities-ftp_v1.0_d1996_c20170717.csv\n",
      "StormEvents_fatalities-ftp_v1.0_d1997_c20170717.csv\n",
      "StormEvents_fatalities-ftp_v1.0_d1998_c20170717.csv\n",
      "StormEvents_fatalities-ftp_v1.0_d1999_c20170717.csv\n",
      "StormEvents_fatalities-ftp_v1.0_d2000_c20170717.csv\n",
      "StormEvents_fatalities-ftp_v1.0_d2001_c20170717.csv\n",
      "StormEvents_fatalities-ftp_v1.0_d2002_c20170717.csv\n",
      "StormEvents_fatalities-ftp_v1.0_d2003_c20170717.csv\n",
      "StormEvents_fatalities-ftp_v1.0_d2004_c20170717.csv\n",
      "StormEvents_fatalities-ftp_v1.0_d2005_c20170717.csv\n",
      "StormEvents_fatalities-ftp_v1.0_d2006_c20170717.csv\n",
      "StormEvents_fatalities-ftp_v1.0_d2007_c20170717.csv\n",
      "StormEvents_fatalities-ftp_v1.0_d2008_c20180718.csv\n",
      "StormEvents_fatalities-ftp_v1.0_d2009_c20180718.csv\n",
      "StormEvents_fatalities-ftp_v1.0_d2010_c20170726.csv\n",
      "StormEvents_fatalities-ftp_v1.0_d2011_c20180718.csv\n",
      "StormEvents_fatalities-ftp_v1.0_d2012_c20170519.csv\n",
      "StormEvents_fatalities-ftp_v1.0_d2013_c20170519.csv\n",
      "StormEvents_fatalities-ftp_v1.0_d2014_c20180718.csv\n",
      "StormEvents_fatalities-ftp_v1.0_d2015_c20180525.csv\n",
      "StormEvents_fatalities-ftp_v1.0_d2016_c20180718.csv\n",
      "StormEvents_fatalities-ftp_v1.0_d2017_c20181017.csv\n",
      "StormEvents_fatalities-ftp_v1.0_d2018_c20181116.csv\n",
      "StormEvents_locations-ftp_v1.0_d1996_c20170717.csv\n",
      "StormEvents_locations-ftp_v1.0_d1997_c20170717.csv\n",
      "StormEvents_locations-ftp_v1.0_d1998_c20170717.csv\n",
      "StormEvents_locations-ftp_v1.0_d1999_c20170717.csv\n",
      "StormEvents_locations-ftp_v1.0_d2000_c20170717.csv\n",
      "StormEvents_locations-ftp_v1.0_d2001_c20170717.csv\n",
      "StormEvents_locations-ftp_v1.0_d2002_c20170717.csv\n",
      "StormEvents_locations-ftp_v1.0_d2003_c20170717.csv\n",
      "StormEvents_locations-ftp_v1.0_d2004_c20170717.csv\n",
      "StormEvents_locations-ftp_v1.0_d2005_c20170717.csv\n",
      "StormEvents_locations-ftp_v1.0_d2006_c20170717.csv\n",
      "StormEvents_locations-ftp_v1.0_d2007_c20170717.csv\n",
      "StormEvents_locations-ftp_v1.0_d2008_c20180718.csv\n",
      "StormEvents_locations-ftp_v1.0_d2009_c20180718.csv\n",
      "StormEvents_locations-ftp_v1.0_d2010_c20170726.csv\n",
      "StormEvents_locations-ftp_v1.0_d2011_c20180718.csv\n",
      "StormEvents_locations-ftp_v1.0_d2012_c20170519.csv\n",
      "StormEvents_locations-ftp_v1.0_d2013_c20170519.csv\n",
      "StormEvents_locations-ftp_v1.0_d2014_c20180718.csv\n",
      "StormEvents_locations-ftp_v1.0_d2015_c20180525.csv\n",
      "StormEvents_locations-ftp_v1.0_d2016_c20180718.csv\n",
      "StormEvents_locations-ftp_v1.0_d2017_c20181017.csv\n",
      "StormEvents_locations-ftp_v1.0_d2018_c20181116.csv\n",
      "ugc_areas.csv\n"
     ]
    }
   ],
   "source": [
    "!ls  /notebooks/examples/pub/data/swdi/stormevents/csvfiles"
   ]
  },
  {
   "cell_type": "code",
   "execution_count": 31,
   "metadata": {
    "collapsed": false
   },
   "outputs": [
    {
     "name": "stdout",
     "output_type": "stream",
     "text": [
      "StormEvents_locations-ftp_v1.0_d1996_c20170717.csv\r\n",
      "StormEvents_locations-ftp_v1.0_d1997_c20170717.csv\r\n",
      "StormEvents_locations-ftp_v1.0_d1998_c20170717.csv\r\n",
      "StormEvents_locations-ftp_v1.0_d1999_c20170717.csv\r\n",
      "StormEvents_locations-ftp_v1.0_d2000_c20170717.csv\r\n",
      "StormEvents_locations-ftp_v1.0_d2001_c20170717.csv\r\n",
      "StormEvents_locations-ftp_v1.0_d2002_c20170717.csv\r\n",
      "StormEvents_locations-ftp_v1.0_d2003_c20170717.csv\r\n",
      "StormEvents_locations-ftp_v1.0_d2004_c20170717.csv\r\n",
      "StormEvents_locations-ftp_v1.0_d2005_c20170717.csv\r\n",
      "StormEvents_locations-ftp_v1.0_d2006_c20170717.csv\r\n",
      "StormEvents_locations-ftp_v1.0_d2007_c20170717.csv\r\n",
      "StormEvents_locations-ftp_v1.0_d2008_c20180718.csv\r\n",
      "StormEvents_locations-ftp_v1.0_d2009_c20180718.csv\r\n",
      "StormEvents_locations-ftp_v1.0_d2010_c20170726.csv\r\n",
      "StormEvents_locations-ftp_v1.0_d2011_c20180718.csv\r\n",
      "StormEvents_locations-ftp_v1.0_d2012_c20170519.csv\r\n",
      "StormEvents_locations-ftp_v1.0_d2013_c20170519.csv\r\n",
      "StormEvents_locations-ftp_v1.0_d2014_c20180718.csv\r\n",
      "StormEvents_locations-ftp_v1.0_d2015_c20180525.csv\r\n",
      "StormEvents_locations-ftp_v1.0_d2016_c20180718.csv\r\n",
      "StormEvents_locations-ftp_v1.0_d2017_c20181017.csv\r\n",
      "StormEvents_locations-ftp_v1.0_d2018_c20181017.csv\r\n",
      "StormEvents_locations-ftp_v1.0_d2018_c20181116.csv\r\n"
     ]
    }
   ],
   "source": [
    "!ls /notebooks/storms"
   ]
  },
  {
   "cell_type": "code",
   "execution_count": 16,
   "metadata": {
    "collapsed": false
   },
   "outputs": [
    {
     "data": {
      "text/plain": [
       "'Database Created'"
      ]
     },
     "execution_count": 16,
     "metadata": {},
     "output_type": "execute_result"
    }
   ],
   "source": [
    "import sys\n",
    "sys.path.insert(0, \"/\")\n",
    "from notebooks.GeosData import *\n",
    "create()"
   ]
  },
  {
   "cell_type": "code",
   "execution_count": 35,
   "metadata": {
    "collapsed": false
   },
   "outputs": [
    {
     "name": "stdout",
     "output_type": "stream",
     "text": [
      "basemap-foo.png\t\t\t\t d2012_c20170519.data\r\n",
      "Basemap-GET_STORM_EVENTS_DATA.ipynb\t d2013_c20170519.data\r\n",
      "Create-and Test-Geos_Sqlite3_Data.ipynb  d2014_c20180718.data\r\n",
      "d1996_c20170717.data\t\t\t d2014_c20180718.data_STORM.png\r\n",
      "d1997_c20170717.data\t\t\t d2015_c20180525.data\r\n",
      "d1998_c20170717.data\t\t\t d2016_c20180718.data\r\n",
      "d1999_c20170717.data\t\t\t d2017_c20181017.data\r\n",
      "d2000_c20170717.data\t\t\t d2018_c20181017.data\r\n",
      "d2001_c20170717.data\t\t\t d2018_c20181116.data\r\n",
      "d2002_c20170717.data\t\t\t data.txt\r\n",
      "d2003_c20170717.data\t\t\t Examining-Datafiles.ipynb\r\n",
      "d2004_c20170717.data\t\t\t foo.png\r\n",
      "d2005_c20170717.data\t\t\t GEOS_Data.ipynb\r\n",
      "d2006_c20170717.data\t\t\t GEOS_Data.png\r\n",
      "d2007_c20170717.data\t\t\t GEOS.db\r\n",
      "d2008_c20180718.data\t\t\t K3D_Data.png\r\n",
      "d2009_c20180718.data\t\t\t pub\r\n",
      "d2010_c20170726.data\t\t\t Storm-Data.ipynb\r\n",
      "d2011_c20180718.data\t\t\t Storm-images.ipynb\r\n"
     ]
    }
   ],
   "source": [
    "!ls "
   ]
  },
  {
   "cell_type": "code",
   "execution_count": 32,
   "metadata": {
    "collapsed": false
   },
   "outputs": [
    {
     "name": "stdout",
     "output_type": "stream",
     "text": [
      "\n",
      "POST VERIFIED:\n",
      " 6 \n",
      "SS This is third\n",
      "Three line ddd \n",
      "TEST SS This is third\n",
      "Three line ddd \n",
      "TEST\n",
      "\n"
     ]
    },
    {
     "data": {
      "text/plain": [
       "'\\nSS This is third\\nThree line ddd \\nTEST SS This is third\\nThree line ddd \\nTEST\\n'"
      ]
     },
     "execution_count": 32,
     "metadata": {},
     "output_type": "execute_result"
    }
   ],
   "source": [
    "import sys\n",
    "sys.path.insert(0, \"/\")\n",
    "from notebooks.GeosData import *\n",
    "\n",
    "TEXT = \"\"\"\n",
    "SS This is third\n",
    "Three line ddd \n",
    "TEST SS This is third\n",
    "Three line ddd \n",
    "TEST\n",
    "\"\"\"\n",
    "insert(TEXT)"
   ]
  },
  {
   "cell_type": "code",
   "execution_count": 22,
   "metadata": {
    "collapsed": false
   },
   "outputs": [
    {
     "data": {
      "text/plain": [
       "'ROWID 3 Deleted'"
      ]
     },
     "execution_count": 22,
     "metadata": {},
     "output_type": "execute_result"
    }
   ],
   "source": [
    "import sys\n",
    "sys.path.insert(0, \"/\")\n",
    "from notebooks.GeosData import *\n",
    "rowid = str(3)\n",
    "delete(rowid)"
   ]
  },
  {
   "cell_type": "code",
   "execution_count": 24,
   "metadata": {
    "collapsed": false
   },
   "outputs": [
    {
     "name": "stdout",
     "output_type": "stream",
     "text": [
      "Detail Search: SS\n",
      "4 :  \n",
      "SS This is third\n",
      "Three line ddd \n",
      "TEST SS This is third\n",
      "Three line ddd \n",
      "TEST\n",
      "\n"
     ]
    }
   ],
   "source": [
    "import sys\n",
    "sys.path.insert(0, \"/\")\n",
    "from notebooks.GeosData import *\n",
    "Dsearch()"
   ]
  },
  {
   "cell_type": "code",
   "execution_count": 25,
   "metadata": {
    "collapsed": true
   },
   "outputs": [],
   "source": [
    "import sys\n",
    "sys.path.insert(0, \"/\")\n",
    "from notebooks.GeosData import *\n",
    "filename = '/notebooks/data.txt'\n",
    "prtmain(filename)"
   ]
  },
  {
   "cell_type": "code",
   "execution_count": 26,
   "metadata": {
    "collapsed": false
   },
   "outputs": [
    {
     "name": "stdout",
     "output_type": "stream",
     "text": [
      "basemap-foo.png\t\t\t\t GEOS_Data.ipynb  pub\r\n",
      "Basemap.ipynb\t\t\t\t GEOS_Data.png\t  Storm-Data.ipynb\r\n",
      "Create-and Test-Geos_Sqlite3_Data.ipynb  GEOS.db\t  Storm-images.ipynb\r\n",
      "data.txt\t\t\t\t K3D_Data.png\r\n",
      "foo.png\t\t\t\t\t K3D.db\r\n"
     ]
    }
   ],
   "source": [
    "!ls"
   ]
  },
  {
   "cell_type": "code",
   "execution_count": 28,
   "metadata": {
    "collapsed": false
   },
   "outputs": [
    {
     "name": "stdout",
     "output_type": "stream",
     "text": [
      "Help on module notebooks.GeosData in notebooks:\n",
      "\n",
      "NAME\n",
      "    notebooks.GeosData\n",
      "\n",
      "FUNCTIONS\n",
      "    Dsearch()\n",
      "    \n",
      "    HELP()\n",
      "    \n",
      "    create()\n",
      "    \n",
      "    delete(rowid)\n",
      "    \n",
      "    insert(data)\n",
      "    \n",
      "    main()\n",
      "    \n",
      "    prtmain(filename)\n",
      "    \n",
      "    search(data)\n",
      "\n",
      "DATA\n",
      "    c = <sqlite3.Cursor object>\n",
      "    conn = <sqlite3.Connection object>\n",
      "\n",
      "FILE\n",
      "    /notebooks/GeosData.py\n",
      "\n",
      "\n"
     ]
    }
   ],
   "source": [
    "import sys\n",
    "sys.path.insert(0, \"/\")\n",
    "from notebooks import GeosData\n",
    "help(GeosData)"
   ]
  },
  {
   "cell_type": "code",
   "execution_count": 29,
   "metadata": {
    "collapsed": false
   },
   "outputs": [
    {
     "name": "stdout",
     "output_type": "stream",
     "text": [
      "\n",
      "POST VERIFIED:\n",
      " 5 \n",
      "is third\n",
      "Three line \n",
      "TEST\n",
      "\n"
     ]
    },
    {
     "data": {
      "text/plain": [
       "'\\nis third\\nThree line \\nTEST\\n'"
      ]
     },
     "execution_count": 29,
     "metadata": {},
     "output_type": "execute_result"
    }
   ],
   "source": [
    "import sys\n",
    "sys.path.insert(0, \"/\")\n",
    "from notebooks.GeosData import *\n",
    "\n",
    "TEXT = \"\"\"\n",
    "is third\n",
    "Three line \n",
    "TEST\n",
    "\"\"\"\n",
    "insert(TEXT)"
   ]
  },
  {
   "cell_type": "code",
   "execution_count": null,
   "metadata": {
    "collapsed": true
   },
   "outputs": [],
   "source": []
  }
 ],
 "metadata": {
  "kernelspec": {
   "display_name": "Python 3",
   "language": "python",
   "name": "python3"
  },
  "language_info": {
   "codemirror_mode": {
    "name": "ipython",
    "version": 3
   },
   "file_extension": ".py",
   "mimetype": "text/x-python",
   "name": "python",
   "nbconvert_exporter": "python",
   "pygments_lexer": "ipython3",
   "version": "3.4.3"
  }
 },
 "nbformat": 4,
 "nbformat_minor": 2
}
