{
 "cells": [
  {
   "cell_type": "code",
   "execution_count": 11,
   "metadata": {
    "collapsed": false
   },
   "outputs": [
    {
     "name": "stdout",
     "output_type": "stream",
     "text": [
      "examples     history.txt  __init__.py  K3D.db\t    storms\r\n",
      "GeosData.py  index.ipynb  JAVA\t       __pycache__\r\n"
     ]
    }
   ],
   "source": [
    "!ls  /notebooks"
   ]
  },
  {
   "cell_type": "code",
   "execution_count": 12,
   "metadata": {
    "collapsed": false
   },
   "outputs": [],
   "source": [
    "import sys\n",
    "sys.path.insert(0, \"/\")\n",
    "from notebooks.GeosData import *"
   ]
  },
  {
   "cell_type": "code",
   "execution_count": 13,
   "metadata": {
    "collapsed": false
   },
   "outputs": [
    {
     "ename": "OperationalError",
     "evalue": "table PROJECT already exists",
     "output_type": "error",
     "traceback": [
      "\u001b[1;31m\u001b[0m",
      "\u001b[1;31mOperationalError\u001b[0mTraceback (most recent call last)",
      "\u001b[1;32m<ipython-input-13-94a948e7e362>\u001b[0m in \u001b[0;36m<module>\u001b[1;34m()\u001b[0m\n\u001b[0;32m      2\u001b[0m \u001b[0msys\u001b[0m\u001b[1;33m.\u001b[0m\u001b[0mpath\u001b[0m\u001b[1;33m.\u001b[0m\u001b[0minsert\u001b[0m\u001b[1;33m(\u001b[0m\u001b[1;36m0\u001b[0m\u001b[1;33m,\u001b[0m \u001b[1;34m\"/\"\u001b[0m\u001b[1;33m)\u001b[0m\u001b[1;33m\u001b[0m\u001b[0m\n\u001b[0;32m      3\u001b[0m \u001b[1;32mfrom\u001b[0m \u001b[0mnotebooks\u001b[0m\u001b[1;33m.\u001b[0m\u001b[0mGeosData\u001b[0m \u001b[1;32mimport\u001b[0m \u001b[1;33m*\u001b[0m\u001b[1;33m\u001b[0m\u001b[0m\n\u001b[1;32m----> 4\u001b[1;33m \u001b[0mcreate\u001b[0m\u001b[1;33m(\u001b[0m\u001b[1;33m)\u001b[0m\u001b[1;33m\u001b[0m\u001b[0m\n\u001b[0m",
      "\u001b[1;32m/notebooks/GeosData.py\u001b[0m in \u001b[0;36mcreate\u001b[1;34m()\u001b[0m\n\u001b[0;32m     11\u001b[0m     \u001b[0mconn\u001b[0m\u001b[1;33m.\u001b[0m\u001b[0mtext_factory\u001b[0m \u001b[1;33m=\u001b[0m \u001b[0mstr\u001b[0m\u001b[1;33m\u001b[0m\u001b[0m\n\u001b[0;32m     12\u001b[0m     \u001b[0mc\u001b[0m \u001b[1;33m=\u001b[0m \u001b[0mconn\u001b[0m\u001b[1;33m.\u001b[0m\u001b[0mcursor\u001b[0m\u001b[1;33m(\u001b[0m\u001b[1;33m)\u001b[0m\u001b[1;33m\u001b[0m\u001b[0m\n\u001b[1;32m---> 13\u001b[1;33m     \u001b[0mc\u001b[0m\u001b[1;33m.\u001b[0m\u001b[0mexecute\u001b[0m\u001b[1;33m(\u001b[0m\u001b[1;34m\"CREATE VIRTUAL TABLE PROJECT using FTS4 (input)\"\u001b[0m\u001b[1;33m)\u001b[0m\u001b[1;33m\u001b[0m\u001b[0m\n\u001b[0m\u001b[0;32m     14\u001b[0m     \u001b[0mconn\u001b[0m\u001b[1;33m.\u001b[0m\u001b[0mcommit\u001b[0m\u001b[1;33m(\u001b[0m\u001b[1;33m)\u001b[0m\u001b[1;33m\u001b[0m\u001b[0m\n\u001b[0;32m     15\u001b[0m     \u001b[0mtext\u001b[0m \u001b[1;33m=\u001b[0m \u001b[1;34m\"Database Created\"\u001b[0m\u001b[1;33m\u001b[0m\u001b[0m\n",
      "\u001b[1;31mOperationalError\u001b[0m: table PROJECT already exists"
     ]
    }
   ],
   "source": [
    "import sys\n",
    "sys.path.insert(0, \"/\")\n",
    "from notebooks.GeosData import *\n",
    "create()"
   ]
  },
  {
   "cell_type": "code",
   "execution_count": 14,
   "metadata": {
    "collapsed": false
   },
   "outputs": [
    {
     "name": "stdout",
     "output_type": "stream",
     "text": [
      "Overwriting /notebooks/GeosData.py\n"
     ]
    }
   ],
   "source": [
    "%%writefile /notebooks/GeosData.py\n",
    "#!/usr/bin/python\n",
    "import sys\n",
    "import sqlite3\n",
    "conn = sqlite3.connect(\"GEOS.db\")\n",
    "conn.text_factory = str\n",
    "c = conn.cursor()\n",
    "\n",
    "def create():\n",
    "    import sqlite3\n",
    "    conn = sqlite3.connect(\"GEOS.db\")\n",
    "    conn.text_factory = str\n",
    "    c = conn.cursor()\n",
    "    c.execute(\"CREATE VIRTUAL TABLE PROJECT using FTS4 (input)\")\n",
    "    conn.commit()\n",
    "    text = \"Database Created\"\n",
    "    return text\n",
    "\n",
    "def insert(data):\n",
    "    import sqlite3\n",
    "    conn = sqlite3.connect(\"GEOS.db\")\n",
    "    conn.text_factory = str\n",
    "    c = conn.cursor()    \n",
    "    c.execute(\"INSERT into PROJECT values (?)\", (data,))\n",
    "    for row in c.execute(\"SELECT ROWID,* FROM PROJECT ORDER BY ROWID DESC LIMIT 1\"):\n",
    "        print (\"\\nPOST VERIFIED:\\n\",row[0],row[1])\n",
    "    conn.commit()\n",
    "    conn.close()\n",
    "    return data\n",
    "\n",
    "def search(data):\n",
    "    import sqlite3\n",
    "    conn = sqlite3.connect(\"GEOS.db\")\n",
    "    conn.text_factory = str\n",
    "    c = conn.cursor()    \n",
    "    for row in c.execute(\"SELECT ROWID,* FROM PROJECT WHERE input MATCH ?\",(data,)):\n",
    "        print (\"\\nINFO Found Here:\\n\",row[0],row[1])\n",
    "    conn.commit()\n",
    "    conn.close()\n",
    "    return data\n",
    "\n",
    "def delete(rowid):\n",
    "    import sqlite3\n",
    "    conn = sqlite3.connect(\"GEOS.db\")\n",
    "    conn.text_factory = str\n",
    "    c = conn.cursor()    \n",
    "    c.execute(\"DELETE FROM PROJECT WHERE rowid = ?\", (rowid,))\n",
    "    conn.commit()\n",
    "    conn.close()\n",
    "    text = \"ROWID \"+rowid+\" Deleted\"\n",
    "    return text\n",
    "\n",
    "def main():\n",
    "    conn = sqlite3.connect(\"GEOS.db\")\n",
    "    conn.text_factory = str\n",
    "    c = conn.cursor()\n",
    "    for row in c.execute(\"SELECT rowid, * FROM PROJECT\"):\n",
    "        print (row[0],\": \",row[1])\n",
    "\n",
    "def Dsearch():\n",
    "    conn = sqlite3.connect(\"GEOS.db\")\n",
    "    conn.text_factory = str\n",
    "    search = input(\"Detail Search: \")\n",
    "    c = conn.cursor()\n",
    "    for row in c.execute(\"SELECT rowid, * FROM PROJECT\"):\n",
    "        if search in row[1]:\n",
    "            print (row[0],\": \",row[1])\n",
    "\n",
    "def prtmain(filename):\n",
    "    fn = open(filename, \"w\")\n",
    "    conn = sqlite3.connect(\"GEOS.db\")\n",
    "    conn.text_factory = str\n",
    "    c = conn.cursor()\n",
    "    for row in c.execute(\"SELECT rowid, * FROM PROJECT\"):\n",
    "        TEXT = \"id:\"+str(row[0])+\"\\n\"+str(row[1])\n",
    "        TEXT = str(TEXT)\n",
    "        TEXT = TEXT.replace('\\\\n','\\n')\n",
    "        TEXT = \"\".join(TEXT)\n",
    "        fn.write(TEXT+'\\n----\\n')\n",
    "\n",
    "def HELP():\n",
    "    TXT = \"\"\"\n",
    "    HELP()\n",
    "    main()\n",
    "\n",
    "    insert(data)\n",
    "    \n",
    "    delete(rowid)\n",
    "    search(data)\n",
    "    print (\"Exact Text SEARCH.\")\n",
    "    Dsearch()\n",
    "    prtmain(filename)\n",
    "    create()\n",
    "    \"\"\"\n",
    "    print (TXT)\n",
    "\n",
    "\n"
   ]
  },
  {
   "cell_type": "markdown",
   "metadata": {},
   "source": [
    "# Insert Some test data "
   ]
  },
  {
   "cell_type": "code",
   "execution_count": 18,
   "metadata": {
    "collapsed": false
   },
   "outputs": [
    {
     "name": "stdout",
     "output_type": "stream",
     "text": [
      "\n",
      "POST VERIFIED:\n",
      " 3 \n",
      "This is NEW\n",
      "NEW Three line \n",
      "TEST\n",
      "\n"
     ]
    },
    {
     "data": {
      "text/plain": [
       "'\\nThis is NEW\\nNEW Three line \\nTEST\\n'"
      ]
     },
     "execution_count": 18,
     "metadata": {},
     "output_type": "execute_result"
    }
   ],
   "source": [
    "import sys\n",
    "sys.path.insert(0, \"/\")\n",
    "from notebooks.GeosData import *\n",
    "\n",
    "TEXT = \"\"\"\n",
    "This is NEW\n",
    "NEW Three line \n",
    "TEST\n",
    "\"\"\"\n",
    "insert(TEXT)"
   ]
  },
  {
   "cell_type": "code",
   "execution_count": 19,
   "metadata": {
    "collapsed": false
   },
   "outputs": [
    {
     "data": {
      "text/plain": [
       "'ROWID 3 Deleted'"
      ]
     },
     "execution_count": 19,
     "metadata": {},
     "output_type": "execute_result"
    }
   ],
   "source": [
    "import sys\n",
    "sys.path.insert(0, \"/\")\n",
    "from notebooks.GeosData import *\n",
    "rowid = str(3)\n",
    "delete(rowid)"
   ]
  },
  {
   "cell_type": "code",
   "execution_count": 20,
   "metadata": {
    "collapsed": false
   },
   "outputs": [
    {
     "name": "stdout",
     "output_type": "stream",
     "text": [
      "Detail Search: third\n",
      "1 :  \n",
      "This is third\n",
      "Three line \n",
      "TEST\n",
      "\n",
      "2 :  \n",
      "This is third\n",
      "Three line \n",
      "TEST\n",
      "\n"
     ]
    }
   ],
   "source": [
    "import sys\n",
    "sys.path.insert(0, \"/\")\n",
    "from notebooks.GeosData import *\n",
    "Dsearch()"
   ]
  },
  {
   "cell_type": "code",
   "execution_count": 21,
   "metadata": {
    "collapsed": true
   },
   "outputs": [],
   "source": [
    "import sys\n",
    "sys.path.insert(0, \"/\")\n",
    "from notebooks.GeosData import *\n",
    "filename = 'data.txt'\n",
    "prtmain(filename)"
   ]
  },
  {
   "cell_type": "code",
   "execution_count": 22,
   "metadata": {
    "collapsed": false
   },
   "outputs": [
    {
     "name": "stdout",
     "output_type": "stream",
     "text": [
      "data.txt\r\n"
     ]
    }
   ],
   "source": [
    "!ls data.txt"
   ]
  },
  {
   "cell_type": "code",
   "execution_count": 23,
   "metadata": {
    "collapsed": false
   },
   "outputs": [
    {
     "name": "stdout",
     "output_type": "stream",
     "text": [
      "Help on module notebooks.GeosData in notebooks:\n",
      "\n",
      "NAME\n",
      "    notebooks.GeosData\n",
      "\n",
      "FUNCTIONS\n",
      "    Dsearch()\n",
      "    \n",
      "    HELP()\n",
      "    \n",
      "    create()\n",
      "    \n",
      "    delete(rowid)\n",
      "    \n",
      "    insert(data)\n",
      "    \n",
      "    main()\n",
      "    \n",
      "    prtmain(filename)\n",
      "    \n",
      "    search(data)\n",
      "\n",
      "DATA\n",
      "    c = <sqlite3.Cursor object>\n",
      "    conn = <sqlite3.Connection object>\n",
      "\n",
      "FILE\n",
      "    /notebooks/GeosData.py\n",
      "\n",
      "\n"
     ]
    }
   ],
   "source": [
    "import sys\n",
    "sys.path.insert(0, \"/\")\n",
    "from notebooks.GeosData import *\n",
    "help(GeosData)"
   ]
  },
  {
   "cell_type": "code",
   "execution_count": 24,
   "metadata": {
    "collapsed": false
   },
   "outputs": [
    {
     "name": "stdout",
     "output_type": "stream",
     "text": [
      "\n",
      "POST VERIFIED:\n",
      " 3 \n",
      "Horrah it works\n",
      "\n",
      "testing \n",
      " again\n",
      "\n"
     ]
    },
    {
     "data": {
      "text/plain": [
       "'\\nHorrah it works\\n\\ntesting \\n again\\n'"
      ]
     },
     "execution_count": 24,
     "metadata": {},
     "output_type": "execute_result"
    }
   ],
   "source": [
    "import sys\n",
    "sys.path.insert(0, \"/\")\n",
    "from notebooks.GeosData import *\n",
    "\n",
    "TEXT = \"\"\"\n",
    "Horrah it works\n",
    "\n",
    "testing \\n again\n",
    "\"\"\"\n",
    "insert(TEXT)"
   ]
  },
  {
   "cell_type": "code",
   "execution_count": null,
   "metadata": {
    "collapsed": true
   },
   "outputs": [],
   "source": []
  }
 ],
 "metadata": {
  "kernelspec": {
   "display_name": "Python 3",
   "language": "python",
   "name": "python3"
  },
  "language_info": {
   "codemirror_mode": {
    "name": "ipython",
    "version": 3
   },
   "file_extension": ".py",
   "mimetype": "text/x-python",
   "name": "python",
   "nbconvert_exporter": "python",
   "pygments_lexer": "ipython3",
   "version": "3.4.3"
  }
 },
 "nbformat": 4,
 "nbformat_minor": 2
}
