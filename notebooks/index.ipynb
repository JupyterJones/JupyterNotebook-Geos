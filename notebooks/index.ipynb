{
 "cells": [
  {
   "cell_type": "markdown",
   "metadata": {},
   "source": [
    "# GEOS Examples\n",
    "Try one of the examples below!"
   ]
  },
  {
   "cell_type": "code",
   "execution_count": 1,
   "metadata": {
    "collapsed": false
   },
   "outputs": [
    {
     "data": {
      "text/markdown": [
       "-  <a href='examples/Basemap.ipynb' target='_blank'>Basemap</a>\n",
       "-  <a href='examples/GEOS_Data.ipynb' target='_blank'>GEOS Data</a>\n",
       "-  <a href='examples/K3D_Data.ipynb' target='_blank'>K3D Data</a>\n",
       "-  <a href='examples/Storm-Data.ipynb' target='_blank'>Storm-Data</a>\n",
       "-  <a href='examples/Storm-images.ipynb' target='_blank'>Storm-images</a>"
      ],
      "text/plain": [
       "<IPython.core.display.Markdown object>"
      ]
     },
     "execution_count": 1,
     "metadata": {},
     "output_type": "execute_result"
    }
   ],
   "source": [
    "# just generating the list here, nothing to see...\n",
    "from IPython.display import Markdown\n",
    "from glob import glob\n",
    "\n",
    "Markdown(\"\\n\".join([\n",
    "    \"-  <a href='{1}' target='_blank'>{0}</a>\".format(x[9:-6].replace(\"_\", \" \"), x)\n",
    "    for x in sorted(glob(\"examples/*.ipynb\"))\n",
    "]))"
   ]
  },
  {
   "cell_type": "code",
   "execution_count": 2,
   "metadata": {
    "collapsed": false
   },
   "outputs": [
    {
     "data": {
      "text/markdown": [
       "### Examples presented during Sage Days 74\n",
       "-  <a href='examples/SageDays74/Lorenz_system.ipynb' target='_blank'>SageDays74/Lorenz system</a>\n",
       "-  <a href='examples/SageDays74/Molecular_Dynamics_visualization-demo.ipynb' target='_blank'>SageDays74/Molecular Dynamics visualization-demo</a>\n",
       "-  <a href='examples/SageDays74/implicit_plot3d_interactive.ipynb' target='_blank'>SageDays74/implicit plot3d interactive</a>\n",
       "-  <a href='examples/SageDays74/line_animation_demo.ipynb' target='_blank'>SageDays74/line animation demo</a>\n",
       "-  <a href='examples/SageDays74/marching_cubes_level_interact.ipynb' target='_blank'>SageDays74/marching cubes level interact</a>\n",
       "-  <a href='examples/SageDays74/surface_interact.ipynb' target='_blank'>SageDays74/surface interact</a>"
      ],
      "text/plain": [
       "<IPython.core.display.Markdown object>"
      ]
     },
     "execution_count": 2,
     "metadata": {},
     "output_type": "execute_result"
    }
   ],
   "source": [
    "Markdown(\"### Examples presented during Sage Days 74\\n\"+\"\\n\".join([\n",
    "    \"-  <a href='{1}' target='_blank'>{0}</a>\".format(x[9:-6].replace(\"_\", \" \"), x)\n",
    "    for x in sorted(glob(\"examples/SageDays74/*.ipynb\"))\n",
    "]))"
   ]
  },
  {
   "cell_type": "code",
   "execution_count": null,
   "metadata": {
    "collapsed": true
   },
   "outputs": [],
   "source": []
  },
  {
   "cell_type": "code",
   "execution_count": null,
   "metadata": {
    "collapsed": true
   },
   "outputs": [],
   "source": []
  }
 ],
 "metadata": {
  "kernelspec": {
   "display_name": "Python 3",
   "language": "python",
   "name": "python3"
  },
  "language_info": {
   "codemirror_mode": {
    "name": "ipython",
    "version": 3
   },
   "file_extension": ".py",
   "mimetype": "text/x-python",
   "name": "python",
   "nbconvert_exporter": "python",
   "pygments_lexer": "ipython3",
   "version": "3.4.3"
  }
 },
 "nbformat": 4,
 "nbformat_minor": 1
}
