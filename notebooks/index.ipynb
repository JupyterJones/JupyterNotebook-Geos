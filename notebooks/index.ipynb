{
 "cells": [
  {
   "cell_type": "markdown",
   "metadata": {},
   "source": [
    "# GEOS Examples\n",
    "Try one of the examples below!"
   ]
  },
  {
   "cell_type": "code",
   "execution_count": 1,
   "metadata": {
    "collapsed": false
   },
   "outputs": [
    {
     "data": {
      "text/markdown": [
       "-  <a href='examples/Basemap-GET_STORM_EVENTS_DATA.ipynb' target='_blank'>Basemap-GET STORM EVENTS DATA</a>\n",
       "-  <a href='examples/Create-and Test-Geos_Sqlite3_Data.ipynb' target='_blank'>Create-and Test-Geos Sqlite3 Data</a>\n",
       "-  <a href='examples/Examining-Datafiles.ipynb' target='_blank'>Examining-Datafiles</a>\n",
       "-  <a href='examples/GEOS_Data.ipynb' target='_blank'>GEOS Data</a>\n",
       "-  <a href='examples/Storm-Data.ipynb' target='_blank'>Storm-Data</a>\n",
       "-  <a href='examples/Storm-images.ipynb' target='_blank'>Storm-images</a>"
      ],
      "text/plain": [
       "<IPython.core.display.Markdown object>"
      ]
     },
     "execution_count": 1,
     "metadata": {},
     "output_type": "execute_result"
    }
   ],
   "source": [
    "# just generating the list here, nothing to see...\n",
    "from IPython.display import Markdown\n",
    "from glob import glob\n",
    "\n",
    "Markdown(\"\\n\".join([\n",
    "    \"-  <a href='{1}' target='_blank'>{0}</a>\".format(x[9:-6].replace(\"_\", \" \"), x)\n",
    "    for x in sorted(glob(\"examples/*.ipynb\"))\n",
    "]))"
   ]
  },
  {
   "cell_type": "code",
   "execution_count": null,
   "metadata": {
    "collapsed": true
   },
   "outputs": [],
   "source": [
    "To unzip a directory of *csv.gz files .\n",
    "USE : gunzip *.gz \n",
    "\n",
    "running gunzip *.gz in the directory where you wish to unzip the files\n",
    "unzips the file then deletes the original *.gz file"
   ]
  },
  {
   "cell_type": "code",
   "execution_count": null,
   "metadata": {
    "collapsed": true
   },
   "outputs": [],
   "source": []
  }
 ],
 "metadata": {
  "kernelspec": {
   "display_name": "Python 3",
   "language": "python",
   "name": "python3"
  },
  "language_info": {
   "codemirror_mode": {
    "name": "ipython",
    "version": 3
   },
   "file_extension": ".py",
   "mimetype": "text/x-python",
   "name": "python",
   "nbconvert_exporter": "python",
   "pygments_lexer": "ipython3",
   "version": "3.4.3"
  }
 },
 "nbformat": 4,
 "nbformat_minor": 1
}
