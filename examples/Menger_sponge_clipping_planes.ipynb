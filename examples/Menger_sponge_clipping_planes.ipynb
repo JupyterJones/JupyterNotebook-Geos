{
 "cells": [
  {
   "cell_type": "code",
   "execution_count": null,
   "metadata": {},
   "outputs": [],
   "source": [
    "import k3d\n",
    "import numpy as np\n",
    "\n",
    "iteration = 4\n",
    "size = 3**iteration\n",
    "\n",
    "voxels = np.ones((size, size, size));\n",
    "\n",
    "def iterate(length, x, y, z):\n",
    "    \n",
    "    nl = length // 3    \n",
    "    \n",
    "    if nl < 1:\n",
    "        return\n",
    "    \n",
    "    margin = (nl-1) // 2\n",
    "\n",
    "    voxels[z-margin:z+margin+1, y-margin:y+margin+1, :] = 0\n",
    "    voxels[z-margin:z+margin+1, :, x-margin:x+margin+1] = 0\n",
    "    voxels[:, y-margin:y+margin+1, x-margin:x+margin+1] = 0    \n",
    "    \n",
    "    for ix,iy,iz in np.ndindex((3,3,3)):\n",
    "        if (1 if ix !=1 else 0) + (1 if iy != 1 else 0) + (1 if iz != 1 else 0) !=2:\n",
    "            iterate(nl, x + (ix-1) * nl, y + (iy-1) * nl , z + (iz-1) * nl)\n",
    "\n",
    "iterate(size, size//2, size//2, size//2)\n",
    "\n",
    "color_map = (0xffff00)\n",
    "plot = k3d.plot()\n",
    "plot += k3d.voxels(voxels, color_map)\n",
    "plot.display()"
   ]
  },
  {
   "cell_type": "code",
   "execution_count": null,
   "metadata": {},
   "outputs": [],
   "source": [
    "plot.camera = [\n",
    "0.4566373872959987,\n",
    "-1.1828440889740142,\n",
    "0.8152559691722203,\n",
    "0.12721661836556944,\n",
    "0.010204975470810503,\n",
    "-0.1292622376887978,\n",
    "-0.19179675209811095,\n",
    "0.5291470859180342,\n",
    "0.8265696385357213]"
   ]
  },
  {
   "cell_type": "code",
   "execution_count": null,
   "metadata": {},
   "outputs": [],
   "source": [
    "plot.clipping_planes = [[0, 0, -1, 0.15]]"
   ]
  },
  {
   "cell_type": "code",
   "execution_count": null,
   "metadata": {},
   "outputs": [],
   "source": [
    "plot.clipping_planes = [\n",
    "    [0, 0, -1, 0.15],\n",
    "    [-0.5931578442826305,\n",
    "    0.6811078258641979,\n",
    "    -0.42925039465622833,\n",
    "    0.09701107626276362]\n",
    "]"
   ]
  },
  {
   "cell_type": "code",
   "execution_count": null,
   "metadata": {},
   "outputs": [],
   "source": [
    "plot.clipping_planes"
   ]
  }
 ],
 "metadata": {
  "kernelspec": {
   "display_name": "Python 3",
   "language": "python",
   "name": "python3"
  },
  "language_info": {
   "codemirror_mode": {
    "name": "ipython",
    "version": 3
   },
   "file_extension": ".py",
   "mimetype": "text/x-python",
   "name": "python",
   "nbconvert_exporter": "python",
   "pygments_lexer": "ipython3",
   "version": "3.6.5"
  }
 },
 "nbformat": 4,
 "nbformat_minor": 1
}
