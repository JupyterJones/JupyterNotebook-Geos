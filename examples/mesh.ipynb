{
 "cells": [
  {
   "cell_type": "code",
   "execution_count": 1,
   "metadata": {},
   "outputs": [
    {
     "data": {
      "application/vnd.jupyter.widget-view+json": {
       "model_id": "a398d1e67f27423e8653183f69e94058",
       "version_major": 2,
       "version_minor": 0
      },
      "text/html": [
       "<p>Failed to display Jupyter Widget of type <code>Output</code>.</p>\n",
       "<p>\n",
       "  If you're reading this message in the Jupyter Notebook or JupyterLab Notebook, it may mean\n",
       "  that the widgets JavaScript is still loading. If this message persists, it\n",
       "  likely means that the widgets JavaScript library is either not installed or\n",
       "  not enabled. See the <a href=\"https://ipywidgets.readthedocs.io/en/stable/user_install.html\">Jupyter\n",
       "  Widgets Documentation</a> for setup instructions.\n",
       "</p>\n",
       "<p>\n",
       "  If you're reading this message in another frontend (for example, a static\n",
       "  rendering on GitHub or <a href=\"https://nbviewer.jupyter.org/\">NBViewer</a>),\n",
       "  it may mean that your frontend doesn't currently support widgets.\n",
       "</p>\n"
      ],
      "text/plain": [
       "Output()"
      ]
     },
     "metadata": {},
     "output_type": "display_data"
    }
   ],
   "source": [
    "import k3d\n",
    "\n",
    "vertices = [\n",
    "    -10, 0, -1,\n",
    "    10, 0, -1,\n",
    "    10, 0, 1,\n",
    "    -10, 0, 1,\n",
    "]\n",
    "\n",
    "indices = [\n",
    "    0, 1, 3,\n",
    "    1, 2, 3\n",
    "]\n",
    "\n",
    "plot = k3d.plot()\n",
    "plot += k3d.mesh(vertices, indices)\n",
    "plot.display()"
   ]
  },
  {
   "cell_type": "code",
   "execution_count": 2,
   "metadata": {
    "scrolled": true
   },
   "outputs": [
    {
     "data": {
      "application/vnd.jupyter.widget-view+json": {
       "model_id": "b5b00b8ea2ab4f82af62c3e51531aca7",
       "version_major": 2,
       "version_minor": 0
      },
      "text/html": [
       "<p>Failed to display Jupyter Widget of type <code>interactive</code>.</p>\n",
       "<p>\n",
       "  If you're reading this message in the Jupyter Notebook or JupyterLab Notebook, it may mean\n",
       "  that the widgets JavaScript is still loading. If this message persists, it\n",
       "  likely means that the widgets JavaScript library is either not installed or\n",
       "  not enabled. See the <a href=\"https://ipywidgets.readthedocs.io/en/stable/user_install.html\">Jupyter\n",
       "  Widgets Documentation</a> for setup instructions.\n",
       "</p>\n",
       "<p>\n",
       "  If you're reading this message in another frontend (for example, a static\n",
       "  rendering on GitHub or <a href=\"https://nbviewer.jupyter.org/\">NBViewer</a>),\n",
       "  it may mean that your frontend doesn't currently support widgets.\n",
       "</p>\n"
      ],
      "text/plain": [
       "interactive(children=(Dropdown(description='Basic ColorMap:', options=('Binary', 'BlackBodyRadiation', 'Blues', 'CoolWarm', 'Gold', 'Greens', 'Jet', 'Rainbow', 'RainbowDesaturated', 'Reds', 'WarmCool'), value='Binary'), Output()), _dom_classes=('widget-interact',))"
      ]
     },
     "metadata": {},
     "output_type": "display_data"
    },
    {
     "data": {
      "application/vnd.jupyter.widget-view+json": {
       "model_id": "3b911b35f5c54dd289b83d7166ee9e47",
       "version_major": 2,
       "version_minor": 0
      },
      "text/html": [
       "<p>Failed to display Jupyter Widget of type <code>interactive</code>.</p>\n",
       "<p>\n",
       "  If you're reading this message in the Jupyter Notebook or JupyterLab Notebook, it may mean\n",
       "  that the widgets JavaScript is still loading. If this message persists, it\n",
       "  likely means that the widgets JavaScript library is either not installed or\n",
       "  not enabled. See the <a href=\"https://ipywidgets.readthedocs.io/en/stable/user_install.html\">Jupyter\n",
       "  Widgets Documentation</a> for setup instructions.\n",
       "</p>\n",
       "<p>\n",
       "  If you're reading this message in another frontend (for example, a static\n",
       "  rendering on GitHub or <a href=\"https://nbviewer.jupyter.org/\">NBViewer</a>),\n",
       "  it may mean that your frontend doesn't currently support widgets.\n",
       "</p>\n"
      ],
      "text/plain": [
       "interactive(children=(Dropdown(description='ParaView ColorMap:', options=('Asymmtrical_Earth_Tones_6_two_1b', 'BLUE_WHITE', 'Black_Blue_and_White', 'Black_Body_Radiation', 'Black_Orange_and_White', 'Blot', 'Blue_to_Red_Rainbow', 'Blue_to_Yellow', 'Blues', 'Bluetwo_cyan', 'Bluetwo_yellow', 'Bone_Matlab', 'BrBG', 'BrOrYl', 'BuGn', 'BuGnYl', 'BuPu', 'BuRd', 'CIELab_Blue_to_Red', 'CIELab_bluetwo_red', 'Cold_and_Hot', 'Cool_to_Warm', 'Cool_to_Warm_Extended', 'Coolwarm', 'Copper_Matlab', 'Erdc_blue_BW', 'Erdc_bluetwo_cyan_BW', 'Erdc_bluetwo_gold', 'Erdc_bluetwo_gold_BW', 'Erdc_bluetwo_green_BW', 'Erdc_bluetwo_green_muted', 'Erdc_bluetwo_yellow', 'Erdc_brown_BW', 'Erdc_cyantwo_orange', 'Erdc_divHi_purpleGreen', 'Erdc_divHi_purpleGreen_dim', 'Erdc_divLow_icePeach', 'Erdc_divLow_purpleGreen', 'Erdc_gold_BW', 'Erdc_greentwo_yellow_BW', 'Erdc_iceFire_H', 'Erdc_iceFire_L', 'Erdc_magenta_BW', 'Erdc_marinetwo_gold_BW', 'Erdc_orange_BW', 'Erdc_pbj_lin', 'Erdc_purple_BW', 'Erdc_purpletwo_green', 'Erdc_purpletwo_green_dark', 'Erdc_purpletwo_pink_BW', 'Erdc_rainbow_bright', 'Erdc_rainbow_dark', 'Erdc_red_BW', 'Erdc_redtwo_purple_BW', 'Erdc_redtwo_yellow_BW', 'Erdc_sapphiretwo_gold_BW', 'GBBr', 'GREEN_WHITE_LINEAR', 'GYPi', 'Gist_earth', 'GnBu', 'GnBuPu', 'GnRP', 'GnYlRd', 'Gray_Matlab', 'Grayscale', 'Green_Blue_Asymmetric_Divergent_6two_Blbc', 'Greens', 'GyRd', 'Haze', 'Haze_cyan', 'Haze_green', 'Haze_lime', 'Heated_object', 'Hsv', 'Hue_L60', 'Inferno_matplotlib', 'Jet', 'Linear_Blue_8_31f', 'Linear_Green_Gr4L', 'Linear_YGB_1two_11g', 'Magenta', 'Magma_matplotlib', 'Muted_Blue_Green', 'Nic_CubicL', 'Nic_CubicYF', 'Nic_Edge', 'OrPu', 'Oranges', 'PRGn', 'PiYG', 'Pink_Matlab', 'Plasma_matplotlib', 'PuBu', 'PuOr', 'PuRd', 'Purples', 'RED_PURPLE', 'RED_TEMPERATURE', 'Rainbow', 'Rainbow_Blended_Black', 'Rainbow_Blended_Grey', 'Rainbow_Blended_White', 'Rainbow_Desaturated', 'RdOr', 'RdOrYl', 'RdPu', 'Red_to_Blue_Rainbow', 'Reds', 'Spectral_lowBlue', 'Two_hot', 'Viridis_matplotlib', 'Warm_to_Cool', 'Warm_to_Cool_Extended', 'X_Ray', 'Yellow_15'), value='Asymmtrical_Earth_Tones_6_two_1b'), Output()), _dom_classes=('widget-interact',))"
      ]
     },
     "metadata": {},
     "output_type": "display_data"
    },
    {
     "data": {
      "application/vnd.jupyter.widget-view+json": {
       "model_id": "4d125b5e2e204b8b8f15d3e0b97ac0dd",
       "version_major": 2,
       "version_minor": 0
      },
      "text/html": [
       "<p>Failed to display Jupyter Widget of type <code>interactive</code>.</p>\n",
       "<p>\n",
       "  If you're reading this message in the Jupyter Notebook or JupyterLab Notebook, it may mean\n",
       "  that the widgets JavaScript is still loading. If this message persists, it\n",
       "  likely means that the widgets JavaScript library is either not installed or\n",
       "  not enabled. See the <a href=\"https://ipywidgets.readthedocs.io/en/stable/user_install.html\">Jupyter\n",
       "  Widgets Documentation</a> for setup instructions.\n",
       "</p>\n",
       "<p>\n",
       "  If you're reading this message in another frontend (for example, a static\n",
       "  rendering on GitHub or <a href=\"https://nbviewer.jupyter.org/\">NBViewer</a>),\n",
       "  it may mean that your frontend doesn't currently support widgets.\n",
       "</p>\n"
      ],
      "text/plain": [
       "interactive(children=(Dropdown(description='MatplolLib ColorMap:', options=('Accent', 'Autumn', 'Binary', 'Blues', 'Bone', 'BrBG', 'BuGn', 'BuPu', 'Cool', 'Copper', 'Dark2', 'Flag', 'Gist_earth', 'Gist_gray', 'Gist_heat', 'Gist_ncar', 'Gist_rainbow', 'Gist_stern', 'Gist_yarg', 'GnBu', 'Gray', 'Greens', 'Greys', 'Hot', 'OrRd', 'Oranges', 'PRGn', 'Paired', 'Pastel1', 'Pastel2', 'PiYG', 'PuBu', 'PuBuGn', 'PuOr', 'PuRd', 'Purples', 'RdBu', 'RdGy', 'RdPu', 'RdYlBu', 'RdYlGn', 'Reds', 'Set1', 'Set2', 'Set3', 'Spectral', 'YlGn', 'YlGnBu', 'YlOrBr', 'YlOrRd'), value='Accent'), Output()), _dom_classes=('widget-interact',))"
      ]
     },
     "metadata": {},
     "output_type": "display_data"
    },
    {
     "data": {
      "application/vnd.jupyter.widget-view+json": {
       "model_id": "87cc59f8d71b4c358dbf753410963c58",
       "version_major": 2,
       "version_minor": 0
      },
      "text/html": [
       "<p>Failed to display Jupyter Widget of type <code>Output</code>.</p>\n",
       "<p>\n",
       "  If you're reading this message in the Jupyter Notebook or JupyterLab Notebook, it may mean\n",
       "  that the widgets JavaScript is still loading. If this message persists, it\n",
       "  likely means that the widgets JavaScript library is either not installed or\n",
       "  not enabled. See the <a href=\"https://ipywidgets.readthedocs.io/en/stable/user_install.html\">Jupyter\n",
       "  Widgets Documentation</a> for setup instructions.\n",
       "</p>\n",
       "<p>\n",
       "  If you're reading this message in another frontend (for example, a static\n",
       "  rendering on GitHub or <a href=\"https://nbviewer.jupyter.org/\">NBViewer</a>),\n",
       "  it may mean that your frontend doesn't currently support widgets.\n",
       "</p>\n"
      ],
      "text/plain": [
       "Output()"
      ]
     },
     "metadata": {},
     "output_type": "display_data"
    }
   ],
   "source": [
    "from ipywidgets import widgets,interact\n",
    "\n",
    "vertex_attribute = [0, 1, 1, 0]\n",
    "\n",
    "plot = k3d.plot()\n",
    "mesh = k3d.mesh(vertices, indices, attribute=vertex_attribute, color_map=k3d.basic_color_maps.CoolWarm, color_range=[0.0, 1.0])\n",
    "plot += mesh\n",
    "\n",
    "basic_color_maps = [attr for attr in dir(k3d.basic_color_maps) if not attr.startswith('__')]\n",
    "paraview_color_maps = [attr for attr in dir(k3d.paraview_color_maps) if not attr.startswith('__')]\n",
    "matplotlib_color_maps = [attr for attr in dir(k3d.matplotlib_color_maps) if not attr.startswith('__')]\n",
    "\n",
    "@interact(x=widgets.Dropdown(options=basic_color_maps, value=basic_color_maps[0], description='Basic ColorMap:'))\n",
    "def g(x):\n",
    "    mesh.color_map = getattr(k3d.basic_color_maps, x)\n",
    "\n",
    "@interact(x=widgets.Dropdown(options=paraview_color_maps, value=paraview_color_maps[0], description='ParaView ColorMap:'))\n",
    "def g(x):\n",
    "    mesh.color_map = getattr(k3d.paraview_color_maps, x)\n",
    "    \n",
    "@interact(x=widgets.Dropdown(options=matplotlib_color_maps, value=matplotlib_color_maps[0], description='MatplolLib ColorMap:'))\n",
    "def g(x):\n",
    "    mesh.color_map = getattr(k3d.matplotlib_color_maps, x)\n",
    "\n",
    "plot.display()"
   ]
  },
  {
   "cell_type": "code",
   "execution_count": 3,
   "metadata": {},
   "outputs": [],
   "source": [
    "# show vertex numbers:\n",
    "import numpy as np\n",
    "v = np.array(vertices).reshape((len(vertices)//3, 3))\n",
    "for i, pos in enumerate(v):\n",
    "    plot += k3d.text(text=str(i), position=pos, color=0, reference_point='cc')"
   ]
  },
  {
   "cell_type": "code",
   "execution_count": null,
   "metadata": {},
   "outputs": [],
   "source": []
  }
 ],
 "metadata": {
  "kernelspec": {
   "display_name": "Python 3",
   "language": "python",
   "name": "python3"
  },
  "language_info": {
   "codemirror_mode": {
    "name": "ipython",
    "version": 3
   },
   "file_extension": ".py",
   "mimetype": "text/x-python",
   "name": "python",
   "nbconvert_exporter": "python",
   "pygments_lexer": "ipython3",
   "version": "3.6.2"
  }
 },
 "nbformat": 4,
 "nbformat_minor": 2
}
